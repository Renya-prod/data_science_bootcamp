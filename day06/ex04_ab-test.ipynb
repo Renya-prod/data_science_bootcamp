{
 "cells": [
  {
   "cell_type": "markdown",
   "metadata": {},
   "source": [
    "## ⅍ A/B-testing"
   ]
  },
  {
   "cell_type": "markdown",
   "metadata": {},
   "source": [
    "#### 1. 🔗 Подключаемся к базе данных"
   ]
  },
  {
   "cell_type": "code",
   "execution_count": 35,
   "metadata": {},
   "outputs": [],
   "source": [
    "import pandas as pd\n",
    "import sqlite3\n",
    "\n",
    "db_path = \"checking-logs.sqlite\"\n",
    "conn = sqlite3.connect(db_path)"
   ]
  },
  {
   "cell_type": "markdown",
   "metadata": {},
   "source": [
    "#### 2. Получение схемы таблиц"
   ]
  },
  {
   "cell_type": "code",
   "execution_count": 36,
   "metadata": {},
   "outputs": [
    {
     "name": "stdout",
     "output_type": "stream",
     "text": [
      "\n",
      "Схема таблицы deadlines:\n",
      "   cid       name     type  notnull dflt_value  pk\n",
      "0    0      index  INTEGER        0       None   0\n",
      "1    1       labs     TEXT        0       None   0\n",
      "2    2  deadlines  INTEGER        0       None   0\n",
      "\n",
      "Схема таблицы test:\n",
      "   cid             name       type  notnull dflt_value  pk\n",
      "0    0              uid       TEXT        0       None   0\n",
      "1    1          labname       TEXT        0       None   0\n",
      "2    2  first_commit_ts  TIMESTAMP        0       None   0\n",
      "3    3    first_view_ts  TIMESTAMP        0       None   0\n",
      "\n",
      "Схема таблицы control:\n",
      "   cid             name       type  notnull dflt_value  pk\n",
      "0    0              uid       TEXT        0       None   0\n",
      "1    1          labname       TEXT        0       None   0\n",
      "2    2  first_commit_ts  TIMESTAMP        0       None   0\n",
      "3    3    first_view_ts  TIMESTAMP        0       None   0\n"
     ]
    }
   ],
   "source": [
    "schema_query = \"PRAGMA table_info(deadlines);\"\n",
    "schema = pd.io.sql.read_sql(schema_query, conn)\n",
    "print(\"\\nСхема таблицы deadlines:\")\n",
    "print(schema)\n",
    "schema_query = \"PRAGMA table_info(test);\"\n",
    "schema = pd.io.sql.read_sql(schema_query, conn)\n",
    "print(\"\\nСхема таблицы test:\")\n",
    "print(schema)\n",
    "schema_query = \"PRAGMA table_info(control);\"\n",
    "schema = pd.io.sql.read_sql(schema_query, conn)\n",
    "print(\"\\nСхема таблицы control:\")\n",
    "print(schema)"
   ]
  },
  {
   "cell_type": "markdown",
   "metadata": {},
   "source": [
    "#### 3. Получение первых 10 строк таблиц"
   ]
  },
  {
   "cell_type": "code",
   "execution_count": 37,
   "metadata": {},
   "outputs": [
    {
     "name": "stdout",
     "output_type": "stream",
     "text": [
      "\n",
      "Первые 10 строк таблицы deadlines:\n",
      "   index      labs   deadlines\n",
      "0      0    laba04  1587945599\n",
      "1      1   laba04s  1587945599\n",
      "2      2    laba05  1588550399\n",
      "3      4    laba06  1590364799\n",
      "4      5   laba06s  1590364799\n",
      "5      3  project1  1589673599\n",
      "\n",
      "Первые 10 строк таблицы test:\n",
      "       uid   labname             first_commit_ts               first_view_ts\n",
      "0   user_1    laba04  2020-04-26 17:06:18.462708  2020-04-26 21:53:59.624136\n",
      "1   user_1   laba04s  2020-04-26 17:12:11.843671  2020-04-26 21:53:59.624136\n",
      "2   user_1    laba05  2020-05-02 19:15:18.540185  2020-04-26 21:53:59.624136\n",
      "3   user_1    laba06  2020-05-17 16:26:35.268534  2020-04-26 21:53:59.624136\n",
      "4   user_1   laba06s  2020-05-20 12:23:37.289724  2020-04-26 21:53:59.624136\n",
      "5   user_1  project1  2020-05-14 20:56:08.898880  2020-04-26 21:53:59.624136\n",
      "6  user_10    laba04  2020-04-25 08:24:52.696624  2020-04-18 12:19:50.182714\n",
      "7  user_10   laba04s  2020-04-25 08:37:54.604222  2020-04-18 12:19:50.182714\n",
      "8  user_10    laba05  2020-05-01 19:27:26.063245  2020-04-18 12:19:50.182714\n",
      "9  user_10    laba06  2020-05-19 11:39:28.885637  2020-04-18 12:19:50.182714\n",
      "\n",
      "Первые 10 строк таблицы control:\n",
      "       uid   labname             first_commit_ts               first_view_ts\n",
      "0  user_11    laba05  2020-05-03 21:06:55.970293  2020-04-27 00:40:05.761783\n",
      "1  user_11  project1  2020-05-03 23:45:33.673409  2020-04-27 00:40:05.761783\n",
      "2  user_12    laba04  2020-04-18 17:07:51.767358  2020-04-27 00:40:05.761783\n",
      "3  user_12   laba04s  2020-04-26 15:42:38.070593  2020-04-27 00:40:05.761783\n",
      "4  user_12    laba05  2020-05-03 08:39:25.174316  2020-04-27 00:40:05.761783\n",
      "5  user_12    laba06  2020-05-19 08:41:51.082304  2020-04-27 00:40:05.761783\n",
      "6  user_12  project1  2020-05-14 18:17:40.702024  2020-04-27 00:40:05.761783\n",
      "7  user_13    laba04  2020-04-25 17:56:16.919886  2020-04-27 00:40:05.761783\n",
      "8  user_13   laba04s  2020-04-26 22:21:04.093297  2020-04-27 00:40:05.761783\n",
      "9  user_13    laba05  2020-05-02 19:31:35.398386  2020-04-27 00:40:05.761783\n"
     ]
    }
   ],
   "source": [
    "preview_query = \"SELECT * FROM deadlines LIMIT 10;\"\n",
    "preview = pd.io.sql.read_sql(preview_query, conn)\n",
    "print(\"\\nПервые 10 строк таблицы deadlines:\")\n",
    "print(preview)\n",
    "preview_query = \"SELECT * FROM test LIMIT 10;\"\n",
    "preview = pd.io.sql.read_sql(preview_query, conn)\n",
    "print(\"\\nПервые 10 строк таблицы test:\")\n",
    "print(preview)\n",
    "preview_query = \"SELECT * FROM control LIMIT 10;\"\n",
    "preview = pd.io.sql.read_sql(preview_query, conn)\n",
    "print(\"\\nПервые 10 строк таблицы control:\")\n",
    "print(preview)"
   ]
  },
  {
   "cell_type": "markdown",
   "metadata": {},
   "source": [
    "#### 4. SQL-запрос для тестовой группы"
   ]
  },
  {
   "cell_type": "code",
   "execution_count": 38,
   "metadata": {},
   "outputs": [
    {
     "name": "stdout",
     "output_type": "stream",
     "text": [
      "     time    avg_diff\n",
      "0  before  -61.156438\n",
      "1   after -103.953310\n"
     ]
    }
   ],
   "source": [
    "query_test = \"\"\"\n",
    "SELECT 'before' AS time, \n",
    "       AVG((julianday(t.first_commit_ts) - julianday(datetime(d.deadlines, 'unixepoch'))) * 24) AS avg_diff\n",
    "FROM test AS t\n",
    "JOIN deadlines AS d ON t.labname = d.labs\n",
    "WHERE t.first_commit_ts < t.first_view_ts\n",
    "AND t.labname != 'project1'\n",
    "UNION ALL\n",
    "SELECT 'after' AS time, \n",
    "       AVG((julianday(t.first_commit_ts) - julianday(datetime(d.deadlines, 'unixepoch'))) * 24) AS avg_diff\n",
    "FROM test AS t\n",
    "JOIN deadlines AS d ON t.labname = d.labs\n",
    "WHERE t.first_commit_ts >= t.first_view_ts\n",
    "AND t.labname != 'project1';\n",
    "\"\"\"\n",
    "\n",
    "test_results = pd.io.sql.read_sql(query_test, conn)\n",
    "print(test_results.head())\n"
   ]
  },
  {
   "cell_type": "markdown",
   "metadata": {},
   "source": [
    "#### 5. SQL-запрос для контрольной группы"
   ]
  },
  {
   "cell_type": "code",
   "execution_count": 39,
   "metadata": {},
   "outputs": [
    {
     "name": "stdout",
     "output_type": "stream",
     "text": [
      "     time    avg_diff\n",
      "0  before  -99.901295\n",
      "1   after -113.232196\n"
     ]
    }
   ],
   "source": [
    "query_control = \"\"\"\n",
    "SELECT 'before' AS time, \n",
    "       AVG((julianday(c.first_commit_ts) - julianday(datetime(d.deadlines, 'unixepoch'))) * 24) AS avg_diff\n",
    "FROM control AS c\n",
    "JOIN deadlines AS d ON c.labname = d.labs\n",
    "WHERE c.first_commit_ts < c.first_view_ts\n",
    "AND c.labname != 'project1'\n",
    "UNION ALL\n",
    "SELECT 'after' AS time, \n",
    "       AVG((julianday(c.first_commit_ts) - julianday(datetime(d.deadlines, 'unixepoch'))) * 24) AS avg_diff\n",
    "FROM control AS c\n",
    "JOIN deadlines AS d ON c.labname = d.labs\n",
    "WHERE c.first_commit_ts >= c.first_view_ts\n",
    "AND c.labname != 'project1';\n",
    "\"\"\"\n",
    "\n",
    "control_results = pd.io.sql.read_sql(query_control, conn)\n",
    "print(control_results.head())\n",
    "\n",
    "conn.close()"
   ]
  },
  {
   "cell_type": "markdown",
   "metadata": {},
   "source": [
    "#### 6. Интерпретация результатов"
   ]
  },
  {
   "cell_type": "code",
   "execution_count": 40,
   "metadata": {},
   "outputs": [
    {
     "name": "stdout",
     "output_type": "stream",
     "text": [
      "\n",
      "Изменение времени в тестовой группе: 42.79687207436655\n",
      "Изменение времени в контрольной группе: 13.330901912455545\n",
      "\n",
      "Гипотеза ПОДТВЕРЖДЕНА: Страница новостей повлияла на студентов, и они начали работать раньше.\n"
     ]
    }
   ],
   "source": [
    "delta_before_test = test_results.loc[test_results['time'] == 'before', 'avg_diff'].values[0]\n",
    "delta_after_test = test_results.loc[test_results['time'] == 'after', 'avg_diff'].values[0]\n",
    "delta_before_control = control_results.loc[control_results['time'] == 'before', 'avg_diff'].values[0]\n",
    "delta_after_control = control_results.loc[control_results['time'] == 'after', 'avg_diff'].values[0]\n",
    "\n",
    "print(\"\\nИзменение времени в тестовой группе:\", delta_before_test - delta_after_test)\n",
    "print(\"Изменение времени в контрольной группе:\", delta_before_control - delta_after_control)\n",
    "\n",
    "if (delta_before_test - delta_after_test) > (delta_before_control - delta_after_control):\n",
    "    print(\"\\nГипотеза ПОДТВЕРЖДЕНА: Страница новостей повлияла на студентов, и они начали работать раньше.\")\n",
    "else:\n",
    "    print(\"\\nГипотеза НЕ ПОДТВЕРЖДЕНА: Страница новостей не оказала значительного влияния на поведение студентов.\")"
   ]
  }
 ],
 "metadata": {
  "kernelspec": {
   "display_name": "Python 3",
   "language": "python",
   "name": "python3"
  },
  "language_info": {
   "codemirror_mode": {
    "name": "ipython",
    "version": 3
   },
   "file_extension": ".py",
   "mimetype": "text/x-python",
   "name": "python",
   "nbconvert_exporter": "python",
   "pygments_lexer": "ipython3",
   "version": "3.12.4"
  }
 },
 "nbformat": 4,
 "nbformat_minor": 2
}
