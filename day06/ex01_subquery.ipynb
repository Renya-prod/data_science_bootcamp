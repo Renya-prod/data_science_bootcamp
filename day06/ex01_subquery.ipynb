{
 "cells": [
  {
   "cell_type": "markdown",
   "metadata": {},
   "source": [
    "## ⅍ Subquery"
   ]
  },
  {
   "cell_type": "markdown",
   "metadata": {},
   "source": [
    "#### 1. 🔗 Подключаемся к базе данных"
   ]
  },
  {
   "cell_type": "code",
   "execution_count": 42,
   "metadata": {},
   "outputs": [],
   "source": [
    "import pandas as pd\n",
    "import sqlite3\n",
    "\n",
    "db_path = \"checking-logs.sqlite\"\n",
    "conn = sqlite3.connect(db_path)"
   ]
  },
  {
   "cell_type": "markdown",
   "metadata": {},
   "source": [
    "#### 2. Получение схемы таблицы"
   ]
  },
  {
   "cell_type": "code",
   "execution_count": 43,
   "metadata": {},
   "outputs": [
    {
     "name": "stdout",
     "output_type": "stream",
     "text": [
      "Схема таблицы checker:\n",
      "   cid       name       type  notnull dflt_value  pk\n",
      "0    0      index    INTEGER        0       None   0\n",
      "1    1     status       TEXT        0       None   0\n",
      "2    2    success    INTEGER        0       None   0\n",
      "3    3  timestamp  TIMESTAMP        0       None   0\n",
      "4    4  numTrials    INTEGER        0       None   0\n",
      "5    5    labname       TEXT        0       None   0\n",
      "6    6        uid       TEXT        0       None   0\n"
     ]
    }
   ],
   "source": [
    "schema_query = \"PRAGMA table_info(checker);\"\n",
    "schema = pd.io.sql.read_sql(schema_query, conn)\n",
    "print(\"Схема таблицы checker:\")\n",
    "print(schema)"
   ]
  },
  {
   "cell_type": "markdown",
   "metadata": {},
   "source": [
    "#### 3. Получение первых 10 строк из таблицы"
   ]
  },
  {
   "cell_type": "code",
   "execution_count": 44,
   "metadata": {},
   "outputs": [
    {
     "name": "stdout",
     "output_type": "stream",
     "text": [
      "\n",
      "Первые 10 строк таблицы checker:\n",
      "   index    status  success                   timestamp  numTrials   labname  \\\n",
      "0      0  checking        0  2020-04-16 21:12:50.740474          5      None   \n",
      "1      1     ready        0  2020-04-16 21:12:54.708365          5  code_rvw   \n",
      "2      2  checking        0  2020-04-16 21:46:47.769088          7      None   \n",
      "3      3     ready        0  2020-04-16 21:46:48.121217          7     lab02   \n",
      "4      4  checking        0  2020-04-16 21:53:01.862637          6  code_rvw   \n",
      "5      5     ready        0  2020-04-16 21:53:05.373389          6  code_rvw   \n",
      "6      6  checking        0  2020-04-17 05:18:51.965864          1      None   \n",
      "7      7     ready        0  2020-04-17 05:19:02.744528          1  project1   \n",
      "8      8  checking        0  2020-04-17 05:22:35.249331          2  project1   \n",
      "9      9     ready        1  2020-04-17 05:22:45.549397          2  project1   \n",
      "\n",
      "       uid  \n",
      "0  admin_1  \n",
      "1  admin_1  \n",
      "2  admin_1  \n",
      "3  admin_1  \n",
      "4  admin_1  \n",
      "5  admin_1  \n",
      "6     None  \n",
      "7   user_4  \n",
      "8   user_4  \n",
      "9   user_4  \n"
     ]
    }
   ],
   "source": [
    "preview_query = \"SELECT * FROM checker LIMIT 10;\"\n",
    "preview = pd.io.sql.read_sql(preview_query, conn)\n",
    "print(\"\\nПервые 10 строк таблицы checker:\")\n",
    "print(preview)"
   ]
  },
  {
   "cell_type": "markdown",
   "metadata": {},
   "source": [
    "#### 4. SQL-запрос с подзапросом, его закрытие и вывод результатов"
   ]
  },
  {
   "cell_type": "code",
   "execution_count": 45,
   "metadata": {},
   "outputs": [
    {
     "name": "stdout",
     "output_type": "stream",
     "text": [
      "\n",
      "Количество записей в pageviews, удовлетворяющих условиям:\n",
      "   cnt\n",
      "0  985\n"
     ]
    }
   ],
   "source": [
    "query = \"\"\"\n",
    "SELECT COUNT(*) AS cnt\n",
    "FROM pageviews\n",
    "WHERE uid IN (\n",
    "    SELECT uid\n",
    "    FROM checker\n",
    "    WHERE status = 'ready'\n",
    "    AND numTrials = 1\n",
    "    AND labname IN ('laba04', 'laba04s', 'laba05', 'laba06', 'laba06s', 'project1')\n",
    ");\n",
    "\"\"\"\n",
    "\n",
    "checkers = pd.io.sql.read_sql(query, conn)\n",
    "conn.close()\n",
    "\n",
    "print(\"\\nКоличество записей в pageviews, удовлетворяющих условиям:\")\n",
    "print(checkers)"
   ]
  }
 ],
 "metadata": {
  "kernelspec": {
   "display_name": "Python 3",
   "language": "python",
   "name": "python3"
  },
  "language_info": {
   "codemirror_mode": {
    "name": "ipython",
    "version": 3
   },
   "file_extension": ".py",
   "mimetype": "text/x-python",
   "name": "python",
   "nbconvert_exporter": "python",
   "pygments_lexer": "ipython3",
   "version": "3.12.4"
  }
 },
 "nbformat": 4,
 "nbformat_minor": 2
}
