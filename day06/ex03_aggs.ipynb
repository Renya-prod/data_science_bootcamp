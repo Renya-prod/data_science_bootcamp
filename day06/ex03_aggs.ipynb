{
 "cells": [
  {
   "cell_type": "markdown",
   "metadata": {},
   "source": [
    "## ⅍ Aggregations"
   ]
  },
  {
   "cell_type": "markdown",
   "metadata": {},
   "source": [
    "#### 1. 🔗 Подключаемся к базе данных"
   ]
  },
  {
   "cell_type": "code",
   "execution_count": 50,
   "metadata": {},
   "outputs": [],
   "source": [
    "import pandas as pd\n",
    "import sqlite3\n",
    "\n",
    "db_path = \"checking-logs.sqlite\"\n",
    "conn = sqlite3.connect(db_path)"
   ]
  },
  {
   "cell_type": "markdown",
   "metadata": {},
   "source": [
    "#### 2. Получение схемы таблиц test  и deadlines"
   ]
  },
  {
   "cell_type": "code",
   "execution_count": 51,
   "metadata": {},
   "outputs": [
    {
     "name": "stdout",
     "output_type": "stream",
     "text": [
      "Схема таблицы test:\n",
      "   cid             name       type  notnull dflt_value  pk\n",
      "0    0              uid       TEXT        0       None   0\n",
      "1    1          labname       TEXT        0       None   0\n",
      "2    2  first_commit_ts  TIMESTAMP        0       None   0\n",
      "3    3    first_view_ts  TIMESTAMP        0       None   0\n",
      "\n",
      "Схема таблицы deadlines:\n",
      "   cid       name     type  notnull dflt_value  pk\n",
      "0    0      index  INTEGER        0       None   0\n",
      "1    1       labs     TEXT        0       None   0\n",
      "2    2  deadlines  INTEGER        0       None   0\n"
     ]
    }
   ],
   "source": [
    "schema_query = \"PRAGMA table_info(test);\"\n",
    "schema = pd.io.sql.read_sql(schema_query, conn)\n",
    "print(\"Схема таблицы test:\")\n",
    "print(schema)\n",
    "schema_query = \"PRAGMA table_info(deadlines);\"\n",
    "schema = pd.io.sql.read_sql(schema_query, conn)\n",
    "print(\"\\nСхема таблицы deadlines:\")\n",
    "print(schema)"
   ]
  },
  {
   "cell_type": "markdown",
   "metadata": {},
   "source": [
    "#### 3. Получение первых 10 строк таблиц test и deadlines"
   ]
  },
  {
   "cell_type": "code",
   "execution_count": 52,
   "metadata": {},
   "outputs": [
    {
     "name": "stdout",
     "output_type": "stream",
     "text": [
      "\n",
      "Первые 10 строк таблицы test:\n",
      "       uid   labname             first_commit_ts               first_view_ts\n",
      "0   user_1    laba04  2020-04-26 17:06:18.462708  2020-04-26 21:53:59.624136\n",
      "1   user_1   laba04s  2020-04-26 17:12:11.843671  2020-04-26 21:53:59.624136\n",
      "2   user_1    laba05  2020-05-02 19:15:18.540185  2020-04-26 21:53:59.624136\n",
      "3   user_1    laba06  2020-05-17 16:26:35.268534  2020-04-26 21:53:59.624136\n",
      "4   user_1   laba06s  2020-05-20 12:23:37.289724  2020-04-26 21:53:59.624136\n",
      "5   user_1  project1  2020-05-14 20:56:08.898880  2020-04-26 21:53:59.624136\n",
      "6  user_10    laba04  2020-04-25 08:24:52.696624  2020-04-18 12:19:50.182714\n",
      "7  user_10   laba04s  2020-04-25 08:37:54.604222  2020-04-18 12:19:50.182714\n",
      "8  user_10    laba05  2020-05-01 19:27:26.063245  2020-04-18 12:19:50.182714\n",
      "9  user_10    laba06  2020-05-19 11:39:28.885637  2020-04-18 12:19:50.182714\n",
      "\n",
      "Первые 10 строк таблицы deadlines:\n",
      "   index      labs   deadlines\n",
      "0      0    laba04  1587945599\n",
      "1      1   laba04s  1587945599\n",
      "2      2    laba05  1588550399\n",
      "3      4    laba06  1590364799\n",
      "4      5   laba06s  1590364799\n",
      "5      3  project1  1589673599\n"
     ]
    }
   ],
   "source": [
    "preview_query = \"SELECT * FROM test LIMIT 10;\"\n",
    "preview = pd.io.sql.read_sql(preview_query, conn)\n",
    "print(\"\\nПервые 10 строк таблицы test:\")\n",
    "print(preview)\n",
    "preview_query = \"SELECT * FROM deadlines LIMIT 10;\"\n",
    "preview = pd.io.sql.read_sql(preview_query, conn)\n",
    "print(\"\\nПервые 10 строк таблицы deadlines:\")\n",
    "print(preview)"
   ]
  },
  {
   "cell_type": "markdown",
   "metadata": {},
   "source": [
    "#### 4. SQL-запрос для минимального delta между первым коммитом и дедлайном"
   ]
  },
  {
   "cell_type": "code",
   "execution_count": 53,
   "metadata": {},
   "outputs": [
    {
     "name": "stdout",
     "output_type": "stream",
     "text": [
      "       uid  delta_hours\n",
      "0  user_25     2.867236\n"
     ]
    }
   ],
   "source": [
    "query_min = \"\"\"\n",
    "SELECT t.uid, \n",
    "       MIN((julianday(datetime(d.deadlines, 'unixepoch')) - julianday(t.first_commit_ts)) * 24) AS delta_hours\n",
    "FROM test AS t\n",
    "JOIN deadlines AS d ON LOWER(t.labname) = LOWER(d.labs)\n",
    "WHERE t.labname != 'project1'\n",
    "GROUP BY t.uid\n",
    "ORDER BY delta_hours ASC\n",
    "LIMIT 1;\n",
    "\"\"\"\n",
    "\n",
    "df_min = pd.read_sql(query_min, conn)\n",
    "print(df_min.head())"
   ]
  },
  {
   "cell_type": "markdown",
   "metadata": {},
   "source": [
    "#### 5. SQL-запрос для максимального delta"
   ]
  },
  {
   "cell_type": "code",
   "execution_count": 54,
   "metadata": {},
   "outputs": [
    {
     "name": "stdout",
     "output_type": "stream",
     "text": [
      "       uid  delta_hours\n",
      "0  user_30    202.38473\n"
     ]
    }
   ],
   "source": [
    "query_max = \"\"\"\n",
    "SELECT t.uid, \n",
    "       MAX((julianday(datetime(d.deadlines, 'unixepoch')) - julianday(t.first_commit_ts)) * 24) AS delta_hours\n",
    "FROM test AS t\n",
    "JOIN deadlines AS d ON LOWER(t.labname) = LOWER(d.labs)\n",
    "WHERE t.labname != 'project1'\n",
    "GROUP BY t.uid\n",
    "ORDER BY delta_hours DESC\n",
    "LIMIT 1;\n",
    "\"\"\"\n",
    "df_max = pd.read_sql(query_max, conn)\n",
    "print(df_max.head())"
   ]
  },
  {
   "cell_type": "markdown",
   "metadata": {},
   "source": [
    "#### 6. SQL-запрос для среднего delta"
   ]
  },
  {
   "cell_type": "code",
   "execution_count": 55,
   "metadata": {},
   "outputs": [
    {
     "name": "stdout",
     "output_type": "stream",
     "text": [
      "   avg_delta_hours\n",
      "0        89.687686\n"
     ]
    }
   ],
   "source": [
    "query_avg = \"\"\"\n",
    "SELECT AVG((julianday(datetime(d.deadlines, 'unixepoch')) - julianday(t.first_commit_ts)) * 24) AS avg_delta_hours\n",
    "FROM test AS t\n",
    "JOIN deadlines AS d ON LOWER(t.labname) = LOWER(d.labs)\n",
    "WHERE t.labname != 'project1';\n",
    "\"\"\"\n",
    "df_avg = pd.read_sql(query_avg, conn)\n",
    "print(df_avg.head())"
   ]
  },
  {
   "cell_type": "markdown",
   "metadata": {},
   "source": [
    "#### 7. SQL-запрос для связи количества просмотров и delta"
   ]
  },
  {
   "cell_type": "code",
   "execution_count": 56,
   "metadata": {},
   "outputs": [
    {
     "name": "stdout",
     "output_type": "stream",
     "text": [
      "       uid    avg_diff  pageviews\n",
      "0   user_1   65.119644        140\n",
      "1  user_10   75.242310        445\n",
      "2  user_14  159.568696        429\n",
      "3  user_17   62.207513        235\n",
      "4  user_18    6.367907          9\n"
     ]
    }
   ],
   "source": [
    "query_views_diff = \"\"\"\n",
    "SELECT t.uid, \n",
    "       AVG((julianday(datetime(d.deadlines, 'unixepoch')) - julianday(t.first_commit_ts)) * 24) AS avg_diff,\n",
    "       COUNT(p.datetime) AS pageviews\n",
    "FROM test AS t\n",
    "JOIN deadlines AS d ON LOWER(t.labname) = LOWER(d.labs)\n",
    "LEFT JOIN pageviews AS p ON t.uid = p.uid\n",
    "WHERE t.labname != 'project1'\n",
    "GROUP BY t.uid;\n",
    "\"\"\"\n",
    "views_diff = pd.read_sql(query_views_diff, conn)\n",
    "print(views_diff.head())"
   ]
  },
  {
   "cell_type": "markdown",
   "metadata": {},
   "source": [
    "#### 8. Корреляция"
   ]
  },
  {
   "cell_type": "code",
   "execution_count": 57,
   "metadata": {},
   "outputs": [
    {
     "name": "stdout",
     "output_type": "stream",
     "text": [
      "\n",
      "Коэффициент корреляции между средним delta и количеством просмотров: \n",
      "\n",
      "                    0.18504199436324814\n"
     ]
    }
   ],
   "source": [
    "correlation = views_diff[['avg_diff', 'pageviews']].corr().iloc[0, 1]\n",
    "\n",
    "conn.close()\n",
    "\n",
    "print(\"\\nКоэффициент корреляции между средним delta и количеством просмотров:\",\"\\n\" \"\\n                   \",correlation)"
   ]
  }
 ],
 "metadata": {
  "kernelspec": {
   "display_name": "Python 3",
   "language": "python",
   "name": "python3"
  },
  "language_info": {
   "codemirror_mode": {
    "name": "ipython",
    "version": 3
   },
   "file_extension": ".py",
   "mimetype": "text/x-python",
   "name": "python",
   "nbconvert_exporter": "python",
   "pygments_lexer": "ipython3",
   "version": "3.12.4"
  }
 },
 "nbformat": 4,
 "nbformat_minor": 2
}
