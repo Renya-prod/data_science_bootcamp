{
 "cells": [
  {
   "cell_type": "markdown",
   "metadata": {},
   "source": [
    "## ⅍ Joins"
   ]
  },
  {
   "cell_type": "markdown",
   "metadata": {},
   "source": [
    "#### 1. 🔗 Подключаемся к базе данных"
   ]
  },
  {
   "cell_type": "code",
   "execution_count": 32,
   "metadata": {},
   "outputs": [],
   "source": [
    "import pandas as pd\n",
    "import sqlite3\n",
    "\n",
    "db_path = \"checking-logs.sqlite\"\n",
    "conn = sqlite3.connect(db_path)"
   ]
  },
  {
   "cell_type": "markdown",
   "metadata": {},
   "source": [
    "#### 2. Создаём временную таблицу и выполняем SQL-запрос "
   ]
  },
  {
   "cell_type": "code",
   "execution_count": 33,
   "metadata": {},
   "outputs": [
    {
     "data": {
      "text/plain": [
       "<sqlite3.Cursor at 0x11914db40>"
      ]
     },
     "execution_count": 33,
     "metadata": {},
     "output_type": "execute_result"
    }
   ],
   "source": [
    "query = \"\"\"\n",
    "CREATE TEMP TABLE datamart AS\n",
    "SELECT\n",
    "    c.uid,\n",
    "    c.labname,\n",
    "    c.timestamp AS first_commit_ts,\n",
    "    MIN(p.datetime) AS first_view_ts\n",
    "FROM checker AS c\n",
    "LEFT JOIN pageviews AS p ON c.uid = p.uid\n",
    "WHERE c.status = 'ready'\n",
    "AND c.numTrials = 1\n",
    "AND c.labname IN ('laba04', 'laba04s', 'laba05', 'laba06', 'laba06s', 'project1')\n",
    "AND c.uid LIKE 'user_%'\n",
    "GROUP BY c.uid, c.labname;\n",
    "\"\"\"\n",
    "conn.execute(query)"
   ]
  },
  {
   "cell_type": "markdown",
   "metadata": {},
   "source": [
    "#### 3. Загружаем таблицу datamart в Pandas DataFrame"
   ]
  },
  {
   "cell_type": "code",
   "execution_count": 34,
   "metadata": {},
   "outputs": [
    {
     "name": "stdout",
     "output_type": "stream",
     "text": [
      "      uid  labname             first_commit_ts               first_view_ts\n",
      "0  user_1   laba04  2020-04-26 17:06:18.462708  2020-04-26 21:53:59.624136\n",
      "1  user_1  laba04s  2020-04-26 17:12:11.843671  2020-04-26 21:53:59.624136\n",
      "2  user_1   laba05  2020-05-02 19:15:18.540185  2020-04-26 21:53:59.624136\n",
      "3  user_1   laba06  2020-05-17 16:26:35.268534  2020-04-26 21:53:59.624136\n",
      "4  user_1  laba06s  2020-05-20 12:23:37.289724  2020-04-26 21:53:59.624136\n"
     ]
    }
   ],
   "source": [
    "datamart = pd.read_sql(\"SELECT * FROM datamart;\", conn)\n",
    "print(datamart.head())"
   ]
  },
  {
   "cell_type": "markdown",
   "metadata": {},
   "source": [
    "#### 4. Преобразование столбцов в формат datetime"
   ]
  },
  {
   "cell_type": "code",
   "execution_count": 35,
   "metadata": {},
   "outputs": [
    {
     "name": "stdout",
     "output_type": "stream",
     "text": [
      "      uid  labname            first_commit_ts              first_view_ts\n",
      "0  user_1   laba04 2020-04-26 17:06:18.462708 2020-04-26 21:53:59.624136\n",
      "1  user_1  laba04s 2020-04-26 17:12:11.843671 2020-04-26 21:53:59.624136\n",
      "2  user_1   laba05 2020-05-02 19:15:18.540185 2020-04-26 21:53:59.624136\n",
      "3  user_1   laba06 2020-05-17 16:26:35.268534 2020-04-26 21:53:59.624136\n",
      "4  user_1  laba06s 2020-05-20 12:23:37.289724 2020-04-26 21:53:59.624136\n"
     ]
    }
   ],
   "source": [
    "datamart[\"first_commit_ts\"] = pd.to_datetime(datamart[\"first_commit_ts\"])\n",
    "datamart[\"first_view_ts\"] = pd.to_datetime(datamart[\"first_view_ts\"])\n",
    "print(datamart.head())"
   ]
  },
  {
   "cell_type": "markdown",
   "metadata": {},
   "source": [
    "#### 5. Разделение на тестовую и контрольную группы"
   ]
  },
  {
   "cell_type": "code",
   "execution_count": 36,
   "metadata": {},
   "outputs": [
    {
     "name": "stdout",
     "output_type": "stream",
     "text": [
      "      uid  labname            first_commit_ts              first_view_ts\n",
      "0  user_1   laba04 2020-04-26 17:06:18.462708 2020-04-26 21:53:59.624136\n",
      "1  user_1  laba04s 2020-04-26 17:12:11.843671 2020-04-26 21:53:59.624136\n",
      "2  user_1   laba05 2020-05-02 19:15:18.540185 2020-04-26 21:53:59.624136\n",
      "3  user_1   laba06 2020-05-17 16:26:35.268534 2020-04-26 21:53:59.624136\n",
      "4  user_1  laba06s 2020-05-20 12:23:37.289724 2020-04-26 21:53:59.624136\n",
      "        uid   labname            first_commit_ts first_view_ts\n",
      "12  user_11    laba05 2020-05-03 21:06:55.970293           NaT\n",
      "13  user_11  project1 2020-05-03 23:45:33.673409           NaT\n",
      "14  user_12    laba04 2020-04-18 17:07:51.767358           NaT\n",
      "15  user_12   laba04s 2020-04-26 15:42:38.070593           NaT\n",
      "16  user_12    laba05 2020-05-03 08:39:25.174316           NaT\n"
     ]
    }
   ],
   "source": [
    "test = datamart[datamart[\"first_view_ts\"].notna()].copy()\n",
    "control = datamart[datamart[\"first_view_ts\"].isna()].copy()\n",
    "print(test.head())\n",
    "print(control.head())"
   ]
  },
  {
   "cell_type": "markdown",
   "metadata": {},
   "source": [
    "#### 6. Заполнение пропущенных значений в контрольной группе"
   ]
  },
  {
   "cell_type": "code",
   "execution_count": 37,
   "metadata": {},
   "outputs": [
    {
     "name": "stdout",
     "output_type": "stream",
     "text": [
      "        uid   labname            first_commit_ts                 first_view_ts\n",
      "12  user_11    laba05 2020-05-03 21:06:55.970293 2020-04-27 00:40:05.761783552\n",
      "13  user_11  project1 2020-05-03 23:45:33.673409 2020-04-27 00:40:05.761783552\n",
      "14  user_12    laba04 2020-04-18 17:07:51.767358 2020-04-27 00:40:05.761783552\n",
      "15  user_12   laba04s 2020-04-26 15:42:38.070593 2020-04-27 00:40:05.761783552\n",
      "16  user_12    laba05 2020-05-03 08:39:25.174316 2020-04-27 00:40:05.761783552\n"
     ]
    }
   ],
   "source": [
    "mean_first_view_ts = test[\"first_view_ts\"].mean()\n",
    "control.fillna({\"first_view_ts\": mean_first_view_ts}, inplace=True)\n",
    "print(control.head())"
   ]
  },
  {
   "cell_type": "markdown",
   "metadata": {},
   "source": [
    "#### 7. Сохранение тестовой и контрольной групп в базу данных и вывод рез-тов"
   ]
  },
  {
   "cell_type": "code",
   "execution_count": 38,
   "metadata": {},
   "outputs": [
    {
     "name": "stdout",
     "output_type": "stream",
     "text": [
      "\n",
      "Предварительный просмотр таблицы datamart:\n",
      "      uid  labname            first_commit_ts              first_view_ts\n",
      "0  user_1   laba04 2020-04-26 17:06:18.462708 2020-04-26 21:53:59.624136\n",
      "1  user_1  laba04s 2020-04-26 17:12:11.843671 2020-04-26 21:53:59.624136\n",
      "2  user_1   laba05 2020-05-02 19:15:18.540185 2020-04-26 21:53:59.624136\n",
      "3  user_1   laba06 2020-05-17 16:26:35.268534 2020-04-26 21:53:59.624136\n",
      "4  user_1  laba06s 2020-05-20 12:23:37.289724 2020-04-26 21:53:59.624136\n",
      "\n",
      "Предварительный просмотр тестовой группы:\n",
      "      uid  labname            first_commit_ts              first_view_ts\n",
      "0  user_1   laba04 2020-04-26 17:06:18.462708 2020-04-26 21:53:59.624136\n",
      "1  user_1  laba04s 2020-04-26 17:12:11.843671 2020-04-26 21:53:59.624136\n",
      "2  user_1   laba05 2020-05-02 19:15:18.540185 2020-04-26 21:53:59.624136\n",
      "3  user_1   laba06 2020-05-17 16:26:35.268534 2020-04-26 21:53:59.624136\n",
      "4  user_1  laba06s 2020-05-20 12:23:37.289724 2020-04-26 21:53:59.624136\n",
      "\n",
      "Предварительный просмотр контрольной группы (с заменой пропущенных значений):\n",
      "        uid   labname            first_commit_ts                 first_view_ts\n",
      "12  user_11    laba05 2020-05-03 21:06:55.970293 2020-04-27 00:40:05.761783552\n",
      "13  user_11  project1 2020-05-03 23:45:33.673409 2020-04-27 00:40:05.761783552\n",
      "14  user_12    laba04 2020-04-18 17:07:51.767358 2020-04-27 00:40:05.761783552\n",
      "15  user_12   laba04s 2020-04-26 15:42:38.070593 2020-04-27 00:40:05.761783552\n",
      "16  user_12    laba05 2020-05-03 08:39:25.174316 2020-04-27 00:40:05.761783552\n"
     ]
    }
   ],
   "source": [
    "test.to_sql(\"test\", conn, if_exists=\"replace\", index=False)\n",
    "control.to_sql(\"control\", conn, if_exists=\"replace\", index=False)\n",
    "\n",
    "conn.close()\n",
    "\n",
    "print(\"\\nПредварительный просмотр таблицы datamart:\")\n",
    "print(datamart.head())\n",
    "\n",
    "print(\"\\nПредварительный просмотр тестовой группы:\")\n",
    "print(test.head())\n",
    "\n",
    "print(\"\\nПредварительный просмотр контрольной группы (с заменой пропущенных значений):\")\n",
    "print(control.head())"
   ]
  }
 ],
 "metadata": {
  "kernelspec": {
   "display_name": "Python 3",
   "language": "python",
   "name": "python3"
  },
  "language_info": {
   "codemirror_mode": {
    "name": "ipython",
    "version": 3
   },
   "file_extension": ".py",
   "mimetype": "text/x-python",
   "name": "python",
   "nbconvert_exporter": "python",
   "pygments_lexer": "ipython3",
   "version": "3.12.4"
  }
 },
 "nbformat": 4,
 "nbformat_minor": 2
}
