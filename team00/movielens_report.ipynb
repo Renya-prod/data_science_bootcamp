{
 "cells": [
  {
   "cell_type": "markdown",
   "metadata": {},
   "source": [
    "# 📊 Анализ данных MovieLens\n",
    "\n",
    "В этом отчёте мы анализируем датасет **MovieLens**, используя только классы и методы из `movielens_analysis.py`.\n",
    "Каждый раздел посвящён разным аспектам данных: рейтингам, тегам, фильмам и внешним ссылкам.\n",
    "\n",
    "**Цель:** найти интересные закономерности в данных.\n"
   ]
  },
  {
   "cell_type": "markdown",
   "metadata": {},
   "source": [
    "## ⭐ Анализ рейтингов\n",
    "\n",
    "Мы изучим:\n",
    "- Средний рейтинг фильмов.\n",
    "- Самые популярные фильмы по оценкам.\n",
    "- Активность пользователей.\n",
    "- Как меняются рейтинги фильмов со временем."
   ]
  },
  {
   "cell_type": "code",
   "execution_count": 1,
   "metadata": {},
   "outputs": [
    {
     "name": "stdout",
     "output_type": "stream",
     "text": [
      "📥 Загружаем данные о рейтингах...\n",
      "16.1 ms ± 392 μs per loop (mean ± std. dev. of 7 runs, 100 loops each)\n",
      "\n",
      "⭐ Средний рейтинг фильмов:\n",
      "movieId\n",
      "1    3.920930\n",
      "2    3.431818\n",
      "3    3.259615\n",
      "1.92 ms ± 85.2 μs per loop (mean ± std. dev. of 7 runs, 1,000 loops each)\n",
      "\n",
      "🎬 Топ-3 фильмов по рейтингу:\n",
      "movieId\n",
      "53     5.0\n",
      "99     5.0\n",
      "148    5.0\n",
      "2.41 ms ± 72.2 μs per loop (mean ± std. dev. of 7 runs, 100 loops each)\n",
      "\n",
      "📊 Количество оценок на фильм:\n",
      "movieId\n",
      "1    215\n",
      "2    110\n",
      "3     52\n",
      "1.62 ms ± 22.4 μs per loop (mean ± std. dev. of 7 runs, 1,000 loops each)\n",
      "\n",
      "👤 3 самых активных пользователей:\n",
      "userId\n",
      "414    2698\n",
      "599    2478\n",
      "474    2108\n",
      "351 μs ± 1.99 μs per loop (mean ± std. dev. of 7 runs, 1,000 loops each)\n"
     ]
    }
   ],
   "source": [
    "from movielens_analysis import Ratings\n",
    "\n",
    "ratings = Ratings(\"ml-latest-small/ratings.csv\")\n",
    "\n",
    "print(\"📥 Загружаем данные о рейтингах...\")\n",
    "%timeit ratings.load_data()\n",
    "\n",
    "print(\"\\n⭐ Средний рейтинг фильмов:\")\n",
    "print(ratings.average_rating().head(3).to_string())\n",
    "%timeit ratings.average_rating()\n",
    "\n",
    "print(\"\\n🎬 Топ-3 фильмов по рейтингу:\")\n",
    "print(ratings.top_movies(3).to_string())\n",
    "%timeit ratings.top_movies(3)\n",
    "\n",
    "print(\"\\n📊 Количество оценок на фильм:\")\n",
    "print(ratings.count_ratings().head(3).to_string())\n",
    "%timeit ratings.count_ratings()\n",
    "\n",
    "\"\"\" print(\"\\n📈 Тренд рейтинга фильма (movieId=1):\")\n",
    "print(ratings.rating_trend(1).head(3).to_string())\n",
    "%timeit ratings.rating_trend(1) \"\"\"\n",
    "\n",
    "print(\"\\n👤 3 самых активных пользователей:\")\n",
    "print(ratings.most_active_users(3).to_string())\n",
    "%timeit ratings.most_active_users(3)"
   ]
  },
  {
   "cell_type": "markdown",
   "metadata": {},
   "source": [
    "## 🏷️ Анализ тегов\n",
    "\n",
    "Мы рассмотрим:\n",
    "- Самые популярные теги.\n",
    "- Редкие теги (используемые менее 5 раз)."
   ]
  },
  {
   "cell_type": "code",
   "execution_count": 2,
   "metadata": {},
   "outputs": [
    {
     "name": "stdout",
     "output_type": "stream",
     "text": [
      "📥 Загружаем данные о тегах...\n",
      "1.57 ms ± 67 μs per loop (mean ± std. dev. of 7 runs, 1,000 loops each)\n",
      "\n",
      "🏷️ 10 самых популярных тегов:\n",
      "tag\n",
      "In Netflix queue     131\n",
      "atmospheric           36\n",
      "thought-provoking     24\n",
      "superhero             24\n",
      "funny                 23\n",
      "297 μs ± 3.41 μs per loop (mean ± std. dev. of 7 runs, 1,000 loops each)\n",
      "\n",
      "🔍 Редкие теги (используемые <= 5 раз):\n",
      "tag\n",
      "Civil War          5\n",
      "Judaism            5\n",
      "Adam Sandler       5\n",
      "alcoholism         5\n",
      "cross dressing     5\n",
      "amnesia            5\n",
      "based on a book    5\n",
      "Jason              5\n",
      "stylish            5\n",
      "terrorism          5\n",
      "357 μs ± 578 ns per loop (mean ± std. dev. of 7 runs, 1,000 loops each)\n"
     ]
    }
   ],
   "source": [
    "from movielens_analysis import Tags\n",
    "\n",
    "tags = Tags(\"ml-latest-small/tags.csv\")\n",
    "\n",
    "print(\"📥 Загружаем данные о тегах...\")\n",
    "%timeit tags.load_data()\n",
    "\n",
    "print(\"\\n🏷️ 10 самых популярных тегов:\")\n",
    "print(tags.most_common_tags(5).to_string())\n",
    "%timeit tags.most_common_tags(5)\n",
    "\n",
    "print(\"\\n🔍 Редкие теги (используемые <= 5 раз):\")\n",
    "print(tags.rare_tags(5).head(10).to_string())\n",
    "%timeit tags.rare_tags(5)"
   ]
  },
  {
   "cell_type": "markdown",
   "metadata": {},
   "source": [
    "## 🎬 Анализ информации о фильмах\n",
    "\n",
    "В этом разделе мы исследуем:\n",
    "- Фильмы определённого жанра.\n",
    "- Фильмы с определённым названием.\n",
    "- Количество выпущенных фильмов по годам."
   ]
  },
  {
   "cell_type": "code",
   "execution_count": 3,
   "metadata": {},
   "outputs": [
    {
     "name": "stdout",
     "output_type": "stream",
     "text": [
      "📥 Загружаем данные о фильмах...\n",
      "5.45 ms ± 84.6 μs per loop (mean ± std. dev. of 7 runs, 100 loops each)\n",
      "\n",
      "🎭 Фильмы в жанре 'Comedy':\n",
      "   movieId                               title                                       genres\n",
      "0        1                    Toy Story (1995)  Adventure|Animation|Children|Comedy|Fantasy\n",
      "2        3             Grumpier Old Men (1995)                               Comedy|Romance\n",
      "3        4            Waiting to Exhale (1995)                         Comedy|Drama|Romance\n",
      "4        5  Father of the Bride Part II (1995)                                       Comedy\n",
      "6        7                      Sabrina (1995)                               Comedy|Romance\n",
      "1.58 ms ± 9.56 μs per loop (mean ± std. dev. of 7 runs, 1,000 loops each)\n",
      "\n",
      "🎬 Поиск фильмов с названием 'Toy Story':\n",
      "      movieId               title                                            genres\n",
      "0           1    Toy Story (1995)       Adventure|Animation|Children|Comedy|Fantasy\n",
      "2355     3114  Toy Story 2 (1999)       Adventure|Animation|Children|Comedy|Fantasy\n",
      "7355    78499  Toy Story 3 (2010)  Adventure|Animation|Children|Comedy|Fantasy|IMAX\n",
      "2.7 ms ± 61.1 μs per loop (mean ± std. dev. of 7 runs, 100 loops each)\n",
      "\n",
      "📅 Количество фильмов по годам:\n",
      "year\n",
      "1902.0    1\n",
      "1903.0    1\n",
      "1908.0    1\n",
      "1915.0    1\n",
      "1916.0    4\n",
      "3.94 ms ± 15 μs per loop (mean ± std. dev. of 7 runs, 100 loops each)\n"
     ]
    }
   ],
   "source": [
    "from movielens_analysis import Movies\n",
    "\n",
    "movies = Movies(\"ml-latest-small/movies.csv\")\n",
    "\n",
    "print(\"📥 Загружаем данные о фильмах...\")\n",
    "%timeit movies.load_data()\n",
    "\n",
    "print(\"\\n🎭 Фильмы в жанре 'Comedy':\")\n",
    "print(movies.find_by_genre(\"Comedy\").head(5).to_string())\n",
    "%timeit movies.find_by_genre(\"Comedy\")\n",
    "\n",
    "print(\"\\n🎬 Поиск фильмов с названием 'Toy Story':\")\n",
    "print(movies.find_by_title(\"Toy Story\").head(5).to_string())\n",
    "%timeit movies.find_by_title(\"Toy Story\")\n",
    "\n",
    "print(\"\\n📅 Количество фильмов по годам:\")\n",
    "print(movies.movies_per_year().head(5).to_string())\n",
    "%timeit movies.movies_per_year()"
   ]
  },
  {
   "cell_type": "markdown",
   "metadata": {},
   "source": [
    "## 🔗 Внешние ссылки на фильмы\n",
    "\n",
    "MovieLens хранит идентификаторы фильмов для **IMDb** и **TMDb**. Мы проверим:\n",
    "- Как получить ссылки для фильмов.\n",
    "- Есть ли у фильма внешние ссылки."
   ]
  },
  {
   "cell_type": "code",
   "execution_count": 7,
   "metadata": {},
   "outputs": [
    {
     "name": "stdout",
     "output_type": "stream",
     "text": [
      "📥 Загружаем данные о ссылках...\n",
      "1.54 ms ± 42.5 μs per loop (mean ± std. dev. of 7 runs, 1,000 loops each)\n",
      "\n",
      "🔗 IMDb-ссылка для movieId=1:\n",
      "https://www.imdb.com/title/tt0114709/\n",
      "68.6 μs ± 84.4 ns per loop (mean ± std. dev. of 7 runs, 10,000 loops each)\n",
      "\n",
      "🎞️ TMDb-ссылка для movieId=1:\n",
      "https://www.themoviedb.org/movie/862\n",
      "68.5 μs ± 279 ns per loop (mean ± std. dev. of 7 runs, 10,000 loops each)\n",
      "\n",
      "✅ Проверка наличия внешних ссылок для movieId=1:\n",
      "True\n",
      "69.4 μs ± 838 ns per loop (mean ± std. dev. of 7 runs, 10,000 loops each)\n",
      "\n",
      "🎬 Информация о фильме 1:\n",
      "Название: История игрушек\n",
      "Описание: A cowboy doll is profoundly threatened and jealous when a new spaceman action figure supplants him as top toy in a boy's bedroom.\n"
     ]
    }
   ],
   "source": [
    "from movielens_analysis import Links\n",
    "\n",
    "links = Links(\"ml-latest-small/links.csv\")\n",
    "\n",
    "print(\"📥 Загружаем данные о ссылках...\")\n",
    "%timeit links.load_links_data()\n",
    "\n",
    "print(\"\\n🔗 IMDb-ссылка для movieId=1:\")\n",
    "print(links.get_imdb_link(1))\n",
    "%timeit links.get_imdb_link(1)\n",
    "\n",
    "print(\"\\n🎞️ TMDb-ссылка для movieId=1:\")\n",
    "print(links.get_tmdb_link(1))\n",
    "%timeit links.get_tmdb_link(1)\n",
    "\n",
    "print(\"\\n✅ Проверка наличия внешних ссылок для movieId=1:\")\n",
    "print(links.has_external_links(1))\n",
    "%timeit links.has_external_links(1)\n",
    "\n",
    "movie_id = 1\n",
    "movie_info = links.get_movie_info(movie_id)\n",
    "print(f\"\\n🎬 Информация о фильме {movie_id}:\")\n",
    "print(f\"Название: {movie_info['Title']}\")\n",
    "print(f\"Описание: {movie_info['Description']}\")"
   ]
  },
  {
   "cell_type": "markdown",
   "metadata": {},
   "source": [
    "## 💻 Протестируем\n",
    "\n",
    "У нас написаны тесты на каждый модуль, всего их 14, проверяем работу классов"
   ]
  },
  {
   "cell_type": "code",
   "execution_count": 9,
   "metadata": {},
   "outputs": [
    {
     "name": "stdout",
     "output_type": "stream",
     "text": [
      "\u001b[1m============================= test session starts ==============================\u001b[0m\n",
      "platform darwin -- Python 3.12.4, pytest-8.3.4, pluggy-1.5.0\n",
      "rootdir: /Users/mr_renskov/School_21/DS_Bootcamp.Team00-1/src\n",
      "plugins: anyio-4.8.0\n",
      "collected 14 items                                                             \u001b[0m\n",
      "\n",
      "movielens_analysis.py \u001b[32m.\u001b[0m\u001b[32m.\u001b[0m\u001b[32m.\u001b[0m\u001b[32m.\u001b[0m\u001b[32m.\u001b[0m\u001b[32m.\u001b[0m\u001b[32m.\u001b[0m\u001b[32m.\u001b[0m\u001b[32m.\u001b[0m\u001b[32m.\u001b[0m\u001b[32m.\u001b[0m\u001b[32m.\u001b[0m\u001b[32m.\u001b[0m\u001b[32m.\u001b[0m\u001b[32m                                     [100%]\u001b[0m\n",
      "\n",
      "\u001b[32m============================== \u001b[32m\u001b[1m14 passed\u001b[0m\u001b[32m in 1.94s\u001b[0m\u001b[32m ==============================\u001b[0m\n"
     ]
    }
   ],
   "source": [
    "!pytest movielens_analysis.py"
   ]
  }
 ],
 "metadata": {
  "kernelspec": {
   "display_name": "Python 3",
   "language": "python",
   "name": "python3"
  },
  "language_info": {
   "codemirror_mode": {
    "name": "ipython",
    "version": 3
   },
   "file_extension": ".py",
   "mimetype": "text/x-python",
   "name": "python",
   "nbconvert_exporter": "python",
   "pygments_lexer": "ipython3",
   "version": "3.12.4"
  }
 },
 "nbformat": 4,
 "nbformat_minor": 2
}
