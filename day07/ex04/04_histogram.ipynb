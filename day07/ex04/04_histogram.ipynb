{
 "cells": [
  {
   "cell_type": "markdown",
   "metadata": {},
   "source": [
    "## Histogram\n",
    "\n",
    "* Мы построим гистограмму, чтобы сравнить абсолютное количество коммитов в рабочие дни и выходные."
   ]
  },
  {
   "cell_type": "markdown",
   "metadata": {},
   "source": [
    "#### 1. Подключаемся к базе"
   ]
  },
  {
   "cell_type": "code",
   "execution_count": 21,
   "metadata": {},
   "outputs": [],
   "source": [
    "import sqlite3\n",
    "import pandas as pd\n",
    "import matplotlib.pyplot as plt\n",
    "\n",
    "conn = sqlite3.connect('../data/checking-logs.sqlite')"
   ]
  },
  {
   "cell_type": "markdown",
   "metadata": {},
   "source": [
    "#### 2. Загрузка данных"
   ]
  },
  {
   "cell_type": "code",
   "execution_count": 22,
   "metadata": {},
   "outputs": [
    {
     "data": {
      "text/html": [
       "<div>\n",
       "<style scoped>\n",
       "    .dataframe tbody tr th:only-of-type {\n",
       "        vertical-align: middle;\n",
       "    }\n",
       "\n",
       "    .dataframe tbody tr th {\n",
       "        vertical-align: top;\n",
       "    }\n",
       "\n",
       "    .dataframe thead th {\n",
       "        text-align: right;\n",
       "    }\n",
       "</style>\n",
       "<table border=\"1\" class=\"dataframe\">\n",
       "  <thead>\n",
       "    <tr style=\"text-align: right;\">\n",
       "      <th></th>\n",
       "      <th>timestamp</th>\n",
       "    </tr>\n",
       "  </thead>\n",
       "  <tbody>\n",
       "    <tr>\n",
       "      <th>0</th>\n",
       "      <td>2020-04-17 05:19:02.744528</td>\n",
       "    </tr>\n",
       "    <tr>\n",
       "      <th>1</th>\n",
       "      <td>2020-04-17 05:22:35.249331</td>\n",
       "    </tr>\n",
       "    <tr>\n",
       "      <th>2</th>\n",
       "      <td>2020-04-17 05:22:45.549397</td>\n",
       "    </tr>\n",
       "    <tr>\n",
       "      <th>3</th>\n",
       "      <td>2020-04-17 05:34:14.691200</td>\n",
       "    </tr>\n",
       "    <tr>\n",
       "      <th>4</th>\n",
       "      <td>2020-04-17 05:34:24.422370</td>\n",
       "    </tr>\n",
       "  </tbody>\n",
       "</table>\n",
       "</div>"
      ],
      "text/plain": [
       "                    timestamp\n",
       "0  2020-04-17 05:19:02.744528\n",
       "1  2020-04-17 05:22:35.249331\n",
       "2  2020-04-17 05:22:45.549397\n",
       "3  2020-04-17 05:34:14.691200\n",
       "4  2020-04-17 05:34:24.422370"
      ]
     },
     "execution_count": 22,
     "metadata": {},
     "output_type": "execute_result"
    }
   ],
   "source": [
    "query = \"\"\"\n",
    "SELECT timestamp\n",
    "FROM checker\n",
    "WHERE uid NOT LIKE 'admin%' AND labname IS NOT NULL\n",
    "\"\"\"\n",
    "df = pd.read_sql_query(query, conn)\n",
    "df.head()"
   ]
  },
  {
   "cell_type": "markdown",
   "metadata": {},
   "source": [
    "#### 3. Обработка данных"
   ]
  },
  {
   "cell_type": "code",
   "execution_count": 23,
   "metadata": {},
   "outputs": [
    {
     "data": {
      "text/html": [
       "<div>\n",
       "<style scoped>\n",
       "    .dataframe tbody tr th:only-of-type {\n",
       "        vertical-align: middle;\n",
       "    }\n",
       "\n",
       "    .dataframe tbody tr th {\n",
       "        vertical-align: top;\n",
       "    }\n",
       "\n",
       "    .dataframe thead th {\n",
       "        text-align: right;\n",
       "    }\n",
       "</style>\n",
       "<table border=\"1\" class=\"dataframe\">\n",
       "  <thead>\n",
       "    <tr style=\"text-align: right;\">\n",
       "      <th></th>\n",
       "      <th>timestamp</th>\n",
       "      <th>day_of_week</th>\n",
       "      <th>hour</th>\n",
       "    </tr>\n",
       "  </thead>\n",
       "  <tbody>\n",
       "    <tr>\n",
       "      <th>0</th>\n",
       "      <td>2020-04-17 05:19:02.744528</td>\n",
       "      <td>Friday</td>\n",
       "      <td>5</td>\n",
       "    </tr>\n",
       "    <tr>\n",
       "      <th>1</th>\n",
       "      <td>2020-04-17 05:22:35.249331</td>\n",
       "      <td>Friday</td>\n",
       "      <td>5</td>\n",
       "    </tr>\n",
       "    <tr>\n",
       "      <th>2</th>\n",
       "      <td>2020-04-17 05:22:45.549397</td>\n",
       "      <td>Friday</td>\n",
       "      <td>5</td>\n",
       "    </tr>\n",
       "    <tr>\n",
       "      <th>3</th>\n",
       "      <td>2020-04-17 05:34:14.691200</td>\n",
       "      <td>Friday</td>\n",
       "      <td>5</td>\n",
       "    </tr>\n",
       "    <tr>\n",
       "      <th>4</th>\n",
       "      <td>2020-04-17 05:34:24.422370</td>\n",
       "      <td>Friday</td>\n",
       "      <td>5</td>\n",
       "    </tr>\n",
       "  </tbody>\n",
       "</table>\n",
       "</div>"
      ],
      "text/plain": [
       "                   timestamp day_of_week  hour\n",
       "0 2020-04-17 05:19:02.744528      Friday     5\n",
       "1 2020-04-17 05:22:35.249331      Friday     5\n",
       "2 2020-04-17 05:22:45.549397      Friday     5\n",
       "3 2020-04-17 05:34:14.691200      Friday     5\n",
       "4 2020-04-17 05:34:24.422370      Friday     5"
      ]
     },
     "execution_count": 23,
     "metadata": {},
     "output_type": "execute_result"
    }
   ],
   "source": [
    "df['timestamp'] = pd.to_datetime(df['timestamp'])\n",
    "df['day_of_week'] = df['timestamp'].dt.day_name()\n",
    "df['hour'] = df['timestamp'].dt.hour\n",
    "\n",
    "df.head()"
   ]
  },
  {
   "cell_type": "code",
   "execution_count": 24,
   "metadata": {},
   "outputs": [
    {
     "data": {
      "text/html": [
       "<div>\n",
       "<style scoped>\n",
       "    .dataframe tbody tr th:only-of-type {\n",
       "        vertical-align: middle;\n",
       "    }\n",
       "\n",
       "    .dataframe tbody tr th {\n",
       "        vertical-align: top;\n",
       "    }\n",
       "\n",
       "    .dataframe thead th {\n",
       "        text-align: right;\n",
       "    }\n",
       "</style>\n",
       "<table border=\"1\" class=\"dataframe\">\n",
       "  <thead>\n",
       "    <tr style=\"text-align: right;\">\n",
       "      <th></th>\n",
       "      <th>timestamp</th>\n",
       "      <th>day_of_week</th>\n",
       "      <th>hour</th>\n",
       "      <th>is_weekend</th>\n",
       "    </tr>\n",
       "  </thead>\n",
       "  <tbody>\n",
       "    <tr>\n",
       "      <th>0</th>\n",
       "      <td>2020-04-17 05:19:02.744528</td>\n",
       "      <td>Friday</td>\n",
       "      <td>5</td>\n",
       "      <td>False</td>\n",
       "    </tr>\n",
       "    <tr>\n",
       "      <th>1</th>\n",
       "      <td>2020-04-17 05:22:35.249331</td>\n",
       "      <td>Friday</td>\n",
       "      <td>5</td>\n",
       "      <td>False</td>\n",
       "    </tr>\n",
       "    <tr>\n",
       "      <th>2</th>\n",
       "      <td>2020-04-17 05:22:45.549397</td>\n",
       "      <td>Friday</td>\n",
       "      <td>5</td>\n",
       "      <td>False</td>\n",
       "    </tr>\n",
       "    <tr>\n",
       "      <th>3</th>\n",
       "      <td>2020-04-17 05:34:14.691200</td>\n",
       "      <td>Friday</td>\n",
       "      <td>5</td>\n",
       "      <td>False</td>\n",
       "    </tr>\n",
       "    <tr>\n",
       "      <th>4</th>\n",
       "      <td>2020-04-17 05:34:24.422370</td>\n",
       "      <td>Friday</td>\n",
       "      <td>5</td>\n",
       "      <td>False</td>\n",
       "    </tr>\n",
       "  </tbody>\n",
       "</table>\n",
       "</div>"
      ],
      "text/plain": [
       "                   timestamp day_of_week  hour  is_weekend\n",
       "0 2020-04-17 05:19:02.744528      Friday     5       False\n",
       "1 2020-04-17 05:22:35.249331      Friday     5       False\n",
       "2 2020-04-17 05:22:45.549397      Friday     5       False\n",
       "3 2020-04-17 05:34:14.691200      Friday     5       False\n",
       "4 2020-04-17 05:34:24.422370      Friday     5       False"
      ]
     },
     "execution_count": 24,
     "metadata": {},
     "output_type": "execute_result"
    }
   ],
   "source": [
    "df['is_weekend'] = df['day_of_week'].isin(['Saturday', 'Sunday'])\n",
    "\n",
    "df.head()"
   ]
  },
  {
   "cell_type": "code",
   "execution_count": 25,
   "metadata": {},
   "outputs": [
    {
     "name": "stdout",
     "output_type": "stream",
     "text": [
      "hour\n",
      "0       6\n",
      "3       2\n",
      "5      15\n",
      "6       3\n",
      "7      31\n",
      "8      37\n",
      "9      30\n",
      "10    131\n",
      "11     88\n",
      "12     79\n",
      "13     72\n",
      "14    121\n",
      "15    140\n",
      "16    170\n",
      "17    192\n",
      "18    167\n",
      "19    214\n",
      "20    183\n",
      "21    292\n",
      "22     45\n",
      "23     15\n",
      "hour\n",
      "0       6\n",
      "1       6\n",
      "3       1\n",
      "5       2\n",
      "7      16\n",
      "8      28\n",
      "9      21\n",
      "10     27\n",
      "11    118\n",
      "12     57\n",
      "13    108\n",
      "14     86\n",
      "15    114\n",
      "16     74\n",
      "17     49\n",
      "18     61\n",
      "19    103\n",
      "20    116\n",
      "21     72\n",
      "22     59\n",
      "23     32\n"
     ]
    }
   ],
   "source": [
    "working_days = df[df['is_weekend'] == False]['hour'].value_counts().sort_index()\n",
    "weekends = df[df['is_weekend'] == True]['hour'].value_counts().sort_index()\n",
    "\n",
    "print(working_days.to_string())\n",
    "print(weekends.to_string())"
   ]
  },
  {
   "cell_type": "code",
   "execution_count": 26,
   "metadata": {},
   "outputs": [
    {
     "name": "stdout",
     "output_type": "stream",
     "text": [
      "[np.int64(6), 0, 0, np.int64(2), 0, np.int64(15), np.int64(3), np.int64(31), np.int64(37), np.int64(30), np.int64(131), np.int64(88), np.int64(79), np.int64(72), np.int64(121), np.int64(140), np.int64(170), np.int64(192), np.int64(167), np.int64(214), np.int64(183), np.int64(292), np.int64(45), np.int64(15)]\n",
      "[np.int64(6), np.int64(6), 0, np.int64(1), 0, np.int64(2), 0, np.int64(16), np.int64(28), np.int64(21), np.int64(27), np.int64(118), np.int64(57), np.int64(108), np.int64(86), np.int64(114), np.int64(74), np.int64(49), np.int64(61), np.int64(103), np.int64(116), np.int64(72), np.int64(59), np.int64(32)]\n"
     ]
    }
   ],
   "source": [
    "working_days_list = [working_days.get(hour, 0) for hour in range(24)]\n",
    "weekends_list = [weekends.get(hour, 0) for hour in range(24)]\n",
    "\n",
    "print(working_days_list)\n",
    "print(weekends_list)"
   ]
  },
  {
   "cell_type": "markdown",
   "metadata": {},
   "source": [
    "#### 4. Потсроение гистограмы"
   ]
  },
  {
   "cell_type": "code",
   "execution_count": 27,
   "metadata": {},
   "outputs": [
    {
     "data": {
      "image/png": "[encoded data removed]",
      "text/plain": [
       "<Figure size 1500x800 with 1 Axes>"
      ]
     },
     "metadata": {},
     "output_type": "display_data"
    }
   ],
   "source": [
    "plt.rcParams['font.size'] = 8\n",
    "plt.figure(figsize=(15, 8))\n",
    "\n",
    "plt.bar(range(24), working_days_list, label='Working Days', color='blue', alpha=0.3)\n",
    "plt.bar(range(24), weekends_list, label='Weekends', color='orange', alpha=0.5)\n",
    "\n",
    "plt.title('Working Days vs Weekends')\n",
    "plt.xlabel('Hour of the Day')\n",
    "plt.ylabel('Number of Commits')\n",
    "\n",
    "plt.legend()\n",
    "\n",
    "plt.show()"
   ]
  },
  {
   "cell_type": "markdown",
   "metadata": {},
   "source": [
    "#### 5. Отвечаем на допы:\n",
    "\n",
    "* “Are there hours when the total number of commits was higher on weekends than\n",
    "on working days?”"
   ]
  },
  {
   "cell_type": "code",
   "execution_count": 28,
   "metadata": {},
   "outputs": [
    {
     "name": "stdout",
     "output_type": "stream",
     "text": [
      "The answer is:\n",
      "Hour 13: 36 more commits on weekends\n",
      "Hour 11: 30 more commits on weekends\n",
      "Hour 23: 17 more commits on weekends\n",
      "Hour 22: 14 more commits on weekends\n"
     ]
    }
   ],
   "source": [
    "comparison = pd.Series(weekends_list) - pd.Series(working_days_list)\n",
    "\n",
    "higher_on_weekends = comparison[comparison > 0].sort_values(ascending=False)\n",
    "\n",
    "top_4_hours = higher_on_weekends.head(4)\n",
    "print(\"The answer is:\")\n",
    "for hour, diff in top_4_hours.items():\n",
    "    print(f\"Hour {hour}: {diff} more commits on weekends\")"
   ]
  },
  {
   "cell_type": "code",
   "execution_count": 29,
   "metadata": {},
   "outputs": [],
   "source": [
    "conn.close()"
   ]
  }
 ],
 "metadata": {
  "kernelspec": {
   "display_name": "Python 3",
   "language": "python",
   "name": "python3"
  },
  "language_info": {
   "codemirror_mode": {
    "name": "ipython",
    "version": 3
   },
   "file_extension": ".py",
   "mimetype": "text/x-python",
   "name": "python",
   "nbconvert_exporter": "python",
   "pygments_lexer": "ipython3",
   "version": "3.12.4"
  }
 },
 "nbformat": 4,
 "nbformat_minor": 2
}
