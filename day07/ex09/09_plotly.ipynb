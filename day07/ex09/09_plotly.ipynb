{
 "cells": [
  {
   "cell_type": "markdown",
   "metadata": {},
   "source": [
    "## Plotly\n",
    "\n",
    "* Мы создадим анимационный график с использованием plotly."
   ]
  },
  {
   "cell_type": "markdown",
   "metadata": {},
   "source": [
    "#### 1. Подключаемся к базе"
   ]
  },
  {
   "cell_type": "code",
   "execution_count": 33,
   "metadata": {},
   "outputs": [],
   "source": [
    "import pandas as pd\n",
    "import sqlite3\n",
    "import plotly.express as px\n",
    "import plotly.graph_objects as go\n",
    "\n",
    "conn = sqlite3.connect('../data/checking-logs.sqlite')"
   ]
  },
  {
   "cell_type": "markdown",
   "metadata": {},
   "source": [
    "#### 2. Загрузка данных "
   ]
  },
  {
   "cell_type": "code",
   "execution_count": 34,
   "metadata": {},
   "outputs": [
    {
     "data": {
      "text/html": [
       "<div>\n",
       "<style scoped>\n",
       "    .dataframe tbody tr th:only-of-type {\n",
       "        vertical-align: middle;\n",
       "    }\n",
       "\n",
       "    .dataframe tbody tr th {\n",
       "        vertical-align: top;\n",
       "    }\n",
       "\n",
       "    .dataframe thead th {\n",
       "        text-align: right;\n",
       "    }\n",
       "</style>\n",
       "<table border=\"1\" class=\"dataframe\">\n",
       "  <thead>\n",
       "    <tr style=\"text-align: right;\">\n",
       "      <th></th>\n",
       "      <th>uid</th>\n",
       "      <th>timestamp</th>\n",
       "    </tr>\n",
       "  </thead>\n",
       "  <tbody>\n",
       "    <tr>\n",
       "      <th>0</th>\n",
       "      <td>admin_1</td>\n",
       "      <td>2020-04-16 21:12:50.740474</td>\n",
       "    </tr>\n",
       "    <tr>\n",
       "      <th>1</th>\n",
       "      <td>admin_1</td>\n",
       "      <td>2020-04-16 21:12:54.708365</td>\n",
       "    </tr>\n",
       "    <tr>\n",
       "      <th>2</th>\n",
       "      <td>admin_1</td>\n",
       "      <td>2020-04-16 21:46:47.769088</td>\n",
       "    </tr>\n",
       "    <tr>\n",
       "      <th>3</th>\n",
       "      <td>admin_1</td>\n",
       "      <td>2020-04-16 21:46:48.121217</td>\n",
       "    </tr>\n",
       "    <tr>\n",
       "      <th>4</th>\n",
       "      <td>admin_1</td>\n",
       "      <td>2020-04-16 21:53:01.862637</td>\n",
       "    </tr>\n",
       "  </tbody>\n",
       "</table>\n",
       "</div>"
      ],
      "text/plain": [
       "       uid                  timestamp\n",
       "0  admin_1 2020-04-16 21:12:50.740474\n",
       "1  admin_1 2020-04-16 21:12:54.708365\n",
       "2  admin_1 2020-04-16 21:46:47.769088\n",
       "3  admin_1 2020-04-16 21:46:48.121217\n",
       "4  admin_1 2020-04-16 21:53:01.862637"
      ]
     },
     "execution_count": 34,
     "metadata": {},
     "output_type": "execute_result"
    }
   ],
   "source": [
    "query = \"\"\"\n",
    "SELECT uid, timestamp\n",
    "FROM checker;\n",
    "\"\"\"\n",
    "df = pd.read_sql(query, conn)\n",
    "\n",
    "df[\"timestamp\"] = pd.to_datetime(df[\"timestamp\"])\n",
    "\n",
    "df.head()"
   ]
  },
  {
   "cell_type": "markdown",
   "metadata": {},
   "source": [
    "#### 3. Обработка данных"
   ]
  },
  {
   "cell_type": "code",
   "execution_count": 35,
   "metadata": {},
   "outputs": [
    {
     "data": {
      "text/html": [
       "<div>\n",
       "<style scoped>\n",
       "    .dataframe tbody tr th:only-of-type {\n",
       "        vertical-align: middle;\n",
       "    }\n",
       "\n",
       "    .dataframe tbody tr th {\n",
       "        vertical-align: top;\n",
       "    }\n",
       "\n",
       "    .dataframe thead th {\n",
       "        text-align: right;\n",
       "    }\n",
       "</style>\n",
       "<table border=\"1\" class=\"dataframe\">\n",
       "  <thead>\n",
       "    <tr style=\"text-align: right;\">\n",
       "      <th></th>\n",
       "      <th>date</th>\n",
       "      <th>uid</th>\n",
       "      <th>commits</th>\n",
       "      <th>cumulative_commits</th>\n",
       "    </tr>\n",
       "  </thead>\n",
       "  <tbody>\n",
       "    <tr>\n",
       "      <th>0</th>\n",
       "      <td>2020-04-17</td>\n",
       "      <td>user_4</td>\n",
       "      <td>23</td>\n",
       "      <td>23</td>\n",
       "    </tr>\n",
       "    <tr>\n",
       "      <th>1</th>\n",
       "      <td>2020-04-18</td>\n",
       "      <td>user_12</td>\n",
       "      <td>7</td>\n",
       "      <td>7</td>\n",
       "    </tr>\n",
       "    <tr>\n",
       "      <th>2</th>\n",
       "      <td>2020-04-18</td>\n",
       "      <td>user_14</td>\n",
       "      <td>42</td>\n",
       "      <td>42</td>\n",
       "    </tr>\n",
       "    <tr>\n",
       "      <th>3</th>\n",
       "      <td>2020-04-18</td>\n",
       "      <td>user_17</td>\n",
       "      <td>1</td>\n",
       "      <td>1</td>\n",
       "    </tr>\n",
       "    <tr>\n",
       "      <th>4</th>\n",
       "      <td>2020-04-18</td>\n",
       "      <td>user_2</td>\n",
       "      <td>16</td>\n",
       "      <td>16</td>\n",
       "    </tr>\n",
       "  </tbody>\n",
       "</table>\n",
       "</div>"
      ],
      "text/plain": [
       "         date      uid  commits  cumulative_commits\n",
       "0  2020-04-17   user_4       23                  23\n",
       "1  2020-04-18  user_12        7                   7\n",
       "2  2020-04-18  user_14       42                  42\n",
       "3  2020-04-18  user_17        1                   1\n",
       "4  2020-04-18   user_2       16                  16"
      ]
     },
     "execution_count": 35,
     "metadata": {},
     "output_type": "execute_result"
    }
   ],
   "source": [
    "df = df.dropna(subset=['uid'])\n",
    "\n",
    "df = df[df[\"uid\"].str.startswith(\"user\")]\n",
    "\n",
    "df[\"date\"] = df[\"timestamp\"].dt.date\n",
    "\n",
    "df_grouped = df.groupby([\"date\", \"uid\"]).size().reset_index(name=\"commits\")\n",
    "\n",
    "df_grouped[\"cumulative_commits\"] = df_grouped.groupby(\"uid\")[\"commits\"].cumsum()\n",
    "\n",
    "df_grouped.head()"
   ]
  },
  {
   "cell_type": "markdown",
   "metadata": {},
   "source": [
    "#### 4. Построение графика"
   ]
  },
  {
   "cell_type": "code",
   "execution_count": 36,
   "metadata": {},
   "outputs": [
    {
     "data": {
      "application/vnd.plotly.v1+json": {
       "config": {
        "plotlyServerURL": "https://plot.ly"
       },
       "data": [
        {
         "line": {
          "width": 2
         },
         "mode": "lines",
         "name": "user_4",
         "type": "scatter",
         "x": [
          "2020-04-17",
          "2020-04-19",
          "2020-04-23",
          "2020-04-24",
          "2020-04-26",
          "2020-04-29",
          "2020-05-03",
          "2020-05-04",
          "2020-05-05",
          "2020-05-07",
          "2020-05-08",
          "2020-05-10",
          "2020-05-11",
          "2020-05-12",
          "2020-05-13",
          "2020-05-14",
          "2020-05-17",
          "2020-05-18"
         ],
         "y": {
          "bdata": "FwAfADEAPwBBAEoAYAB6AIQAqADAAMIAygAWAS4BZAFvAXAB",
          "dtype": "i2"
         }
        },
        {
         "line": {
          "width": 2
         },
         "mode": "lines",
         "name": "user_12",
         "type": "scatter",
         "x": [
          "2020-04-18",
          "2020-04-26",
          "2020-04-27",
          "2020-05-03",
          "2020-05-14",
          "2020-05-19"
         ],
         "y": {
          "bdata": "BxIUVVxd",
          "dtype": "i1"
         }
        },
        {
         "line": {
          "width": 2
         },
         "mode": "lines",
         "name": "user_14",
         "type": "scatter",
         "x": [
          "2020-04-18",
          "2020-04-19",
          "2020-04-26",
          "2020-04-30",
          "2020-05-02",
          "2020-05-03",
          "2020-05-04",
          "2020-05-05",
          "2020-05-09",
          "2020-05-10",
          "2020-05-11",
          "2020-05-12",
          "2020-05-14"
         ],
         "y": {
          "bdata": "KgAwADIAMwA2ADoAPAA9AF8AbQCdAPMAAwE=",
          "dtype": "i2"
         }
        },
        {
         "line": {
          "width": 2
         },
         "mode": "lines",
         "name": "user_17",
         "type": "scatter",
         "x": [
          "2020-04-18",
          "2020-04-23",
          "2020-04-25",
          "2020-05-02",
          "2020-05-04",
          "2020-05-11",
          "2020-05-12",
          "2020-05-13",
          "2020-05-14",
          "2020-05-21"
         ],
         "y": {
          "bdata": "AQQTIykrLzA0Pg==",
          "dtype": "i1"
         }
        },
        {
         "line": {
          "width": 2
         },
         "mode": "lines",
         "name": "user_2",
         "type": "scatter",
         "x": [
          "2020-04-18",
          "2020-04-19",
          "2020-05-02",
          "2020-05-03",
          "2020-05-05",
          "2020-05-06",
          "2020-05-10",
          "2020-05-11",
          "2020-05-12",
          "2020-05-13",
          "2020-05-14",
          "2020-05-19"
         ],
         "y": {
          "bdata": "EAASACEAJACVAJcAnwC3AL8A3QDhAOsA",
          "dtype": "i2"
         }
        },
        {
         "line": {
          "width": 2
         },
         "mode": "lines",
         "name": "user_30",
         "type": "scatter",
         "x": [
          "2020-04-18",
          "2020-04-22",
          "2020-04-23",
          "2020-05-01",
          "2020-05-02",
          "2020-05-03",
          "2020-05-04",
          "2020-05-07",
          "2020-05-10",
          "2020-05-14",
          "2020-05-19"
         ],
         "y": {
          "bdata": "AgMFCBwlJzVBRUg=",
          "dtype": "i1"
         }
        },
        {
         "line": {
          "width": 2
         },
         "mode": "lines",
         "name": "user_8",
         "type": "scatter",
         "x": [
          "2020-04-18",
          "2020-04-19",
          "2020-04-25",
          "2020-04-26",
          "2020-05-02",
          "2020-05-03",
          "2020-05-10",
          "2020-05-14",
          "2020-05-16"
         ],
         "y": {
          "bdata": "AQ4QFj1ARFNX",
          "dtype": "i1"
         }
        },
        {
         "line": {
          "width": 2
         },
         "mode": "lines",
         "name": "user_29",
         "type": "scatter",
         "x": [
          "2020-04-19",
          "2020-04-26",
          "2020-04-30",
          "2020-05-01",
          "2020-05-02",
          "2020-05-10",
          "2020-05-11",
          "2020-05-12",
          "2020-05-13",
          "2020-05-14",
          "2020-05-17"
         ],
         "y": {
          "bdata": "BA4lJigqM01tb3k=",
          "dtype": "i1"
         }
        },
        {
         "line": {
          "width": 2
         },
         "mode": "lines",
         "name": "user_0",
         "type": "scatter",
         "x": [
          "2020-04-20"
         ],
         "y": {
          "bdata": "Aw==",
          "dtype": "i1"
         }
        },
        {
         "line": {
          "width": 2
         },
         "mode": "lines",
         "name": "user_16",
         "type": "scatter",
         "x": [
          "2020-04-20",
          "2020-04-26",
          "2020-05-12",
          "2020-05-14",
          "2020-05-17"
         ],
         "y": {
          "bdata": "ChQZJzw=",
          "dtype": "i1"
         }
        },
        {
         "line": {
          "width": 2
         },
         "mode": "lines",
         "name": "user_19",
         "type": "scatter",
         "x": [
          "2020-04-20",
          "2020-04-21",
          "2020-04-23",
          "2020-04-24",
          "2020-04-25",
          "2020-04-26",
          "2020-05-02",
          "2020-05-03",
          "2020-05-14",
          "2020-05-15",
          "2020-05-19",
          "2020-05-21"
         ],
         "y": {
          "bdata": "BwAPABsAHQAtAFkAXgBlAJYAngCfALAA",
          "dtype": "i2"
         }
        },
        {
         "line": {
          "width": 2
         },
         "mode": "lines",
         "name": "user_22",
         "type": "scatter",
         "x": [
          "2020-04-20",
          "2020-04-28",
          "2020-05-03",
          "2020-05-14",
          "2020-05-19"
         ],
         "y": {
          "bdata": "AgMEBgg=",
          "dtype": "i1"
         }
        },
        {
         "line": {
          "width": 2
         },
         "mode": "lines",
         "name": "user_25",
         "type": "scatter",
         "x": [
          "2020-04-20",
          "2020-04-21",
          "2020-04-25",
          "2020-04-26",
          "2020-04-27",
          "2020-05-01",
          "2020-05-03",
          "2020-05-08",
          "2020-05-09",
          "2020-05-10",
          "2020-05-11",
          "2020-05-12",
          "2020-05-13",
          "2020-05-14",
          "2020-05-18",
          "2020-05-20"
         ],
         "y": {
          "bdata": "AwAFABsAPgBAAEEARABNAHkAfwCHALEAtwDfAOAA6QA=",
          "dtype": "i2"
         }
        },
        {
         "line": {
          "width": 2
         },
         "mode": "lines",
         "name": "user_21",
         "type": "scatter",
         "x": [
          "2020-04-21",
          "2020-04-22",
          "2020-04-26",
          "2020-05-02",
          "2020-05-03",
          "2020-05-10",
          "2020-05-14",
          "2020-05-19"
         ],
         "y": {
          "bdata": "DyQsP0FOUlM=",
          "dtype": "i1"
         }
        },
        {
         "line": {
          "width": 2
         },
         "mode": "lines",
         "name": "user_10",
         "type": "scatter",
         "x": [
          "2020-04-22",
          "2020-04-25",
          "2020-04-30",
          "2020-05-01",
          "2020-05-10",
          "2020-05-12",
          "2020-05-13",
          "2020-05-14",
          "2020-05-19",
          "2020-05-20"
         ],
         "y": {
          "bdata": "AgAGAAgACQALABgANAB/AIIAiQA=",
          "dtype": "i2"
         }
        },
        {
         "line": {
          "width": 2
         },
         "mode": "lines",
         "name": "user_24",
         "type": "scatter",
         "x": [
          "2020-04-22",
          "2020-04-23",
          "2020-04-25",
          "2020-05-02",
          "2020-05-03",
          "2020-05-05",
          "2020-05-13",
          "2020-05-14"
         ],
         "y": {
          "bdata": "AQUGFhclNmg=",
          "dtype": "i1"
         }
        },
        {
         "line": {
          "width": 2
         },
         "mode": "lines",
         "name": "user_28",
         "type": "scatter",
         "x": [
          "2020-04-22",
          "2020-04-25",
          "2020-04-26",
          "2020-04-28",
          "2020-05-01",
          "2020-05-03",
          "2020-05-10",
          "2020-05-12",
          "2020-05-13",
          "2020-05-14",
          "2020-05-15",
          "2020-05-17",
          "2020-05-20"
         ],
         "y": {
          "bdata": "Aw8oLDEzNThcaGptcg==",
          "dtype": "i1"
         }
        },
        {
         "line": {
          "width": 2
         },
         "mode": "lines",
         "name": "user_3",
         "type": "scatter",
         "x": [
          "2020-04-23",
          "2020-04-26",
          "2020-05-01",
          "2020-05-02",
          "2020-05-03",
          "2020-05-07",
          "2020-05-08",
          "2020-05-09",
          "2020-05-10",
          "2020-05-11",
          "2020-05-12",
          "2020-05-14",
          "2020-05-17",
          "2020-05-19"
         ],
         "y": {
          "bdata": "AgAEAAkACgALAAwAQgBEAEgAdgB6AH4AfwCGAA==",
          "dtype": "i2"
         }
        },
        {
         "line": {
          "width": 2
         },
         "mode": "lines",
         "name": "user_31",
         "type": "scatter",
         "x": [
          "2020-04-23",
          "2020-05-01",
          "2020-05-02",
          "2020-05-03",
          "2020-05-04",
          "2020-05-07",
          "2020-05-09",
          "2020-05-11",
          "2020-05-14",
          "2020-05-17"
         ],
         "y": {
          "bdata": "AgAlAHkAfwCAAIEAhwCLAI8AkAA=",
          "dtype": "i2"
         }
        },
        {
         "line": {
          "width": 2
         },
         "mode": "lines",
         "name": "user_13",
         "type": "scatter",
         "x": [
          "2020-04-25",
          "2020-04-26",
          "2020-05-02",
          "2020-05-11",
          "2020-05-12",
          "2020-05-14",
          "2020-05-19"
         ],
         "y": {
          "bdata": "CyIzNm5ycw==",
          "dtype": "i1"
         }
        },
        {
         "line": {
          "width": 2
         },
         "mode": "lines",
         "name": "user_15",
         "type": "scatter",
         "x": [
          "2020-04-25",
          "2020-04-26",
          "2020-05-02",
          "2020-05-03",
          "2020-05-10",
          "2020-05-14"
         ],
         "y": {
          "bdata": "Ag0PFhgd",
          "dtype": "i1"
         }
        },
        {
         "line": {
          "width": 2
         },
         "mode": "lines",
         "name": "user_20",
         "type": "scatter",
         "x": [
          "2020-04-25",
          "2020-04-26",
          "2020-04-27",
          "2020-04-29",
          "2020-04-30",
          "2020-05-01",
          "2020-05-03",
          "2020-05-10",
          "2020-05-11",
          "2020-05-14"
         ],
         "y": {
          "bdata": "AwAWABgAIAAqADEANwA6AE8ApQA=",
          "dtype": "i2"
         }
        },
        {
         "line": {
          "width": 2
         },
         "mode": "lines",
         "name": "user_26",
         "type": "scatter",
         "x": [
          "2020-04-25",
          "2020-04-30",
          "2020-05-01",
          "2020-05-02",
          "2020-05-05",
          "2020-05-10",
          "2020-05-13",
          "2020-05-14"
         ],
         "y": {
          "bdata": "DwAgACIAIwAkAGkAiwCtAA==",
          "dtype": "i2"
         }
        },
        {
         "line": {
          "width": 2
         },
         "mode": "lines",
         "name": "user_6",
         "type": "scatter",
         "x": [
          "2020-04-25",
          "2020-04-26",
          "2020-05-02",
          "2020-05-13",
          "2020-05-14",
          "2020-05-18",
          "2020-05-20"
         ],
         "y": {
          "bdata": "AQoLDA4PEg==",
          "dtype": "i1"
         }
        },
        {
         "line": {
          "width": 2
         },
         "mode": "lines",
         "name": "user_1",
         "type": "scatter",
         "x": [
          "2020-04-26",
          "2020-05-02",
          "2020-05-03",
          "2020-05-14",
          "2020-05-17",
          "2020-05-20",
          "2020-05-21"
         ],
         "y": {
          "bdata": "FhcrQkNEVA==",
          "dtype": "i1"
         }
        },
        {
         "line": {
          "width": 2
         },
         "mode": "lines",
         "name": "user_18",
         "type": "scatter",
         "x": [
          "2020-04-26",
          "2020-05-03",
          "2020-05-11",
          "2020-05-13",
          "2020-05-14"
         ],
         "y": {
          "bdata": "BAUSFEI=",
          "dtype": "i1"
         }
        },
        {
         "line": {
          "width": 2
         },
         "mode": "lines",
         "name": "user_27",
         "type": "scatter",
         "x": [
          "2020-04-26",
          "2020-05-03",
          "2020-05-14"
         ],
         "y": {
          "bdata": "Ehsq",
          "dtype": "i1"
         }
        },
        {
         "line": {
          "width": 2
         },
         "mode": "lines",
         "name": "user_11",
         "type": "scatter",
         "x": [
          "2020-05-03"
         ],
         "y": {
          "bdata": "CA==",
          "dtype": "i1"
         }
        },
        {
         "line": {
          "width": 2
         },
         "mode": "lines",
         "name": "user_7",
         "type": "scatter",
         "x": [
          "2020-05-19",
          "2020-05-20"
         ],
         "y": {
          "bdata": "BQg=",
          "dtype": "i1"
         }
        },
        {
         "line": {
          "width": 2
         },
         "mode": "lines",
         "name": "user_23",
         "type": "scatter",
         "x": [
          "2020-05-21"
         ],
         "y": {
          "bdata": "Bg==",
          "dtype": "i1"
         }
        }
       ],
       "frames": [
        {
         "data": [
          {
           "line": {
            "width": 2
           },
           "marker": {
            "size": 6
           },
           "mode": "lines+markers",
           "name": "user_4",
           "type": "scatter",
           "x": [
            "2020-04-17"
           ],
           "y": {
            "bdata": "Fw==",
            "dtype": "i1"
           }
          },
          {
           "line": {
            "width": 2
           },
           "marker": {
            "size": 6
           },
           "mode": "lines+markers",
           "name": "user_12",
           "type": "scatter",
           "x": [],
           "y": []
          },
          {
           "line": {
            "width": 2
           },
           "marker": {
            "size": 6
           },
           "mode": "lines+markers",
           "name": "user_14",
           "type": "scatter",
           "x": [],
           "y": []
          },
          {
           "line": {
            "width": 2
           },
           "marker": {
            "size": 6
           },
           "mode": "lines+markers",
           "name": "user_17",
           "type": "scatter",
           "x": [],
           "y": []
          },
          {
           "line": {
            "width": 2
           },
           "marker": {
            "size": 6
           },
           "mode": "lines+markers",
           "name": "user_2",
           "type": "scatter",
           "x": [],
           "y": []
          },
          {
           "line": {
            "width": 2
           },
           "marker": {
            "size": 6
           },
           "mode": "lines+markers",
           "name": "user_30",
           "type": "scatter",
           "x": [],
           "y": []
          },
          {
           "line": {
            "width": 2
           },
           "marker": {
            "size": 6
           },
           "mode": "lines+markers",
           "name": "user_8",
           "type": "scatter",
           "x": [],
           "y": []
          },
          {
           "line": {
            "width": 2
           },
           "marker": {
            "size": 6
           },
           "mode": "lines+markers",
           "name": "user_29",
           "type": "scatter",
           "x": [],
           "y": []
          },
          {
           "line": {
            "width": 2
           },
           "marker": {
            "size": 6
           },
           "mode": "lines+markers",
           "name": "user_0",
           "type": "scatter",
           "x": [],
           "y": []
          },
          {
           "line": {
            "width": 2
           },
           "marker": {
            "size": 6
           },
           "mode": "lines+markers",
           "name": "user_16",
           "type": "scatter",
           "x": [],
           "y": []
          },
          {
           "line": {
            "width": 2
           },
           "marker": {
            "size": 6
           },
           "mode": "lines+markers",
           "name": "user_19",
           "type": "scatter",
           "x": [],
           "y": []
          },
          {
           "line": {
            "width": 2
           },
           "marker": {
            "size": 6
           },
           "mode": "lines+markers",
           "name": "user_22",
           "type": "scatter",
           "x": [],
           "y": []
          },
          {
           "line": {
            "width": 2
           },
           "marker": {
            "size": 6
           },
           "mode": "lines+markers",
           "name": "user_25",
           "type": "scatter",
           "x": [],
           "y": []
          },
          {
           "line": {
            "width": 2
           },
           "marker": {
            "size": 6
           },
           "mode": "lines+markers",
           "name": "user_21",
           "type": "scatter",
           "x": [],
           "y": []
          },
          {
           "line": {
            "width": 2
           },
           "marker": {
            "size": 6
           },
           "mode": "lines+markers",
           "name": "user_10",
           "type": "scatter",
           "x": [],
           "y": []
          },
          {
           "line": {
            "width": 2
           },
           "marker": {
            "size": 6
           },
           "mode": "lines+markers",
           "name": "user_24",
           "type": "scatter",
           "x": [],
           "y": []
          },
          {
           "line": {
            "width": 2
           },
           "marker": {
            "size": 6
           },
           "mode": "lines+markers",
           "name": "user_28",
           "type": "scatter",
           "x": [],
           "y": []
          },
          {
           "line": {
            "width": 2
           },
           "marker": {
            "size": 6
           },
           "mode": "lines+markers",
           "name": "user_3",
           "type": "scatter",
           "x": [],
           "y": []
          },
          {
           "line": {
            "width": 2
           },
           "marker": {
            "size": 6
           },
           "mode": "lines+markers",
           "name": "user_31",
           "type": "scatter",
           "x": [],
           "y": []
          },
          {
           "line": {
            "width": 2
           },
           "marker": {
            "size": 6
           },
           "mode": "lines+markers",
           "name": "user_13",
           "type": "scatter",
           "x": [],
           "y": []
          },
          {
           "line": {
            "width": 2
           },
           "marker": {
            "size": 6
           },
           "mode": "lines+markers",
           "name": "user_15",
           "type": "scatter",
           "x": [],
           "y": []
          },
          {
           "line": {
            "width": 2
           },
           "marker": {
            "size": 6
           },
           "mode": "lines+markers",
           "name": "user_20",
           "type": "scatter",
           "x": [],
           "y": []
          },
          {
           "line": {
            "width": 2
           },
           "marker": {
            "size": 6
           },
           "mode": "lines+markers",
           "name": "user_26",
           "type": "scatter",
           "x": [],
           "y": []
          },
          {
           "line": {
            "width": 2
           },
           "marker": {
            "size": 6
           },
           "mode": "lines+markers",
           "name": "user_6",
           "type": "scatter",
           "x": [],
           "y": []
          },
          {
           "line": {
            "width": 2
           },
           "marker": {
            "size": 6
           },
           "mode": "lines+markers",
           "name": "user_1",
           "type": "scatter",
           "x": [],
           "y": []
          },
          {
           "line": {
            "width": 2
           },
           "marker": {
            "size": 6
           },
           "mode": "lines+markers",
           "name": "user_18",
           "type": "scatter",
           "x": [],
           "y": []
          },
          {
           "line": {
            "width": 2
           },
           "marker": {
            "size": 6
           },
           "mode": "lines+markers",
           "name": "user_27",
           "type": "scatter",
           "x": [],
           "y": []
          },
          {
           "line": {
            "width": 2
           },
           "marker": {
            "size": 6
           },
           "mode": "lines+markers",
           "name": "user_11",
           "type": "scatter",
           "x": [],
           "y": []
          },
          {
           "line": {
            "width": 2
           },
           "marker": {
            "size": 6
           },
           "mode": "lines+markers",
           "name": "user_7",
           "type": "scatter",
           "x": [],
           "y": []
          },
          {
           "line": {
            "width": 2
           },
           "marker": {
            "size": 6
           },
           "mode": "lines+markers",
           "name": "user_23",
           "type": "scatter",
           "x": [],
           "y": []
          }
         ],
         "name": "2020-04-17"
        },
        {
         "data": [
          {
           "line": {
            "width": 2
           },
           "marker": {
            "size": 6
           },
           "mode": "lines+markers",
           "name": "user_4",
           "type": "scatter",
           "x": [
            "2020-04-17"
           ],
           "y": {
            "bdata": "Fw==",
            "dtype": "i1"
           }
          },
          {
           "line": {
            "width": 2
           },
           "marker": {
            "size": 6
           },
           "mode": "lines+markers",
           "name": "user_12",
           "type": "scatter",
           "x": [
            "2020-04-18"
           ],
           "y": {
            "bdata": "Bw==",
            "dtype": "i1"
           }
          },
          {
           "line": {
            "width": 2
           },
           "marker": {
            "size": 6
           },
           "mode": "lines+markers",
           "name": "user_14",
           "type": "scatter",
           "x": [
            "2020-04-18"
           ],
           "y": {
            "bdata": "Kg==",
            "dtype": "i1"
           }
          },
          {
           "line": {
            "width": 2
           },
           "marker": {
            "size": 6
           },
           "mode": "lines+markers",
           "name": "user_17",
           "type": "scatter",
           "x": [
            "2020-04-18"
           ],
           "y": {
            "bdata": "AQ==",
            "dtype": "i1"
           }
          },
          {
           "line": {
            "width": 2
           },
           "marker": {
            "size": 6
           },
           "mode": "lines+markers",
           "name": "user_2",
           "type": "scatter",
           "x": [
            "2020-04-18"
           ],
           "y": {
            "bdata": "EA==",
            "dtype": "i1"
           }
          },
          {
           "line": {
            "width": 2
           },
           "marker": {
            "size": 6
           },
           "mode": "lines+markers",
           "name": "user_30",
           "type": "scatter",
           "x": [
            "2020-04-18"
           ],
           "y": {
            "bdata": "Ag==",
            "dtype": "i1"
           }
          },
          {
           "line": {
            "width": 2
           },
           "marker": {
            "size": 6
           },
           "mode": "lines+markers",
           "name": "user_8",
           "type": "scatter",
           "x": [
            "2020-04-18"
           ],
           "y": {
            "bdata": "AQ==",
            "dtype": "i1"
           }
          },
          {
           "line": {
            "width": 2
           },
           "marker": {
            "size": 6
           },
           "mode": "lines+markers",
           "name": "user_29",
           "type": "scatter",
           "x": [],
           "y": []
          },
          {
           "line": {
            "width": 2
           },
           "marker": {
            "size": 6
           },
           "mode": "lines+markers",
           "name": "user_0",
           "type": "scatter",
           "x": [],
           "y": []
          },
          {
           "line": {
            "width": 2
           },
           "marker": {
            "size": 6
           },
           "mode": "lines+markers",
           "name": "user_16",
           "type": "scatter",
           "x": [],
           "y": []
          },
          {
           "line": {
            "width": 2
           },
           "marker": {
            "size": 6
           },
           "mode": "lines+markers",
           "name": "user_19",
           "type": "scatter",
           "x": [],
           "y": []
          },
          {
           "line": {
            "width": 2
           },
           "marker": {
            "size": 6
           },
           "mode": "lines+markers",
           "name": "user_22",
           "type": "scatter",
           "x": [],
           "y": []
          },
          {
           "line": {
            "width": 2
           },
           "marker": {
            "size": 6
           },
           "mode": "lines+markers",
           "name": "user_25",
           "type": "scatter",
           "x": [],
           "y": []
          },
          {
           "line": {
            "width": 2
           },
           "marker": {
            "size": 6
           },
           "mode": "lines+markers",
           "name": "user_21",
           "type": "scatter",
           "x": [],
           "y": []
          },
          {
           "line": {
            "width": 2
           },
           "marker": {
            "size": 6
           },
           "mode": "lines+markers",
           "name": "user_10",
           "type": "scatter",
           "x": [],
           "y": []
          },
          {
           "line": {
            "width": 2
           },
           "marker": {
            "size": 6
           },
           "mode": "lines+markers",
           "name": "user_24",
           "type": "scatter",
           "x": [],
           "y": []
          },
          {
           "line": {
            "width": 2
           },
           "marker": {
            "size": 6
           },
           "mode": "lines+markers",
           "name": "user_28",
           "type": "scatter",
           "x": [],
           "y": []
          },
          {
           "line": {
            "width": 2
           },
           "marker": {
            "size": 6
           },
           "mode": "lines+markers",
           "name": "user_3",
           "type": "scatter",
           "x": [],
           "y": []
          },
          {
           "line": {
            "width": 2
           },
           "marker": {
            "size": 6
           },
           "mode": "lines+markers",
           "name": "user_31",
           "type": "scatter",
           "x": [],
           "y": []
          },
          {
           "line": {
            "width": 2
           },
           "marker": {
            "size": 6
           },
           "mode": "lines+markers",
           "name": "user_13",
           "type": "scatter",
           "x": [],
           "y": []
          },
          {
           "line": {
            "width": 2
           },
           "marker": {
            "size": 6
           },
           "mode": "lines+markers",
           "name": "user_15",
           "type": "scatter",
           "x": [],
           "y": []
          },
          {
           "line": {
            "width": 2
           },
           "marker": {
            "size": 6
           },
           "mode": "lines+markers",
           "name": "user_20",
           "type": "scatter",
           "x": [],
           "y": []
          },
          {
           "line": {
            "width": 2
           },
           "marker": {
            "size": 6
           },
           "mode": "lines+markers",
           "name": "user_26",
           "type": "scatter",
           "x": [],
           "y": []
          },
          {
           "line": {
            "width": 2
           },
           "marker": {
            "size": 6
           },
           "mode": "lines+markers",
           "name": "user_6",
           "type": "scatter",
           "x": [],
           "y": []
          },
          {
           "line": {
            "width": 2
           },
           "marker": {
            "size": 6
           },
           "mode": "lines+markers",
           "name": "user_1",
           "type": "scatter",
           "x": [],
           "y": []
          },
          {
           "line": {
            "width": 2
           },
           "marker": {
            "size": 6
           },
           "mode": "lines+markers",
           "name": "user_18",
           "type": "scatter",
           "x": [],
           "y": []
          },
          {
           "line": {
            "width": 2
           },
           "marker": {
            "size": 6
           },
           "mode": "lines+markers",
           "name": "user_27",
           "type": "scatter",
           "x": [],
           "y": []
          },
          {
           "line": {
            "width": 2
           },
           "marker": {
            "size": 6
           },
           "mode": "lines+markers",
           "name": "user_11",
           "type": "scatter",
           "x": [],
           "y": []
          },
          {
           "line": {
            "width": 2
           },
           "marker": {
            "size": 6
           },
           "mode": "lines+markers",
           "name": "user_7",
           "type": "scatter",
           "x": [],
           "y": []
          },
          {
           "line": {
            "width": 2
           },
           "marker": {
            "size": 6
           },
           "mode": "lines+markers",
           "name": "user_23",
           "type": "scatter",
           "x": [],
           "y": []
          }
         ],
         "name": "2020-04-18"
        },
        {
         "data": [
          {
           "line": {
            "width": 2
           },
           "marker": {
            "size": 6
           },
           "mode": "lines+markers",
           "name": "user_4",
           "type": "scatter",
           "x": [
            "2020-04-17",
            "2020-04-19"
           ],
           "y": {
            "bdata": "Fx8=",
            "dtype": "i1"
           }
          },
          {
           "line": {
            "width": 2
           },
           "marker": {
            "size": 6
           },
           "mode": "lines+markers",
           "name": "user_12",
           "type": "scatter",
           "x": [
            "2020-04-18"
           ],
           "y": {
            "bdata": "Bw==",
            "dtype": "i1"
           }
          },
          {
           "line": {
            "width": 2
           },
           "marker": {
            "size": 6
           },
           "mode": "lines+markers",
           "name": "user_14",
           "type": "scatter",
           "x": [
            "2020-04-18",
            "2020-04-19"
           ],
           "y": {
            "bdata": "KjA=",
            "dtype": "i1"
           }
          },
          {
           "line": {
            "width": 2
           },
           "marker": {
            "size": 6
           },
           "mode": "lines+markers",
           "name": "user_17",
           "type": "scatter",
           "x": [
            "2020-04-18"
           ],
           "y": {
            "bdata": "AQ==",
            "dtype": "i1"
           }
          },
          {
           "line": {
            "width": 2
           },
           "marker": {
            "size": 6
           },
           "mode": "lines+markers",
           "name": "user_2",
           "type": "scatter",
           "x": [
            "2020-04-18",
            "2020-04-19"
           ],
           "y": {
            "bdata": "EBI=",
            "dtype": "i1"
           }
          },
          {
           "line": {
            "width": 2
           },
           "marker": {
            "size": 6
           },
           "mode": "lines+markers",
           "name": "user_30",
           "type": "scatter",
           "x": [
            "2020-04-18"
           ],
           "y": {
            "bdata": "Ag==",
            "dtype": "i1"
           }
          },
          {
           "line": {
            "width": 2
           },
           "marker": {
            "size": 6
           },
           "mode": "lines+markers",
           "name": "user_8",
           "type": "scatter",
           "x": [
            "2020-04-18",
            "2020-04-19"
           ],
           "y": {
            "bdata": "AQ4=",
            "dtype": "i1"
           }
          },
          {
           "line": {
            "width": 2
           },
           "marker": {
            "size": 6
           },
           "mode": "lines+markers",
           "name": "user_29",
           "type": "scatter",
           "x": [
            "2020-04-19"
           ],
           "y": {
            "bdata": "BA==",
            "dtype": "i1"
           }
          },
          {
           "line": {
            "width": 2
           },
           "marker": {
            "size": 6
           },
           "mode": "lines+markers",
           "name": "user_0",
           "type": "scatter",
           "x": [],
           "y": []
          },
          {
           "line": {
            "width": 2
           },
           "marker": {
            "size": 6
           },
           "mode": "lines+markers",
           "name": "user_16",
           "type": "scatter",
           "x": [],
           "y": []
          },
          {
           "line": {
            "width": 2
           },
           "marker": {
            "size": 6
           },
           "mode": "lines+markers",
           "name": "user_19",
           "type": "scatter",
           "x": [],
           "y": []
          },
          {
           "line": {
            "width": 2
           },
           "marker": {
            "size": 6
           },
           "mode": "lines+markers",
           "name": "user_22",
           "type": "scatter",
           "x": [],
           "y": []
          },
          {
           "line": {
            "width": 2
           },
           "marker": {
            "size": 6
           },
           "mode": "lines+markers",
           "name": "user_25",
           "type": "scatter",
           "x": [],
           "y": []
          },
          {
           "line": {
            "width": 2
           },
           "marker": {
            "size": 6
           },
           "mode": "lines+markers",
           "name": "user_21",
           "type": "scatter",
           "x": [],
           "y": []
          },
          {
           "line": {
            "width": 2
           },
           "marker": {
            "size": 6
           },
           "mode": "lines+markers",
           "name": "user_10",
           "type": "scatter",
           "x": [],
           "y": []
          },
          {
           "line": {
            "width": 2
           },
           "marker": {
            "size": 6
           },
           "mode": "lines+markers",
           "name": "user_24",
           "type": "scatter",
           "x": [],
           "y": []
          },
          {
           "line": {
            "width": 2
           },
           "marker": {
            "size": 6
           },
           "mode": "lines+markers",
           "name": "user_28",
           "type": "scatter",
           "x": [],
           "y": []
          },
          {
           "line": {
            "width": 2
           },
           "marker": {
            "size": 6
           },
           "mode": "lines+markers",
           "name": "user_3",
           "type": "scatter",
           "x": [],
           "y": []
          },
          {
           "line": {
            "width": 2
           },
           "marker": {
            "size": 6
           },
           "mode": "lines+markers",
           "name": "user_31",
           "type": "scatter",
           "x": [],
           "y": []
          },
          {
           "line": {
            "width": 2
           },
           "marker": {
            "size": 6
           },
           "mode": "lines+markers",
           "name": "user_13",
           "type": "scatter",
           "x": [],
           "y": []
          },
          {
           "line": {
            "width": 2
           },
           "marker": {
            "size": 6
           },
           "mode": "lines+markers",
           "name": "user_15",
           "type": "scatter",
           "x": [],
           "y": []
          },
          {
           "line": {
            "width": 2
           },
           "marker": {
            "size": 6
           },
           "mode": "lines+markers",
           "name": "user_20",
           "type": "scatter",
           "x": [],
           "y": []
          },
          {
           "line": {
            "width": 2
           },
           "marker": {
            "size": 6
           },
           "mode": "lines+markers",
           "name": "user_26",
           "type": "scatter",
           "x": [],
           "y": []
          },
          {
           "line": {
            "width": 2
           },
           "marker": {
            "size": 6
           },
           "mode": "lines+markers",
           "name": "user_6",
           "type": "scatter",
           "x": [],
           "y": []
          },
          {
           "line": {
            "width": 2
           },
           "marker": {
            "size": 6
           },
           "mode": "lines+markers",
           "name": "user_1",
           "type": "scatter",
           "x": [],
           "y": []
          },
          {
           "line": {
            "width": 2
           },
           "marker": {
            "size": 6
           },
           "mode": "lines+markers",
           "name": "user_18",
           "type": "scatter",
           "x": [],
           "y": []
          },
          {
           "line": {
            "width": 2
           },
           "marker": {
            "size": 6
           },
           "mode": "lines+markers",
           "name": "user_27",
           "type": "scatter",
           "x": [],
           "y": []
          },
          {
           "line": {
            "width": 2
           },
           "marker": {
            "size": 6
           },
           "mode": "lines+markers",
           "name": "user_11",
           "type": "scatter",
           "x": [],
           "y": []
          },
          {
           "line": {
            "width": 2
           },
           "marker": {
            "size": 6
           },
           "mode": "lines+markers",
           "name": "user_7",
           "type": "scatter",
           "x": [],
           "y": []
          },
          {
           "line": {
            "width": 2
           },
           "marker": {
            "size": 6
           },
           "mode": "lines+markers",
           "name": "user_23",
           "type": "scatter",
           "x": [],
           "y": []
          }
         ],
         "name": "2020-04-19"
        },
        {
         "data": [
          {
           "line": {
            "width": 2
           },
           "marker": {
            "size": 6
           },
           "mode": "lines+markers",
           "name": "user_4",
           "type": "scatter",
           "x": [
            "2020-04-17",
            "2020-04-19"
           ],
           "y": {
            "bdata": "Fx8=",
            "dtype": "i1"
           }
          },
          {
           "line": {
            "width": 2
           },
           "marker": {
            "size": 6
           },
           "mode": "lines+markers",
           "name": "user_12",
           "type": "scatter",
           "x": [
            "2020-04-18"
           ],
           "y": {
            "bdata": "Bw==",
            "dtype": "i1"
           }
          },
          {
           "line": {
            "width": 2
           },
           "marker": {
            "size": 6
           },
           "mode": "lines+markers",
           "name": "user_14",
           "type": "scatter",
           "x": [
            "2020-04-18",
            "2020-04-19"
           ],
           "y": {
            "bdata": "KjA=",
            "dtype": "i1"
           }
          },
          {
           "line": {
            "width": 2
           },
           "marker": {
            "size": 6
           },
           "mode": "lines+markers",
           "name": "user_17",
           "type": "scatter",
           "x": [
            "2020-04-18"
           ],
           "y": {
            "bdata": "AQ==",
            "dtype": "i1"
           }
          },
          {
           "line": {
            "width": 2
           },
           "marker": {
            "size": 6
           },
           "mode": "lines+markers",
           "name": "user_2",
           "type": "scatter",
           "x": [
            "2020-04-18",
            "2020-04-19"
           ],
           "y": {
            "bdata": "EBI=",
            "dtype": "i1"
           }
          },
          {
           "line": {
            "width": 2
           },
           "marker": {
            "size": 6
           },
           "mode": "lines+markers",
           "name": "user_30",
           "type": "scatter",
           "x": [
            "2020-04-18"
           ],
           "y": {
            "bdata": "Ag==",
            "dtype": "i1"
           }
          },
          {
           "line": {
            "width": 2
           },
           "marker": {
            "size": 6
           },
           "mode": "lines+markers",
           "name": "user_8",
           "type": "scatter",
           "x": [
            "2020-04-18",
            "2020-04-19"
           ],
           "y": {
            "bdata": "AQ4=",
            "dtype": "i1"
           }
          },
          {
           "line": {
            "width": 2
           },
           "marker": {
            "size": 6
           },
           "mode": "lines+markers",
           "name": "user_29",
           "type": "scatter",
           "x": [
            "2020-04-19"
           ],
           "y": {
            "bdata": "BA==",
            "dtype": "i1"
           }
          },
          {
           "line": {
            "width": 2
           },
           "marker": {
            "size": 6
           },
           "mode": "lines+markers",
           "name": "user_0",
           "type": "scatter",
           "x": [
            "2020-04-20"
           ],
           "y": {
            "bdata": "Aw==",
            "dtype": "i1"
           }
          },
          {
           "line": {
            "width": 2
           },
           "marker": {
            "size": 6
           },
           "mode": "lines+markers",
           "name": "user_16",
           "type": "scatter",
           "x": [
            "2020-04-20"
           ],
           "y": {
            "bdata": "Cg==",
            "dtype": "i1"
           }
          },
          {
           "line": {
            "width": 2
           },
           "marker": {
            "size": 6
           },
           "mode": "lines+markers",
           "name": "user_19",
           "type": "scatter",
           "x": [
            "2020-04-20"
           ],
           "y": {
            "bdata": "Bw==",
            "dtype": "i1"
           }
          },
          {
           "line": {
            "width": 2
           },
           "marker": {
            "size": 6
           },
           "mode": "lines+markers",
           "name": "user_22",
           "type": "scatter",
           "x": [
            "2020-04-20"
           ],
           "y": {
            "bdata": "Ag==",
            "dtype": "i1"
           }
          },
          {
           "line": {
            "width": 2
           },
           "marker": {
            "size": 6
           },
           "mode": "lines+markers",
           "name": "user_25",
           "type": "scatter",
           "x": [
            "2020-04-20"
           ],
           "y": {
            "bdata": "Aw==",
            "dtype": "i1"
           }
          },
          {
           "line": {
            "width": 2
           },
           "marker": {
            "size": 6
           },
           "mode": "lines+markers",
           "name": "user_21",
           "type": "scatter",
           "x": [],
           "y": []
          },
          {
           "line": {
            "width": 2
           },
           "marker": {
            "size": 6
           },
           "mode": "lines+markers",
           "name": "user_10",
           "type": "scatter",
           "x": [],
           "y": []
          },
          {
           "line": {
            "width": 2
           },
           "marker": {
            "size": 6
           },
           "mode": "lines+markers",
           "name": "user_24",
           "type": "scatter",
           "x": [],
           "y": []
          },
          {
           "line": {
            "width": 2
           },
           "marker": {
            "size": 6
           },
           "mode": "lines+markers",
           "name": "user_28",
           "type": "scatter",
           "x": [],
           "y": []
          },
          {
           "line": {
            "width": 2
           },
           "marker": {
            "size": 6
           },
           "mode": "lines+markers",
           "name": "user_3",
           "type": "scatter",
           "x": [],
           "y": []
          },
          {
           "line": {
            "width": 2
           },
           "marker": {
            "size": 6
           },
           "mode": "lines+markers",
           "name": "user_31",
           "type": "scatter",
           "x": [],
           "y": []
          },
          {
           "line": {
            "width": 2
           },
           "marker": {
            "size": 6
           },
           "mode": "lines+markers",
           "name": "user_13",
           "type": "scatter",
           "x": [],
           "y": []
          },
          {
           "line": {
            "width": 2
           },
           "marker": {
            "size": 6
           },
           "mode": "lines+markers",
           "name": "user_15",
           "type": "scatter",
           "x": [],
           "y": []
          },
          {
           "line": {
            "width": 2
           },
           "marker": {
            "size": 6
           },
           "mode": "lines+markers",
           "name": "user_20",
           "type": "scatter",
           "x": [],
           "y": []
          },
          {
           "line": {
            "width": 2
           },
           "marker": {
            "size": 6
           },
           "mode": "lines+markers",
           "name": "user_26",
           "type": "scatter",
           "x": [],
           "y": []
          },
          {
           "line": {
            "width": 2
           },
           "marker": {
            "size": 6
           },
           "mode": "lines+markers",
           "name": "user_6",
           "type": "scatter",
           "x": [],
           "y": []
          },
          {
           "line": {
            "width": 2
           },
           "marker": {
            "size": 6
           },
           "mode": "lines+markers",
           "name": "user_1",
           "type": "scatter",
           "x": [],
           "y": []
          },
          {
           "line": {
            "width": 2
           },
           "marker": {
            "size": 6
           },
           "mode": "lines+markers",
           "name": "user_18",
           "type": "scatter",
           "x": [],
           "y": []
          },
          {
           "line": {
            "width": 2
           },
           "marker": {
            "size": 6
           },
           "mode": "lines+markers",
           "name": "user_27",
           "type": "scatter",
           "x": [],
           "y": []
          },
          {
           "line": {
            "width": 2
           },
           "marker": {
            "size": 6
           },
           "mode": "lines+markers",
           "name": "user_11",
           "type": "scatter",
           "x": [],
           "y": []
          },
          {
           "line": {
            "width": 2
           },
           "marker": {
            "size": 6
           },
           "mode": "lines+markers",
           "name": "user_7",
           "type": "scatter",
           "x": [],
           "y": []
          },
          {
           "line": {
            "width": 2
           },
           "marker": {
            "size": 6
           },
           "mode": "lines+markers",
           "name": "user_23",
           "type": "scatter",
           "x": [],
           "y": []
          }
         ],
         "name": "2020-04-20"
        },
        {
         "data": [
          {
           "line": {
            "width": 2
           },
           "marker": {
            "size": 6
           },
           "mode": "lines+markers",
           "name": "user_4",
           "type": "scatter",
           "x": [
            "2020-04-17",
            "2020-04-19"
           ],
           "y": {
            "bdata": "Fx8=",
            "dtype": "i1"
           }
          },
          {
           "line": {
            "width": 2
           },
           "marker": {
            "size": 6
           },
           "mode": "lines+markers",
           "name": "user_12",
           "type": "scatter",
           "x": [
            "2020-04-18"
           ],
           "y": {
            "bdata": "Bw==",
            "dtype": "i1"
           }
          },
          {
           "line": {
            "width": 2
           },
           "marker": {
            "size": 6
           },
           "mode": "lines+markers",
           "name": "user_14",
           "type": "scatter",
           "x": [
            "2020-04-18",
            "2020-04-19"
           ],
           "y": {
            "bdata": "KjA=",
            "dtype": "i1"
           }
          },
          {
           "line": {
            "width": 2
           },
           "marker": {
            "size": 6
           },
           "mode": "lines+markers",
           "name": "user_17",
           "type": "scatter",
           "x": [
            "2020-04-18"
           ],
           "y": {
            "bdata": "AQ==",
            "dtype": "i1"
           }
          },
          {
           "line": {
            "width": 2
           },
           "marker": {
            "size": 6
           },
           "mode": "lines+markers",
           "name": "user_2",
           "type": "scatter",
           "x": [
            "2020-04-18",
            "2020-04-19"
           ],
           "y": {
            "bdata": "EBI=",
            "dtype": "i1"
           }
          },
          {
           "line": {
            "width": 2
           },
           "marker": {
            "size": 6
           },
           "mode": "lines+markers",
           "name": "user_30",
           "type": "scatter",
           "x": [
            "2020-04-18"
           ],
           "y": {
            "bdata": "Ag==",
            "dtype": "i1"
           }
          },
          {
           "line": {
            "width": 2
           },
           "marker": {
            "size": 6
           },
           "mode": "lines+markers",
           "name": "user_8",
           "type": "scatter",
           "x": [
            "2020-04-18",
            "2020-04-19"
           ],
           "y": {
            "bdata": "AQ4=",
            "dtype": "i1"
           }
          },
          {
           "line": {
            "width": 2
           },
           "marker": {
            "size": 6
           },
           "mode": "lines+markers",
           "name": "user_29",
           "type": "scatter",
           "x": [
            "2020-04-19"
           ],
           "y": {
            "bdata": "BA==",
            "dtype": "i1"
           }
          },
          {
           "line": {
            "width": 2
           },
           "marker": {
            "size": 6
           },
           "mode": "lines+markers",
           "name": "user_0",
           "type": "scatter",
           "x": [
            "2020-04-20"
           ],
           "y": {
            "bdata": "Aw==",
            "dtype": "i1"
           }
          },
          {
           "line": {
            "width": 2
           },
           "marker": {
            "size": 6
           },
           "mode": "lines+markers",
           "name": "user_16",
           "type": "scatter",
           "x": [
            "2020-04-20"
           ],
           "y": {
            "bdata": "Cg==",
            "dtype": "i1"
           }
          },
          {
           "line": {
            "width": 2
           },
           "marker": {
            "size": 6
           },
           "mode": "lines+markers",
           "name": "user_19",
           "type": "scatter",
           "x": [
            "2020-04-20",
            "2020-04-21"
           ],
           "y": {
            "bdata": "Bw8=",
            "dtype": "i1"
           }
          },
          {
           "line": {
            "width": 2
           },
           "marker": {
            "size": 6
           },
           "mode": "lines+markers",
           "name": "user_22",
           "type": "scatter",
           "x": [
            "2020-04-20"
           ],
           "y": {
            "bdata": "Ag==",
            "dtype": "i1"
           }
          },
          {
           "line": {
            "width": 2
           },
           "marker": {
            "size": 6
           },
           "mode": "lines+markers",
           "name": "user_25",
           "type": "scatter",
           "x": [
            "2020-04-20",
            "2020-04-21"
           ],
           "y": {
            "bdata": "AwU=",
            "dtype": "i1"
           }
          },
          {
           "line": {
            "width": 2
           },
           "marker": {
            "size": 6
           },
           "mode": "lines+markers",
           "name": "user_21",
           "type": "scatter",
           "x": [
            "2020-04-21"
           ],
           "y": {
            "bdata": "Dw==",
            "dtype": "i1"
           }
          },
          {
           "line": {
            "width": 2
           },
           "marker": {
            "size": 6
           },
           "mode": "lines+markers",
           "name": "user_10",
           "type": "scatter",
           "x": [],
           "y": []
          },
          {
           "line": {
            "width": 2
           },
           "marker": {
            "size": 6
           },
           "mode": "lines+markers",
           "name": "user_24",
           "type": "scatter",
           "x": [],
           "y": []
          },
          {
           "line": {
            "width": 2
           },
           "marker": {
            "size": 6
           },
           "mode": "lines+markers",
           "name": "user_28",
           "type": "scatter",
           "x": [],
           "y": []
          },
          {
           "line": {
            "width": 2
           },
           "marker": {
            "size": 6
           },
           "mode": "lines+markers",
           "name": "user_3",
           "type": "scatter",
           "x": [],
           "y": []
          },
          {
           "line": {
            "width": 2
           },
           "marker": {
            "size": 6
           },
           "mode": "lines+markers",
           "name": "user_31",
           "type": "scatter",
           "x": [],
           "y": []
          },
          {
           "line": {
            "width": 2
           },
           "marker": {
            "size": 6
           },
           "mode": "lines+markers",
           "name": "user_13",
           "type": "scatter",
           "x": [],
           "y": []
          },
          {
           "line": {
            "width": 2
           },
           "marker": {
            "size": 6
           },
           "mode": "lines+markers",
           "name": "user_15",
           "type": "scatter",
           "x": [],
           "y": []
          },
          {
           "line": {
            "width": 2
           },
           "marker": {
            "size": 6
           },
           "mode": "lines+markers",
           "name": "user_20",
           "type": "scatter",
           "x": [],
           "y": []
          },
          {
           "line": {
            "width": 2
           },
           "marker": {
            "size": 6
           },
           "mode": "lines+markers",
           "name": "user_26",
           "type": "scatter",
           "x": [],
           "y": []
          },
          {
           "line": {
            "width": 2
           },
           "marker": {
            "size": 6
           },
           "mode": "lines+markers",
           "name": "user_6",
           "type": "scatter",
           "x": [],
           "y": []
          },
          {
           "line": {
            "width": 2
           },
           "marker": {
            "size": 6
           },
           "mode": "lines+markers",
           "name": "user_1",
           "type": "scatter",
           "x": [],
           "y": []
          },
          {
           "line": {
            "width": 2
           },
           "marker": {
            "size": 6
           },
           "mode": "lines+markers",
           "name": "user_18",
           "type": "scatter",
           "x": [],
           "y": []
          },
          {
           "line": {
            "width": 2
           },
           "marker": {
            "size": 6
           },
           "mode": "lines+markers",
           "name": "user_27",
           "type": "scatter",
           "x": [],
           "y": []
          },
          {
           "line": {
            "width": 2
           },
           "marker": {
            "size": 6
           },
           "mode": "lines+markers",
           "name": "user_11",
           "type": "scatter",
           "x": [],
           "y": []
          },
          {
           "line": {
            "width": 2
           },
           "marker": {
            "size": 6
           },
           "mode": "lines+markers",
           "name": "user_7",
           "type": "scatter",
           "x": [],
           "y": []
          },
          {
           "line": {
            "width": 2
           },
           "marker": {
            "size": 6
           },
           "mode": "lines+markers",
           "name": "user_23",
           "type": "scatter",
           "x": [],
           "y": []
          }
         ],
         "name": "2020-04-21"
        },
        {
         "data": [
          {
           "line": {
            "width": 2
           },
           "marker": {
            "size": 6
           },
           "mode": "lines+markers",
           "name": "user_4",
           "type": "scatter",
           "x": [
            "2020-04-17",
            "2020-04-19"
           ],
           "y": {
            "bdata": "Fx8=",
            "dtype": "i1"
           }
          },
          {
           "line": {
            "width": 2
           },
           "marker": {
            "size": 6
           },
           "mode": "lines+markers",
           "name": "user_12",
           "type": "scatter",
           "x": [
            "2020-04-18"
           ],
           "y": {
            "bdata": "Bw==",
            "dtype": "i1"
           }
          },
          {
           "line": {
            "width": 2
           },
           "marker": {
            "size": 6
           },
           "mode": "lines+markers",
           "name": "user_14",
           "type": "scatter",
           "x": [
            "2020-04-18",
            "2020-04-19"
           ],
           "y": {
            "bdata": "KjA=",
            "dtype": "i1"
           }
          },
          {
           "line": {
            "width": 2
           },
           "marker": {
            "size": 6
           },
           "mode": "lines+markers",
           "name": "user_17",
           "type": "scatter",
           "x": [
            "2020-04-18"
           ],
           "y": {
            "bdata": "AQ==",
            "dtype": "i1"
           }
          },
          {
           "line": {
            "width": 2
           },
           "marker": {
            "size": 6
           },
           "mode": "lines+markers",
           "name": "user_2",
           "type": "scatter",
           "x": [
            "2020-04-18",
            "2020-04-19"
           ],
           "y": {
            "bdata": "EBI=",
            "dtype": "i1"
           }
          },
          {
           "line": {
            "width": 2
           },
           "marker": {
            "size": 6
           },
           "mode": "lines+markers",
           "name": "user_30",
           "type": "scatter",
           "x": [
            "2020-04-18",
            "2020-04-22"
           ],
           "y": {
            "bdata": "AgM=",
            "dtype": "i1"
           }
          },
          {
           "line": {
            "width": 2
           },
           "marker": {
            "size": 6
           },
           "mode": "lines+markers",
           "name": "user_8",
           "type": "scatter",
           "x": [
            "2020-04-18",
            "2020-04-19"
           ],
           "y": {
            "bdata": "AQ4=",
            "dtype": "i1"
           }
          },
          {
           "line": {
            "width": 2
           },
           "marker": {
            "size": 6
           },
           "mode": "lines+markers",
           "name": "user_29",
           "type": "scatter",
           "x": [
            "2020-04-19"
           ],
           "y": {
            "bdata": "BA==",
            "dtype": "i1"
           }
          },
          {
           "line": {
            "width": 2
           },
           "marker": {
            "size": 6
           },
           "mode": "lines+markers",
           "name": "user_0",
           "type": "scatter",
           "x": [
            "2020-04-20"
           ],
           "y": {
            "bdata": "Aw==",
            "dtype": "i1"
           }
          },
          {
           "line": {
            "width": 2
           },
           "marker": {
            "size": 6
           },
           "mode": "lines+markers",
           "name": "user_16",
           "type": "scatter",
           "x": [
            "2020-04-20"
           ],
           "y": {
            "bdata": "Cg==",
            "dtype": "i1"
           }
          },
          {
           "line": {
            "width": 2
           },
           "marker": {
            "size": 6
           },
           "mode": "lines+markers",
           "name": "user_19",
           "type": "scatter",
           "x": [
            "2020-04-20",
            "2020-04-21"
           ],
           "y": {
            "bdata": "Bw8=",
            "dtype": "i1"
           }
          },
          {
           "line": {
            "width": 2
           },
           "marker": {
            "size": 6
           },
           "mode": "lines+markers",
           "name": "user_22",
           "type": "scatter",
           "x": [
            "2020-04-20"
           ],
           "y": {
            "bdata": "Ag==",
            "dtype": "i1"
           }
          },
          {
           "line": {
            "width": 2
           },
           "marker": {
            "size": 6
           },
           "mode": "lines+markers",
           "name": "user_25",
           "type": "scatter",
           "x": [
            "2020-04-20",
            "2020-04-21"
           ],
           "y": {
            "bdata": "AwU=",
            "dtype": "i1"
           }
          },
          {
           "line": {
            "width": 2
           },
           "marker": {
            "size": 6
           },
           "mode": "lines+markers",
           "name": "user_21",
           "type": "scatter",
           "x": [
            "2020-04-21",
            "2020-04-22"
           ],
           "y": {
            "bdata": "DyQ=",
            "dtype": "i1"
           }
          },
          {
           "line": {
            "width": 2
           },
           "marker": {
            "size": 6
           },
           "mode": "lines+markers",
           "name": "user_10",
           "type": "scatter",
           "x": [
            "2020-04-22"
           ],
           "y": {
            "bdata": "Ag==",
            "dtype": "i1"
           }
          },
          {
           "line": {
            "width": 2
           },
           "marker": {
            "size": 6
           },
           "mode": "lines+markers",
           "name": "user_24",
           "type": "scatter",
           "x": [
            "2020-04-22"
           ],
           "y": {
            "bdata": "AQ==",
            "dtype": "i1"
           }
          },
          {
           "line": {
            "width": 2
           },
           "marker": {
            "size": 6
           },
           "mode": "lines+markers",
           "name": "user_28",
           "type": "scatter",
           "x": [
            "2020-04-22"
           ],
           "y": {
            "bdata": "Aw==",
            "dtype": "i1"
           }
          },
          {
           "line": {
            "width": 2
           },
           "marker": {
            "size": 6
           },
           "mode": "lines+markers",
           "name": "user_3",
           "type": "scatter",
           "x": [],
           "y": []
          },
          {
           "line": {
            "width": 2
           },
           "marker": {
            "size": 6
           },
           "mode": "lines+markers",
           "name": "user_31",
           "type": "scatter",
           "x": [],
           "y": []
          },
          {
           "line": {
            "width": 2
           },
           "marker": {
            "size": 6
           },
           "mode": "lines+markers",
           "name": "user_13",
           "type": "scatter",
           "x": [],
           "y": []
          },
          {
           "line": {
            "width": 2
           },
           "marker": {
            "size": 6
           },
           "mode": "lines+markers",
           "name": "user_15",
           "type": "scatter",
           "x": [],
           "y": []
          },
          {
           "line": {
            "width": 2
           },
           "marker": {
            "size": 6
           },
           "mode": "lines+markers",
           "name": "user_20",
           "type": "scatter",
           "x": [],
           "y": []
          },
          {
           "line": {
            "width": 2
           },
           "marker": {
            "size": 6
           },
           "mode": "lines+markers",
           "name": "user_26",
           "type": "scatter",
           "x": [],
           "y": []
          },
          {
           "line": {
            "width": 2
           },
           "marker": {
            "size": 6
           },
           "mode": "lines+markers",
           "name": "user_6",
           "type": "scatter",
           "x": [],
           "y": []
          },
          {
           "line": {
            "width": 2
           },
           "marker": {
            "size": 6
           },
           "mode": "lines+markers",
           "name": "user_1",
           "type": "scatter",
           "x": [],
           "y": []
          },
          {
           "line": {
            "width": 2
           },
           "marker": {
            "size": 6
           },
           "mode": "lines+markers",
           "name": "user_18",
           "type": "scatter",
           "x": [],
           "y": []
          },
          {
           "line": {
            "width": 2
           },
           "marker": {
            "size": 6
           },
           "mode": "lines+markers",
           "name": "user_27",
           "type": "scatter",
           "x": [],
           "y": []
          },
          {
           "line": {
            "width": 2
           },
           "marker": {
            "size": 6
           },
           "mode": "lines+markers",
           "name": "user_11",
           "type": "scatter",
           "x": [],
           "y": []
          },
          {
           "line": {
            "width": 2
           },
           "marker": {
            "size": 6
           },
           "mode": "lines+markers",
           "name": "user_7",
           "type": "scatter",
           "x": [],
           "y": []
          },
          {
           "line": {
            "width": 2
           },
           "marker": {
            "size": 6
           },
           "mode": "lines+markers",
           "name": "user_23",
           "type": "scatter",
           "x": [],
           "y": []
          }
         ],
         "name": "2020-04-22"
        },
        {
         "data": [
          {
           "line": {
            "width": 2
           },
           "marker": {
            "size": 6
           },
           "mode": "lines+markers",
           "name": "user_4",
           "type": "scatter",
           "x": [
            "2020-04-17",
            "2020-04-19",
            "2020-04-23"
           ],
           "y": {
            "bdata": "Fx8x",
            "dtype": "i1"
           }
          },
          {
           "line": {
            "width": 2
           },
           "marker": {
            "size": 6
           },
           "mode": "lines+markers",
           "name": "user_12",
           "type": "scatter",
           "x": [
            "2020-04-18"
           ],
           "y": {
            "bdata": "Bw==",
            "dtype": "i1"
           }
          },
          {
           "line": {
            "width": 2
           },
           "marker": {
            "size": 6
           },
           "mode": "lines+markers",
           "name": "user_14",
           "type": "scatter",
           "x": [
            "2020-04-18",
            "2020-04-19"
           ],
           "y": {
            "bdata": "KjA=",
            "dtype": "i1"
           }
          },
          {
           "line": {
            "width": 2
           },
           "marker": {
            "size": 6
           },
           "mode": "lines+markers",
           "name": "user_17",
           "type": "scatter",
           "x": [
            "2020-04-18",
            "2020-04-23"
           ],
           "y": {
            "bdata": "AQQ=",
            "dtype": "i1"
           }
          },
          {
           "line": {
            "width": 2
           },
           "marker": {
            "size": 6
           },
           "mode": "lines+markers",
           "name": "user_2",
           "type": "scatter",
           "x": [
            "2020-04-18",
            "2020-04-19"
           ],
           "y": {
            "bdata": "EBI=",
            "dtype": "i1"
           }
          },
          {
           "line": {
            "width": 2
           },
           "marker": {
            "size": 6
           },
           "mode": "lines+markers",
           "name": "user_30",
           "type": "scatter",
           "x": [
            "2020-04-18",
            "2020-04-22",
            "2020-04-23"
           ],
           "y": {
            "bdata": "AgMF",
            "dtype": "i1"
           }
          },
          {
           "line": {
            "width": 2
           },
           "marker": {
            "size": 6
           },
           "mode": "lines+markers",
           "name": "user_8",
           "type": "scatter",
           "x": [
            "2020-04-18",
            "2020-04-19"
           ],
           "y": {
            "bdata": "AQ4=",
            "dtype": "i1"
           }
          },
          {
           "line": {
            "width": 2
           },
           "marker": {
            "size": 6
           },
           "mode": "lines+markers",
           "name": "user_29",
           "type": "scatter",
           "x": [
            "2020-04-19"
           ],
           "y": {
            "bdata": "BA==",
            "dtype": "i1"
           }
          },
          {
           "line": {
            "width": 2
           },
           "marker": {
            "size": 6
           },
           "mode": "lines+markers",
           "name": "user_0",
           "type": "scatter",
           "x": [
            "2020-04-20"
           ],
           "y": {
            "bdata": "Aw==",
            "dtype": "i1"
           }
          },
          {
           "line": {
            "width": 2
           },
           "marker": {
            "size": 6
           },
           "mode": "lines+markers",
           "name": "user_16",
           "type": "scatter",
           "x": [
            "2020-04-20"
           ],
           "y": {
            "bdata": "Cg==",
            "dtype": "i1"
           }
          },
          {
           "line": {
            "width": 2
           },
           "marker": {
            "size": 6
           },
           "mode": "lines+markers",
           "name": "user_19",
           "type": "scatter",
           "x": [
            "2020-04-20",
            "2020-04-21",
            "2020-04-23"
           ],
           "y": {
            "bdata": "Bw8b",
            "dtype": "i1"
           }
          },
          {
           "line": {
            "width": 2
           },
           "marker": {
            "size": 6
           },
           "mode": "lines+markers",
           "name": "user_22",
           "type": "scatter",
           "x": [
            "2020-04-20"
           ],
           "y": {
            "bdata": "Ag==",
            "dtype": "i1"
           }
          },
          {
           "line": {
            "width": 2
           },
           "marker": {
            "size": 6
           },
           "mode": "lines+markers",
           "name": "user_25",
           "type": "scatter",
           "x": [
            "2020-04-20",
            "2020-04-21"
           ],
           "y": {
            "bdata": "AwU=",
            "dtype": "i1"
           }
          },
          {
           "line": {
            "width": 2
           },
           "marker": {
            "size": 6
           },
           "mode": "lines+markers",
           "name": "user_21",
           "type": "scatter",
           "x": [
            "2020-04-21",
            "2020-04-22"
           ],
           "y": {
            "bdata": "DyQ=",
            "dtype": "i1"
           }
          },
          {
           "line": {
            "width": 2
           },
           "marker": {
            "size": 6
           },
           "mode": "lines+markers",
           "name": "user_10",
           "type": "scatter",
           "x": [
            "2020-04-22"
           ],
           "y": {
            "bdata": "Ag==",
            "dtype": "i1"
           }
          },
          {
           "line": {
            "width": 2
           },
           "marker": {
            "size": 6
           },
           "mode": "lines+markers",
           "name": "user_24",
           "type": "scatter",
           "x": [
            "2020-04-22",
            "2020-04-23"
           ],
           "y": {
            "bdata": "AQU=",
            "dtype": "i1"
           }
          },
          {
           "line": {
            "width": 2
           },
           "marker": {
            "size": 6
           },
           "mode": "lines+markers",
           "name": "user_28",
           "type": "scatter",
           "x": [
            "2020-04-22"
           ],
           "y": {
            "bdata": "Aw==",
            "dtype": "i1"
           }
          },
          {
           "line": {
            "width": 2
           },
           "marker": {
            "size": 6
           },
           "mode": "lines+markers",
           "name": "user_3",
           "type": "scatter",
           "x": [
            "2020-04-23"
           ],
           "y": {
            "bdata": "Ag==",
            "dtype": "i1"
           }
          },
          {
           "line": {
            "width": 2
           },
           "marker": {
            "size": 6
           },
           "mode": "lines+markers",
           "name": "user_31",
           "type": "scatter",
           "x": [
            "2020-04-23"
           ],
           "y": {
            "bdata": "Ag==",
            "dtype": "i1"
           }
          },
          {
           "line": {
            "width": 2
           },
           "marker": {
            "size": 6
           },
           "mode": "lines+markers",
           "name": "user_13",
           "type": "scatter",
           "x": [],
           "y": []
          },
          {
           "line": {
            "width": 2
           },
           "marker": {
            "size": 6
           },
           "mode": "lines+markers",
           "name": "user_15",
           "type": "scatter",
           "x": [],
           "y": []
          },
          {
           "line": {
            "width": 2
           },
           "marker": {
            "size": 6
           },
           "mode": "lines+markers",
           "name": "user_20",
           "type": "scatter",
           "x": [],
           "y": []
          },
          {
           "line": {
            "width": 2
           },
           "marker": {
            "size": 6
           },
           "mode": "lines+markers",
           "name": "user_26",
           "type": "scatter",
           "x": [],
           "y": []
          },
          {
           "line": {
            "width": 2
           },
           "marker": {
            "size": 6
           },
           "mode": "lines+markers",
           "name": "user_6",
           "type": "scatter",
           "x": [],
           "y": []
          },
          {
           "line": {
            "width": 2
           },
           "marker": {
            "size": 6
           },
           "mode": "lines+markers",
           "name": "user_1",
           "type": "scatter",
           "x": [],
           "y": []
          },
          {
           "line": {
            "width": 2
           },
           "marker": {
            "size": 6
           },
           "mode": "lines+markers",
           "name": "user_18",
           "type": "scatter",
           "x": [],
           "y": []
          },
          {
           "line": {
            "width": 2
           },
           "marker": {
            "size": 6
           },
           "mode": "lines+markers",
           "name": "user_27",
           "type": "scatter",
           "x": [],
           "y": []
          },
          {
           "line": {
            "width": 2
           },
           "marker": {
            "size": 6
           },
           "mode": "lines+markers",
           "name": "user_11",
           "type": "scatter",
           "x": [],
           "y": []
          },
          {
           "line": {
            "width": 2
           },
           "marker": {
            "size": 6
           },
           "mode": "lines+markers",
           "name": "user_7",
           "type": "scatter",
           "x": [],
           "y": []
          },
          {
           "line": {
            "width": 2
           },
           "marker": {
            "size": 6
           },
           "mode": "lines+markers",
           "name": "user_23",
           "type": "scatter",
           "x": [],
           "y": []
          }
         ],
         "name": "2020-04-23"
        },
        {
         "data": [
          {
           "line": {
            "width": 2
           },
           "marker": {
            "size": 6
           },
           "mode": "lines+markers",
           "name": "user_4",
           "type": "scatter",
           "x": [
            "2020-04-17",
            "2020-04-19",
            "2020-04-23",
            "2020-04-24"
           ],
           "y": {
            "bdata": "Fx8xPw==",
            "dtype": "i1"
           }
          },
          {
           "line": {
            "width": 2
           },
           "marker": {
            "size": 6
           },
           "mode": "lines+markers",
           "name": "user_12",
           "type": "scatter",
           "x": [
            "2020-04-18"
           ],
           "y": {
            "bdata": "Bw==",
            "dtype": "i1"
           }
          },
          {
           "line": {
            "width": 2
           },
           "marker": {
            "size": 6
           },
           "mode": "lines+markers",
           "name": "user_14",
           "type": "scatter",
           "x": [
            "2020-04-18",
            "2020-04-19"
           ],
           "y": {
            "bdata": "KjA=",
            "dtype": "i1"
           }
          },
          {
           "line": {
            "width": 2
           },
           "marker": {
            "size": 6
           },
           "mode": "lines+markers",
           "name": "user_17",
           "type": "scatter",
           "x": [
            "2020-04-18",
            "2020-04-23"
           ],
           "y": {
            "bdata": "AQQ=",
            "dtype": "i1"
           }
          },
          {
           "line": {
            "width": 2
           },
           "marker": {
            "size": 6
           },
           "mode": "lines+markers",
           "name": "user_2",
           "type": "scatter",
           "x": [
            "2020-04-18",
            "2020-04-19"
           ],
           "y": {
            "bdata": "EBI=",
            "dtype": "i1"
           }
          },
          {
           "line": {
            "width": 2
           },
           "marker": {
            "size": 6
           },
           "mode": "lines+markers",
           "name": "user_30",
           "type": "scatter",
           "x": [
            "2020-04-18",
            "2020-04-22",
            "2020-04-23"
           ],
           "y": {
            "bdata": "AgMF",
            "dtype": "i1"
           }
          },
          {
           "line": {
            "width": 2
           },
           "marker": {
            "size": 6
           },
           "mode": "lines+markers",
           "name": "user_8",
           "type": "scatter",
           "x": [
            "2020-04-18",
            "2020-04-19"
           ],
           "y": {
            "bdata": "AQ4=",
            "dtype": "i1"
           }
          },
          {
           "line": {
            "width": 2
           },
           "marker": {
            "size": 6
           },
           "mode": "lines+markers",
           "name": "user_29",
           "type": "scatter",
           "x": [
            "2020-04-19"
           ],
           "y": {
            "bdata": "BA==",
            "dtype": "i1"
           }
          },
          {
           "line": {
            "width": 2
           },
           "marker": {
            "size": 6
           },
           "mode": "lines+markers",
           "name": "user_0",
           "type": "scatter",
           "x": [
            "2020-04-20"
           ],
           "y": {
            "bdata": "Aw==",
            "dtype": "i1"
           }
          },
          {
           "line": {
            "width": 2
           },
           "marker": {
            "size": 6
           },
           "mode": "lines+markers",
           "name": "user_16",
           "type": "scatter",
           "x": [
            "2020-04-20"
           ],
           "y": {
            "bdata": "Cg==",
            "dtype": "i1"
           }
          },
          {
           "line": {
            "width": 2
           },
           "marker": {
            "size": 6
           },
           "mode": "lines+markers",
           "name": "user_19",
           "type": "scatter",
           "x": [
            "2020-04-20",
            "2020-04-21",
            "2020-04-23",
            "2020-04-24"
           ],
           "y": {
            "bdata": "Bw8bHQ==",
            "dtype": "i1"
           }
          },
          {
           "line": {
            "width": 2
           },
           "marker": {
            "size": 6
           },
           "mode": "lines+markers",
           "name": "user_22",
           "type": "scatter",
           "x": [
            "2020-04-20"
           ],
           "y": {
            "bdata": "Ag==",
            "dtype": "i1"
           }
          },
          {
           "line": {
            "width": 2
           },
           "marker": {
            "size": 6
           },
           "mode": "lines+markers",
           "name": "user_25",
           "type": "scatter",
           "x": [
            "2020-04-20",
            "2020-04-21"
           ],
           "y": {
            "bdata": "AwU=",
            "dtype": "i1"
           }
          },
          {
           "line": {
            "width": 2
           },
           "marker": {
            "size": 6
           },
           "mode": "lines+markers",
           "name": "user_21",
           "type": "scatter",
           "x": [
            "2020-04-21",
            "2020-04-22"
           ],
           "y": {
            "bdata": "DyQ=",
            "dtype": "i1"
           }
          },
          {
           "line": {
            "width": 2
           },
           "marker": {
            "size": 6
           },
           "mode": "lines+markers",
           "name": "user_10",
           "type": "scatter",
           "x": [
            "2020-04-22"
           ],
           "y": {
            "bdata": "Ag==",
            "dtype": "i1"
           }
          },
          {
           "line": {
            "width": 2
           },
           "marker": {
            "size": 6
           },
           "mode": "lines+markers",
           "name": "user_24",
           "type": "scatter",
           "x": [
            "2020-04-22",
            "2020-04-23"
           ],
           "y": {
            "bdata": "AQU=",
            "dtype": "i1"
           }
          },
          {
           "line": {
            "width": 2
           },
           "marker": {
            "size": 6
           },
           "mode": "lines+markers",
           "name": "user_28",
           "type": "scatter",
           "x": [
            "2020-04-22"
           ],
           "y": {
            "bdata": "Aw==",
            "dtype": "i1"
           }
          },
          {
           "line": {
            "width": 2
           },
           "marker": {
            "size": 6
           },
           "mode": "lines+markers",
           "name": "user_3",
           "type": "scatter",
           "x": [
            "2020-04-23"
           ],
           "y": {
            "bdata": "Ag==",
            "dtype": "i1"
           }
          },
          {
           "line": {
            "width": 2
           },
           "marker": {
            "size": 6
           },
           "mode": "lines+markers",
           "name": "user_31",
           "type": "scatter",
           "x": [
            "2020-04-23"
           ],
           "y": {
            "bdata": "Ag==",
            "dtype": "i1"
           }
          },
          {
           "line": {
            "width": 2
           },
           "marker": {
            "size": 6
           },
           "mode": "lines+markers",
           "name": "user_13",
           "type": "scatter",
           "x": [],
           "y": []
          },
          {
           "line": {
            "width": 2
           },
           "marker": {
            "size": 6
           },
           "mode": "lines+markers",
           "name": "user_15",
           "type": "scatter",
           "x": [],
           "y": []
          },
          {
           "line": {
            "width": 2
           },
           "marker": {
            "size": 6
           },
           "mode": "lines+markers",
           "name": "user_20",
           "type": "scatter",
           "x": [],
           "y": []
          },
          {
           "line": {
            "width": 2
           },
           "marker": {
            "size": 6
           },
           "mode": "lines+markers",
           "name": "user_26",
           "type": "scatter",
           "x": [],
           "y": []
          },
          {
           "line": {
            "width": 2
           },
           "marker": {
            "size": 6
           },
           "mode": "lines+markers",
           "name": "user_6",
           "type": "scatter",
           "x": [],
           "y": []
          },
          {
           "line": {
            "width": 2
           },
           "marker": {
            "size": 6
           },
           "mode": "lines+markers",
           "name": "user_1",
           "type": "scatter",
           "x": [],
           "y": []
          },
          {
           "line": {
            "width": 2
           },
           "marker": {
            "size": 6
           },
           "mode": "lines+markers",
           "name": "user_18",
           "type": "scatter",
           "x": [],
           "y": []
          },
          {
           "line": {
            "width": 2
           },
           "marker": {
            "size": 6
           },
           "mode": "lines+markers",
           "name": "user_27",
           "type": "scatter",
           "x": [],
           "y": []
          },
          {
           "line": {
            "width": 2
           },
           "marker": {
            "size": 6
           },
           "mode": "lines+markers",
           "name": "user_11",
           "type": "scatter",
           "x": [],
           "y": []
          },
          {
           "line": {
            "width": 2
           },
           "marker": {
            "size": 6
           },
           "mode": "lines+markers",
           "name": "user_7",
           "type": "scatter",
           "x": [],
           "y": []
          },
          {
           "line": {
            "width": 2
           },
           "marker": {
            "size": 6
           },
           "mode": "lines+markers",
           "name": "user_23",
           "type": "scatter",
           "x": [],
           "y": []
          }
         ],
         "name": "2020-04-24"
        },
        {
         "data": [
          {
           "line": {
            "width": 2
           },
           "marker": {
            "size": 6
           },
           "mode": "lines+markers",
           "name": "user_4",
           "type": "scatter",
           "x": [
            "2020-04-17",
            "2020-04-19",
            "2020-04-23",
            "2020-04-24"
           ],
           "y": {
            "bdata": "Fx8xPw==",
            "dtype": "i1"
           }
          },
          {
           "line": {
            "width": 2
           },
           "marker": {
            "size": 6
           },
           "mode": "lines+markers",
           "name": "user_12",
           "type": "scatter",
           "x": [
            "2020-04-18"
           ],
           "y": {
            "bdata": "Bw==",
            "dtype": "i1"
           }
          },
          {
           "line": {
            "width": 2
           },
           "marker": {
            "size": 6
           },
           "mode": "lines+markers",
           "name": "user_14",
           "type": "scatter",
           "x": [
            "2020-04-18",
            "2020-04-19"
           ],
           "y": {
            "bdata": "KjA=",
            "dtype": "i1"
           }
          },
          {
           "line": {
            "width": 2
           },
           "marker": {
            "size": 6
           },
           "mode": "lines+markers",
           "name": "user_17",
           "type": "scatter",
           "x": [
            "2020-04-18",
            "2020-04-23",
            "2020-04-25"
           ],
           "y": {
            "bdata": "AQQT",
            "dtype": "i1"
           }
          },
          {
           "line": {
            "width": 2
           },
           "marker": {
            "size": 6
           },
           "mode": "lines+markers",
           "name": "user_2",
           "type": "scatter",
           "x": [
            "2020-04-18",
            "2020-04-19"
           ],
           "y": {
            "bdata": "EBI=",
            "dtype": "i1"
           }
          },
          {
           "line": {
            "width": 2
           },
           "marker": {
            "size": 6
           },
           "mode": "lines+markers",
           "name": "user_30",
           "type": "scatter",
           "x": [
            "2020-04-18",
            "2020-04-22",
            "2020-04-23"
           ],
           "y": {
            "bdata": "AgMF",
            "dtype": "i1"
           }
          },
          {
           "line": {
            "width": 2
           },
           "marker": {
            "size": 6
           },
           "mode": "lines+markers",
           "name": "user_8",
           "type": "scatter",
           "x": [
            "2020-04-18",
            "2020-04-19",
            "2020-04-25"
           ],
           "y": {
            "bdata": "AQ4Q",
            "dtype": "i1"
           }
          },
          {
           "line": {
            "width": 2
           },
           "marker": {
            "size": 6
           },
           "mode": "lines+markers",
           "name": "user_29",
           "type": "scatter",
           "x": [
            "2020-04-19"
           ],
           "y": {
            "bdata": "BA==",
            "dtype": "i1"
           }
          },
          {
           "line": {
            "width": 2
           },
           "marker": {
            "size": 6
           },
           "mode": "lines+markers",
           "name": "user_0",
           "type": "scatter",
           "x": [
            "2020-04-20"
           ],
           "y": {
            "bdata": "Aw==",
            "dtype": "i1"
           }
          },
          {
           "line": {
            "width": 2
           },
           "marker": {
            "size": 6
           },
           "mode": "lines+markers",
           "name": "user_16",
           "type": "scatter",
           "x": [
            "2020-04-20"
           ],
           "y": {
            "bdata": "Cg==",
            "dtype": "i1"
           }
          },
          {
           "line": {
            "width": 2
           },
           "marker": {
            "size": 6
           },
           "mode": "lines+markers",
           "name": "user_19",
           "type": "scatter",
           "x": [
            "2020-04-20",
            "2020-04-21",
            "2020-04-23",
            "2020-04-24",
            "2020-04-25"
           ],
           "y": {
            "bdata": "Bw8bHS0=",
            "dtype": "i1"
           }
          },
          {
           "line": {
            "width": 2
           },
           "marker": {
            "size": 6
           },
           "mode": "lines+markers",
           "name": "user_22",
           "type": "scatter",
           "x": [
            "2020-04-20"
           ],
           "y": {
            "bdata": "Ag==",
            "dtype": "i1"
           }
          },
          {
           "line": {
            "width": 2
           },
           "marker": {
            "size": 6
           },
           "mode": "lines+markers",
           "name": "user_25",
           "type": "scatter",
           "x": [
            "2020-04-20",
            "2020-04-21",
            "2020-04-25"
           ],
           "y": {
            "bdata": "AwUb",
            "dtype": "i1"
           }
          },
          {
           "line": {
            "width": 2
           },
           "marker": {
            "size": 6
           },
           "mode": "lines+markers",
           "name": "user_21",
           "type": "scatter",
           "x": [
            "2020-04-21",
            "2020-04-22"
           ],
           "y": {
            "bdata": "DyQ=",
            "dtype": "i1"
           }
          },
          {
           "line": {
            "width": 2
           },
           "marker": {
            "size": 6
           },
           "mode": "lines+markers",
           "name": "user_10",
           "type": "scatter",
           "x": [
            "2020-04-22",
            "2020-04-25"
           ],
           "y": {
            "bdata": "AgY=",
            "dtype": "i1"
           }
          },
          {
           "line": {
            "width": 2
           },
           "marker": {
            "size": 6
           },
           "mode": "lines+markers",
           "name": "user_24",
           "type": "scatter",
           "x": [
            "2020-04-22",
            "2020-04-23",
            "2020-04-25"
           ],
           "y": {
            "bdata": "AQUG",
            "dtype": "i1"
           }
          },
          {
           "line": {
            "width": 2
           },
           "marker": {
            "size": 6
           },
           "mode": "lines+markers",
           "name": "user_28",
           "type": "scatter",
           "x": [
            "2020-04-22",
            "2020-04-25"
           ],
           "y": {
            "bdata": "Aw8=",
            "dtype": "i1"
           }
          },
          {
           "line": {
            "width": 2
           },
           "marker": {
            "size": 6
           },
           "mode": "lines+markers",
           "name": "user_3",
           "type": "scatter",
           "x": [
            "2020-04-23"
           ],
           "y": {
            "bdata": "Ag==",
            "dtype": "i1"
           }
          },
          {
           "line": {
            "width": 2
           },
           "marker": {
            "size": 6
           },
           "mode": "lines+markers",
           "name": "user_31",
           "type": "scatter",
           "x": [
            "2020-04-23"
           ],
           "y": {
            "bdata": "Ag==",
            "dtype": "i1"
           }
          },
          {
           "line": {
            "width": 2
           },
           "marker": {
            "size": 6
           },
           "mode": "lines+markers",
           "name": "user_13",
           "type": "scatter",
           "x": [
            "2020-04-25"
           ],
           "y": {
            "bdata": "Cw==",
            "dtype": "i1"
           }
          },
          {
           "line": {
            "width": 2
           },
           "marker": {
            "size": 6
           },
           "mode": "lines+markers",
           "name": "user_15",
           "type": "scatter",
           "x": [
            "2020-04-25"
           ],
           "y": {
            "bdata": "Ag==",
            "dtype": "i1"
           }
          },
          {
           "line": {
            "width": 2
           },
           "marker": {
            "size": 6
           },
           "mode": "lines+markers",
           "name": "user_20",
           "type": "scatter",
           "x": [
            "2020-04-25"
           ],
           "y": {
            "bdata": "Aw==",
            "dtype": "i1"
           }
          },
          {
           "line": {
            "width": 2
           },
           "marker": {
            "size": 6
           },
           "mode": "lines+markers",
           "name": "user_26",
           "type": "scatter",
           "x": [
            "2020-04-25"
           ],
           "y": {
            "bdata": "Dw==",
            "dtype": "i1"
           }
          },
          {
           "line": {
            "width": 2
           },
           "marker": {
            "size": 6
           },
           "mode": "lines+markers",
           "name": "user_6",
           "type": "scatter",
           "x": [
            "2020-04-25"
           ],
           "y": {
            "bdata": "AQ==",
            "dtype": "i1"
           }
          },
          {
           "line": {
            "width": 2
           },
           "marker": {
            "size": 6
           },
           "mode": "lines+markers",
           "name": "user_1",
           "type": "scatter",
           "x": [],
           "y": []
          },
          {
           "line": {
            "width": 2
           },
           "marker": {
            "size": 6
           },
           "mode": "lines+markers",
           "name": "user_18",
           "type": "scatter",
           "x": [],
           "y": []
          },
          {
           "line": {
            "width": 2
           },
           "marker": {
            "size": 6
           },
           "mode": "lines+markers",
           "name": "user_27",
           "type": "scatter",
           "x": [],
           "y": []
          },
          {
           "line": {
            "width": 2
           },
           "marker": {
            "size": 6
           },
           "mode": "lines+markers",
           "name": "user_11",
           "type": "scatter",
           "x": [],
           "y": []
          },
          {
           "line": {
            "width": 2
           },
           "marker": {
            "size": 6
           },
           "mode": "lines+markers",
           "name": "user_7",
           "type": "scatter",
           "x": [],
           "y": []
          },
          {
           "line": {
            "width": 2
           },
           "marker": {
            "size": 6
           },
           "mode": "lines+markers",
           "name": "user_23",
           "type": "scatter",
           "x": [],
           "y": []
          }
         ],
         "name": "2020-04-25"
        },
        {
         "data": [
          {
           "line": {
            "width": 2
           },
           "marker": {
            "size": 6
           },
           "mode": "lines+markers",
           "name": "user_4",
           "type": "scatter",
           "x": [
            "2020-04-17",
            "2020-04-19",
            "2020-04-23",
            "2020-04-24",
            "2020-04-26"
           ],
           "y": {
            "bdata": "Fx8xP0E=",
            "dtype": "i1"
           }
          },
          {
           "line": {
            "width": 2
           },
           "marker": {
            "size": 6
           },
           "mode": "lines+markers",
           "name": "user_12",
           "type": "scatter",
           "x": [
            "2020-04-18",
            "2020-04-26"
           ],
           "y": {
            "bdata": "BxI=",
            "dtype": "i1"
           }
          },
          {
           "line": {
            "width": 2
           },
           "marker": {
            "size": 6
           },
           "mode": "lines+markers",
           "name": "user_14",
           "type": "scatter",
           "x": [
            "2020-04-18",
            "2020-04-19",
            "2020-04-26"
           ],
           "y": {
            "bdata": "KjAy",
            "dtype": "i1"
           }
          },
          {
           "line": {
            "width": 2
           },
           "marker": {
            "size": 6
           },
           "mode": "lines+markers",
           "name": "user_17",
           "type": "scatter",
           "x": [
            "2020-04-18",
            "2020-04-23",
            "2020-04-25"
           ],
           "y": {
            "bdata": "AQQT",
            "dtype": "i1"
           }
          },
          {
           "line": {
            "width": 2
           },
           "marker": {
            "size": 6
           },
           "mode": "lines+markers",
           "name": "user_2",
           "type": "scatter",
           "x": [
            "2020-04-18",
            "2020-04-19"
           ],
           "y": {
            "bdata": "EBI=",
            "dtype": "i1"
           }
          },
          {
           "line": {
            "width": 2
           },
           "marker": {
            "size": 6
           },
           "mode": "lines+markers",
           "name": "user_30",
           "type": "scatter",
           "x": [
            "2020-04-18",
            "2020-04-22",
            "2020-04-23"
           ],
           "y": {
            "bdata": "AgMF",
            "dtype": "i1"
           }
          },
          {
           "line": {
            "width": 2
           },
           "marker": {
            "size": 6
           },
           "mode": "lines+markers",
           "name": "user_8",
           "type": "scatter",
           "x": [
            "2020-04-18",
            "2020-04-19",
            "2020-04-25",
            "2020-04-26"
           ],
           "y": {
            "bdata": "AQ4QFg==",
            "dtype": "i1"
           }
          },
          {
           "line": {
            "width": 2
           },
           "marker": {
            "size": 6
           },
           "mode": "lines+markers",
           "name": "user_29",
           "type": "scatter",
           "x": [
            "2020-04-19",
            "2020-04-26"
           ],
           "y": {
            "bdata": "BA4=",
            "dtype": "i1"
           }
          },
          {
           "line": {
            "width": 2
           },
           "marker": {
            "size": 6
           },
           "mode": "lines+markers",
           "name": "user_0",
           "type": "scatter",
           "x": [
            "2020-04-20"
           ],
           "y": {
            "bdata": "Aw==",
            "dtype": "i1"
           }
          },
          {
           "line": {
            "width": 2
           },
           "marker": {
            "size": 6
           },
           "mode": "lines+markers",
           "name": "user_16",
           "type": "scatter",
           "x": [
            "2020-04-20",
            "2020-04-26"
           ],
           "y": {
            "bdata": "ChQ=",
            "dtype": "i1"
           }
          },
          {
           "line": {
            "width": 2
           },
           "marker": {
            "size": 6
           },
           "mode": "lines+markers",
           "name": "user_19",
           "type": "scatter",
           "x": [
            "2020-04-20",
            "2020-04-21",
            "2020-04-23",
            "2020-04-24",
            "2020-04-25",
            "2020-04-26"
           ],
           "y": {
            "bdata": "Bw8bHS1Z",
            "dtype": "i1"
           }
          },
          {
           "line": {
            "width": 2
           },
           "marker": {
            "size": 6
           },
           "mode": "lines+markers",
           "name": "user_22",
           "type": "scatter",
           "x": [
            "2020-04-20"
           ],
           "y": {
            "bdata": "Ag==",
            "dtype": "i1"
           }
          },
          {
           "line": {
            "width": 2
           },
           "marker": {
            "size": 6
           },
           "mode": "lines+markers",
           "name": "user_25",
           "type": "scatter",
           "x": [
            "2020-04-20",
            "2020-04-21",
            "2020-04-25",
            "2020-04-26"
           ],
           "y": {
            "bdata": "AwUbPg==",
            "dtype": "i1"
           }
          },
          {
           "line": {
            "width": 2
           },
           "marker": {
            "size": 6
           },
           "mode": "lines+markers",
           "name": "user_21",
           "type": "scatter",
           "x": [
            "2020-04-21",
            "2020-04-22",
            "2020-04-26"
           ],
           "y": {
            "bdata": "DyQs",
            "dtype": "i1"
           }
          },
          {
           "line": {
            "width": 2
           },
           "marker": {
            "size": 6
           },
           "mode": "lines+markers",
           "name": "user_10",
           "type": "scatter",
           "x": [
            "2020-04-22",
            "2020-04-25"
           ],
           "y": {
            "bdata": "AgY=",
            "dtype": "i1"
           }
          },
          {
           "line": {
            "width": 2
           },
           "marker": {
            "size": 6
           },
           "mode": "lines+markers",
           "name": "user_24",
           "type": "scatter",
           "x": [
            "2020-04-22",
            "2020-04-23",
            "2020-04-25"
           ],
           "y": {
            "bdata": "AQUG",
            "dtype": "i1"
           }
          },
          {
           "line": {
            "width": 2
           },
           "marker": {
            "size": 6
           },
           "mode": "lines+markers",
           "name": "user_28",
           "type": "scatter",
           "x": [
            "2020-04-22",
            "2020-04-25",
            "2020-04-26"
           ],
           "y": {
            "bdata": "Aw8o",
            "dtype": "i1"
           }
          },
          {
           "line": {
            "width": 2
           },
           "marker": {
            "size": 6
           },
           "mode": "lines+markers",
           "name": "user_3",
           "type": "scatter",
           "x": [
            "2020-04-23",
            "2020-04-26"
           ],
           "y": {
            "bdata": "AgQ=",
            "dtype": "i1"
           }
          },
          {
           "line": {
            "width": 2
           },
           "marker": {
            "size": 6
           },
           "mode": "lines+markers",
           "name": "user_31",
           "type": "scatter",
           "x": [
            "2020-04-23"
           ],
           "y": {
            "bdata": "Ag==",
            "dtype": "i1"
           }
          },
          {
           "line": {
            "width": 2
           },
           "marker": {
            "size": 6
           },
           "mode": "lines+markers",
           "name": "user_13",
           "type": "scatter",
           "x": [
            "2020-04-25",
            "2020-04-26"
           ],
           "y": {
            "bdata": "CyI=",
            "dtype": "i1"
           }
          },
          {
           "line": {
            "width": 2
           },
           "marker": {
            "size": 6
           },
           "mode": "lines+markers",
           "name": "user_15",
           "type": "scatter",
           "x": [
            "2020-04-25",
            "2020-04-26"
           ],
           "y": {
            "bdata": "Ag0=",
            "dtype": "i1"
           }
          },
          {
           "line": {
            "width": 2
           },
           "marker": {
            "size": 6
           },
           "mode": "lines+markers",
           "name": "user_20",
           "type": "scatter",
           "x": [
            "2020-04-25",
            "2020-04-26"
           ],
           "y": {
            "bdata": "AxY=",
            "dtype": "i1"
           }
          },
          {
           "line": {
            "width": 2
           },
           "marker": {
            "size": 6
           },
           "mode": "lines+markers",
           "name": "user_26",
           "type": "scatter",
           "x": [
            "2020-04-25"
           ],
           "y": {
            "bdata": "Dw==",
            "dtype": "i1"
           }
          },
          {
           "line": {
            "width": 2
           },
           "marker": {
            "size": 6
           },
           "mode": "lines+markers",
           "name": "user_6",
           "type": "scatter",
           "x": [
            "2020-04-25",
            "2020-04-26"
           ],
           "y": {
            "bdata": "AQo=",
            "dtype": "i1"
           }
          },
          {
           "line": {
            "width": 2
           },
           "marker": {
            "size": 6
           },
           "mode": "lines+markers",
           "name": "user_1",
           "type": "scatter",
           "x": [
            "2020-04-26"
           ],
           "y": {
            "bdata": "Fg==",
            "dtype": "i1"
           }
          },
          {
           "line": {
            "width": 2
           },
           "marker": {
            "size": 6
           },
           "mode": "lines+markers",
           "name": "user_18",
           "type": "scatter",
           "x": [
            "2020-04-26"
           ],
           "y": {
            "bdata": "BA==",
            "dtype": "i1"
           }
          },
          {
           "line": {
            "width": 2
           },
           "marker": {
            "size": 6
           },
           "mode": "lines+markers",
           "name": "user_27",
           "type": "scatter",
           "x": [
            "2020-04-26"
           ],
           "y": {
            "bdata": "Eg==",
            "dtype": "i1"
           }
          },
          {
           "line": {
            "width": 2
           },
           "marker": {
            "size": 6
           },
           "mode": "lines+markers",
           "name": "user_11",
           "type": "scatter",
           "x": [],
           "y": []
          },
          {
           "line": {
            "width": 2
           },
           "marker": {
            "size": 6
           },
           "mode": "lines+markers",
           "name": "user_7",
           "type": "scatter",
           "x": [],
           "y": []
          },
          {
           "line": {
            "width": 2
           },
           "marker": {
            "size": 6
           },
           "mode": "lines+markers",
           "name": "user_23",
           "type": "scatter",
           "x": [],
           "y": []
          }
         ],
         "name": "2020-04-26"
        },
        {
         "data": [
          {
           "line": {
            "width": 2
           },
           "marker": {
            "size": 6
           },
           "mode": "lines+markers",
           "name": "user_4",
           "type": "scatter",
           "x": [
            "2020-04-17",
            "2020-04-19",
            "2020-04-23",
            "2020-04-24",
            "2020-04-26"
           ],
           "y": {
            "bdata": "Fx8xP0E=",
            "dtype": "i1"
           }
          },
          {
           "line": {
            "width": 2
           },
           "marker": {
            "size": 6
           },
           "mode": "lines+markers",
           "name": "user_12",
           "type": "scatter",
           "x": [
            "2020-04-18",
            "2020-04-26",
            "2020-04-27"
           ],
           "y": {
            "bdata": "BxIU",
            "dtype": "i1"
           }
          },
          {
           "line": {
            "width": 2
           },
           "marker": {
            "size": 6
           },
           "mode": "lines+markers",
           "name": "user_14",
           "type": "scatter",
           "x": [
            "2020-04-18",
            "2020-04-19",
            "2020-04-26"
           ],
           "y": {
            "bdata": "KjAy",
            "dtype": "i1"
           }
          },
          {
           "line": {
            "width": 2
           },
           "marker": {
            "size": 6
           },
           "mode": "lines+markers",
           "name": "user_17",
           "type": "scatter",
           "x": [
            "2020-04-18",
            "2020-04-23",
            "2020-04-25"
           ],
           "y": {
            "bdata": "AQQT",
            "dtype": "i1"
           }
          },
          {
           "line": {
            "width": 2
           },
           "marker": {
            "size": 6
           },
           "mode": "lines+markers",
           "name": "user_2",
           "type": "scatter",
           "x": [
            "2020-04-18",
            "2020-04-19"
           ],
           "y": {
            "bdata": "EBI=",
            "dtype": "i1"
           }
          },
          {
           "line": {
            "width": 2
           },
           "marker": {
            "size": 6
           },
           "mode": "lines+markers",
           "name": "user_30",
           "type": "scatter",
           "x": [
            "2020-04-18",
            "2020-04-22",
            "2020-04-23"
           ],
           "y": {
            "bdata": "AgMF",
            "dtype": "i1"
           }
          },
          {
           "line": {
            "width": 2
           },
           "marker": {
            "size": 6
           },
           "mode": "lines+markers",
           "name": "user_8",
           "type": "scatter",
           "x": [
            "2020-04-18",
            "2020-04-19",
            "2020-04-25",
            "2020-04-26"
           ],
           "y": {
            "bdata": "AQ4QFg==",
            "dtype": "i1"
           }
          },
          {
           "line": {
            "width": 2
           },
           "marker": {
            "size": 6
           },
           "mode": "lines+markers",
           "name": "user_29",
           "type": "scatter",
           "x": [
            "2020-04-19",
            "2020-04-26"
           ],
           "y": {
            "bdata": "BA4=",
            "dtype": "i1"
           }
          },
          {
           "line": {
            "width": 2
           },
           "marker": {
            "size": 6
           },
           "mode": "lines+markers",
           "name": "user_0",
           "type": "scatter",
           "x": [
            "2020-04-20"
           ],
           "y": {
            "bdata": "Aw==",
            "dtype": "i1"
           }
          },
          {
           "line": {
            "width": 2
           },
           "marker": {
            "size": 6
           },
           "mode": "lines+markers",
           "name": "user_16",
           "type": "scatter",
           "x": [
            "2020-04-20",
            "2020-04-26"
           ],
           "y": {
            "bdata": "ChQ=",
            "dtype": "i1"
           }
          },
          {
           "line": {
            "width": 2
           },
           "marker": {
            "size": 6
           },
           "mode": "lines+markers",
           "name": "user_19",
           "type": "scatter",
           "x": [
            "2020-04-20",
            "2020-04-21",
            "2020-04-23",
            "2020-04-24",
            "2020-04-25",
            "2020-04-26"
           ],
           "y": {
            "bdata": "Bw8bHS1Z",
            "dtype": "i1"
           }
          },
          {
           "line": {
            "width": 2
           },
           "marker": {
            "size": 6
           },
           "mode": "lines+markers",
           "name": "user_22",
           "type": "scatter",
           "x": [
            "2020-04-20"
           ],
           "y": {
            "bdata": "Ag==",
            "dtype": "i1"
           }
          },
          {
           "line": {
            "width": 2
           },
           "marker": {
            "size": 6
           },
           "mode": "lines+markers",
           "name": "user_25",
           "type": "scatter",
           "x": [
            "2020-04-20",
            "2020-04-21",
            "2020-04-25",
            "2020-04-26",
            "2020-04-27"
           ],
           "y": {
            "bdata": "AwUbPkA=",
            "dtype": "i1"
           }
          },
          {
           "line": {
            "width": 2
           },
           "marker": {
            "size": 6
           },
           "mode": "lines+markers",
           "name": "user_21",
           "type": "scatter",
           "x": [
            "2020-04-21",
            "2020-04-22",
            "2020-04-26"
           ],
           "y": {
            "bdata": "DyQs",
            "dtype": "i1"
           }
          },
          {
           "line": {
            "width": 2
           },
           "marker": {
            "size": 6
           },
           "mode": "lines+markers",
           "name": "user_10",
           "type": "scatter",
           "x": [
            "2020-04-22",
            "2020-04-25"
           ],
           "y": {
            "bdata": "AgY=",
            "dtype": "i1"
           }
          },
          {
           "line": {
            "width": 2
           },
           "marker": {
            "size": 6
           },
           "mode": "lines+markers",
           "name": "user_24",
           "type": "scatter",
           "x": [
            "2020-04-22",
            "2020-04-23",
            "2020-04-25"
           ],
           "y": {
            "bdata": "AQUG",
            "dtype": "i1"
           }
          },
          {
           "line": {
            "width": 2
           },
           "marker": {
            "size": 6
           },
           "mode": "lines+markers",
           "name": "user_28",
           "type": "scatter",
           "x": [
            "2020-04-22",
            "2020-04-25",
            "2020-04-26"
           ],
           "y": {
            "bdata": "Aw8o",
            "dtype": "i1"
           }
          },
          {
           "line": {
            "width": 2
           },
           "marker": {
            "size": 6
           },
           "mode": "lines+markers",
           "name": "user_3",
           "type": "scatter",
           "x": [
            "2020-04-23",
            "2020-04-26"
           ],
           "y": {
            "bdata": "AgQ=",
            "dtype": "i1"
           }
          },
          {
           "line": {
            "width": 2
           },
           "marker": {
            "size": 6
           },
           "mode": "lines+markers",
           "name": "user_31",
           "type": "scatter",
           "x": [
            "2020-04-23"
           ],
           "y": {
            "bdata": "Ag==",
            "dtype": "i1"
           }
          },
          {
           "line": {
            "width": 2
           },
           "marker": {
            "size": 6
           },
           "mode": "lines+markers",
           "name": "user_13",
           "type": "scatter",
           "x": [
            "2020-04-25",
            "2020-04-26"
           ],
           "y": {
            "bdata": "CyI=",
            "dtype": "i1"
           }
          },
          {
           "line": {
            "width": 2
           },
           "marker": {
            "size": 6
           },
           "mode": "lines+markers",
           "name": "user_15",
           "type": "scatter",
           "x": [
            "2020-04-25",
            "2020-04-26"
           ],
           "y": {
            "bdata": "Ag0=",
            "dtype": "i1"
           }
          },
          {
           "line": {
            "width": 2
           },
           "marker": {
            "size": 6
           },
           "mode": "lines+markers",
           "name": "user_20",
           "type": "scatter",
           "x": [
            "2020-04-25",
            "2020-04-26",
            "2020-04-27"
           ],
           "y": {
            "bdata": "AxYY",
            "dtype": "i1"
           }
          },
          {
           "line": {
            "width": 2
           },
           "marker": {
            "size": 6
           },
           "mode": "lines+markers",
           "name": "user_26",
           "type": "scatter",
           "x": [
            "2020-04-25"
           ],
           "y": {
            "bdata": "Dw==",
            "dtype": "i1"
           }
          },
          {
           "line": {
            "width": 2
           },
           "marker": {
            "size": 6
           },
           "mode": "lines+markers",
           "name": "user_6",
           "type": "scatter",
           "x": [
            "2020-04-25",
            "2020-04-26"
           ],
           "y": {
            "bdata": "AQo=",
            "dtype": "i1"
           }
          },
          {
           "line": {
            "width": 2
           },
           "marker": {
            "size": 6
           },
           "mode": "lines+markers",
           "name": "user_1",
           "type": "scatter",
           "x": [
            "2020-04-26"
           ],
           "y": {
            "bdata": "Fg==",
            "dtype": "i1"
           }
          },
          {
           "line": {
            "width": 2
           },
           "marker": {
            "size": 6
           },
           "mode": "lines+markers",
           "name": "user_18",
           "type": "scatter",
           "x": [
            "2020-04-26"
           ],
           "y": {
            "bdata": "BA==",
            "dtype": "i1"
           }
          },
          {
           "line": {
            "width": 2
           },
           "marker": {
            "size": 6
           },
           "mode": "lines+markers",
           "name": "user_27",
           "type": "scatter",
           "x": [
            "2020-04-26"
           ],
           "y": {
            "bdata": "Eg==",
            "dtype": "i1"
           }
          },
          {
           "line": {
            "width": 2
           },
           "marker": {
            "size": 6
           },
           "mode": "lines+markers",
           "name": "user_11",
           "type": "scatter",
           "x": [],
           "y": []
          },
          {
           "line": {
            "width": 2
           },
           "marker": {
            "size": 6
           },
           "mode": "lines+markers",
           "name": "user_7",
           "type": "scatter",
           "x": [],
           "y": []
          },
          {
           "line": {
            "width": 2
           },
           "marker": {
            "size": 6
           },
           "mode": "lines+markers",
           "name": "user_23",
           "type": "scatter",
           "x": [],
           "y": []
          }
         ],
         "name": "2020-04-27"
        },
        {
         "data": [
          {
           "line": {
            "width": 2
           },
           "marker": {
            "size": 6
           },
           "mode": "lines+markers",
           "name": "user_4",
           "type": "scatter",
           "x": [
            "2020-04-17",
            "2020-04-19",
            "2020-04-23",
            "2020-04-24",
            "2020-04-26"
           ],
           "y": {
            "bdata": "Fx8xP0E=",
            "dtype": "i1"
           }
          },
          {
           "line": {
            "width": 2
           },
           "marker": {
            "size": 6
           },
           "mode": "lines+markers",
           "name": "user_12",
           "type": "scatter",
           "x": [
            "2020-04-18",
            "2020-04-26",
            "2020-04-27"
           ],
           "y": {
            "bdata": "BxIU",
            "dtype": "i1"
           }
          },
          {
           "line": {
            "width": 2
           },
           "marker": {
            "size": 6
           },
           "mode": "lines+markers",
           "name": "user_14",
           "type": "scatter",
           "x": [
            "2020-04-18",
            "2020-04-19",
            "2020-04-26"
           ],
           "y": {
            "bdata": "KjAy",
            "dtype": "i1"
           }
          },
          {
           "line": {
            "width": 2
           },
           "marker": {
            "size": 6
           },
           "mode": "lines+markers",
           "name": "user_17",
           "type": "scatter",
           "x": [
            "2020-04-18",
            "2020-04-23",
            "2020-04-25"
           ],
           "y": {
            "bdata": "AQQT",
            "dtype": "i1"
           }
          },
          {
           "line": {
            "width": 2
           },
           "marker": {
            "size": 6
           },
           "mode": "lines+markers",
           "name": "user_2",
           "type": "scatter",
           "x": [
            "2020-04-18",
            "2020-04-19"
           ],
           "y": {
            "bdata": "EBI=",
            "dtype": "i1"
           }
          },
          {
           "line": {
            "width": 2
           },
           "marker": {
            "size": 6
           },
           "mode": "lines+markers",
           "name": "user_30",
           "type": "scatter",
           "x": [
            "2020-04-18",
            "2020-04-22",
            "2020-04-23"
           ],
           "y": {
            "bdata": "AgMF",
            "dtype": "i1"
           }
          },
          {
           "line": {
            "width": 2
           },
           "marker": {
            "size": 6
           },
           "mode": "lines+markers",
           "name": "user_8",
           "type": "scatter",
           "x": [
            "2020-04-18",
            "2020-04-19",
            "2020-04-25",
            "2020-04-26"
           ],
           "y": {
            "bdata": "AQ4QFg==",
            "dtype": "i1"
           }
          },
          {
           "line": {
            "width": 2
           },
           "marker": {
            "size": 6
           },
           "mode": "lines+markers",
           "name": "user_29",
           "type": "scatter",
           "x": [
            "2020-04-19",
            "2020-04-26"
           ],
           "y": {
            "bdata": "BA4=",
            "dtype": "i1"
           }
          },
          {
           "line": {
            "width": 2
           },
           "marker": {
            "size": 6
           },
           "mode": "lines+markers",
           "name": "user_0",
           "type": "scatter",
           "x": [
            "2020-04-20"
           ],
           "y": {
            "bdata": "Aw==",
            "dtype": "i1"
           }
          },
          {
           "line": {
            "width": 2
           },
           "marker": {
            "size": 6
           },
           "mode": "lines+markers",
           "name": "user_16",
           "type": "scatter",
           "x": [
            "2020-04-20",
            "2020-04-26"
           ],
           "y": {
            "bdata": "ChQ=",
            "dtype": "i1"
           }
          },
          {
           "line": {
            "width": 2
           },
           "marker": {
            "size": 6
           },
           "mode": "lines+markers",
           "name": "user_19",
           "type": "scatter",
           "x": [
            "2020-04-20",
            "2020-04-21",
            "2020-04-23",
            "2020-04-24",
            "2020-04-25",
            "2020-04-26"
           ],
           "y": {
            "bdata": "Bw8bHS1Z",
            "dtype": "i1"
           }
          },
          {
           "line": {
            "width": 2
           },
           "marker": {
            "size": 6
           },
           "mode": "lines+markers",
           "name": "user_22",
           "type": "scatter",
           "x": [
            "2020-04-20",
            "2020-04-28"
           ],
           "y": {
            "bdata": "AgM=",
            "dtype": "i1"
           }
          },
          {
           "line": {
            "width": 2
           },
           "marker": {
            "size": 6
           },
           "mode": "lines+markers",
           "name": "user_25",
           "type": "scatter",
           "x": [
            "2020-04-20",
            "2020-04-21",
            "2020-04-25",
            "2020-04-26",
            "2020-04-27"
           ],
           "y": {
            "bdata": "AwUbPkA=",
            "dtype": "i1"
           }
          },
          {
           "line": {
            "width": 2
           },
           "marker": {
            "size": 6
           },
           "mode": "lines+markers",
           "name": "user_21",
           "type": "scatter",
           "x": [
            "2020-04-21",
            "2020-04-22",
            "2020-04-26"
           ],
           "y": {
            "bdata": "DyQs",
            "dtype": "i1"
           }
          },
          {
           "line": {
            "width": 2
           },
           "marker": {
            "size": 6
           },
           "mode": "lines+markers",
           "name": "user_10",
           "type": "scatter",
           "x": [
            "2020-04-22",
            "2020-04-25"
           ],
           "y": {
            "bdata": "AgY=",
            "dtype": "i1"
           }
          },
          {
           "line": {
            "width": 2
           },
           "marker": {
            "size": 6
           },
           "mode": "lines+markers",
           "name": "user_24",
           "type": "scatter",
           "x": [
            "2020-04-22",
            "2020-04-23",
            "2020-04-25"
           ],
           "y": {
            "bdata": "AQUG",
            "dtype": "i1"
           }
          },
          {
           "line": {
            "width": 2
           },
           "marker": {
            "size": 6
           },
           "mode": "lines+markers",
           "name": "user_28",
           "type": "scatter",
           "x": [
            "2020-04-22",
            "2020-04-25",
            "2020-04-26",
            "2020-04-28"
           ],
           "y": {
            "bdata": "Aw8oLA==",
            "dtype": "i1"
           }
          },
          {
           "line": {
            "width": 2
           },
           "marker": {
            "size": 6
           },
           "mode": "lines+markers",
           "name": "user_3",
           "type": "scatter",
           "x": [
            "2020-04-23",
            "2020-04-26"
           ],
           "y": {
            "bdata": "AgQ=",
            "dtype": "i1"
           }
          },
          {
           "line": {
            "width": 2
           },
           "marker": {
            "size": 6
           },
           "mode": "lines+markers",
           "name": "user_31",
           "type": "scatter",
           "x": [
            "2020-04-23"
           ],
           "y": {
            "bdata": "Ag==",
            "dtype": "i1"
           }
          },
          {
           "line": {
            "width": 2
           },
           "marker": {
            "size": 6
           },
           "mode": "lines+markers",
           "name": "user_13",
           "type": "scatter",
           "x": [
            "2020-04-25",
            "2020-04-26"
           ],
           "y": {
            "bdata": "CyI=",
            "dtype": "i1"
           }
          },
          {
           "line": {
            "width": 2
           },
           "marker": {
            "size": 6
           },
           "mode": "lines+markers",
           "name": "user_15",
           "type": "scatter",
           "x": [
            "2020-04-25",
            "2020-04-26"
           ],
           "y": {
            "bdata": "Ag0=",
            "dtype": "i1"
           }
          },
          {
           "line": {
            "width": 2
           },
           "marker": {
            "size": 6
           },
           "mode": "lines+markers",
           "name": "user_20",
           "type": "scatter",
           "x": [
            "2020-04-25",
            "2020-04-26",
            "2020-04-27"
           ],
           "y": {
            "bdata": "AxYY",
            "dtype": "i1"
           }
          },
          {
           "line": {
            "width": 2
           },
           "marker": {
            "size": 6
           },
           "mode": "lines+markers",
           "name": "user_26",
           "type": "scatter",
           "x": [
            "2020-04-25"
           ],
           "y": {
            "bdata": "Dw==",
            "dtype": "i1"
           }
          },
          {
           "line": {
            "width": 2
           },
           "marker": {
            "size": 6
           },
           "mode": "lines+markers",
           "name": "user_6",
           "type": "scatter",
           "x": [
            "2020-04-25",
            "2020-04-26"
           ],
           "y": {
            "bdata": "AQo=",
            "dtype": "i1"
           }
          },
          {
           "line": {
            "width": 2
           },
           "marker": {
            "size": 6
           },
           "mode": "lines+markers",
           "name": "user_1",
           "type": "scatter",
           "x": [
            "2020-04-26"
           ],
           "y": {
            "bdata": "Fg==",
            "dtype": "i1"
           }
          },
          {
           "line": {
            "width": 2
           },
           "marker": {
            "size": 6
           },
           "mode": "lines+markers",
           "name": "user_18",
           "type": "scatter",
           "x": [
            "2020-04-26"
           ],
           "y": {
            "bdata": "BA==",
            "dtype": "i1"
           }
          },
          {
           "line": {
            "width": 2
           },
           "marker": {
            "size": 6
           },
           "mode": "lines+markers",
           "name": "user_27",
           "type": "scatter",
           "x": [
            "2020-04-26"
           ],
           "y": {
            "bdata": "Eg==",
            "dtype": "i1"
           }
          },
          {
           "line": {
            "width": 2
           },
           "marker": {
            "size": 6
           },
           "mode": "lines+markers",
           "name": "user_11",
           "type": "scatter",
           "x": [],
           "y": []
          },
          {
           "line": {
            "width": 2
           },
           "marker": {
            "size": 6
           },
           "mode": "lines+markers",
           "name": "user_7",
           "type": "scatter",
           "x": [],
           "y": []
          },
          {
           "line": {
            "width": 2
           },
           "marker": {
            "size": 6
           },
           "mode": "lines+markers",
           "name": "user_23",
           "type": "scatter",
           "x": [],
           "y": []
          }
         ],
         "name": "2020-04-28"
        },
        {
         "data": [
          {
           "line": {
            "width": 2
           },
           "marker": {
            "size": 6
           },
           "mode": "lines+markers",
           "name": "user_4",
           "type": "scatter",
           "x": [
            "2020-04-17",
            "2020-04-19",
            "2020-04-23",
            "2020-04-24",
            "2020-04-26",
            "2020-04-29"
           ],
           "y": {
            "bdata": "Fx8xP0FK",
            "dtype": "i1"
           }
          },
          {
           "line": {
            "width": 2
           },
           "marker": {
            "size": 6
           },
           "mode": "lines+markers",
           "name": "user_12",
           "type": "scatter",
           "x": [
            "2020-04-18",
            "2020-04-26",
            "2020-04-27"
           ],
           "y": {
            "bdata": "BxIU",
            "dtype": "i1"
           }
          },
          {
           "line": {
            "width": 2
           },
           "marker": {
            "size": 6
           },
           "mode": "lines+markers",
           "name": "user_14",
           "type": "scatter",
           "x": [
            "2020-04-18",
            "2020-04-19",
            "2020-04-26"
           ],
           "y": {
            "bdata": "KjAy",
            "dtype": "i1"
           }
          },
          {
           "line": {
            "width": 2
           },
           "marker": {
            "size": 6
           },
           "mode": "lines+markers",
           "name": "user_17",
           "type": "scatter",
           "x": [
            "2020-04-18",
            "2020-04-23",
            "2020-04-25"
           ],
           "y": {
            "bdata": "AQQT",
            "dtype": "i1"
           }
          },
          {
           "line": {
            "width": 2
           },
           "marker": {
            "size": 6
           },
           "mode": "lines+markers",
           "name": "user_2",
           "type": "scatter",
           "x": [
            "2020-04-18",
            "2020-04-19"
           ],
           "y": {
            "bdata": "EBI=",
            "dtype": "i1"
           }
          },
          {
           "line": {
            "width": 2
           },
           "marker": {
            "size": 6
           },
           "mode": "lines+markers",
           "name": "user_30",
           "type": "scatter",
           "x": [
            "2020-04-18",
            "2020-04-22",
            "2020-04-23"
           ],
           "y": {
            "bdata": "AgMF",
            "dtype": "i1"
           }
          },
          {
           "line": {
            "width": 2
           },
           "marker": {
            "size": 6
           },
           "mode": "lines+markers",
           "name": "user_8",
           "type": "scatter",
           "x": [
            "2020-04-18",
            "2020-04-19",
            "2020-04-25",
            "2020-04-26"
           ],
           "y": {
            "bdata": "AQ4QFg==",
            "dtype": "i1"
           }
          },
          {
           "line": {
            "width": 2
           },
           "marker": {
            "size": 6
           },
           "mode": "lines+markers",
           "name": "user_29",
           "type": "scatter",
           "x": [
            "2020-04-19",
            "2020-04-26"
           ],
           "y": {
            "bdata": "BA4=",
            "dtype": "i1"
           }
          },
          {
           "line": {
            "width": 2
           },
           "marker": {
            "size": 6
           },
           "mode": "lines+markers",
           "name": "user_0",
           "type": "scatter",
           "x": [
            "2020-04-20"
           ],
           "y": {
            "bdata": "Aw==",
            "dtype": "i1"
           }
          },
          {
           "line": {
            "width": 2
           },
           "marker": {
            "size": 6
           },
           "mode": "lines+markers",
           "name": "user_16",
           "type": "scatter",
           "x": [
            "2020-04-20",
            "2020-04-26"
           ],
           "y": {
            "bdata": "ChQ=",
            "dtype": "i1"
           }
          },
          {
           "line": {
            "width": 2
           },
           "marker": {
            "size": 6
           },
           "mode": "lines+markers",
           "name": "user_19",
           "type": "scatter",
           "x": [
            "2020-04-20",
            "2020-04-21",
            "2020-04-23",
            "2020-04-24",
            "2020-04-25",
            "2020-04-26"
           ],
           "y": {
            "bdata": "Bw8bHS1Z",
            "dtype": "i1"
           }
          },
          {
           "line": {
            "width": 2
           },
           "marker": {
            "size": 6
           },
           "mode": "lines+markers",
           "name": "user_22",
           "type": "scatter",
           "x": [
            "2020-04-20",
            "2020-04-28"
           ],
           "y": {
            "bdata": "AgM=",
            "dtype": "i1"
           }
          },
          {
           "line": {
            "width": 2
           },
           "marker": {
            "size": 6
           },
           "mode": "lines+markers",
           "name": "user_25",
           "type": "scatter",
           "x": [
            "2020-04-20",
            "2020-04-21",
            "2020-04-25",
            "2020-04-26",
            "2020-04-27"
           ],
           "y": {
            "bdata": "AwUbPkA=",
            "dtype": "i1"
           }
          },
          {
           "line": {
            "width": 2
           },
           "marker": {
            "size": 6
           },
           "mode": "lines+markers",
           "name": "user_21",
           "type": "scatter",
           "x": [
            "2020-04-21",
            "2020-04-22",
            "2020-04-26"
           ],
           "y": {
            "bdata": "DyQs",
            "dtype": "i1"
           }
          },
          {
           "line": {
            "width": 2
           },
           "marker": {
            "size": 6
           },
           "mode": "lines+markers",
           "name": "user_10",
           "type": "scatter",
           "x": [
            "2020-04-22",
            "2020-04-25"
           ],
           "y": {
            "bdata": "AgY=",
            "dtype": "i1"
           }
          },
          {
           "line": {
            "width": 2
           },
           "marker": {
            "size": 6
           },
           "mode": "lines+markers",
           "name": "user_24",
           "type": "scatter",
           "x": [
            "2020-04-22",
            "2020-04-23",
            "2020-04-25"
           ],
           "y": {
            "bdata": "AQUG",
            "dtype": "i1"
           }
          },
          {
           "line": {
            "width": 2
           },
           "marker": {
            "size": 6
           },
           "mode": "lines+markers",
           "name": "user_28",
           "type": "scatter",
           "x": [
            "2020-04-22",
            "2020-04-25",
            "2020-04-26",
            "2020-04-28"
           ],
           "y": {
            "bdata": "Aw8oLA==",
            "dtype": "i1"
           }
          },
          {
           "line": {
            "width": 2
           },
           "marker": {
            "size": 6
           },
           "mode": "lines+markers",
           "name": "user_3",
           "type": "scatter",
           "x": [
            "2020-04-23",
            "2020-04-26"
           ],
           "y": {
            "bdata": "AgQ=",
            "dtype": "i1"
           }
          },
          {
           "line": {
            "width": 2
           },
           "marker": {
            "size": 6
           },
           "mode": "lines+markers",
           "name": "user_31",
           "type": "scatter",
           "x": [
            "2020-04-23"
           ],
           "y": {
            "bdata": "Ag==",
            "dtype": "i1"
           }
          },
          {
           "line": {
            "width": 2
           },
           "marker": {
            "size": 6
           },
           "mode": "lines+markers",
           "name": "user_13",
           "type": "scatter",
           "x": [
            "2020-04-25",
            "2020-04-26"
           ],
           "y": {
            "bdata": "CyI=",
            "dtype": "i1"
           }
          },
          {
           "line": {
            "width": 2
           },
           "marker": {
            "size": 6
           },
           "mode": "lines+markers",
           "name": "user_15",
           "type": "scatter",
           "x": [
            "2020-04-25",
            "2020-04-26"
           ],
           "y": {
            "bdata": "Ag0=",
            "dtype": "i1"
           }
          },
          {
           "line": {
            "width": 2
           },
           "marker": {
            "size": 6
           },
           "mode": "lines+markers",
           "name": "user_20",
           "type": "scatter",
           "x": [
            "2020-04-25",
            "2020-04-26",
            "2020-04-27",
            "2020-04-29"
           ],
           "y": {
            "bdata": "AxYYIA==",
            "dtype": "i1"
           }
          },
          {
           "line": {
            "width": 2
           },
           "marker": {
            "size": 6
           },
           "mode": "lines+markers",
           "name": "user_26",
           "type": "scatter",
           "x": [
            "2020-04-25"
           ],
           "y": {
            "bdata": "Dw==",
            "dtype": "i1"
           }
          },
          {
           "line": {
            "width": 2
           },
           "marker": {
            "size": 6
           },
           "mode": "lines+markers",
           "name": "user_6",
           "type": "scatter",
           "x": [
            "2020-04-25",
            "2020-04-26"
           ],
           "y": {
            "bdata": "AQo=",
            "dtype": "i1"
           }
          },
          {
           "line": {
            "width": 2
           },
           "marker": {
            "size": 6
           },
           "mode": "lines+markers",
           "name": "user_1",
           "type": "scatter",
           "x": [
            "2020-04-26"
           ],
           "y": {
            "bdata": "Fg==",
            "dtype": "i1"
           }
          },
          {
           "line": {
            "width": 2
           },
           "marker": {
            "size": 6
           },
           "mode": "lines+markers",
           "name": "user_18",
           "type": "scatter",
           "x": [
            "2020-04-26"
           ],
           "y": {
            "bdata": "BA==",
            "dtype": "i1"
           }
          },
          {
           "line": {
            "width": 2
           },
           "marker": {
            "size": 6
           },
           "mode": "lines+markers",
           "name": "user_27",
           "type": "scatter",
           "x": [
            "2020-04-26"
           ],
           "y": {
            "bdata": "Eg==",
            "dtype": "i1"
           }
          },
          {
           "line": {
            "width": 2
           },
           "marker": {
            "size": 6
           },
           "mode": "lines+markers",
           "name": "user_11",
           "type": "scatter",
           "x": [],
           "y": []
          },
          {
           "line": {
            "width": 2
           },
           "marker": {
            "size": 6
           },
           "mode": "lines+markers",
           "name": "user_7",
           "type": "scatter",
           "x": [],
           "y": []
          },
          {
           "line": {
            "width": 2
           },
           "marker": {
            "size": 6
           },
           "mode": "lines+markers",
           "name": "user_23",
           "type": "scatter",
           "x": [],
           "y": []
          }
         ],
         "name": "2020-04-29"
        },
        {
         "data": [
          {
           "line": {
            "width": 2
           },
           "marker": {
            "size": 6
           },
           "mode": "lines+markers",
           "name": "user_4",
           "type": "scatter",
           "x": [
            "2020-04-17",
            "2020-04-19",
            "2020-04-23",
            "2020-04-24",
            "2020-04-26",
            "2020-04-29"
           ],
           "y": {
            "bdata": "Fx8xP0FK",
            "dtype": "i1"
           }
          },
          {
           "line": {
            "width": 2
           },
           "marker": {
            "size": 6
           },
           "mode": "lines+markers",
           "name": "user_12",
           "type": "scatter",
           "x": [
            "2020-04-18",
            "2020-04-26",
            "2020-04-27"
           ],
           "y": {
            "bdata": "BxIU",
            "dtype": "i1"
           }
          },
          {
           "line": {
            "width": 2
           },
           "marker": {
            "size": 6
           },
           "mode": "lines+markers",
           "name": "user_14",
           "type": "scatter",
           "x": [
            "2020-04-18",
            "2020-04-19",
            "2020-04-26",
            "2020-04-30"
           ],
           "y": {
            "bdata": "KjAyMw==",
            "dtype": "i1"
           }
          },
          {
           "line": {
            "width": 2
           },
           "marker": {
            "size": 6
           },
           "mode": "lines+markers",
           "name": "user_17",
           "type": "scatter",
           "x": [
            "2020-04-18",
            "2020-04-23",
            "2020-04-25"
           ],
           "y": {
            "bdata": "AQQT",
            "dtype": "i1"
           }
          },
          {
           "line": {
            "width": 2
           },
           "marker": {
            "size": 6
           },
           "mode": "lines+markers",
           "name": "user_2",
           "type": "scatter",
           "x": [
            "2020-04-18",
            "2020-04-19"
           ],
           "y": {
            "bdata": "EBI=",
            "dtype": "i1"
           }
          },
          {
           "line": {
            "width": 2
           },
           "marker": {
            "size": 6
           },
           "mode": "lines+markers",
           "name": "user_30",
           "type": "scatter",
           "x": [
            "2020-04-18",
            "2020-04-22",
            "2020-04-23"
           ],
           "y": {
            "bdata": "AgMF",
            "dtype": "i1"
           }
          },
          {
           "line": {
            "width": 2
           },
           "marker": {
            "size": 6
           },
           "mode": "lines+markers",
           "name": "user_8",
           "type": "scatter",
           "x": [
            "2020-04-18",
            "2020-04-19",
            "2020-04-25",
            "2020-04-26"
           ],
           "y": {
            "bdata": "AQ4QFg==",
            "dtype": "i1"
           }
          },
          {
           "line": {
            "width": 2
           },
           "marker": {
            "size": 6
           },
           "mode": "lines+markers",
           "name": "user_29",
           "type": "scatter",
           "x": [
            "2020-04-19",
            "2020-04-26",
            "2020-04-30"
           ],
           "y": {
            "bdata": "BA4l",
            "dtype": "i1"
           }
          },
          {
           "line": {
            "width": 2
           },
           "marker": {
            "size": 6
           },
           "mode": "lines+markers",
           "name": "user_0",
           "type": "scatter",
           "x": [
            "2020-04-20"
           ],
           "y": {
            "bdata": "Aw==",
            "dtype": "i1"
           }
          },
          {
           "line": {
            "width": 2
           },
           "marker": {
            "size": 6
           },
           "mode": "lines+markers",
           "name": "user_16",
           "type": "scatter",
           "x": [
            "2020-04-20",
            "2020-04-26"
           ],
           "y": {
            "bdata": "ChQ=",
            "dtype": "i1"
           }
          },
          {
           "line": {
            "width": 2
           },
           "marker": {
            "size": 6
           },
           "mode": "lines+markers",
           "name": "user_19",
           "type": "scatter",
           "x": [
            "2020-04-20",
            "2020-04-21",
            "2020-04-23",
            "2020-04-24",
            "2020-04-25",
            "2020-04-26"
           ],
           "y": {
            "bdata": "Bw8bHS1Z",
            "dtype": "i1"
           }
          },
          {
           "line": {
            "width": 2
           },
           "marker": {
            "size": 6
           },
           "mode": "lines+markers",
           "name": "user_22",
           "type": "scatter",
           "x": [
            "2020-04-20",
            "2020-04-28"
           ],
           "y": {
            "bdata": "AgM=",
            "dtype": "i1"
           }
          },
          {
           "line": {
            "width": 2
           },
           "marker": {
            "size": 6
           },
           "mode": "lines+markers",
           "name": "user_25",
           "type": "scatter",
           "x": [
            "2020-04-20",
            "2020-04-21",
            "2020-04-25",
            "2020-04-26",
            "2020-04-27"
           ],
           "y": {
            "bdata": "AwUbPkA=",
            "dtype": "i1"
           }
          },
          {
           "line": {
            "width": 2
           },
           "marker": {
            "size": 6
           },
           "mode": "lines+markers",
           "name": "user_21",
           "type": "scatter",
           "x": [
            "2020-04-21",
            "2020-04-22",
            "2020-04-26"
           ],
           "y": {
            "bdata": "DyQs",
            "dtype": "i1"
           }
          },
          {
           "line": {
            "width": 2
           },
           "marker": {
            "size": 6
           },
           "mode": "lines+markers",
           "name": "user_10",
           "type": "scatter",
           "x": [
            "2020-04-22",
            "2020-04-25",
            "2020-04-30"
           ],
           "y": {
            "bdata": "AgYI",
            "dtype": "i1"
           }
          },
          {
           "line": {
            "width": 2
           },
           "marker": {
            "size": 6
           },
           "mode": "lines+markers",
           "name": "user_24",
           "type": "scatter",
           "x": [
            "2020-04-22",
            "2020-04-23",
            "2020-04-25"
           ],
           "y": {
            "bdata": "AQUG",
            "dtype": "i1"
           }
          },
          {
           "line": {
            "width": 2
           },
           "marker": {
            "size": 6
           },
           "mode": "lines+markers",
           "name": "user_28",
           "type": "scatter",
           "x": [
            "2020-04-22",
            "2020-04-25",
            "2020-04-26",
            "2020-04-28"
           ],
           "y": {
            "bdata": "Aw8oLA==",
            "dtype": "i1"
           }
          },
          {
           "line": {
            "width": 2
           },
           "marker": {
            "size": 6
           },
           "mode": "lines+markers",
           "name": "user_3",
           "type": "scatter",
           "x": [
            "2020-04-23",
            "2020-04-26"
           ],
           "y": {
            "bdata": "AgQ=",
            "dtype": "i1"
           }
          },
          {
           "line": {
            "width": 2
           },
           "marker": {
            "size": 6
           },
           "mode": "lines+markers",
           "name": "user_31",
           "type": "scatter",
           "x": [
            "2020-04-23"
           ],
           "y": {
            "bdata": "Ag==",
            "dtype": "i1"
           }
          },
          {
           "line": {
            "width": 2
           },
           "marker": {
            "size": 6
           },
           "mode": "lines+markers",
           "name": "user_13",
           "type": "scatter",
           "x": [
            "2020-04-25",
            "2020-04-26"
           ],
           "y": {
            "bdata": "CyI=",
            "dtype": "i1"
           }
          },
          {
           "line": {
            "width": 2
           },
           "marker": {
            "size": 6
           },
           "mode": "lines+markers",
           "name": "user_15",
           "type": "scatter",
           "x": [
            "2020-04-25",
            "2020-04-26"
           ],
           "y": {
            "bdata": "Ag0=",
            "dtype": "i1"
           }
          },
          {
           "line": {
            "width": 2
           },
           "marker": {
            "size": 6
           },
           "mode": "lines+markers",
           "name": "user_20",
           "type": "scatter",
           "x": [
            "2020-04-25",
            "2020-04-26",
            "2020-04-27",
            "2020-04-29",
            "2020-04-30"
           ],
           "y": {
            "bdata": "AxYYICo=",
            "dtype": "i1"
           }
          },
          {
           "line": {
            "width": 2
           },
           "marker": {
            "size": 6
           },
           "mode": "lines+markers",
           "name": "user_26",
           "type": "scatter",
           "x": [
            "2020-04-25",
            "2020-04-30"
           ],
           "y": {
            "bdata": "DyA=",
            "dtype": "i1"
           }
          },
          {
           "line": {
            "width": 2
           },
           "marker": {
            "size": 6
           },
           "mode": "lines+markers",
           "name": "user_6",
           "type": "scatter",
           "x": [
            "2020-04-25",
            "2020-04-26"
           ],
           "y": {
            "bdata": "AQo=",
            "dtype": "i1"
           }
          },
          {
           "line": {
            "width": 2
           },
           "marker": {
            "size": 6
           },
           "mode": "lines+markers",
           "name": "user_1",
           "type": "scatter",
           "x": [
            "2020-04-26"
           ],
           "y": {
            "bdata": "Fg==",
            "dtype": "i1"
           }
          },
          {
           "line": {
            "width": 2
           },
           "marker": {
            "size": 6
           },
           "mode": "lines+markers",
           "name": "user_18",
           "type": "scatter",
           "x": [
            "2020-04-26"
           ],
           "y": {
            "bdata": "BA==",
            "dtype": "i1"
           }
          },
          {
           "line": {
            "width": 2
           },
           "marker": {
            "size": 6
           },
           "mode": "lines+markers",
           "name": "user_27",
           "type": "scatter",
           "x": [
            "2020-04-26"
           ],
           "y": {
            "bdata": "Eg==",
            "dtype": "i1"
           }
          },
          {
           "line": {
            "width": 2
           },
           "marker": {
            "size": 6
           },
           "mode": "lines+markers",
           "name": "user_11",
           "type": "scatter",
           "x": [],
           "y": []
          },
          {
           "line": {
            "width": 2
           },
           "marker": {
            "size": 6
           },
           "mode": "lines+markers",
           "name": "user_7",
           "type": "scatter",
           "x": [],
           "y": []
          },
          {
           "line": {
            "width": 2
           },
           "marker": {
            "size": 6
           },
           "mode": "lines+markers",
           "name": "user_23",
           "type": "scatter",
           "x": [],
           "y": []
          }
         ],
         "name": "2020-04-30"
        },
        {
         "data": [
          {
           "line": {
            "width": 2
           },
           "marker": {
            "size": 6
           },
           "mode": "lines+markers",
           "name": "user_4",
           "type": "scatter",
           "x": [
            "2020-04-17",
            "2020-04-19",
            "2020-04-23",
            "2020-04-24",
            "2020-04-26",
            "2020-04-29"
           ],
           "y": {
            "bdata": "Fx8xP0FK",
            "dtype": "i1"
           }
          },
          {
           "line": {
            "width": 2
           },
           "marker": {
            "size": 6
           },
           "mode": "lines+markers",
           "name": "user_12",
           "type": "scatter",
           "x": [
            "2020-04-18",
            "2020-04-26",
            "2020-04-27"
           ],
           "y": {
            "bdata": "BxIU",
            "dtype": "i1"
           }
          },
          {
           "line": {
            "width": 2
           },
           "marker": {
            "size": 6
           },
           "mode": "lines+markers",
           "name": "user_14",
           "type": "scatter",
           "x": [
            "2020-04-18",
            "2020-04-19",
            "2020-04-26",
            "2020-04-30"
           ],
           "y": {
            "bdata": "KjAyMw==",
            "dtype": "i1"
           }
          },
          {
           "line": {
            "width": 2
           },
           "marker": {
            "size": 6
           },
           "mode": "lines+markers",
           "name": "user_17",
           "type": "scatter",
           "x": [
            "2020-04-18",
            "2020-04-23",
            "2020-04-25"
           ],
           "y": {
            "bdata": "AQQT",
            "dtype": "i1"
           }
          },
          {
           "line": {
            "width": 2
           },
           "marker": {
            "size": 6
           },
           "mode": "lines+markers",
           "name": "user_2",
           "type": "scatter",
           "x": [
            "2020-04-18",
            "2020-04-19"
           ],
           "y": {
            "bdata": "EBI=",
            "dtype": "i1"
           }
          },
          {
           "line": {
            "width": 2
           },
           "marker": {
            "size": 6
           },
           "mode": "lines+markers",
           "name": "user_30",
           "type": "scatter",
           "x": [
            "2020-04-18",
            "2020-04-22",
            "2020-04-23",
            "2020-05-01"
           ],
           "y": {
            "bdata": "AgMFCA==",
            "dtype": "i1"
           }
          },
          {
           "line": {
            "width": 2
           },
           "marker": {
            "size": 6
           },
           "mode": "lines+markers",
           "name": "user_8",
           "type": "scatter",
           "x": [
            "2020-04-18",
            "2020-04-19",
            "2020-04-25",
            "2020-04-26"
           ],
           "y": {
            "bdata": "AQ4QFg==",
            "dtype": "i1"
           }
          },
          {
           "line": {
            "width": 2
           },
           "marker": {
            "size": 6
           },
           "mode": "lines+markers",
           "name": "user_29",
           "type": "scatter",
           "x": [
            "2020-04-19",
            "2020-04-26",
            "2020-04-30",
            "2020-05-01"
           ],
           "y": {
            "bdata": "BA4lJg==",
            "dtype": "i1"
           }
          },
          {
           "line": {
            "width": 2
           },
           "marker": {
            "size": 6
           },
           "mode": "lines+markers",
           "name": "user_0",
           "type": "scatter",
           "x": [
            "2020-04-20"
           ],
           "y": {
            "bdata": "Aw==",
            "dtype": "i1"
           }
          },
          {
           "line": {
            "width": 2
           },
           "marker": {
            "size": 6
           },
           "mode": "lines+markers",
           "name": "user_16",
           "type": "scatter",
           "x": [
            "2020-04-20",
            "2020-04-26"
           ],
           "y": {
            "bdata": "ChQ=",
            "dtype": "i1"
           }
          },
          {
           "line": {
            "width": 2
           },
           "marker": {
            "size": 6
           },
           "mode": "lines+markers",
           "name": "user_19",
           "type": "scatter",
           "x": [
            "2020-04-20",
            "2020-04-21",
            "2020-04-23",
            "2020-04-24",
            "2020-04-25",
            "2020-04-26"
           ],
           "y": {
            "bdata": "Bw8bHS1Z",
            "dtype": "i1"
           }
          },
          {
           "line": {
            "width": 2
           },
           "marker": {
            "size": 6
           },
           "mode": "lines+markers",
           "name": "user_22",
           "type": "scatter",
           "x": [
            "2020-04-20",
            "2020-04-28"
           ],
           "y": {
            "bdata": "AgM=",
            "dtype": "i1"
           }
          },
          {
           "line": {
            "width": 2
           },
           "marker": {
            "size": 6
           },
           "mode": "lines+markers",
           "name": "user_25",
           "type": "scatter",
           "x": [
            "2020-04-20",
            "2020-04-21",
            "2020-04-25",
            "2020-04-26",
            "2020-04-27",
            "2020-05-01"
           ],
           "y": {
            "bdata": "AwUbPkBB",
            "dtype": "i1"
           }
          },
          {
           "line": {
            "width": 2
           },
           "marker": {
            "size": 6
           },
           "mode": "lines+markers",
           "name": "user_21",
           "type": "scatter",
           "x": [
            "2020-04-21",
            "2020-04-22",
            "2020-04-26"
           ],
           "y": {
            "bdata": "DyQs",
            "dtype": "i1"
           }
          },
          {
           "line": {
            "width": 2
           },
           "marker": {
            "size": 6
           },
           "mode": "lines+markers",
           "name": "user_10",
           "type": "scatter",
           "x": [
            "2020-04-22",
            "2020-04-25",
            "2020-04-30",
            "2020-05-01"
           ],
           "y": {
            "bdata": "AgYICQ==",
            "dtype": "i1"
           }
          },
          {
           "line": {
            "width": 2
           },
           "marker": {
            "size": 6
           },
           "mode": "lines+markers",
           "name": "user_24",
           "type": "scatter",
           "x": [
            "2020-04-22",
            "2020-04-23",
            "2020-04-25"
           ],
           "y": {
            "bdata": "AQUG",
            "dtype": "i1"
           }
          },
          {
           "line": {
            "width": 2
           },
           "marker": {
            "size": 6
           },
           "mode": "lines+markers",
           "name": "user_28",
           "type": "scatter",
           "x": [
            "2020-04-22",
            "2020-04-25",
            "2020-04-26",
            "2020-04-28",
            "2020-05-01"
           ],
           "y": {
            "bdata": "Aw8oLDE=",
            "dtype": "i1"
           }
          },
          {
           "line": {
            "width": 2
           },
           "marker": {
            "size": 6
           },
           "mode": "lines+markers",
           "name": "user_3",
           "type": "scatter",
           "x": [
            "2020-04-23",
            "2020-04-26",
            "2020-05-01"
           ],
           "y": {
            "bdata": "AgQJ",
            "dtype": "i1"
           }
          },
          {
           "line": {
            "width": 2
           },
           "marker": {
            "size": 6
           },
           "mode": "lines+markers",
           "name": "user_31",
           "type": "scatter",
           "x": [
            "2020-04-23",
            "2020-05-01"
           ],
           "y": {
            "bdata": "AiU=",
            "dtype": "i1"
           }
          },
          {
           "line": {
            "width": 2
           },
           "marker": {
            "size": 6
           },
           "mode": "lines+markers",
           "name": "user_13",
           "type": "scatter",
           "x": [
            "2020-04-25",
            "2020-04-26"
           ],
           "y": {
            "bdata": "CyI=",
            "dtype": "i1"
           }
          },
          {
           "line": {
            "width": 2
           },
           "marker": {
            "size": 6
           },
           "mode": "lines+markers",
           "name": "user_15",
           "type": "scatter",
           "x": [
            "2020-04-25",
            "2020-04-26"
           ],
           "y": {
            "bdata": "Ag0=",
            "dtype": "i1"
           }
          },
          {
           "line": {
            "width": 2
           },
           "marker": {
            "size": 6
           },
           "mode": "lines+markers",
           "name": "user_20",
           "type": "scatter",
           "x": [
            "2020-04-25",
            "2020-04-26",
            "2020-04-27",
            "2020-04-29",
            "2020-04-30",
            "2020-05-01"
           ],
           "y": {
            "bdata": "AxYYICox",
            "dtype": "i1"
           }
          },
          {
           "line": {
            "width": 2
           },
           "marker": {
            "size": 6
           },
           "mode": "lines+markers",
           "name": "user_26",
           "type": "scatter",
           "x": [
            "2020-04-25",
            "2020-04-30",
            "2020-05-01"
           ],
           "y": {
            "bdata": "DyAi",
            "dtype": "i1"
           }
          },
          {
           "line": {
            "width": 2
           },
           "marker": {
            "size": 6
           },
           "mode": "lines+markers",
           "name": "user_6",
           "type": "scatter",
           "x": [
            "2020-04-25",
            "2020-04-26"
           ],
           "y": {
            "bdata": "AQo=",
            "dtype": "i1"
           }
          },
          {
           "line": {
            "width": 2
           },
           "marker": {
            "size": 6
           },
           "mode": "lines+markers",
           "name": "user_1",
           "type": "scatter",
           "x": [
            "2020-04-26"
           ],
           "y": {
            "bdata": "Fg==",
            "dtype": "i1"
           }
          },
          {
           "line": {
            "width": 2
           },
           "marker": {
            "size": 6
           },
           "mode": "lines+markers",
           "name": "user_18",
           "type": "scatter",
           "x": [
            "2020-04-26"
           ],
           "y": {
            "bdata": "BA==",
            "dtype": "i1"
           }
          },
          {
           "line": {
            "width": 2
           },
           "marker": {
            "size": 6
           },
           "mode": "lines+markers",
           "name": "user_27",
           "type": "scatter",
           "x": [
            "2020-04-26"
           ],
           "y": {
            "bdata": "Eg==",
            "dtype": "i1"
           }
          },
          {
           "line": {
            "width": 2
           },
           "marker": {
            "size": 6
           },
           "mode": "lines+markers",
           "name": "user_11",
           "type": "scatter",
           "x": [],
           "y": []
          },
          {
           "line": {
            "width": 2
           },
           "marker": {
            "size": 6
           },
           "mode": "lines+markers",
           "name": "user_7",
           "type": "scatter",
           "x": [],
           "y": []
          },
          {
           "line": {
            "width": 2
           },
           "marker": {
            "size": 6
           },
           "mode": "lines+markers",
           "name": "user_23",
           "type": "scatter",
           "x": [],
           "y": []
          }
         ],
         "name": "2020-05-01"
        },
        {
         "data": [
          {
           "line": {
            "width": 2
           },
           "marker": {
            "size": 6
           },
           "mode": "lines+markers",
           "name": "user_4",
           "type": "scatter",
           "x": [
            "2020-04-17",
            "2020-04-19",
            "2020-04-23",
            "2020-04-24",
            "2020-04-26",
            "2020-04-29"
           ],
           "y": {
            "bdata": "Fx8xP0FK",
            "dtype": "i1"
           }
          },
          {
           "line": {
            "width": 2
           },
           "marker": {
            "size": 6
           },
           "mode": "lines+markers",
           "name": "user_12",
           "type": "scatter",
           "x": [
            "2020-04-18",
            "2020-04-26",
            "2020-04-27"
           ],
           "y": {
            "bdata": "BxIU",
            "dtype": "i1"
           }
          },
          {
           "line": {
            "width": 2
           },
           "marker": {
            "size": 6
           },
           "mode": "lines+markers",
           "name": "user_14",
           "type": "scatter",
           "x": [
            "2020-04-18",
            "2020-04-19",
            "2020-04-26",
            "2020-04-30",
            "2020-05-02"
           ],
           "y": {
            "bdata": "KjAyMzY=",
            "dtype": "i1"
           }
          },
          {
           "line": {
            "width": 2
           },
           "marker": {
            "size": 6
           },
           "mode": "lines+markers",
           "name": "user_17",
           "type": "scatter",
           "x": [
            "2020-04-18",
            "2020-04-23",
            "2020-04-25",
            "2020-05-02"
           ],
           "y": {
            "bdata": "AQQTIw==",
            "dtype": "i1"
           }
          },
          {
           "line": {
            "width": 2
           },
           "marker": {
            "size": 6
           },
           "mode": "lines+markers",
           "name": "user_2",
           "type": "scatter",
           "x": [
            "2020-04-18",
            "2020-04-19",
            "2020-05-02"
           ],
           "y": {
            "bdata": "EBIh",
            "dtype": "i1"
           }
          },
          {
           "line": {
            "width": 2
           },
           "marker": {
            "size": 6
           },
           "mode": "lines+markers",
           "name": "user_30",
           "type": "scatter",
           "x": [
            "2020-04-18",
            "2020-04-22",
            "2020-04-23",
            "2020-05-01",
            "2020-05-02"
           ],
           "y": {
            "bdata": "AgMFCBw=",
            "dtype": "i1"
           }
          },
          {
           "line": {
            "width": 2
           },
           "marker": {
            "size": 6
           },
           "mode": "lines+markers",
           "name": "user_8",
           "type": "scatter",
           "x": [
            "2020-04-18",
            "2020-04-19",
            "2020-04-25",
            "2020-04-26",
            "2020-05-02"
           ],
           "y": {
            "bdata": "AQ4QFj0=",
            "dtype": "i1"
           }
          },
          {
           "line": {
            "width": 2
           },
           "marker": {
            "size": 6
           },
           "mode": "lines+markers",
           "name": "user_29",
           "type": "scatter",
           "x": [
            "2020-04-19",
            "2020-04-26",
            "2020-04-30",
            "2020-05-01",
            "2020-05-02"
           ],
           "y": {
            "bdata": "BA4lJig=",
            "dtype": "i1"
           }
          },
          {
           "line": {
            "width": 2
           },
           "marker": {
            "size": 6
           },
           "mode": "lines+markers",
           "name": "user_0",
           "type": "scatter",
           "x": [
            "2020-04-20"
           ],
           "y": {
            "bdata": "Aw==",
            "dtype": "i1"
           }
          },
          {
           "line": {
            "width": 2
           },
           "marker": {
            "size": 6
           },
           "mode": "lines+markers",
           "name": "user_16",
           "type": "scatter",
           "x": [
            "2020-04-20",
            "2020-04-26"
           ],
           "y": {
            "bdata": "ChQ=",
            "dtype": "i1"
           }
          },
          {
           "line": {
            "width": 2
           },
           "marker": {
            "size": 6
           },
           "mode": "lines+markers",
           "name": "user_19",
           "type": "scatter",
           "x": [
            "2020-04-20",
            "2020-04-21",
            "2020-04-23",
            "2020-04-24",
            "2020-04-25",
            "2020-04-26",
            "2020-05-02"
           ],
           "y": {
            "bdata": "Bw8bHS1ZXg==",
            "dtype": "i1"
           }
          },
          {
           "line": {
            "width": 2
           },
           "marker": {
            "size": 6
           },
           "mode": "lines+markers",
           "name": "user_22",
           "type": "scatter",
           "x": [
            "2020-04-20",
            "2020-04-28"
           ],
           "y": {
            "bdata": "AgM=",
            "dtype": "i1"
           }
          },
          {
           "line": {
            "width": 2
           },
           "marker": {
            "size": 6
           },
           "mode": "lines+markers",
           "name": "user_25",
           "type": "scatter",
           "x": [
            "2020-04-20",
            "2020-04-21",
            "2020-04-25",
            "2020-04-26",
            "2020-04-27",
            "2020-05-01"
           ],
           "y": {
            "bdata": "AwUbPkBB",
            "dtype": "i1"
           }
          },
          {
           "line": {
            "width": 2
           },
           "marker": {
            "size": 6
           },
           "mode": "lines+markers",
           "name": "user_21",
           "type": "scatter",
           "x": [
            "2020-04-21",
            "2020-04-22",
            "2020-04-26",
            "2020-05-02"
           ],
           "y": {
            "bdata": "DyQsPw==",
            "dtype": "i1"
           }
          },
          {
           "line": {
            "width": 2
           },
           "marker": {
            "size": 6
           },
           "mode": "lines+markers",
           "name": "user_10",
           "type": "scatter",
           "x": [
            "2020-04-22",
            "2020-04-25",
            "2020-04-30",
            "2020-05-01"
           ],
           "y": {
            "bdata": "AgYICQ==",
            "dtype": "i1"
           }
          },
          {
           "line": {
            "width": 2
           },
           "marker": {
            "size": 6
           },
           "mode": "lines+markers",
           "name": "user_24",
           "type": "scatter",
           "x": [
            "2020-04-22",
            "2020-04-23",
            "2020-04-25",
            "2020-05-02"
           ],
           "y": {
            "bdata": "AQUGFg==",
            "dtype": "i1"
           }
          },
          {
           "line": {
            "width": 2
           },
           "marker": {
            "size": 6
           },
           "mode": "lines+markers",
           "name": "user_28",
           "type": "scatter",
           "x": [
            "2020-04-22",
            "2020-04-25",
            "2020-04-26",
            "2020-04-28",
            "2020-05-01"
           ],
           "y": {
            "bdata": "Aw8oLDE=",
            "dtype": "i1"
           }
          },
          {
           "line": {
            "width": 2
           },
           "marker": {
            "size": 6
           },
           "mode": "lines+markers",
           "name": "user_3",
           "type": "scatter",
           "x": [
            "2020-04-23",
            "2020-04-26",
            "2020-05-01",
            "2020-05-02"
           ],
           "y": {
            "bdata": "AgQJCg==",
            "dtype": "i1"
           }
          },
          {
           "line": {
            "width": 2
           },
           "marker": {
            "size": 6
           },
           "mode": "lines+markers",
           "name": "user_31",
           "type": "scatter",
           "x": [
            "2020-04-23",
            "2020-05-01",
            "2020-05-02"
           ],
           "y": {
            "bdata": "AiV5",
            "dtype": "i1"
           }
          },
          {
           "line": {
            "width": 2
           },
           "marker": {
            "size": 6
           },
           "mode": "lines+markers",
           "name": "user_13",
           "type": "scatter",
           "x": [
            "2020-04-25",
            "2020-04-26",
            "2020-05-02"
           ],
           "y": {
            "bdata": "CyIz",
            "dtype": "i1"
           }
          },
          {
           "line": {
            "width": 2
           },
           "marker": {
            "size": 6
           },
           "mode": "lines+markers",
           "name": "user_15",
           "type": "scatter",
           "x": [
            "2020-04-25",
            "2020-04-26",
            "2020-05-02"
           ],
           "y": {
            "bdata": "Ag0P",
            "dtype": "i1"
           }
          },
          {
           "line": {
            "width": 2
           },
           "marker": {
            "size": 6
           },
           "mode": "lines+markers",
           "name": "user_20",
           "type": "scatter",
           "x": [
            "2020-04-25",
            "2020-04-26",
            "2020-04-27",
            "2020-04-29",
            "2020-04-30",
            "2020-05-01"
           ],
           "y": {
            "bdata": "AxYYICox",
            "dtype": "i1"
           }
          },
          {
           "line": {
            "width": 2
           },
           "marker": {
            "size": 6
           },
           "mode": "lines+markers",
           "name": "user_26",
           "type": "scatter",
           "x": [
            "2020-04-25",
            "2020-04-30",
            "2020-05-01",
            "2020-05-02"
           ],
           "y": {
            "bdata": "DyAiIw==",
            "dtype": "i1"
           }
          },
          {
           "line": {
            "width": 2
           },
           "marker": {
            "size": 6
           },
           "mode": "lines+markers",
           "name": "user_6",
           "type": "scatter",
           "x": [
            "2020-04-25",
            "2020-04-26",
            "2020-05-02"
           ],
           "y": {
            "bdata": "AQoL",
            "dtype": "i1"
           }
          },
          {
           "line": {
            "width": 2
           },
           "marker": {
            "size": 6
           },
           "mode": "lines+markers",
           "name": "user_1",
           "type": "scatter",
           "x": [
            "2020-04-26",
            "2020-05-02"
           ],
           "y": {
            "bdata": "Fhc=",
            "dtype": "i1"
           }
          },
          {
           "line": {
            "width": 2
           },
           "marker": {
            "size": 6
           },
           "mode": "lines+markers",
           "name": "user_18",
           "type": "scatter",
           "x": [
            "2020-04-26"
           ],
           "y": {
            "bdata": "BA==",
            "dtype": "i1"
           }
          },
          {
           "line": {
            "width": 2
           },
           "marker": {
            "size": 6
           },
           "mode": "lines+markers",
           "name": "user_27",
           "type": "scatter",
           "x": [
            "2020-04-26"
           ],
           "y": {
            "bdata": "Eg==",
            "dtype": "i1"
           }
          },
          {
           "line": {
            "width": 2
           },
           "marker": {
            "size": 6
           },
           "mode": "lines+markers",
           "name": "user_11",
           "type": "scatter",
           "x": [],
           "y": []
          },
          {
           "line": {
            "width": 2
           },
           "marker": {
            "size": 6
           },
           "mode": "lines+markers",
           "name": "user_7",
           "type": "scatter",
           "x": [],
           "y": []
          },
          {
           "line": {
            "width": 2
           },
           "marker": {
            "size": 6
           },
           "mode": "lines+markers",
           "name": "user_23",
           "type": "scatter",
           "x": [],
           "y": []
          }
         ],
         "name": "2020-05-02"
        },
        {
         "data": [
          {
           "line": {
            "width": 2
           },
           "marker": {
            "size": 6
           },
           "mode": "lines+markers",
           "name": "user_4",
           "type": "scatter",
           "x": [
            "2020-04-17",
            "2020-04-19",
            "2020-04-23",
            "2020-04-24",
            "2020-04-26",
            "2020-04-29",
            "2020-05-03"
           ],
           "y": {
            "bdata": "Fx8xP0FKYA==",
            "dtype": "i1"
           }
          },
          {
           "line": {
            "width": 2
           },
           "marker": {
            "size": 6
           },
           "mode": "lines+markers",
           "name": "user_12",
           "type": "scatter",
           "x": [
            "2020-04-18",
            "2020-04-26",
            "2020-04-27",
            "2020-05-03"
           ],
           "y": {
            "bdata": "BxIUVQ==",
            "dtype": "i1"
           }
          },
          {
           "line": {
            "width": 2
           },
           "marker": {
            "size": 6
           },
           "mode": "lines+markers",
           "name": "user_14",
           "type": "scatter",
           "x": [
            "2020-04-18",
            "2020-04-19",
            "2020-04-26",
            "2020-04-30",
            "2020-05-02",
            "2020-05-03"
           ],
           "y": {
            "bdata": "KjAyMzY6",
            "dtype": "i1"
           }
          },
          {
           "line": {
            "width": 2
           },
           "marker": {
            "size": 6
           },
           "mode": "lines+markers",
           "name": "user_17",
           "type": "scatter",
           "x": [
            "2020-04-18",
            "2020-04-23",
            "2020-04-25",
            "2020-05-02"
           ],
           "y": {
            "bdata": "AQQTIw==",
            "dtype": "i1"
           }
          },
          {
           "line": {
            "width": 2
           },
           "marker": {
            "size": 6
           },
           "mode": "lines+markers",
           "name": "user_2",
           "type": "scatter",
           "x": [
            "2020-04-18",
            "2020-04-19",
            "2020-05-02",
            "2020-05-03"
           ],
           "y": {
            "bdata": "EBIhJA==",
            "dtype": "i1"
           }
          },
          {
           "line": {
            "width": 2
           },
           "marker": {
            "size": 6
           },
           "mode": "lines+markers",
           "name": "user_30",
           "type": "scatter",
           "x": [
            "2020-04-18",
            "2020-04-22",
            "2020-04-23",
            "2020-05-01",
            "2020-05-02",
            "2020-05-03"
           ],
           "y": {
            "bdata": "AgMFCBwl",
            "dtype": "i1"
           }
          },
          {
           "line": {
            "width": 2
           },
           "marker": {
            "size": 6
           },
           "mode": "lines+markers",
           "name": "user_8",
           "type": "scatter",
           "x": [
            "2020-04-18",
            "2020-04-19",
            "2020-04-25",
            "2020-04-26",
            "2020-05-02",
            "2020-05-03"
           ],
           "y": {
            "bdata": "AQ4QFj1A",
            "dtype": "i1"
           }
          },
          {
           "line": {
            "width": 2
           },
           "marker": {
            "size": 6
           },
           "mode": "lines+markers",
           "name": "user_29",
           "type": "scatter",
           "x": [
            "2020-04-19",
            "2020-04-26",
            "2020-04-30",
            "2020-05-01",
            "2020-05-02"
           ],
           "y": {
            "bdata": "BA4lJig=",
            "dtype": "i1"
           }
          },
          {
           "line": {
            "width": 2
           },
           "marker": {
            "size": 6
           },
           "mode": "lines+markers",
           "name": "user_0",
           "type": "scatter",
           "x": [
            "2020-04-20"
           ],
           "y": {
            "bdata": "Aw==",
            "dtype": "i1"
           }
          },
          {
           "line": {
            "width": 2
           },
           "marker": {
            "size": 6
           },
           "mode": "lines+markers",
           "name": "user_16",
           "type": "scatter",
           "x": [
            "2020-04-20",
            "2020-04-26"
           ],
           "y": {
            "bdata": "ChQ=",
            "dtype": "i1"
           }
          },
          {
           "line": {
            "width": 2
           },
           "marker": {
            "size": 6
           },
           "mode": "lines+markers",
           "name": "user_19",
           "type": "scatter",
           "x": [
            "2020-04-20",
            "2020-04-21",
            "2020-04-23",
            "2020-04-24",
            "2020-04-25",
            "2020-04-26",
            "2020-05-02",
            "2020-05-03"
           ],
           "y": {
            "bdata": "Bw8bHS1ZXmU=",
            "dtype": "i1"
           }
          },
          {
           "line": {
            "width": 2
           },
           "marker": {
            "size": 6
           },
           "mode": "lines+markers",
           "name": "user_22",
           "type": "scatter",
           "x": [
            "2020-04-20",
            "2020-04-28",
            "2020-05-03"
           ],
           "y": {
            "bdata": "AgME",
            "dtype": "i1"
           }
          },
          {
           "line": {
            "width": 2
           },
           "marker": {
            "size": 6
           },
           "mode": "lines+markers",
           "name": "user_25",
           "type": "scatter",
           "x": [
            "2020-04-20",
            "2020-04-21",
            "2020-04-25",
            "2020-04-26",
            "2020-04-27",
            "2020-05-01",
            "2020-05-03"
           ],
           "y": {
            "bdata": "AwUbPkBBRA==",
            "dtype": "i1"
           }
          },
          {
           "line": {
            "width": 2
           },
           "marker": {
            "size": 6
           },
           "mode": "lines+markers",
           "name": "user_21",
           "type": "scatter",
           "x": [
            "2020-04-21",
            "2020-04-22",
            "2020-04-26",
            "2020-05-02",
            "2020-05-03"
           ],
           "y": {
            "bdata": "DyQsP0E=",
            "dtype": "i1"
           }
          },
          {
           "line": {
            "width": 2
           },
           "marker": {
            "size": 6
           },
           "mode": "lines+markers",
           "name": "user_10",
           "type": "scatter",
           "x": [
            "2020-04-22",
            "2020-04-25",
            "2020-04-30",
            "2020-05-01"
           ],
           "y": {
            "bdata": "AgYICQ==",
            "dtype": "i1"
           }
          },
          {
           "line": {
            "width": 2
           },
           "marker": {
            "size": 6
           },
           "mode": "lines+markers",
           "name": "user_24",
           "type": "scatter",
           "x": [
            "2020-04-22",
            "2020-04-23",
            "2020-04-25",
            "2020-05-02",
            "2020-05-03"
           ],
           "y": {
            "bdata": "AQUGFhc=",
            "dtype": "i1"
           }
          },
          {
           "line": {
            "width": 2
           },
           "marker": {
            "size": 6
           },
           "mode": "lines+markers",
           "name": "user_28",
           "type": "scatter",
           "x": [
            "2020-04-22",
            "2020-04-25",
            "2020-04-26",
            "2020-04-28",
            "2020-05-01",
            "2020-05-03"
           ],
           "y": {
            "bdata": "Aw8oLDEz",
            "dtype": "i1"
           }
          },
          {
           "line": {
            "width": 2
           },
           "marker": {
            "size": 6
           },
           "mode": "lines+markers",
           "name": "user_3",
           "type": "scatter",
           "x": [
            "2020-04-23",
            "2020-04-26",
            "2020-05-01",
            "2020-05-02",
            "2020-05-03"
           ],
           "y": {
            "bdata": "AgQJCgs=",
            "dtype": "i1"
           }
          },
          {
           "line": {
            "width": 2
           },
           "marker": {
            "size": 6
           },
           "mode": "lines+markers",
           "name": "user_31",
           "type": "scatter",
           "x": [
            "2020-04-23",
            "2020-05-01",
            "2020-05-02",
            "2020-05-03"
           ],
           "y": {
            "bdata": "AiV5fw==",
            "dtype": "i1"
           }
          },
          {
           "line": {
            "width": 2
           },
           "marker": {
            "size": 6
           },
           "mode": "lines+markers",
           "name": "user_13",
           "type": "scatter",
           "x": [
            "2020-04-25",
            "2020-04-26",
            "2020-05-02"
           ],
           "y": {
            "bdata": "CyIz",
            "dtype": "i1"
           }
          },
          {
           "line": {
            "width": 2
           },
           "marker": {
            "size": 6
           },
           "mode": "lines+markers",
           "name": "user_15",
           "type": "scatter",
           "x": [
            "2020-04-25",
            "2020-04-26",
            "2020-05-02",
            "2020-05-03"
           ],
           "y": {
            "bdata": "Ag0PFg==",
            "dtype": "i1"
           }
          },
          {
           "line": {
            "width": 2
           },
           "marker": {
            "size": 6
           },
           "mode": "lines+markers",
           "name": "user_20",
           "type": "scatter",
           "x": [
            "2020-04-25",
            "2020-04-26",
            "2020-04-27",
            "2020-04-29",
            "2020-04-30",
            "2020-05-01",
            "2020-05-03"
           ],
           "y": {
            "bdata": "AxYYICoxNw==",
            "dtype": "i1"
           }
          },
          {
           "line": {
            "width": 2
           },
           "marker": {
            "size": 6
           },
           "mode": "lines+markers",
           "name": "user_26",
           "type": "scatter",
           "x": [
            "2020-04-25",
            "2020-04-30",
            "2020-05-01",
            "2020-05-02"
           ],
           "y": {
            "bdata": "DyAiIw==",
            "dtype": "i1"
           }
          },
          {
           "line": {
            "width": 2
           },
           "marker": {
            "size": 6
           },
           "mode": "lines+markers",
           "name": "user_6",
           "type": "scatter",
           "x": [
            "2020-04-25",
            "2020-04-26",
            "2020-05-02"
           ],
           "y": {
            "bdata": "AQoL",
            "dtype": "i1"
           }
          },
          {
           "line": {
            "width": 2
           },
           "marker": {
            "size": 6
           },
           "mode": "lines+markers",
           "name": "user_1",
           "type": "scatter",
           "x": [
            "2020-04-26",
            "2020-05-02",
            "2020-05-03"
           ],
           "y": {
            "bdata": "Fhcr",
            "dtype": "i1"
           }
          },
          {
           "line": {
            "width": 2
           },
           "marker": {
            "size": 6
           },
           "mode": "lines+markers",
           "name": "user_18",
           "type": "scatter",
           "x": [
            "2020-04-26",
            "2020-05-03"
           ],
           "y": {
            "bdata": "BAU=",
            "dtype": "i1"
           }
          },
          {
           "line": {
            "width": 2
           },
           "marker": {
            "size": 6
           },
           "mode": "lines+markers",
           "name": "user_27",
           "type": "scatter",
           "x": [
            "2020-04-26",
            "2020-05-03"
           ],
           "y": {
            "bdata": "Ehs=",
            "dtype": "i1"
           }
          },
          {
           "line": {
            "width": 2
           },
           "marker": {
            "size": 6
           },
           "mode": "lines+markers",
           "name": "user_11",
           "type": "scatter",
           "x": [
            "2020-05-03"
           ],
           "y": {
            "bdata": "CA==",
            "dtype": "i1"
           }
          },
          {
           "line": {
            "width": 2
           },
           "marker": {
            "size": 6
           },
           "mode": "lines+markers",
           "name": "user_7",
           "type": "scatter",
           "x": [],
           "y": []
          },
          {
           "line": {
            "width": 2
           },
           "marker": {
            "size": 6
           },
           "mode": "lines+markers",
           "name": "user_23",
           "type": "scatter",
           "x": [],
           "y": []
          }
         ],
         "name": "2020-05-03"
        },
        {
         "data": [
          {
           "line": {
            "width": 2
           },
           "marker": {
            "size": 6
           },
           "mode": "lines+markers",
           "name": "user_4",
           "type": "scatter",
           "x": [
            "2020-04-17",
            "2020-04-19",
            "2020-04-23",
            "2020-04-24",
            "2020-04-26",
            "2020-04-29",
            "2020-05-03",
            "2020-05-04"
           ],
           "y": {
            "bdata": "Fx8xP0FKYHo=",
            "dtype": "i1"
           }
          },
          {
           "line": {
            "width": 2
           },
           "marker": {
            "size": 6
           },
           "mode": "lines+markers",
           "name": "user_12",
           "type": "scatter",
           "x": [
            "2020-04-18",
            "2020-04-26",
            "2020-04-27",
            "2020-05-03"
           ],
           "y": {
            "bdata": "BxIUVQ==",
            "dtype": "i1"
           }
          },
          {
           "line": {
            "width": 2
           },
           "marker": {
            "size": 6
           },
           "mode": "lines+markers",
           "name": "user_14",
           "type": "scatter",
           "x": [
            "2020-04-18",
            "2020-04-19",
            "2020-04-26",
            "2020-04-30",
            "2020-05-02",
            "2020-05-03",
            "2020-05-04"
           ],
           "y": {
            "bdata": "KjAyMzY6PA==",
            "dtype": "i1"
           }
          },
          {
           "line": {
            "width": 2
           },
           "marker": {
            "size": 6
           },
           "mode": "lines+markers",
           "name": "user_17",
           "type": "scatter",
           "x": [
            "2020-04-18",
            "2020-04-23",
            "2020-04-25",
            "2020-05-02",
            "2020-05-04"
           ],
           "y": {
            "bdata": "AQQTIyk=",
            "dtype": "i1"
           }
          },
          {
           "line": {
            "width": 2
           },
           "marker": {
            "size": 6
           },
           "mode": "lines+markers",
           "name": "user_2",
           "type": "scatter",
           "x": [
            "2020-04-18",
            "2020-04-19",
            "2020-05-02",
            "2020-05-03"
           ],
           "y": {
            "bdata": "EBIhJA==",
            "dtype": "i1"
           }
          },
          {
           "line": {
            "width": 2
           },
           "marker": {
            "size": 6
           },
           "mode": "lines+markers",
           "name": "user_30",
           "type": "scatter",
           "x": [
            "2020-04-18",
            "2020-04-22",
            "2020-04-23",
            "2020-05-01",
            "2020-05-02",
            "2020-05-03",
            "2020-05-04"
           ],
           "y": {
            "bdata": "AgMFCBwlJw==",
            "dtype": "i1"
           }
          },
          {
           "line": {
            "width": 2
           },
           "marker": {
            "size": 6
           },
           "mode": "lines+markers",
           "name": "user_8",
           "type": "scatter",
           "x": [
            "2020-04-18",
            "2020-04-19",
            "2020-04-25",
            "2020-04-26",
            "2020-05-02",
            "2020-05-03"
           ],
           "y": {
            "bdata": "AQ4QFj1A",
            "dtype": "i1"
           }
          },
          {
           "line": {
            "width": 2
           },
           "marker": {
            "size": 6
           },
           "mode": "lines+markers",
           "name": "user_29",
           "type": "scatter",
           "x": [
            "2020-04-19",
            "2020-04-26",
            "2020-04-30",
            "2020-05-01",
            "2020-05-02"
           ],
           "y": {
            "bdata": "BA4lJig=",
            "dtype": "i1"
           }
          },
          {
           "line": {
            "width": 2
           },
           "marker": {
            "size": 6
           },
           "mode": "lines+markers",
           "name": "user_0",
           "type": "scatter",
           "x": [
            "2020-04-20"
           ],
           "y": {
            "bdata": "Aw==",
            "dtype": "i1"
           }
          },
          {
           "line": {
            "width": 2
           },
           "marker": {
            "size": 6
           },
           "mode": "lines+markers",
           "name": "user_16",
           "type": "scatter",
           "x": [
            "2020-04-20",
            "2020-04-26"
           ],
           "y": {
            "bdata": "ChQ=",
            "dtype": "i1"
           }
          },
          {
           "line": {
            "width": 2
           },
           "marker": {
            "size": 6
           },
           "mode": "lines+markers",
           "name": "user_19",
           "type": "scatter",
           "x": [
            "2020-04-20",
            "2020-04-21",
            "2020-04-23",
            "2020-04-24",
            "2020-04-25",
            "2020-04-26",
            "2020-05-02",
            "2020-05-03"
           ],
           "y": {
            "bdata": "Bw8bHS1ZXmU=",
            "dtype": "i1"
           }
          },
          {
           "line": {
            "width": 2
           },
           "marker": {
            "size": 6
           },
           "mode": "lines+markers",
           "name": "user_22",
           "type": "scatter",
           "x": [
            "2020-04-20",
            "2020-04-28",
            "2020-05-03"
           ],
           "y": {
            "bdata": "AgME",
            "dtype": "i1"
           }
          },
          {
           "line": {
            "width": 2
           },
           "marker": {
            "size": 6
           },
           "mode": "lines+markers",
           "name": "user_25",
           "type": "scatter",
           "x": [
            "2020-04-20",
            "2020-04-21",
            "2020-04-25",
            "2020-04-26",
            "2020-04-27",
            "2020-05-01",
            "2020-05-03"
           ],
           "y": {
            "bdata": "AwUbPkBBRA==",
            "dtype": "i1"
           }
          },
          {
           "line": {
            "width": 2
           },
           "marker": {
            "size": 6
           },
           "mode": "lines+markers",
           "name": "user_21",
           "type": "scatter",
           "x": [
            "2020-04-21",
            "2020-04-22",
            "2020-04-26",
            "2020-05-02",
            "2020-05-03"
           ],
           "y": {
            "bdata": "DyQsP0E=",
            "dtype": "i1"
           }
          },
          {
           "line": {
            "width": 2
           },
           "marker": {
            "size": 6
           },
           "mode": "lines+markers",
           "name": "user_10",
           "type": "scatter",
           "x": [
            "2020-04-22",
            "2020-04-25",
            "2020-04-30",
            "2020-05-01"
           ],
           "y": {
            "bdata": "AgYICQ==",
            "dtype": "i1"
           }
          },
          {
           "line": {
            "width": 2
           },
           "marker": {
            "size": 6
           },
           "mode": "lines+markers",
           "name": "user_24",
           "type": "scatter",
           "x": [
            "2020-04-22",
            "2020-04-23",
            "2020-04-25",
            "2020-05-02",
            "2020-05-03"
           ],
           "y": {
            "bdata": "AQUGFhc=",
            "dtype": "i1"
           }
          },
          {
           "line": {
            "width": 2
           },
           "marker": {
            "size": 6
           },
           "mode": "lines+markers",
           "name": "user_28",
           "type": "scatter",
           "x": [
            "2020-04-22",
            "2020-04-25",
            "2020-04-26",
            "2020-04-28",
            "2020-05-01",
            "2020-05-03"
           ],
           "y": {
            "bdata": "Aw8oLDEz",
            "dtype": "i1"
           }
          },
          {
           "line": {
            "width": 2
           },
           "marker": {
            "size": 6
           },
           "mode": "lines+markers",
           "name": "user_3",
           "type": "scatter",
           "x": [
            "2020-04-23",
            "2020-04-26",
            "2020-05-01",
            "2020-05-02",
            "2020-05-03"
           ],
           "y": {
            "bdata": "AgQJCgs=",
            "dtype": "i1"
           }
          },
          {
           "line": {
            "width": 2
           },
           "marker": {
            "size": 6
           },
           "mode": "lines+markers",
           "name": "user_31",
           "type": "scatter",
           "x": [
            "2020-04-23",
            "2020-05-01",
            "2020-05-02",
            "2020-05-03",
            "2020-05-04"
           ],
           "y": {
            "bdata": "AgAlAHkAfwCAAA==",
            "dtype": "i2"
           }
          },
          {
           "line": {
            "width": 2
           },
           "marker": {
            "size": 6
           },
           "mode": "lines+markers",
           "name": "user_13",
           "type": "scatter",
           "x": [
            "2020-04-25",
            "2020-04-26",
            "2020-05-02"
           ],
           "y": {
            "bdata": "CyIz",
            "dtype": "i1"
           }
          },
          {
           "line": {
            "width": 2
           },
           "marker": {
            "size": 6
           },
           "mode": "lines+markers",
           "name": "user_15",
           "type": "scatter",
           "x": [
            "2020-04-25",
            "2020-04-26",
            "2020-05-02",
            "2020-05-03"
           ],
           "y": {
            "bdata": "Ag0PFg==",
            "dtype": "i1"
           }
          },
          {
           "line": {
            "width": 2
           },
           "marker": {
            "size": 6
           },
           "mode": "lines+markers",
           "name": "user_20",
           "type": "scatter",
           "x": [
            "2020-04-25",
            "2020-04-26",
            "2020-04-27",
            "2020-04-29",
            "2020-04-30",
            "2020-05-01",
            "2020-05-03"
           ],
           "y": {
            "bdata": "AxYYICoxNw==",
            "dtype": "i1"
           }
          },
          {
           "line": {
            "width": 2
           },
           "marker": {
            "size": 6
           },
           "mode": "lines+markers",
           "name": "user_26",
           "type": "scatter",
           "x": [
            "2020-04-25",
            "2020-04-30",
            "2020-05-01",
            "2020-05-02"
           ],
           "y": {
            "bdata": "DyAiIw==",
            "dtype": "i1"
           }
          },
          {
           "line": {
            "width": 2
           },
           "marker": {
            "size": 6
           },
           "mode": "lines+markers",
           "name": "user_6",
           "type": "scatter",
           "x": [
            "2020-04-25",
            "2020-04-26",
            "2020-05-02"
           ],
           "y": {
            "bdata": "AQoL",
            "dtype": "i1"
           }
          },
          {
           "line": {
            "width": 2
           },
           "marker": {
            "size": 6
           },
           "mode": "lines+markers",
           "name": "user_1",
           "type": "scatter",
           "x": [
            "2020-04-26",
            "2020-05-02",
            "2020-05-03"
           ],
           "y": {
            "bdata": "Fhcr",
            "dtype": "i1"
           }
          },
          {
           "line": {
            "width": 2
           },
           "marker": {
            "size": 6
           },
           "mode": "lines+markers",
           "name": "user_18",
           "type": "scatter",
           "x": [
            "2020-04-26",
            "2020-05-03"
           ],
           "y": {
            "bdata": "BAU=",
            "dtype": "i1"
           }
          },
          {
           "line": {
            "width": 2
           },
           "marker": {
            "size": 6
           },
           "mode": "lines+markers",
           "name": "user_27",
           "type": "scatter",
           "x": [
            "2020-04-26",
            "2020-05-03"
           ],
           "y": {
            "bdata": "Ehs=",
            "dtype": "i1"
           }
          },
          {
           "line": {
            "width": 2
           },
           "marker": {
            "size": 6
           },
           "mode": "lines+markers",
           "name": "user_11",
           "type": "scatter",
           "x": [
            "2020-05-03"
           ],
           "y": {
            "bdata": "CA==",
            "dtype": "i1"
           }
          },
          {
           "line": {
            "width": 2
           },
           "marker": {
            "size": 6
           },
           "mode": "lines+markers",
           "name": "user_7",
           "type": "scatter",
           "x": [],
           "y": []
          },
          {
           "line": {
            "width": 2
           },
           "marker": {
            "size": 6
           },
           "mode": "lines+markers",
           "name": "user_23",
           "type": "scatter",
           "x": [],
           "y": []
          }
         ],
         "name": "2020-05-04"
        },
        {
         "data": [
          {
           "line": {
            "width": 2
           },
           "marker": {
            "size": 6
           },
           "mode": "lines+markers",
           "name": "user_4",
           "type": "scatter",
           "x": [
            "2020-04-17",
            "2020-04-19",
            "2020-04-23",
            "2020-04-24",
            "2020-04-26",
            "2020-04-29",
            "2020-05-03",
            "2020-05-04",
            "2020-05-05"
           ],
           "y": {
            "bdata": "FwAfADEAPwBBAEoAYAB6AIQA",
            "dtype": "i2"
           }
          },
          {
           "line": {
            "width": 2
           },
           "marker": {
            "size": 6
           },
           "mode": "lines+markers",
           "name": "user_12",
           "type": "scatter",
           "x": [
            "2020-04-18",
            "2020-04-26",
            "2020-04-27",
            "2020-05-03"
           ],
           "y": {
            "bdata": "BxIUVQ==",
            "dtype": "i1"
           }
          },
          {
           "line": {
            "width": 2
           },
           "marker": {
            "size": 6
           },
           "mode": "lines+markers",
           "name": "user_14",
           "type": "scatter",
           "x": [
            "2020-04-18",
            "2020-04-19",
            "2020-04-26",
            "2020-04-30",
            "2020-05-02",
            "2020-05-03",
            "2020-05-04",
            "2020-05-05"
           ],
           "y": {
            "bdata": "KjAyMzY6PD0=",
            "dtype": "i1"
           }
          },
          {
           "line": {
            "width": 2
           },
           "marker": {
            "size": 6
           },
           "mode": "lines+markers",
           "name": "user_17",
           "type": "scatter",
           "x": [
            "2020-04-18",
            "2020-04-23",
            "2020-04-25",
            "2020-05-02",
            "2020-05-04"
           ],
           "y": {
            "bdata": "AQQTIyk=",
            "dtype": "i1"
           }
          },
          {
           "line": {
            "width": 2
           },
           "marker": {
            "size": 6
           },
           "mode": "lines+markers",
           "name": "user_2",
           "type": "scatter",
           "x": [
            "2020-04-18",
            "2020-04-19",
            "2020-05-02",
            "2020-05-03",
            "2020-05-05"
           ],
           "y": {
            "bdata": "EAASACEAJACVAA==",
            "dtype": "i2"
           }
          },
          {
           "line": {
            "width": 2
           },
           "marker": {
            "size": 6
           },
           "mode": "lines+markers",
           "name": "user_30",
           "type": "scatter",
           "x": [
            "2020-04-18",
            "2020-04-22",
            "2020-04-23",
            "2020-05-01",
            "2020-05-02",
            "2020-05-03",
            "2020-05-04"
           ],
           "y": {
            "bdata": "AgMFCBwlJw==",
            "dtype": "i1"
           }
          },
          {
           "line": {
            "width": 2
           },
           "marker": {
            "size": 6
           },
           "mode": "lines+markers",
           "name": "user_8",
           "type": "scatter",
           "x": [
            "2020-04-18",
            "2020-04-19",
            "2020-04-25",
            "2020-04-26",
            "2020-05-02",
            "2020-05-03"
           ],
           "y": {
            "bdata": "AQ4QFj1A",
            "dtype": "i1"
           }
          },
          {
           "line": {
            "width": 2
           },
           "marker": {
            "size": 6
           },
           "mode": "lines+markers",
           "name": "user_29",
           "type": "scatter",
           "x": [
            "2020-04-19",
            "2020-04-26",
            "2020-04-30",
            "2020-05-01",
            "2020-05-02"
           ],
           "y": {
            "bdata": "BA4lJig=",
            "dtype": "i1"
           }
          },
          {
           "line": {
            "width": 2
           },
           "marker": {
            "size": 6
           },
           "mode": "lines+markers",
           "name": "user_0",
           "type": "scatter",
           "x": [
            "2020-04-20"
           ],
           "y": {
            "bdata": "Aw==",
            "dtype": "i1"
           }
          },
          {
           "line": {
            "width": 2
           },
           "marker": {
            "size": 6
           },
           "mode": "lines+markers",
           "name": "user_16",
           "type": "scatter",
           "x": [
            "2020-04-20",
            "2020-04-26"
           ],
           "y": {
            "bdata": "ChQ=",
            "dtype": "i1"
           }
          },
          {
           "line": {
            "width": 2
           },
           "marker": {
            "size": 6
           },
           "mode": "lines+markers",
           "name": "user_19",
           "type": "scatter",
           "x": [
            "2020-04-20",
            "2020-04-21",
            "2020-04-23",
            "2020-04-24",
            "2020-04-25",
            "2020-04-26",
            "2020-05-02",
            "2020-05-03"
           ],
           "y": {
            "bdata": "Bw8bHS1ZXmU=",
            "dtype": "i1"
           }
          },
          {
           "line": {
            "width": 2
           },
           "marker": {
            "size": 6
           },
           "mode": "lines+markers",
           "name": "user_22",
           "type": "scatter",
           "x": [
            "2020-04-20",
            "2020-04-28",
            "2020-05-03"
           ],
           "y": {
            "bdata": "AgME",
            "dtype": "i1"
           }
          },
          {
           "line": {
            "width": 2
           },
           "marker": {
            "size": 6
           },
           "mode": "lines+markers",
           "name": "user_25",
           "type": "scatter",
           "x": [
            "2020-04-20",
            "2020-04-21",
            "2020-04-25",
            "2020-04-26",
            "2020-04-27",
            "2020-05-01",
            "2020-05-03"
           ],
           "y": {
            "bdata": "AwUbPkBBRA==",
            "dtype": "i1"
           }
          },
          {
           "line": {
            "width": 2
           },
           "marker": {
            "size": 6
           },
           "mode": "lines+markers",
           "name": "user_21",
           "type": "scatter",
           "x": [
            "2020-04-21",
            "2020-04-22",
            "2020-04-26",
            "2020-05-02",
            "2020-05-03"
           ],
           "y": {
            "bdata": "DyQsP0E=",
            "dtype": "i1"
           }
          },
          {
           "line": {
            "width": 2
           },
           "marker": {
            "size": 6
           },
           "mode": "lines+markers",
           "name": "user_10",
           "type": "scatter",
           "x": [
            "2020-04-22",
            "2020-04-25",
            "2020-04-30",
            "2020-05-01"
           ],
           "y": {
            "bdata": "AgYICQ==",
            "dtype": "i1"
           }
          },
          {
           "line": {
            "width": 2
           },
           "marker": {
            "size": 6
           },
           "mode": "lines+markers",
           "name": "user_24",
           "type": "scatter",
           "x": [
            "2020-04-22",
            "2020-04-23",
            "2020-04-25",
            "2020-05-02",
            "2020-05-03",
            "2020-05-05"
           ],
           "y": {
            "bdata": "AQUGFhcl",
            "dtype": "i1"
           }
          },
          {
           "line": {
            "width": 2
           },
           "marker": {
            "size": 6
           },
           "mode": "lines+markers",
           "name": "user_28",
           "type": "scatter",
           "x": [
            "2020-04-22",
            "2020-04-25",
            "2020-04-26",
            "2020-04-28",
            "2020-05-01",
            "2020-05-03"
           ],
           "y": {
            "bdata": "Aw8oLDEz",
            "dtype": "i1"
           }
          },
          {
           "line": {
            "width": 2
           },
           "marker": {
            "size": 6
           },
           "mode": "lines+markers",
           "name": "user_3",
           "type": "scatter",
           "x": [
            "2020-04-23",
            "2020-04-26",
            "2020-05-01",
            "2020-05-02",
            "2020-05-03"
           ],
           "y": {
            "bdata": "AgQJCgs=",
            "dtype": "i1"
           }
          },
          {
           "line": {
            "width": 2
           },
           "marker": {
            "size": 6
           },
           "mode": "lines+markers",
           "name": "user_31",
           "type": "scatter",
           "x": [
            "2020-04-23",
            "2020-05-01",
            "2020-05-02",
            "2020-05-03",
            "2020-05-04"
           ],
           "y": {
            "bdata": "AgAlAHkAfwCAAA==",
            "dtype": "i2"
           }
          },
          {
           "line": {
            "width": 2
           },
           "marker": {
            "size": 6
           },
           "mode": "lines+markers",
           "name": "user_13",
           "type": "scatter",
           "x": [
            "2020-04-25",
            "2020-04-26",
            "2020-05-02"
           ],
           "y": {
            "bdata": "CyIz",
            "dtype": "i1"
           }
          },
          {
           "line": {
            "width": 2
           },
           "marker": {
            "size": 6
           },
           "mode": "lines+markers",
           "name": "user_15",
           "type": "scatter",
           "x": [
            "2020-04-25",
            "2020-04-26",
            "2020-05-02",
            "2020-05-03"
           ],
           "y": {
            "bdata": "Ag0PFg==",
            "dtype": "i1"
           }
          },
          {
           "line": {
            "width": 2
           },
           "marker": {
            "size": 6
           },
           "mode": "lines+markers",
           "name": "user_20",
           "type": "scatter",
           "x": [
            "2020-04-25",
            "2020-04-26",
            "2020-04-27",
            "2020-04-29",
            "2020-04-30",
            "2020-05-01",
            "2020-05-03"
           ],
           "y": {
            "bdata": "AxYYICoxNw==",
            "dtype": "i1"
           }
          },
          {
           "line": {
            "width": 2
           },
           "marker": {
            "size": 6
           },
           "mode": "lines+markers",
           "name": "user_26",
           "type": "scatter",
           "x": [
            "2020-04-25",
            "2020-04-30",
            "2020-05-01",
            "2020-05-02",
            "2020-05-05"
           ],
           "y": {
            "bdata": "DyAiIyQ=",
            "dtype": "i1"
           }
          },
          {
           "line": {
            "width": 2
           },
           "marker": {
            "size": 6
           },
           "mode": "lines+markers",
           "name": "user_6",
           "type": "scatter",
           "x": [
            "2020-04-25",
            "2020-04-26",
            "2020-05-02"
           ],
           "y": {
            "bdata": "AQoL",
            "dtype": "i1"
           }
          },
          {
           "line": {
            "width": 2
           },
           "marker": {
            "size": 6
           },
           "mode": "lines+markers",
           "name": "user_1",
           "type": "scatter",
           "x": [
            "2020-04-26",
            "2020-05-02",
            "2020-05-03"
           ],
           "y": {
            "bdata": "Fhcr",
            "dtype": "i1"
           }
          },
          {
           "line": {
            "width": 2
           },
           "marker": {
            "size": 6
           },
           "mode": "lines+markers",
           "name": "user_18",
           "type": "scatter",
           "x": [
            "2020-04-26",
            "2020-05-03"
           ],
           "y": {
            "bdata": "BAU=",
            "dtype": "i1"
           }
          },
          {
           "line": {
            "width": 2
           },
           "marker": {
            "size": 6
           },
           "mode": "lines+markers",
           "name": "user_27",
           "type": "scatter",
           "x": [
            "2020-04-26",
            "2020-05-03"
           ],
           "y": {
            "bdata": "Ehs=",
            "dtype": "i1"
           }
          },
          {
           "line": {
            "width": 2
           },
           "marker": {
            "size": 6
           },
           "mode": "lines+markers",
           "name": "user_11",
           "type": "scatter",
           "x": [
            "2020-05-03"
           ],
           "y": {
            "bdata": "CA==",
            "dtype": "i1"
           }
          },
          {
           "line": {
            "width": 2
           },
           "marker": {
            "size": 6
           },
           "mode": "lines+markers",
           "name": "user_7",
           "type": "scatter",
           "x": [],
           "y": []
          },
          {
           "line": {
            "width": 2
           },
           "marker": {
            "size": 6
           },
           "mode": "lines+markers",
           "name": "user_23",
           "type": "scatter",
           "x": [],
           "y": []
          }
         ],
         "name": "2020-05-05"
        },
        {
         "data": [
          {
           "line": {
            "width": 2
           },
           "marker": {
            "size": 6
           },
           "mode": "lines+markers",
           "name": "user_4",
           "type": "scatter",
           "x": [
            "2020-04-17",
            "2020-04-19",
            "2020-04-23",
            "2020-04-24",
            "2020-04-26",
            "2020-04-29",
            "2020-05-03",
            "2020-05-04",
            "2020-05-05"
           ],
           "y": {
            "bdata": "FwAfADEAPwBBAEoAYAB6AIQA",
            "dtype": "i2"
           }
          },
          {
           "line": {
            "width": 2
           },
           "marker": {
            "size": 6
           },
           "mode": "lines+markers",
           "name": "user_12",
           "type": "scatter",
           "x": [
            "2020-04-18",
            "2020-04-26",
            "2020-04-27",
            "2020-05-03"
           ],
           "y": {
            "bdata": "BxIUVQ==",
            "dtype": "i1"
           }
          },
          {
           "line": {
            "width": 2
           },
           "marker": {
            "size": 6
           },
           "mode": "lines+markers",
           "name": "user_14",
           "type": "scatter",
           "x": [
            "2020-04-18",
            "2020-04-19",
            "2020-04-26",
            "2020-04-30",
            "2020-05-02",
            "2020-05-03",
            "2020-05-04",
            "2020-05-05"
           ],
           "y": {
            "bdata": "KjAyMzY6PD0=",
            "dtype": "i1"
           }
          },
          {
           "line": {
            "width": 2
           },
           "marker": {
            "size": 6
           },
           "mode": "lines+markers",
           "name": "user_17",
           "type": "scatter",
           "x": [
            "2020-04-18",
            "2020-04-23",
            "2020-04-25",
            "2020-05-02",
            "2020-05-04"
           ],
           "y": {
            "bdata": "AQQTIyk=",
            "dtype": "i1"
           }
          },
          {
           "line": {
            "width": 2
           },
           "marker": {
            "size": 6
           },
           "mode": "lines+markers",
           "name": "user_2",
           "type": "scatter",
           "x": [
            "2020-04-18",
            "2020-04-19",
            "2020-05-02",
            "2020-05-03",
            "2020-05-05",
            "2020-05-06"
           ],
           "y": {
            "bdata": "EAASACEAJACVAJcA",
            "dtype": "i2"
           }
          },
          {
           "line": {
            "width": 2
           },
           "marker": {
            "size": 6
           },
           "mode": "lines+markers",
           "name": "user_30",
           "type": "scatter",
           "x": [
            "2020-04-18",
            "2020-04-22",
            "2020-04-23",
            "2020-05-01",
            "2020-05-02",
            "2020-05-03",
            "2020-05-04"
           ],
           "y": {
            "bdata": "AgMFCBwlJw==",
            "dtype": "i1"
           }
          },
          {
           "line": {
            "width": 2
           },
           "marker": {
            "size": 6
           },
           "mode": "lines+markers",
           "name": "user_8",
           "type": "scatter",
           "x": [
            "2020-04-18",
            "2020-04-19",
            "2020-04-25",
            "2020-04-26",
            "2020-05-02",
            "2020-05-03"
           ],
           "y": {
            "bdata": "AQ4QFj1A",
            "dtype": "i1"
           }
          },
          {
           "line": {
            "width": 2
           },
           "marker": {
            "size": 6
           },
           "mode": "lines+markers",
           "name": "user_29",
           "type": "scatter",
           "x": [
            "2020-04-19",
            "2020-04-26",
            "2020-04-30",
            "2020-05-01",
            "2020-05-02"
           ],
           "y": {
            "bdata": "BA4lJig=",
            "dtype": "i1"
           }
          },
          {
           "line": {
            "width": 2
           },
           "marker": {
            "size": 6
           },
           "mode": "lines+markers",
           "name": "user_0",
           "type": "scatter",
           "x": [
            "2020-04-20"
           ],
           "y": {
            "bdata": "Aw==",
            "dtype": "i1"
           }
          },
          {
           "line": {
            "width": 2
           },
           "marker": {
            "size": 6
           },
           "mode": "lines+markers",
           "name": "user_16",
           "type": "scatter",
           "x": [
            "2020-04-20",
            "2020-04-26"
           ],
           "y": {
            "bdata": "ChQ=",
            "dtype": "i1"
           }
          },
          {
           "line": {
            "width": 2
           },
           "marker": {
            "size": 6
           },
           "mode": "lines+markers",
           "name": "user_19",
           "type": "scatter",
           "x": [
            "2020-04-20",
            "2020-04-21",
            "2020-04-23",
            "2020-04-24",
            "2020-04-25",
            "2020-04-26",
            "2020-05-02",
            "2020-05-03"
           ],
           "y": {
            "bdata": "Bw8bHS1ZXmU=",
            "dtype": "i1"
           }
          },
          {
           "line": {
            "width": 2
           },
           "marker": {
            "size": 6
           },
           "mode": "lines+markers",
           "name": "user_22",
           "type": "scatter",
           "x": [
            "2020-04-20",
            "2020-04-28",
            "2020-05-03"
           ],
           "y": {
            "bdata": "AgME",
            "dtype": "i1"
           }
          },
          {
           "line": {
            "width": 2
           },
           "marker": {
            "size": 6
           },
           "mode": "lines+markers",
           "name": "user_25",
           "type": "scatter",
           "x": [
            "2020-04-20",
            "2020-04-21",
            "2020-04-25",
            "2020-04-26",
            "2020-04-27",
            "2020-05-01",
            "2020-05-03"
           ],
           "y": {
            "bdata": "AwUbPkBBRA==",
            "dtype": "i1"
           }
          },
          {
           "line": {
            "width": 2
           },
           "marker": {
            "size": 6
           },
           "mode": "lines+markers",
           "name": "user_21",
           "type": "scatter",
           "x": [
            "2020-04-21",
            "2020-04-22",
            "2020-04-26",
            "2020-05-02",
            "2020-05-03"
           ],
           "y": {
            "bdata": "DyQsP0E=",
            "dtype": "i1"
           }
          },
          {
           "line": {
            "width": 2
           },
           "marker": {
            "size": 6
           },
           "mode": "lines+markers",
           "name": "user_10",
           "type": "scatter",
           "x": [
            "2020-04-22",
            "2020-04-25",
            "2020-04-30",
            "2020-05-01"
           ],
           "y": {
            "bdata": "AgYICQ==",
            "dtype": "i1"
           }
          },
          {
           "line": {
            "width": 2
           },
           "marker": {
            "size": 6
           },
           "mode": "lines+markers",
           "name": "user_24",
           "type": "scatter",
           "x": [
            "2020-04-22",
            "2020-04-23",
            "2020-04-25",
            "2020-05-02",
            "2020-05-03",
            "2020-05-05"
           ],
           "y": {
            "bdata": "AQUGFhcl",
            "dtype": "i1"
           }
          },
          {
           "line": {
            "width": 2
           },
           "marker": {
            "size": 6
           },
           "mode": "lines+markers",
           "name": "user_28",
           "type": "scatter",
           "x": [
            "2020-04-22",
            "2020-04-25",
            "2020-04-26",
            "2020-04-28",
            "2020-05-01",
            "2020-05-03"
           ],
           "y": {
            "bdata": "Aw8oLDEz",
            "dtype": "i1"
           }
          },
          {
           "line": {
            "width": 2
           },
           "marker": {
            "size": 6
           },
           "mode": "lines+markers",
           "name": "user_3",
           "type": "scatter",
           "x": [
            "2020-04-23",
            "2020-04-26",
            "2020-05-01",
            "2020-05-02",
            "2020-05-03"
           ],
           "y": {
            "bdata": "AgQJCgs=",
            "dtype": "i1"
           }
          },
          {
           "line": {
            "width": 2
           },
           "marker": {
            "size": 6
           },
           "mode": "lines+markers",
           "name": "user_31",
           "type": "scatter",
           "x": [
            "2020-04-23",
            "2020-05-01",
            "2020-05-02",
            "2020-05-03",
            "2020-05-04"
           ],
           "y": {
            "bdata": "AgAlAHkAfwCAAA==",
            "dtype": "i2"
           }
          },
          {
           "line": {
            "width": 2
           },
           "marker": {
            "size": 6
           },
           "mode": "lines+markers",
           "name": "user_13",
           "type": "scatter",
           "x": [
            "2020-04-25",
            "2020-04-26",
            "2020-05-02"
           ],
           "y": {
            "bdata": "CyIz",
            "dtype": "i1"
           }
          },
          {
           "line": {
            "width": 2
           },
           "marker": {
            "size": 6
           },
           "mode": "lines+markers",
           "name": "user_15",
           "type": "scatter",
           "x": [
            "2020-04-25",
            "2020-04-26",
            "2020-05-02",
            "2020-05-03"
           ],
           "y": {
            "bdata": "Ag0PFg==",
            "dtype": "i1"
           }
          },
          {
           "line": {
            "width": 2
           },
           "marker": {
            "size": 6
           },
           "mode": "lines+markers",
           "name": "user_20",
           "type": "scatter",
           "x": [
            "2020-04-25",
            "2020-04-26",
            "2020-04-27",
            "2020-04-29",
            "2020-04-30",
            "2020-05-01",
            "2020-05-03"
           ],
           "y": {
            "bdata": "AxYYICoxNw==",
            "dtype": "i1"
           }
          },
          {
           "line": {
            "width": 2
           },
           "marker": {
            "size": 6
           },
           "mode": "lines+markers",
           "name": "user_26",
           "type": "scatter",
           "x": [
            "2020-04-25",
            "2020-04-30",
            "2020-05-01",
            "2020-05-02",
            "2020-05-05"
           ],
           "y": {
            "bdata": "DyAiIyQ=",
            "dtype": "i1"
           }
          },
          {
           "line": {
            "width": 2
           },
           "marker": {
            "size": 6
           },
           "mode": "lines+markers",
           "name": "user_6",
           "type": "scatter",
           "x": [
            "2020-04-25",
            "2020-04-26",
            "2020-05-02"
           ],
           "y": {
            "bdata": "AQoL",
            "dtype": "i1"
           }
          },
          {
           "line": {
            "width": 2
           },
           "marker": {
            "size": 6
           },
           "mode": "lines+markers",
           "name": "user_1",
           "type": "scatter",
           "x": [
            "2020-04-26",
            "2020-05-02",
            "2020-05-03"
           ],
           "y": {
            "bdata": "Fhcr",
            "dtype": "i1"
           }
          },
          {
           "line": {
            "width": 2
           },
           "marker": {
            "size": 6
           },
           "mode": "lines+markers",
           "name": "user_18",
           "type": "scatter",
           "x": [
            "2020-04-26",
            "2020-05-03"
           ],
           "y": {
            "bdata": "BAU=",
            "dtype": "i1"
           }
          },
          {
           "line": {
            "width": 2
           },
           "marker": {
            "size": 6
           },
           "mode": "lines+markers",
           "name": "user_27",
           "type": "scatter",
           "x": [
            "2020-04-26",
            "2020-05-03"
           ],
           "y": {
            "bdata": "Ehs=",
            "dtype": "i1"
           }
          },
          {
           "line": {
            "width": 2
           },
           "marker": {
            "size": 6
           },
           "mode": "lines+markers",
           "name": "user_11",
           "type": "scatter",
           "x": [
            "2020-05-03"
           ],
           "y": {
            "bdata": "CA==",
            "dtype": "i1"
           }
          },
          {
           "line": {
            "width": 2
           },
           "marker": {
            "size": 6
           },
           "mode": "lines+markers",
           "name": "user_7",
           "type": "scatter",
           "x": [],
           "y": []
          },
          {
           "line": {
            "width": 2
           },
           "marker": {
            "size": 6
           },
           "mode": "lines+markers",
           "name": "user_23",
           "type": "scatter",
           "x": [],
           "y": []
          }
         ],
         "name": "2020-05-06"
        },
        {
         "data": [
          {
           "line": {
            "width": 2
           },
           "marker": {
            "size": 6
           },
           "mode": "lines+markers",
           "name": "user_4",
           "type": "scatter",
           "x": [
            "2020-04-17",
            "2020-04-19",
            "2020-04-23",
            "2020-04-24",
            "2020-04-26",
            "2020-04-29",
            "2020-05-03",
            "2020-05-04",
            "2020-05-05",
            "2020-05-07"
           ],
           "y": {
            "bdata": "FwAfADEAPwBBAEoAYAB6AIQAqAA=",
            "dtype": "i2"
           }
          },
          {
           "line": {
            "width": 2
           },
           "marker": {
            "size": 6
           },
           "mode": "lines+markers",
           "name": "user_12",
           "type": "scatter",
           "x": [
            "2020-04-18",
            "2020-04-26",
            "2020-04-27",
            "2020-05-03"
           ],
           "y": {
            "bdata": "BxIUVQ==",
            "dtype": "i1"
           }
          },
          {
           "line": {
            "width": 2
           },
           "marker": {
            "size": 6
           },
           "mode": "lines+markers",
           "name": "user_14",
           "type": "scatter",
           "x": [
            "2020-04-18",
            "2020-04-19",
            "2020-04-26",
            "2020-04-30",
            "2020-05-02",
            "2020-05-03",
            "2020-05-04",
            "2020-05-05"
           ],
           "y": {
            "bdata": "KjAyMzY6PD0=",
            "dtype": "i1"
           }
          },
          {
           "line": {
            "width": 2
           },
           "marker": {
            "size": 6
           },
           "mode": "lines+markers",
           "name": "user_17",
           "type": "scatter",
           "x": [
            "2020-04-18",
            "2020-04-23",
            "2020-04-25",
            "2020-05-02",
            "2020-05-04"
           ],
           "y": {
            "bdata": "AQQTIyk=",
            "dtype": "i1"
           }
          },
          {
           "line": {
            "width": 2
           },
           "marker": {
            "size": 6
           },
           "mode": "lines+markers",
           "name": "user_2",
           "type": "scatter",
           "x": [
            "2020-04-18",
            "2020-04-19",
            "2020-05-02",
            "2020-05-03",
            "2020-05-05",
            "2020-05-06"
           ],
           "y": {
            "bdata": "EAASACEAJACVAJcA",
            "dtype": "i2"
           }
          },
          {
           "line": {
            "width": 2
           },
           "marker": {
            "size": 6
           },
           "mode": "lines+markers",
           "name": "user_30",
           "type": "scatter",
           "x": [
            "2020-04-18",
            "2020-04-22",
            "2020-04-23",
            "2020-05-01",
            "2020-05-02",
            "2020-05-03",
            "2020-05-04",
            "2020-05-07"
           ],
           "y": {
            "bdata": "AgMFCBwlJzU=",
            "dtype": "i1"
           }
          },
          {
           "line": {
            "width": 2
           },
           "marker": {
            "size": 6
           },
           "mode": "lines+markers",
           "name": "user_8",
           "type": "scatter",
           "x": [
            "2020-04-18",
            "2020-04-19",
            "2020-04-25",
            "2020-04-26",
            "2020-05-02",
            "2020-05-03"
           ],
           "y": {
            "bdata": "AQ4QFj1A",
            "dtype": "i1"
           }
          },
          {
           "line": {
            "width": 2
           },
           "marker": {
            "size": 6
           },
           "mode": "lines+markers",
           "name": "user_29",
           "type": "scatter",
           "x": [
            "2020-04-19",
            "2020-04-26",
            "2020-04-30",
            "2020-05-01",
            "2020-05-02"
           ],
           "y": {
            "bdata": "BA4lJig=",
            "dtype": "i1"
           }
          },
          {
           "line": {
            "width": 2
           },
           "marker": {
            "size": 6
           },
           "mode": "lines+markers",
           "name": "user_0",
           "type": "scatter",
           "x": [
            "2020-04-20"
           ],
           "y": {
            "bdata": "Aw==",
            "dtype": "i1"
           }
          },
          {
           "line": {
            "width": 2
           },
           "marker": {
            "size": 6
           },
           "mode": "lines+markers",
           "name": "user_16",
           "type": "scatter",
           "x": [
            "2020-04-20",
            "2020-04-26"
           ],
           "y": {
            "bdata": "ChQ=",
            "dtype": "i1"
           }
          },
          {
           "line": {
            "width": 2
           },
           "marker": {
            "size": 6
           },
           "mode": "lines+markers",
           "name": "user_19",
           "type": "scatter",
           "x": [
            "2020-04-20",
            "2020-04-21",
            "2020-04-23",
            "2020-04-24",
            "2020-04-25",
            "2020-04-26",
            "2020-05-02",
            "2020-05-03"
           ],
           "y": {
            "bdata": "Bw8bHS1ZXmU=",
            "dtype": "i1"
           }
          },
          {
           "line": {
            "width": 2
           },
           "marker": {
            "size": 6
           },
           "mode": "lines+markers",
           "name": "user_22",
           "type": "scatter",
           "x": [
            "2020-04-20",
            "2020-04-28",
            "2020-05-03"
           ],
           "y": {
            "bdata": "AgME",
            "dtype": "i1"
           }
          },
          {
           "line": {
            "width": 2
           },
           "marker": {
            "size": 6
           },
           "mode": "lines+markers",
           "name": "user_25",
           "type": "scatter",
           "x": [
            "2020-04-20",
            "2020-04-21",
            "2020-04-25",
            "2020-04-26",
            "2020-04-27",
            "2020-05-01",
            "2020-05-03"
           ],
           "y": {
            "bdata": "AwUbPkBBRA==",
            "dtype": "i1"
           }
          },
          {
           "line": {
            "width": 2
           },
           "marker": {
            "size": 6
           },
           "mode": "lines+markers",
           "name": "user_21",
           "type": "scatter",
           "x": [
            "2020-04-21",
            "2020-04-22",
            "2020-04-26",
            "2020-05-02",
            "2020-05-03"
           ],
           "y": {
            "bdata": "DyQsP0E=",
            "dtype": "i1"
           }
          },
          {
           "line": {
            "width": 2
           },
           "marker": {
            "size": 6
           },
           "mode": "lines+markers",
           "name": "user_10",
           "type": "scatter",
           "x": [
            "2020-04-22",
            "2020-04-25",
            "2020-04-30",
            "2020-05-01"
           ],
           "y": {
            "bdata": "AgYICQ==",
            "dtype": "i1"
           }
          },
          {
           "line": {
            "width": 2
           },
           "marker": {
            "size": 6
           },
           "mode": "lines+markers",
           "name": "user_24",
           "type": "scatter",
           "x": [
            "2020-04-22",
            "2020-04-23",
            "2020-04-25",
            "2020-05-02",
            "2020-05-03",
            "2020-05-05"
           ],
           "y": {
            "bdata": "AQUGFhcl",
            "dtype": "i1"
           }
          },
          {
           "line": {
            "width": 2
           },
           "marker": {
            "size": 6
           },
           "mode": "lines+markers",
           "name": "user_28",
           "type": "scatter",
           "x": [
            "2020-04-22",
            "2020-04-25",
            "2020-04-26",
            "2020-04-28",
            "2020-05-01",
            "2020-05-03"
           ],
           "y": {
            "bdata": "Aw8oLDEz",
            "dtype": "i1"
           }
          },
          {
           "line": {
            "width": 2
           },
           "marker": {
            "size": 6
           },
           "mode": "lines+markers",
           "name": "user_3",
           "type": "scatter",
           "x": [
            "2020-04-23",
            "2020-04-26",
            "2020-05-01",
            "2020-05-02",
            "2020-05-03",
            "2020-05-07"
           ],
           "y": {
            "bdata": "AgQJCgsM",
            "dtype": "i1"
           }
          },
          {
           "line": {
            "width": 2
           },
           "marker": {
            "size": 6
           },
           "mode": "lines+markers",
           "name": "user_31",
           "type": "scatter",
           "x": [
            "2020-04-23",
            "2020-05-01",
            "2020-05-02",
            "2020-05-03",
            "2020-05-04",
            "2020-05-07"
           ],
           "y": {
            "bdata": "AgAlAHkAfwCAAIEA",
            "dtype": "i2"
           }
          },
          {
           "line": {
            "width": 2
           },
           "marker": {
            "size": 6
           },
           "mode": "lines+markers",
           "name": "user_13",
           "type": "scatter",
           "x": [
            "2020-04-25",
            "2020-04-26",
            "2020-05-02"
           ],
           "y": {
            "bdata": "CyIz",
            "dtype": "i1"
           }
          },
          {
           "line": {
            "width": 2
           },
           "marker": {
            "size": 6
           },
           "mode": "lines+markers",
           "name": "user_15",
           "type": "scatter",
           "x": [
            "2020-04-25",
            "2020-04-26",
            "2020-05-02",
            "2020-05-03"
           ],
           "y": {
            "bdata": "Ag0PFg==",
            "dtype": "i1"
           }
          },
          {
           "line": {
            "width": 2
           },
           "marker": {
            "size": 6
           },
           "mode": "lines+markers",
           "name": "user_20",
           "type": "scatter",
           "x": [
            "2020-04-25",
            "2020-04-26",
            "2020-04-27",
            "2020-04-29",
            "2020-04-30",
            "2020-05-01",
            "2020-05-03"
           ],
           "y": {
            "bdata": "AxYYICoxNw==",
            "dtype": "i1"
           }
          },
          {
           "line": {
            "width": 2
           },
           "marker": {
            "size": 6
           },
           "mode": "lines+markers",
           "name": "user_26",
           "type": "scatter",
           "x": [
            "2020-04-25",
            "2020-04-30",
            "2020-05-01",
            "2020-05-02",
            "2020-05-05"
           ],
           "y": {
            "bdata": "DyAiIyQ=",
            "dtype": "i1"
           }
          },
          {
           "line": {
            "width": 2
           },
           "marker": {
            "size": 6
           },
           "mode": "lines+markers",
           "name": "user_6",
           "type": "scatter",
           "x": [
            "2020-04-25",
            "2020-04-26",
            "2020-05-02"
           ],
           "y": {
            "bdata": "AQoL",
            "dtype": "i1"
           }
          },
          {
           "line": {
            "width": 2
           },
           "marker": {
            "size": 6
           },
           "mode": "lines+markers",
           "name": "user_1",
           "type": "scatter",
           "x": [
            "2020-04-26",
            "2020-05-02",
            "2020-05-03"
           ],
           "y": {
            "bdata": "Fhcr",
            "dtype": "i1"
           }
          },
          {
           "line": {
            "width": 2
           },
           "marker": {
            "size": 6
           },
           "mode": "lines+markers",
           "name": "user_18",
           "type": "scatter",
           "x": [
            "2020-04-26",
            "2020-05-03"
           ],
           "y": {
            "bdata": "BAU=",
            "dtype": "i1"
           }
          },
          {
           "line": {
            "width": 2
           },
           "marker": {
            "size": 6
           },
           "mode": "lines+markers",
           "name": "user_27",
           "type": "scatter",
           "x": [
            "2020-04-26",
            "2020-05-03"
           ],
           "y": {
            "bdata": "Ehs=",
            "dtype": "i1"
           }
          },
          {
           "line": {
            "width": 2
           },
           "marker": {
            "size": 6
           },
           "mode": "lines+markers",
           "name": "user_11",
           "type": "scatter",
           "x": [
            "2020-05-03"
           ],
           "y": {
            "bdata": "CA==",
            "dtype": "i1"
           }
          },
          {
           "line": {
            "width": 2
           },
           "marker": {
            "size": 6
           },
           "mode": "lines+markers",
           "name": "user_7",
           "type": "scatter",
           "x": [],
           "y": []
          },
          {
           "line": {
            "width": 2
           },
           "marker": {
            "size": 6
           },
           "mode": "lines+markers",
           "name": "user_23",
           "type": "scatter",
           "x": [],
           "y": []
          }
         ],
         "name": "2020-05-07"
        },
        {
         "data": [
          {
           "line": {
            "width": 2
           },
           "marker": {
            "size": 6
           },
           "mode": "lines+markers",
           "name": "user_4",
           "type": "scatter",
           "x": [
            "2020-04-17",
            "2020-04-19",
            "2020-04-23",
            "2020-04-24",
            "2020-04-26",
            "2020-04-29",
            "2020-05-03",
            "2020-05-04",
            "2020-05-05",
            "2020-05-07",
            "2020-05-08"
           ],
           "y": {
            "bdata": "FwAfADEAPwBBAEoAYAB6AIQAqADAAA==",
            "dtype": "i2"
           }
          },
          {
           "line": {
            "width": 2
           },
           "marker": {
            "size": 6
           },
           "mode": "lines+markers",
           "name": "user_12",
           "type": "scatter",
           "x": [
            "2020-04-18",
            "2020-04-26",
            "2020-04-27",
            "2020-05-03"
           ],
           "y": {
            "bdata": "BxIUVQ==",
            "dtype": "i1"
           }
          },
          {
           "line": {
            "width": 2
           },
           "marker": {
            "size": 6
           },
           "mode": "lines+markers",
           "name": "user_14",
           "type": "scatter",
           "x": [
            "2020-04-18",
            "2020-04-19",
            "2020-04-26",
            "2020-04-30",
            "2020-05-02",
            "2020-05-03",
            "2020-05-04",
            "2020-05-05"
           ],
           "y": {
            "bdata": "KjAyMzY6PD0=",
            "dtype": "i1"
           }
          },
          {
           "line": {
            "width": 2
           },
           "marker": {
            "size": 6
           },
           "mode": "lines+markers",
           "name": "user_17",
           "type": "scatter",
           "x": [
            "2020-04-18",
            "2020-04-23",
            "2020-04-25",
            "2020-05-02",
            "2020-05-04"
           ],
           "y": {
            "bdata": "AQQTIyk=",
            "dtype": "i1"
           }
          },
          {
           "line": {
            "width": 2
           },
           "marker": {
            "size": 6
           },
           "mode": "lines+markers",
           "name": "user_2",
           "type": "scatter",
           "x": [
            "2020-04-18",
            "2020-04-19",
            "2020-05-02",
            "2020-05-03",
            "2020-05-05",
            "2020-05-06"
           ],
           "y": {
            "bdata": "EAASACEAJACVAJcA",
            "dtype": "i2"
           }
          },
          {
           "line": {
            "width": 2
           },
           "marker": {
            "size": 6
           },
           "mode": "lines+markers",
           "name": "user_30",
           "type": "scatter",
           "x": [
            "2020-04-18",
            "2020-04-22",
            "2020-04-23",
            "2020-05-01",
            "2020-05-02",
            "2020-05-03",
            "2020-05-04",
            "2020-05-07"
           ],
           "y": {
            "bdata": "AgMFCBwlJzU=",
            "dtype": "i1"
           }
          },
          {
           "line": {
            "width": 2
           },
           "marker": {
            "size": 6
           },
           "mode": "lines+markers",
           "name": "user_8",
           "type": "scatter",
           "x": [
            "2020-04-18",
            "2020-04-19",
            "2020-04-25",
            "2020-04-26",
            "2020-05-02",
            "2020-05-03"
           ],
           "y": {
            "bdata": "AQ4QFj1A",
            "dtype": "i1"
           }
          },
          {
           "line": {
            "width": 2
           },
           "marker": {
            "size": 6
           },
           "mode": "lines+markers",
           "name": "user_29",
           "type": "scatter",
           "x": [
            "2020-04-19",
            "2020-04-26",
            "2020-04-30",
            "2020-05-01",
            "2020-05-02"
           ],
           "y": {
            "bdata": "BA4lJig=",
            "dtype": "i1"
           }
          },
          {
           "line": {
            "width": 2
           },
           "marker": {
            "size": 6
           },
           "mode": "lines+markers",
           "name": "user_0",
           "type": "scatter",
           "x": [
            "2020-04-20"
           ],
           "y": {
            "bdata": "Aw==",
            "dtype": "i1"
           }
          },
          {
           "line": {
            "width": 2
           },
           "marker": {
            "size": 6
           },
           "mode": "lines+markers",
           "name": "user_16",
           "type": "scatter",
           "x": [
            "2020-04-20",
            "2020-04-26"
           ],
           "y": {
            "bdata": "ChQ=",
            "dtype": "i1"
           }
          },
          {
           "line": {
            "width": 2
           },
           "marker": {
            "size": 6
           },
           "mode": "lines+markers",
           "name": "user_19",
           "type": "scatter",
           "x": [
            "2020-04-20",
            "2020-04-21",
            "2020-04-23",
            "2020-04-24",
            "2020-04-25",
            "2020-04-26",
            "2020-05-02",
            "2020-05-03"
           ],
           "y": {
            "bdata": "Bw8bHS1ZXmU=",
            "dtype": "i1"
           }
          },
          {
           "line": {
            "width": 2
           },
           "marker": {
            "size": 6
           },
           "mode": "lines+markers",
           "name": "user_22",
           "type": "scatter",
           "x": [
            "2020-04-20",
            "2020-04-28",
            "2020-05-03"
           ],
           "y": {
            "bdata": "AgME",
            "dtype": "i1"
           }
          },
          {
           "line": {
            "width": 2
           },
           "marker": {
            "size": 6
           },
           "mode": "lines+markers",
           "name": "user_25",
           "type": "scatter",
           "x": [
            "2020-04-20",
            "2020-04-21",
            "2020-04-25",
            "2020-04-26",
            "2020-04-27",
            "2020-05-01",
            "2020-05-03",
            "2020-05-08"
           ],
           "y": {
            "bdata": "AwUbPkBBRE0=",
            "dtype": "i1"
           }
          },
          {
           "line": {
            "width": 2
           },
           "marker": {
            "size": 6
           },
           "mode": "lines+markers",
           "name": "user_21",
           "type": "scatter",
           "x": [
            "2020-04-21",
            "2020-04-22",
            "2020-04-26",
            "2020-05-02",
            "2020-05-03"
           ],
           "y": {
            "bdata": "DyQsP0E=",
            "dtype": "i1"
           }
          },
          {
           "line": {
            "width": 2
           },
           "marker": {
            "size": 6
           },
           "mode": "lines+markers",
           "name": "user_10",
           "type": "scatter",
           "x": [
            "2020-04-22",
            "2020-04-25",
            "2020-04-30",
            "2020-05-01"
           ],
           "y": {
            "bdata": "AgYICQ==",
            "dtype": "i1"
           }
          },
          {
           "line": {
            "width": 2
           },
           "marker": {
            "size": 6
           },
           "mode": "lines+markers",
           "name": "user_24",
           "type": "scatter",
           "x": [
            "2020-04-22",
            "2020-04-23",
            "2020-04-25",
            "2020-05-02",
            "2020-05-03",
            "2020-05-05"
           ],
           "y": {
            "bdata": "AQUGFhcl",
            "dtype": "i1"
           }
          },
          {
           "line": {
            "width": 2
           },
           "marker": {
            "size": 6
           },
           "mode": "lines+markers",
           "name": "user_28",
           "type": "scatter",
           "x": [
            "2020-04-22",
            "2020-04-25",
            "2020-04-26",
            "2020-04-28",
            "2020-05-01",
            "2020-05-03"
           ],
           "y": {
            "bdata": "Aw8oLDEz",
            "dtype": "i1"
           }
          },
          {
           "line": {
            "width": 2
           },
           "marker": {
            "size": 6
           },
           "mode": "lines+markers",
           "name": "user_3",
           "type": "scatter",
           "x": [
            "2020-04-23",
            "2020-04-26",
            "2020-05-01",
            "2020-05-02",
            "2020-05-03",
            "2020-05-07",
            "2020-05-08"
           ],
           "y": {
            "bdata": "AgQJCgsMQg==",
            "dtype": "i1"
           }
          },
          {
           "line": {
            "width": 2
           },
           "marker": {
            "size": 6
           },
           "mode": "lines+markers",
           "name": "user_31",
           "type": "scatter",
           "x": [
            "2020-04-23",
            "2020-05-01",
            "2020-05-02",
            "2020-05-03",
            "2020-05-04",
            "2020-05-07"
           ],
           "y": {
            "bdata": "AgAlAHkAfwCAAIEA",
            "dtype": "i2"
           }
          },
          {
           "line": {
            "width": 2
           },
           "marker": {
            "size": 6
           },
           "mode": "lines+markers",
           "name": "user_13",
           "type": "scatter",
           "x": [
            "2020-04-25",
            "2020-04-26",
            "2020-05-02"
           ],
           "y": {
            "bdata": "CyIz",
            "dtype": "i1"
           }
          },
          {
           "line": {
            "width": 2
           },
           "marker": {
            "size": 6
           },
           "mode": "lines+markers",
           "name": "user_15",
           "type": "scatter",
           "x": [
            "2020-04-25",
            "2020-04-26",
            "2020-05-02",
            "2020-05-03"
           ],
           "y": {
            "bdata": "Ag0PFg==",
            "dtype": "i1"
           }
          },
          {
           "line": {
            "width": 2
           },
           "marker": {
            "size": 6
           },
           "mode": "lines+markers",
           "name": "user_20",
           "type": "scatter",
           "x": [
            "2020-04-25",
            "2020-04-26",
            "2020-04-27",
            "2020-04-29",
            "2020-04-30",
            "2020-05-01",
            "2020-05-03"
           ],
           "y": {
            "bdata": "AxYYICoxNw==",
            "dtype": "i1"
           }
          },
          {
           "line": {
            "width": 2
           },
           "marker": {
            "size": 6
           },
           "mode": "lines+markers",
           "name": "user_26",
           "type": "scatter",
           "x": [
            "2020-04-25",
            "2020-04-30",
            "2020-05-01",
            "2020-05-02",
            "2020-05-05"
           ],
           "y": {
            "bdata": "DyAiIyQ=",
            "dtype": "i1"
           }
          },
          {
           "line": {
            "width": 2
           },
           "marker": {
            "size": 6
           },
           "mode": "lines+markers",
           "name": "user_6",
           "type": "scatter",
           "x": [
            "2020-04-25",
            "2020-04-26",
            "2020-05-02"
           ],
           "y": {
            "bdata": "AQoL",
            "dtype": "i1"
           }
          },
          {
           "line": {
            "width": 2
           },
           "marker": {
            "size": 6
           },
           "mode": "lines+markers",
           "name": "user_1",
           "type": "scatter",
           "x": [
            "2020-04-26",
            "2020-05-02",
            "2020-05-03"
           ],
           "y": {
            "bdata": "Fhcr",
            "dtype": "i1"
           }
          },
          {
           "line": {
            "width": 2
           },
           "marker": {
            "size": 6
           },
           "mode": "lines+markers",
           "name": "user_18",
           "type": "scatter",
           "x": [
            "2020-04-26",
            "2020-05-03"
           ],
           "y": {
            "bdata": "BAU=",
            "dtype": "i1"
           }
          },
          {
           "line": {
            "width": 2
           },
           "marker": {
            "size": 6
           },
           "mode": "lines+markers",
           "name": "user_27",
           "type": "scatter",
           "x": [
            "2020-04-26",
            "2020-05-03"
           ],
           "y": {
            "bdata": "Ehs=",
            "dtype": "i1"
           }
          },
          {
           "line": {
            "width": 2
           },
           "marker": {
            "size": 6
           },
           "mode": "lines+markers",
           "name": "user_11",
           "type": "scatter",
           "x": [
            "2020-05-03"
           ],
           "y": {
            "bdata": "CA==",
            "dtype": "i1"
           }
          },
          {
           "line": {
            "width": 2
           },
           "marker": {
            "size": 6
           },
           "mode": "lines+markers",
           "name": "user_7",
           "type": "scatter",
           "x": [],
           "y": []
          },
          {
           "line": {
            "width": 2
           },
           "marker": {
            "size": 6
           },
           "mode": "lines+markers",
           "name": "user_23",
           "type": "scatter",
           "x": [],
           "y": []
          }
         ],
         "name": "2020-05-08"
        },
        {
         "data": [
          {
           "line": {
            "width": 2
           },
           "marker": {
            "size": 6
           },
           "mode": "lines+markers",
           "name": "user_4",
           "type": "scatter",
           "x": [
            "2020-04-17",
            "2020-04-19",
            "2020-04-23",
            "2020-04-24",
            "2020-04-26",
            "2020-04-29",
            "2020-05-03",
            "2020-05-04",
            "2020-05-05",
            "2020-05-07",
            "2020-05-08"
           ],
           "y": {
            "bdata": "FwAfADEAPwBBAEoAYAB6AIQAqADAAA==",
            "dtype": "i2"
           }
          },
          {
           "line": {
            "width": 2
           },
           "marker": {
            "size": 6
           },
           "mode": "lines+markers",
           "name": "user_12",
           "type": "scatter",
           "x": [
            "2020-04-18",
            "2020-04-26",
            "2020-04-27",
            "2020-05-03"
           ],
           "y": {
            "bdata": "BxIUVQ==",
            "dtype": "i1"
           }
          },
          {
           "line": {
            "width": 2
           },
           "marker": {
            "size": 6
           },
           "mode": "lines+markers",
           "name": "user_14",
           "type": "scatter",
           "x": [
            "2020-04-18",
            "2020-04-19",
            "2020-04-26",
            "2020-04-30",
            "2020-05-02",
            "2020-05-03",
            "2020-05-04",
            "2020-05-05",
            "2020-05-09"
           ],
           "y": {
            "bdata": "KjAyMzY6PD1f",
            "dtype": "i1"
           }
          },
          {
           "line": {
            "width": 2
           },
           "marker": {
            "size": 6
           },
           "mode": "lines+markers",
           "name": "user_17",
           "type": "scatter",
           "x": [
            "2020-04-18",
            "2020-04-23",
            "2020-04-25",
            "2020-05-02",
            "2020-05-04"
           ],
           "y": {
            "bdata": "AQQTIyk=",
            "dtype": "i1"
           }
          },
          {
           "line": {
            "width": 2
           },
           "marker": {
            "size": 6
           },
           "mode": "lines+markers",
           "name": "user_2",
           "type": "scatter",
           "x": [
            "2020-04-18",
            "2020-04-19",
            "2020-05-02",
            "2020-05-03",
            "2020-05-05",
            "2020-05-06"
           ],
           "y": {
            "bdata": "EAASACEAJACVAJcA",
            "dtype": "i2"
           }
          },
          {
           "line": {
            "width": 2
           },
           "marker": {
            "size": 6
           },
           "mode": "lines+markers",
           "name": "user_30",
           "type": "scatter",
           "x": [
            "2020-04-18",
            "2020-04-22",
            "2020-04-23",
            "2020-05-01",
            "2020-05-02",
            "2020-05-03",
            "2020-05-04",
            "2020-05-07"
           ],
           "y": {
            "bdata": "AgMFCBwlJzU=",
            "dtype": "i1"
           }
          },
          {
           "line": {
            "width": 2
           },
           "marker": {
            "size": 6
           },
           "mode": "lines+markers",
           "name": "user_8",
           "type": "scatter",
           "x": [
            "2020-04-18",
            "2020-04-19",
            "2020-04-25",
            "2020-04-26",
            "2020-05-02",
            "2020-05-03"
           ],
           "y": {
            "bdata": "AQ4QFj1A",
            "dtype": "i1"
           }
          },
          {
           "line": {
            "width": 2
           },
           "marker": {
            "size": 6
           },
           "mode": "lines+markers",
           "name": "user_29",
           "type": "scatter",
           "x": [
            "2020-04-19",
            "2020-04-26",
            "2020-04-30",
            "2020-05-01",
            "2020-05-02"
           ],
           "y": {
            "bdata": "BA4lJig=",
            "dtype": "i1"
           }
          },
          {
           "line": {
            "width": 2
           },
           "marker": {
            "size": 6
           },
           "mode": "lines+markers",
           "name": "user_0",
           "type": "scatter",
           "x": [
            "2020-04-20"
           ],
           "y": {
            "bdata": "Aw==",
            "dtype": "i1"
           }
          },
          {
           "line": {
            "width": 2
           },
           "marker": {
            "size": 6
           },
           "mode": "lines+markers",
           "name": "user_16",
           "type": "scatter",
           "x": [
            "2020-04-20",
            "2020-04-26"
           ],
           "y": {
            "bdata": "ChQ=",
            "dtype": "i1"
           }
          },
          {
           "line": {
            "width": 2
           },
           "marker": {
            "size": 6
           },
           "mode": "lines+markers",
           "name": "user_19",
           "type": "scatter",
           "x": [
            "2020-04-20",
            "2020-04-21",
            "2020-04-23",
            "2020-04-24",
            "2020-04-25",
            "2020-04-26",
            "2020-05-02",
            "2020-05-03"
           ],
           "y": {
            "bdata": "Bw8bHS1ZXmU=",
            "dtype": "i1"
           }
          },
          {
           "line": {
            "width": 2
           },
           "marker": {
            "size": 6
           },
           "mode": "lines+markers",
           "name": "user_22",
           "type": "scatter",
           "x": [
            "2020-04-20",
            "2020-04-28",
            "2020-05-03"
           ],
           "y": {
            "bdata": "AgME",
            "dtype": "i1"
           }
          },
          {
           "line": {
            "width": 2
           },
           "marker": {
            "size": 6
           },
           "mode": "lines+markers",
           "name": "user_25",
           "type": "scatter",
           "x": [
            "2020-04-20",
            "2020-04-21",
            "2020-04-25",
            "2020-04-26",
            "2020-04-27",
            "2020-05-01",
            "2020-05-03",
            "2020-05-08",
            "2020-05-09"
           ],
           "y": {
            "bdata": "AwUbPkBBRE15",
            "dtype": "i1"
           }
          },
          {
           "line": {
            "width": 2
           },
           "marker": {
            "size": 6
           },
           "mode": "lines+markers",
           "name": "user_21",
           "type": "scatter",
           "x": [
            "2020-04-21",
            "2020-04-22",
            "2020-04-26",
            "2020-05-02",
            "2020-05-03"
           ],
           "y": {
            "bdata": "DyQsP0E=",
            "dtype": "i1"
           }
          },
          {
           "line": {
            "width": 2
           },
           "marker": {
            "size": 6
           },
           "mode": "lines+markers",
           "name": "user_10",
           "type": "scatter",
           "x": [
            "2020-04-22",
            "2020-04-25",
            "2020-04-30",
            "2020-05-01"
           ],
           "y": {
            "bdata": "AgYICQ==",
            "dtype": "i1"
           }
          },
          {
           "line": {
            "width": 2
           },
           "marker": {
            "size": 6
           },
           "mode": "lines+markers",
           "name": "user_24",
           "type": "scatter",
           "x": [
            "2020-04-22",
            "2020-04-23",
            "2020-04-25",
            "2020-05-02",
            "2020-05-03",
            "2020-05-05"
           ],
           "y": {
            "bdata": "AQUGFhcl",
            "dtype": "i1"
           }
          },
          {
           "line": {
            "width": 2
           },
           "marker": {
            "size": 6
           },
           "mode": "lines+markers",
           "name": "user_28",
           "type": "scatter",
           "x": [
            "2020-04-22",
            "2020-04-25",
            "2020-04-26",
            "2020-04-28",
            "2020-05-01",
            "2020-05-03"
           ],
           "y": {
            "bdata": "Aw8oLDEz",
            "dtype": "i1"
           }
          },
          {
           "line": {
            "width": 2
           },
           "marker": {
            "size": 6
           },
           "mode": "lines+markers",
           "name": "user_3",
           "type": "scatter",
           "x": [
            "2020-04-23",
            "2020-04-26",
            "2020-05-01",
            "2020-05-02",
            "2020-05-03",
            "2020-05-07",
            "2020-05-08",
            "2020-05-09"
           ],
           "y": {
            "bdata": "AgQJCgsMQkQ=",
            "dtype": "i1"
           }
          },
          {
           "line": {
            "width": 2
           },
           "marker": {
            "size": 6
           },
           "mode": "lines+markers",
           "name": "user_31",
           "type": "scatter",
           "x": [
            "2020-04-23",
            "2020-05-01",
            "2020-05-02",
            "2020-05-03",
            "2020-05-04",
            "2020-05-07",
            "2020-05-09"
           ],
           "y": {
            "bdata": "AgAlAHkAfwCAAIEAhwA=",
            "dtype": "i2"
           }
          },
          {
           "line": {
            "width": 2
           },
           "marker": {
            "size": 6
           },
           "mode": "lines+markers",
           "name": "user_13",
           "type": "scatter",
           "x": [
            "2020-04-25",
            "2020-04-26",
            "2020-05-02"
           ],
           "y": {
            "bdata": "CyIz",
            "dtype": "i1"
           }
          },
          {
           "line": {
            "width": 2
           },
           "marker": {
            "size": 6
           },
           "mode": "lines+markers",
           "name": "user_15",
           "type": "scatter",
           "x": [
            "2020-04-25",
            "2020-04-26",
            "2020-05-02",
            "2020-05-03"
           ],
           "y": {
            "bdata": "Ag0PFg==",
            "dtype": "i1"
           }
          },
          {
           "line": {
            "width": 2
           },
           "marker": {
            "size": 6
           },
           "mode": "lines+markers",
           "name": "user_20",
           "type": "scatter",
           "x": [
            "2020-04-25",
            "2020-04-26",
            "2020-04-27",
            "2020-04-29",
            "2020-04-30",
            "2020-05-01",
            "2020-05-03"
           ],
           "y": {
            "bdata": "AxYYICoxNw==",
            "dtype": "i1"
           }
          },
          {
           "line": {
            "width": 2
           },
           "marker": {
            "size": 6
           },
           "mode": "lines+markers",
           "name": "user_26",
           "type": "scatter",
           "x": [
            "2020-04-25",
            "2020-04-30",
            "2020-05-01",
            "2020-05-02",
            "2020-05-05"
           ],
           "y": {
            "bdata": "DyAiIyQ=",
            "dtype": "i1"
           }
          },
          {
           "line": {
            "width": 2
           },
           "marker": {
            "size": 6
           },
           "mode": "lines+markers",
           "name": "user_6",
           "type": "scatter",
           "x": [
            "2020-04-25",
            "2020-04-26",
            "2020-05-02"
           ],
           "y": {
            "bdata": "AQoL",
            "dtype": "i1"
           }
          },
          {
           "line": {
            "width": 2
           },
           "marker": {
            "size": 6
           },
           "mode": "lines+markers",
           "name": "user_1",
           "type": "scatter",
           "x": [
            "2020-04-26",
            "2020-05-02",
            "2020-05-03"
           ],
           "y": {
            "bdata": "Fhcr",
            "dtype": "i1"
           }
          },
          {
           "line": {
            "width": 2
           },
           "marker": {
            "size": 6
           },
           "mode": "lines+markers",
           "name": "user_18",
           "type": "scatter",
           "x": [
            "2020-04-26",
            "2020-05-03"
           ],
           "y": {
            "bdata": "BAU=",
            "dtype": "i1"
           }
          },
          {
           "line": {
            "width": 2
           },
           "marker": {
            "size": 6
           },
           "mode": "lines+markers",
           "name": "user_27",
           "type": "scatter",
           "x": [
            "2020-04-26",
            "2020-05-03"
           ],
           "y": {
            "bdata": "Ehs=",
            "dtype": "i1"
           }
          },
          {
           "line": {
            "width": 2
           },
           "marker": {
            "size": 6
           },
           "mode": "lines+markers",
           "name": "user_11",
           "type": "scatter",
           "x": [
            "2020-05-03"
           ],
           "y": {
            "bdata": "CA==",
            "dtype": "i1"
           }
          },
          {
           "line": {
            "width": 2
           },
           "marker": {
            "size": 6
           },
           "mode": "lines+markers",
           "name": "user_7",
           "type": "scatter",
           "x": [],
           "y": []
          },
          {
           "line": {
            "width": 2
           },
           "marker": {
            "size": 6
           },
           "mode": "lines+markers",
           "name": "user_23",
           "type": "scatter",
           "x": [],
           "y": []
          }
         ],
         "name": "2020-05-09"
        },
        {
         "data": [
          {
           "line": {
            "width": 2
           },
           "marker": {
            "size": 6
           },
           "mode": "lines+markers",
           "name": "user_4",
           "type": "scatter",
           "x": [
            "2020-04-17",
            "2020-04-19",
            "2020-04-23",
            "2020-04-24",
            "2020-04-26",
            "2020-04-29",
            "2020-05-03",
            "2020-05-04",
            "2020-05-05",
            "2020-05-07",
            "2020-05-08",
            "2020-05-10"
           ],
           "y": {
            "bdata": "FwAfADEAPwBBAEoAYAB6AIQAqADAAMIA",
            "dtype": "i2"
           }
          },
          {
           "line": {
            "width": 2
           },
           "marker": {
            "size": 6
           },
           "mode": "lines+markers",
           "name": "user_12",
           "type": "scatter",
           "x": [
            "2020-04-18",
            "2020-04-26",
            "2020-04-27",
            "2020-05-03"
           ],
           "y": {
            "bdata": "BxIUVQ==",
            "dtype": "i1"
           }
          },
          {
           "line": {
            "width": 2
           },
           "marker": {
            "size": 6
           },
           "mode": "lines+markers",
           "name": "user_14",
           "type": "scatter",
           "x": [
            "2020-04-18",
            "2020-04-19",
            "2020-04-26",
            "2020-04-30",
            "2020-05-02",
            "2020-05-03",
            "2020-05-04",
            "2020-05-05",
            "2020-05-09",
            "2020-05-10"
           ],
           "y": {
            "bdata": "KjAyMzY6PD1fbQ==",
            "dtype": "i1"
           }
          },
          {
           "line": {
            "width": 2
           },
           "marker": {
            "size": 6
           },
           "mode": "lines+markers",
           "name": "user_17",
           "type": "scatter",
           "x": [
            "2020-04-18",
            "2020-04-23",
            "2020-04-25",
            "2020-05-02",
            "2020-05-04"
           ],
           "y": {
            "bdata": "AQQTIyk=",
            "dtype": "i1"
           }
          },
          {
           "line": {
            "width": 2
           },
           "marker": {
            "size": 6
           },
           "mode": "lines+markers",
           "name": "user_2",
           "type": "scatter",
           "x": [
            "2020-04-18",
            "2020-04-19",
            "2020-05-02",
            "2020-05-03",
            "2020-05-05",
            "2020-05-06",
            "2020-05-10"
           ],
           "y": {
            "bdata": "EAASACEAJACVAJcAnwA=",
            "dtype": "i2"
           }
          },
          {
           "line": {
            "width": 2
           },
           "marker": {
            "size": 6
           },
           "mode": "lines+markers",
           "name": "user_30",
           "type": "scatter",
           "x": [
            "2020-04-18",
            "2020-04-22",
            "2020-04-23",
            "2020-05-01",
            "2020-05-02",
            "2020-05-03",
            "2020-05-04",
            "2020-05-07",
            "2020-05-10"
           ],
           "y": {
            "bdata": "AgMFCBwlJzVB",
            "dtype": "i1"
           }
          },
          {
           "line": {
            "width": 2
           },
           "marker": {
            "size": 6
           },
           "mode": "lines+markers",
           "name": "user_8",
           "type": "scatter",
           "x": [
            "2020-04-18",
            "2020-04-19",
            "2020-04-25",
            "2020-04-26",
            "2020-05-02",
            "2020-05-03",
            "2020-05-10"
           ],
           "y": {
            "bdata": "AQ4QFj1ARA==",
            "dtype": "i1"
           }
          },
          {
           "line": {
            "width": 2
           },
           "marker": {
            "size": 6
           },
           "mode": "lines+markers",
           "name": "user_29",
           "type": "scatter",
           "x": [
            "2020-04-19",
            "2020-04-26",
            "2020-04-30",
            "2020-05-01",
            "2020-05-02",
            "2020-05-10"
           ],
           "y": {
            "bdata": "BA4lJigq",
            "dtype": "i1"
           }
          },
          {
           "line": {
            "width": 2
           },
           "marker": {
            "size": 6
           },
           "mode": "lines+markers",
           "name": "user_0",
           "type": "scatter",
           "x": [
            "2020-04-20"
           ],
           "y": {
            "bdata": "Aw==",
            "dtype": "i1"
           }
          },
          {
           "line": {
            "width": 2
           },
           "marker": {
            "size": 6
           },
           "mode": "lines+markers",
           "name": "user_16",
           "type": "scatter",
           "x": [
            "2020-04-20",
            "2020-04-26"
           ],
           "y": {
            "bdata": "ChQ=",
            "dtype": "i1"
           }
          },
          {
           "line": {
            "width": 2
           },
           "marker": {
            "size": 6
           },
           "mode": "lines+markers",
           "name": "user_19",
           "type": "scatter",
           "x": [
            "2020-04-20",
            "2020-04-21",
            "2020-04-23",
            "2020-04-24",
            "2020-04-25",
            "2020-04-26",
            "2020-05-02",
            "2020-05-03"
           ],
           "y": {
            "bdata": "Bw8bHS1ZXmU=",
            "dtype": "i1"
           }
          },
          {
           "line": {
            "width": 2
           },
           "marker": {
            "size": 6
           },
           "mode": "lines+markers",
           "name": "user_22",
           "type": "scatter",
           "x": [
            "2020-04-20",
            "2020-04-28",
            "2020-05-03"
           ],
           "y": {
            "bdata": "AgME",
            "dtype": "i1"
           }
          },
          {
           "line": {
            "width": 2
           },
           "marker": {
            "size": 6
           },
           "mode": "lines+markers",
           "name": "user_25",
           "type": "scatter",
           "x": [
            "2020-04-20",
            "2020-04-21",
            "2020-04-25",
            "2020-04-26",
            "2020-04-27",
            "2020-05-01",
            "2020-05-03",
            "2020-05-08",
            "2020-05-09",
            "2020-05-10"
           ],
           "y": {
            "bdata": "AwUbPkBBRE15fw==",
            "dtype": "i1"
           }
          },
          {
           "line": {
            "width": 2
           },
           "marker": {
            "size": 6
           },
           "mode": "lines+markers",
           "name": "user_21",
           "type": "scatter",
           "x": [
            "2020-04-21",
            "2020-04-22",
            "2020-04-26",
            "2020-05-02",
            "2020-05-03",
            "2020-05-10"
           ],
           "y": {
            "bdata": "DyQsP0FO",
            "dtype": "i1"
           }
          },
          {
           "line": {
            "width": 2
           },
           "marker": {
            "size": 6
           },
           "mode": "lines+markers",
           "name": "user_10",
           "type": "scatter",
           "x": [
            "2020-04-22",
            "2020-04-25",
            "2020-04-30",
            "2020-05-01",
            "2020-05-10"
           ],
           "y": {
            "bdata": "AgYICQs=",
            "dtype": "i1"
           }
          },
          {
           "line": {
            "width": 2
           },
           "marker": {
            "size": 6
           },
           "mode": "lines+markers",
           "name": "user_24",
           "type": "scatter",
           "x": [
            "2020-04-22",
            "2020-04-23",
            "2020-04-25",
            "2020-05-02",
            "2020-05-03",
            "2020-05-05"
           ],
           "y": {
            "bdata": "AQUGFhcl",
            "dtype": "i1"
           }
          },
          {
           "line": {
            "width": 2
           },
           "marker": {
            "size": 6
           },
           "mode": "lines+markers",
           "name": "user_28",
           "type": "scatter",
           "x": [
            "2020-04-22",
            "2020-04-25",
            "2020-04-26",
            "2020-04-28",
            "2020-05-01",
            "2020-05-03",
            "2020-05-10"
           ],
           "y": {
            "bdata": "Aw8oLDEzNQ==",
            "dtype": "i1"
           }
          },
          {
           "line": {
            "width": 2
           },
           "marker": {
            "size": 6
           },
           "mode": "lines+markers",
           "name": "user_3",
           "type": "scatter",
           "x": [
            "2020-04-23",
            "2020-04-26",
            "2020-05-01",
            "2020-05-02",
            "2020-05-03",
            "2020-05-07",
            "2020-05-08",
            "2020-05-09",
            "2020-05-10"
           ],
           "y": {
            "bdata": "AgQJCgsMQkRI",
            "dtype": "i1"
           }
          },
          {
           "line": {
            "width": 2
           },
           "marker": {
            "size": 6
           },
           "mode": "lines+markers",
           "name": "user_31",
           "type": "scatter",
           "x": [
            "2020-04-23",
            "2020-05-01",
            "2020-05-02",
            "2020-05-03",
            "2020-05-04",
            "2020-05-07",
            "2020-05-09"
           ],
           "y": {
            "bdata": "AgAlAHkAfwCAAIEAhwA=",
            "dtype": "i2"
           }
          },
          {
           "line": {
            "width": 2
           },
           "marker": {
            "size": 6
           },
           "mode": "lines+markers",
           "name": "user_13",
           "type": "scatter",
           "x": [
            "2020-04-25",
            "2020-04-26",
            "2020-05-02"
           ],
           "y": {
            "bdata": "CyIz",
            "dtype": "i1"
           }
          },
          {
           "line": {
            "width": 2
           },
           "marker": {
            "size": 6
           },
           "mode": "lines+markers",
           "name": "user_15",
           "type": "scatter",
           "x": [
            "2020-04-25",
            "2020-04-26",
            "2020-05-02",
            "2020-05-03",
            "2020-05-10"
           ],
           "y": {
            "bdata": "Ag0PFhg=",
            "dtype": "i1"
           }
          },
          {
           "line": {
            "width": 2
           },
           "marker": {
            "size": 6
           },
           "mode": "lines+markers",
           "name": "user_20",
           "type": "scatter",
           "x": [
            "2020-04-25",
            "2020-04-26",
            "2020-04-27",
            "2020-04-29",
            "2020-04-30",
            "2020-05-01",
            "2020-05-03",
            "2020-05-10"
           ],
           "y": {
            "bdata": "AxYYICoxNzo=",
            "dtype": "i1"
           }
          },
          {
           "line": {
            "width": 2
           },
           "marker": {
            "size": 6
           },
           "mode": "lines+markers",
           "name": "user_26",
           "type": "scatter",
           "x": [
            "2020-04-25",
            "2020-04-30",
            "2020-05-01",
            "2020-05-02",
            "2020-05-05",
            "2020-05-10"
           ],
           "y": {
            "bdata": "DyAiIyRp",
            "dtype": "i1"
           }
          },
          {
           "line": {
            "width": 2
           },
           "marker": {
            "size": 6
           },
           "mode": "lines+markers",
           "name": "user_6",
           "type": "scatter",
           "x": [
            "2020-04-25",
            "2020-04-26",
            "2020-05-02"
           ],
           "y": {
            "bdata": "AQoL",
            "dtype": "i1"
           }
          },
          {
           "line": {
            "width": 2
           },
           "marker": {
            "size": 6
           },
           "mode": "lines+markers",
           "name": "user_1",
           "type": "scatter",
           "x": [
            "2020-04-26",
            "2020-05-02",
            "2020-05-03"
           ],
           "y": {
            "bdata": "Fhcr",
            "dtype": "i1"
           }
          },
          {
           "line": {
            "width": 2
           },
           "marker": {
            "size": 6
           },
           "mode": "lines+markers",
           "name": "user_18",
           "type": "scatter",
           "x": [
            "2020-04-26",
            "2020-05-03"
           ],
           "y": {
            "bdata": "BAU=",
            "dtype": "i1"
           }
          },
          {
           "line": {
            "width": 2
           },
           "marker": {
            "size": 6
           },
           "mode": "lines+markers",
           "name": "user_27",
           "type": "scatter",
           "x": [
            "2020-04-26",
            "2020-05-03"
           ],
           "y": {
            "bdata": "Ehs=",
            "dtype": "i1"
           }
          },
          {
           "line": {
            "width": 2
           },
           "marker": {
            "size": 6
           },
           "mode": "lines+markers",
           "name": "user_11",
           "type": "scatter",
           "x": [
            "2020-05-03"
           ],
           "y": {
            "bdata": "CA==",
            "dtype": "i1"
           }
          },
          {
           "line": {
            "width": 2
           },
           "marker": {
            "size": 6
           },
           "mode": "lines+markers",
           "name": "user_7",
           "type": "scatter",
           "x": [],
           "y": []
          },
          {
           "line": {
            "width": 2
           },
           "marker": {
            "size": 6
           },
           "mode": "lines+markers",
           "name": "user_23",
           "type": "scatter",
           "x": [],
           "y": []
          }
         ],
         "name": "2020-05-10"
        },
        {
         "data": [
          {
           "line": {
            "width": 2
           },
           "marker": {
            "size": 6
           },
           "mode": "lines+markers",
           "name": "user_4",
           "type": "scatter",
           "x": [
            "2020-04-17",
            "2020-04-19",
            "2020-04-23",
            "2020-04-24",
            "2020-04-26",
            "2020-04-29",
            "2020-05-03",
            "2020-05-04",
            "2020-05-05",
            "2020-05-07",
            "2020-05-08",
            "2020-05-10",
            "2020-05-11"
           ],
           "y": {
            "bdata": "FwAfADEAPwBBAEoAYAB6AIQAqADAAMIAygA=",
            "dtype": "i2"
           }
          },
          {
           "line": {
            "width": 2
           },
           "marker": {
            "size": 6
           },
           "mode": "lines+markers",
           "name": "user_12",
           "type": "scatter",
           "x": [
            "2020-04-18",
            "2020-04-26",
            "2020-04-27",
            "2020-05-03"
           ],
           "y": {
            "bdata": "BxIUVQ==",
            "dtype": "i1"
           }
          },
          {
           "line": {
            "width": 2
           },
           "marker": {
            "size": 6
           },
           "mode": "lines+markers",
           "name": "user_14",
           "type": "scatter",
           "x": [
            "2020-04-18",
            "2020-04-19",
            "2020-04-26",
            "2020-04-30",
            "2020-05-02",
            "2020-05-03",
            "2020-05-04",
            "2020-05-05",
            "2020-05-09",
            "2020-05-10",
            "2020-05-11"
           ],
           "y": {
            "bdata": "KgAwADIAMwA2ADoAPAA9AF8AbQCdAA==",
            "dtype": "i2"
           }
          },
          {
           "line": {
            "width": 2
           },
           "marker": {
            "size": 6
           },
           "mode": "lines+markers",
           "name": "user_17",
           "type": "scatter",
           "x": [
            "2020-04-18",
            "2020-04-23",
            "2020-04-25",
            "2020-05-02",
            "2020-05-04",
            "2020-05-11"
           ],
           "y": {
            "bdata": "AQQTIykr",
            "dtype": "i1"
           }
          },
          {
           "line": {
            "width": 2
           },
           "marker": {
            "size": 6
           },
           "mode": "lines+markers",
           "name": "user_2",
           "type": "scatter",
           "x": [
            "2020-04-18",
            "2020-04-19",
            "2020-05-02",
            "2020-05-03",
            "2020-05-05",
            "2020-05-06",
            "2020-05-10",
            "2020-05-11"
           ],
           "y": {
            "bdata": "EAASACEAJACVAJcAnwC3AA==",
            "dtype": "i2"
           }
          },
          {
           "line": {
            "width": 2
           },
           "marker": {
            "size": 6
           },
           "mode": "lines+markers",
           "name": "user_30",
           "type": "scatter",
           "x": [
            "2020-04-18",
            "2020-04-22",
            "2020-04-23",
            "2020-05-01",
            "2020-05-02",
            "2020-05-03",
            "2020-05-04",
            "2020-05-07",
            "2020-05-10"
           ],
           "y": {
            "bdata": "AgMFCBwlJzVB",
            "dtype": "i1"
           }
          },
          {
           "line": {
            "width": 2
           },
           "marker": {
            "size": 6
           },
           "mode": "lines+markers",
           "name": "user_8",
           "type": "scatter",
           "x": [
            "2020-04-18",
            "2020-04-19",
            "2020-04-25",
            "2020-04-26",
            "2020-05-02",
            "2020-05-03",
            "2020-05-10"
           ],
           "y": {
            "bdata": "AQ4QFj1ARA==",
            "dtype": "i1"
           }
          },
          {
           "line": {
            "width": 2
           },
           "marker": {
            "size": 6
           },
           "mode": "lines+markers",
           "name": "user_29",
           "type": "scatter",
           "x": [
            "2020-04-19",
            "2020-04-26",
            "2020-04-30",
            "2020-05-01",
            "2020-05-02",
            "2020-05-10",
            "2020-05-11"
           ],
           "y": {
            "bdata": "BA4lJigqMw==",
            "dtype": "i1"
           }
          },
          {
           "line": {
            "width": 2
           },
           "marker": {
            "size": 6
           },
           "mode": "lines+markers",
           "name": "user_0",
           "type": "scatter",
           "x": [
            "2020-04-20"
           ],
           "y": {
            "bdata": "Aw==",
            "dtype": "i1"
           }
          },
          {
           "line": {
            "width": 2
           },
           "marker": {
            "size": 6
           },
           "mode": "lines+markers",
           "name": "user_16",
           "type": "scatter",
           "x": [
            "2020-04-20",
            "2020-04-26"
           ],
           "y": {
            "bdata": "ChQ=",
            "dtype": "i1"
           }
          },
          {
           "line": {
            "width": 2
           },
           "marker": {
            "size": 6
           },
           "mode": "lines+markers",
           "name": "user_19",
           "type": "scatter",
           "x": [
            "2020-04-20",
            "2020-04-21",
            "2020-04-23",
            "2020-04-24",
            "2020-04-25",
            "2020-04-26",
            "2020-05-02",
            "2020-05-03"
           ],
           "y": {
            "bdata": "Bw8bHS1ZXmU=",
            "dtype": "i1"
           }
          },
          {
           "line": {
            "width": 2
           },
           "marker": {
            "size": 6
           },
           "mode": "lines+markers",
           "name": "user_22",
           "type": "scatter",
           "x": [
            "2020-04-20",
            "2020-04-28",
            "2020-05-03"
           ],
           "y": {
            "bdata": "AgME",
            "dtype": "i1"
           }
          },
          {
           "line": {
            "width": 2
           },
           "marker": {
            "size": 6
           },
           "mode": "lines+markers",
           "name": "user_25",
           "type": "scatter",
           "x": [
            "2020-04-20",
            "2020-04-21",
            "2020-04-25",
            "2020-04-26",
            "2020-04-27",
            "2020-05-01",
            "2020-05-03",
            "2020-05-08",
            "2020-05-09",
            "2020-05-10",
            "2020-05-11"
           ],
           "y": {
            "bdata": "AwAFABsAPgBAAEEARABNAHkAfwCHAA==",
            "dtype": "i2"
           }
          },
          {
           "line": {
            "width": 2
           },
           "marker": {
            "size": 6
           },
           "mode": "lines+markers",
           "name": "user_21",
           "type": "scatter",
           "x": [
            "2020-04-21",
            "2020-04-22",
            "2020-04-26",
            "2020-05-02",
            "2020-05-03",
            "2020-05-10"
           ],
           "y": {
            "bdata": "DyQsP0FO",
            "dtype": "i1"
           }
          },
          {
           "line": {
            "width": 2
           },
           "marker": {
            "size": 6
           },
           "mode": "lines+markers",
           "name": "user_10",
           "type": "scatter",
           "x": [
            "2020-04-22",
            "2020-04-25",
            "2020-04-30",
            "2020-05-01",
            "2020-05-10"
           ],
           "y": {
            "bdata": "AgYICQs=",
            "dtype": "i1"
           }
          },
          {
           "line": {
            "width": 2
           },
           "marker": {
            "size": 6
           },
           "mode": "lines+markers",
           "name": "user_24",
           "type": "scatter",
           "x": [
            "2020-04-22",
            "2020-04-23",
            "2020-04-25",
            "2020-05-02",
            "2020-05-03",
            "2020-05-05"
           ],
           "y": {
            "bdata": "AQUGFhcl",
            "dtype": "i1"
           }
          },
          {
           "line": {
            "width": 2
           },
           "marker": {
            "size": 6
           },
           "mode": "lines+markers",
           "name": "user_28",
           "type": "scatter",
           "x": [
            "2020-04-22",
            "2020-04-25",
            "2020-04-26",
            "2020-04-28",
            "2020-05-01",
            "2020-05-03",
            "2020-05-10"
           ],
           "y": {
            "bdata": "Aw8oLDEzNQ==",
            "dtype": "i1"
           }
          },
          {
           "line": {
            "width": 2
           },
           "marker": {
            "size": 6
           },
           "mode": "lines+markers",
           "name": "user_3",
           "type": "scatter",
           "x": [
            "2020-04-23",
            "2020-04-26",
            "2020-05-01",
            "2020-05-02",
            "2020-05-03",
            "2020-05-07",
            "2020-05-08",
            "2020-05-09",
            "2020-05-10",
            "2020-05-11"
           ],
           "y": {
            "bdata": "AgQJCgsMQkRIdg==",
            "dtype": "i1"
           }
          },
          {
           "line": {
            "width": 2
           },
           "marker": {
            "size": 6
           },
           "mode": "lines+markers",
           "name": "user_31",
           "type": "scatter",
           "x": [
            "2020-04-23",
            "2020-05-01",
            "2020-05-02",
            "2020-05-03",
            "2020-05-04",
            "2020-05-07",
            "2020-05-09",
            "2020-05-11"
           ],
           "y": {
            "bdata": "AgAlAHkAfwCAAIEAhwCLAA==",
            "dtype": "i2"
           }
          },
          {
           "line": {
            "width": 2
           },
           "marker": {
            "size": 6
           },
           "mode": "lines+markers",
           "name": "user_13",
           "type": "scatter",
           "x": [
            "2020-04-25",
            "2020-04-26",
            "2020-05-02",
            "2020-05-11"
           ],
           "y": {
            "bdata": "CyIzNg==",
            "dtype": "i1"
           }
          },
          {
           "line": {
            "width": 2
           },
           "marker": {
            "size": 6
           },
           "mode": "lines+markers",
           "name": "user_15",
           "type": "scatter",
           "x": [
            "2020-04-25",
            "2020-04-26",
            "2020-05-02",
            "2020-05-03",
            "2020-05-10"
           ],
           "y": {
            "bdata": "Ag0PFhg=",
            "dtype": "i1"
           }
          },
          {
           "line": {
            "width": 2
           },
           "marker": {
            "size": 6
           },
           "mode": "lines+markers",
           "name": "user_20",
           "type": "scatter",
           "x": [
            "2020-04-25",
            "2020-04-26",
            "2020-04-27",
            "2020-04-29",
            "2020-04-30",
            "2020-05-01",
            "2020-05-03",
            "2020-05-10",
            "2020-05-11"
           ],
           "y": {
            "bdata": "AxYYICoxNzpP",
            "dtype": "i1"
           }
          },
          {
           "line": {
            "width": 2
           },
           "marker": {
            "size": 6
           },
           "mode": "lines+markers",
           "name": "user_26",
           "type": "scatter",
           "x": [
            "2020-04-25",
            "2020-04-30",
            "2020-05-01",
            "2020-05-02",
            "2020-05-05",
            "2020-05-10"
           ],
           "y": {
            "bdata": "DyAiIyRp",
            "dtype": "i1"
           }
          },
          {
           "line": {
            "width": 2
           },
           "marker": {
            "size": 6
           },
           "mode": "lines+markers",
           "name": "user_6",
           "type": "scatter",
           "x": [
            "2020-04-25",
            "2020-04-26",
            "2020-05-02"
           ],
           "y": {
            "bdata": "AQoL",
            "dtype": "i1"
           }
          },
          {
           "line": {
            "width": 2
           },
           "marker": {
            "size": 6
           },
           "mode": "lines+markers",
           "name": "user_1",
           "type": "scatter",
           "x": [
            "2020-04-26",
            "2020-05-02",
            "2020-05-03"
           ],
           "y": {
            "bdata": "Fhcr",
            "dtype": "i1"
           }
          },
          {
           "line": {
            "width": 2
           },
           "marker": {
            "size": 6
           },
           "mode": "lines+markers",
           "name": "user_18",
           "type": "scatter",
           "x": [
            "2020-04-26",
            "2020-05-03",
            "2020-05-11"
           ],
           "y": {
            "bdata": "BAUS",
            "dtype": "i1"
           }
          },
          {
           "line": {
            "width": 2
           },
           "marker": {
            "size": 6
           },
           "mode": "lines+markers",
           "name": "user_27",
           "type": "scatter",
           "x": [
            "2020-04-26",
            "2020-05-03"
           ],
           "y": {
            "bdata": "Ehs=",
            "dtype": "i1"
           }
          },
          {
           "line": {
            "width": 2
           },
           "marker": {
            "size": 6
           },
           "mode": "lines+markers",
           "name": "user_11",
           "type": "scatter",
           "x": [
            "2020-05-03"
           ],
           "y": {
            "bdata": "CA==",
            "dtype": "i1"
           }
          },
          {
           "line": {
            "width": 2
           },
           "marker": {
            "size": 6
           },
           "mode": "lines+markers",
           "name": "user_7",
           "type": "scatter",
           "x": [],
           "y": []
          },
          {
           "line": {
            "width": 2
           },
           "marker": {
            "size": 6
           },
           "mode": "lines+markers",
           "name": "user_23",
           "type": "scatter",
           "x": [],
           "y": []
          }
         ],
         "name": "2020-05-11"
        },
        {
         "data": [
          {
           "line": {
            "width": 2
           },
           "marker": {
            "size": 6
           },
           "mode": "lines+markers",
           "name": "user_4",
           "type": "scatter",
           "x": [
            "2020-04-17",
            "2020-04-19",
            "2020-04-23",
            "2020-04-24",
            "2020-04-26",
            "2020-04-29",
            "2020-05-03",
            "2020-05-04",
            "2020-05-05",
            "2020-05-07",
            "2020-05-08",
            "2020-05-10",
            "2020-05-11",
            "2020-05-12"
           ],
           "y": {
            "bdata": "FwAfADEAPwBBAEoAYAB6AIQAqADAAMIAygAWAQ==",
            "dtype": "i2"
           }
          },
          {
           "line": {
            "width": 2
           },
           "marker": {
            "size": 6
           },
           "mode": "lines+markers",
           "name": "user_12",
           "type": "scatter",
           "x": [
            "2020-04-18",
            "2020-04-26",
            "2020-04-27",
            "2020-05-03"
           ],
           "y": {
            "bdata": "BxIUVQ==",
            "dtype": "i1"
           }
          },
          {
           "line": {
            "width": 2
           },
           "marker": {
            "size": 6
           },
           "mode": "lines+markers",
           "name": "user_14",
           "type": "scatter",
           "x": [
            "2020-04-18",
            "2020-04-19",
            "2020-04-26",
            "2020-04-30",
            "2020-05-02",
            "2020-05-03",
            "2020-05-04",
            "2020-05-05",
            "2020-05-09",
            "2020-05-10",
            "2020-05-11",
            "2020-05-12"
           ],
           "y": {
            "bdata": "KgAwADIAMwA2ADoAPAA9AF8AbQCdAPMA",
            "dtype": "i2"
           }
          },
          {
           "line": {
            "width": 2
           },
           "marker": {
            "size": 6
           },
           "mode": "lines+markers",
           "name": "user_17",
           "type": "scatter",
           "x": [
            "2020-04-18",
            "2020-04-23",
            "2020-04-25",
            "2020-05-02",
            "2020-05-04",
            "2020-05-11",
            "2020-05-12"
           ],
           "y": {
            "bdata": "AQQTIykrLw==",
            "dtype": "i1"
           }
          },
          {
           "line": {
            "width": 2
           },
           "marker": {
            "size": 6
           },
           "mode": "lines+markers",
           "name": "user_2",
           "type": "scatter",
           "x": [
            "2020-04-18",
            "2020-04-19",
            "2020-05-02",
            "2020-05-03",
            "2020-05-05",
            "2020-05-06",
            "2020-05-10",
            "2020-05-11",
            "2020-05-12"
           ],
           "y": {
            "bdata": "EAASACEAJACVAJcAnwC3AL8A",
            "dtype": "i2"
           }
          },
          {
           "line": {
            "width": 2
           },
           "marker": {
            "size": 6
           },
           "mode": "lines+markers",
           "name": "user_30",
           "type": "scatter",
           "x": [
            "2020-04-18",
            "2020-04-22",
            "2020-04-23",
            "2020-05-01",
            "2020-05-02",
            "2020-05-03",
            "2020-05-04",
            "2020-05-07",
            "2020-05-10"
           ],
           "y": {
            "bdata": "AgMFCBwlJzVB",
            "dtype": "i1"
           }
          },
          {
           "line": {
            "width": 2
           },
           "marker": {
            "size": 6
           },
           "mode": "lines+markers",
           "name": "user_8",
           "type": "scatter",
           "x": [
            "2020-04-18",
            "2020-04-19",
            "2020-04-25",
            "2020-04-26",
            "2020-05-02",
            "2020-05-03",
            "2020-05-10"
           ],
           "y": {
            "bdata": "AQ4QFj1ARA==",
            "dtype": "i1"
           }
          },
          {
           "line": {
            "width": 2
           },
           "marker": {
            "size": 6
           },
           "mode": "lines+markers",
           "name": "user_29",
           "type": "scatter",
           "x": [
            "2020-04-19",
            "2020-04-26",
            "2020-04-30",
            "2020-05-01",
            "2020-05-02",
            "2020-05-10",
            "2020-05-11",
            "2020-05-12"
           ],
           "y": {
            "bdata": "BA4lJigqM00=",
            "dtype": "i1"
           }
          },
          {
           "line": {
            "width": 2
           },
           "marker": {
            "size": 6
           },
           "mode": "lines+markers",
           "name": "user_0",
           "type": "scatter",
           "x": [
            "2020-04-20"
           ],
           "y": {
            "bdata": "Aw==",
            "dtype": "i1"
           }
          },
          {
           "line": {
            "width": 2
           },
           "marker": {
            "size": 6
           },
           "mode": "lines+markers",
           "name": "user_16",
           "type": "scatter",
           "x": [
            "2020-04-20",
            "2020-04-26",
            "2020-05-12"
           ],
           "y": {
            "bdata": "ChQZ",
            "dtype": "i1"
           }
          },
          {
           "line": {
            "width": 2
           },
           "marker": {
            "size": 6
           },
           "mode": "lines+markers",
           "name": "user_19",
           "type": "scatter",
           "x": [
            "2020-04-20",
            "2020-04-21",
            "2020-04-23",
            "2020-04-24",
            "2020-04-25",
            "2020-04-26",
            "2020-05-02",
            "2020-05-03"
           ],
           "y": {
            "bdata": "Bw8bHS1ZXmU=",
            "dtype": "i1"
           }
          },
          {
           "line": {
            "width": 2
           },
           "marker": {
            "size": 6
           },
           "mode": "lines+markers",
           "name": "user_22",
           "type": "scatter",
           "x": [
            "2020-04-20",
            "2020-04-28",
            "2020-05-03"
           ],
           "y": {
            "bdata": "AgME",
            "dtype": "i1"
           }
          },
          {
           "line": {
            "width": 2
           },
           "marker": {
            "size": 6
           },
           "mode": "lines+markers",
           "name": "user_25",
           "type": "scatter",
           "x": [
            "2020-04-20",
            "2020-04-21",
            "2020-04-25",
            "2020-04-26",
            "2020-04-27",
            "2020-05-01",
            "2020-05-03",
            "2020-05-08",
            "2020-05-09",
            "2020-05-10",
            "2020-05-11",
            "2020-05-12"
           ],
           "y": {
            "bdata": "AwAFABsAPgBAAEEARABNAHkAfwCHALEA",
            "dtype": "i2"
           }
          },
          {
           "line": {
            "width": 2
           },
           "marker": {
            "size": 6
           },
           "mode": "lines+markers",
           "name": "user_21",
           "type": "scatter",
           "x": [
            "2020-04-21",
            "2020-04-22",
            "2020-04-26",
            "2020-05-02",
            "2020-05-03",
            "2020-05-10"
           ],
           "y": {
            "bdata": "DyQsP0FO",
            "dtype": "i1"
           }
          },
          {
           "line": {
            "width": 2
           },
           "marker": {
            "size": 6
           },
           "mode": "lines+markers",
           "name": "user_10",
           "type": "scatter",
           "x": [
            "2020-04-22",
            "2020-04-25",
            "2020-04-30",
            "2020-05-01",
            "2020-05-10",
            "2020-05-12"
           ],
           "y": {
            "bdata": "AgYICQsY",
            "dtype": "i1"
           }
          },
          {
           "line": {
            "width": 2
           },
           "marker": {
            "size": 6
           },
           "mode": "lines+markers",
           "name": "user_24",
           "type": "scatter",
           "x": [
            "2020-04-22",
            "2020-04-23",
            "2020-04-25",
            "2020-05-02",
            "2020-05-03",
            "2020-05-05"
           ],
           "y": {
            "bdata": "AQUGFhcl",
            "dtype": "i1"
           }
          },
          {
           "line": {
            "width": 2
           },
           "marker": {
            "size": 6
           },
           "mode": "lines+markers",
           "name": "user_28",
           "type": "scatter",
           "x": [
            "2020-04-22",
            "2020-04-25",
            "2020-04-26",
            "2020-04-28",
            "2020-05-01",
            "2020-05-03",
            "2020-05-10",
            "2020-05-12"
           ],
           "y": {
            "bdata": "Aw8oLDEzNTg=",
            "dtype": "i1"
           }
          },
          {
           "line": {
            "width": 2
           },
           "marker": {
            "size": 6
           },
           "mode": "lines+markers",
           "name": "user_3",
           "type": "scatter",
           "x": [
            "2020-04-23",
            "2020-04-26",
            "2020-05-01",
            "2020-05-02",
            "2020-05-03",
            "2020-05-07",
            "2020-05-08",
            "2020-05-09",
            "2020-05-10",
            "2020-05-11",
            "2020-05-12"
           ],
           "y": {
            "bdata": "AgQJCgsMQkRIdno=",
            "dtype": "i1"
           }
          },
          {
           "line": {
            "width": 2
           },
           "marker": {
            "size": 6
           },
           "mode": "lines+markers",
           "name": "user_31",
           "type": "scatter",
           "x": [
            "2020-04-23",
            "2020-05-01",
            "2020-05-02",
            "2020-05-03",
            "2020-05-04",
            "2020-05-07",
            "2020-05-09",
            "2020-05-11"
           ],
           "y": {
            "bdata": "AgAlAHkAfwCAAIEAhwCLAA==",
            "dtype": "i2"
           }
          },
          {
           "line": {
            "width": 2
           },
           "marker": {
            "size": 6
           },
           "mode": "lines+markers",
           "name": "user_13",
           "type": "scatter",
           "x": [
            "2020-04-25",
            "2020-04-26",
            "2020-05-02",
            "2020-05-11",
            "2020-05-12"
           ],
           "y": {
            "bdata": "CyIzNm4=",
            "dtype": "i1"
           }
          },
          {
           "line": {
            "width": 2
           },
           "marker": {
            "size": 6
           },
           "mode": "lines+markers",
           "name": "user_15",
           "type": "scatter",
           "x": [
            "2020-04-25",
            "2020-04-26",
            "2020-05-02",
            "2020-05-03",
            "2020-05-10"
           ],
           "y": {
            "bdata": "Ag0PFhg=",
            "dtype": "i1"
           }
          },
          {
           "line": {
            "width": 2
           },
           "marker": {
            "size": 6
           },
           "mode": "lines+markers",
           "name": "user_20",
           "type": "scatter",
           "x": [
            "2020-04-25",
            "2020-04-26",
            "2020-04-27",
            "2020-04-29",
            "2020-04-30",
            "2020-05-01",
            "2020-05-03",
            "2020-05-10",
            "2020-05-11"
           ],
           "y": {
            "bdata": "AxYYICoxNzpP",
            "dtype": "i1"
           }
          },
          {
           "line": {
            "width": 2
           },
           "marker": {
            "size": 6
           },
           "mode": "lines+markers",
           "name": "user_26",
           "type": "scatter",
           "x": [
            "2020-04-25",
            "2020-04-30",
            "2020-05-01",
            "2020-05-02",
            "2020-05-05",
            "2020-05-10"
           ],
           "y": {
            "bdata": "DyAiIyRp",
            "dtype": "i1"
           }
          },
          {
           "line": {
            "width": 2
           },
           "marker": {
            "size": 6
           },
           "mode": "lines+markers",
           "name": "user_6",
           "type": "scatter",
           "x": [
            "2020-04-25",
            "2020-04-26",
            "2020-05-02"
           ],
           "y": {
            "bdata": "AQoL",
            "dtype": "i1"
           }
          },
          {
           "line": {
            "width": 2
           },
           "marker": {
            "size": 6
           },
           "mode": "lines+markers",
           "name": "user_1",
           "type": "scatter",
           "x": [
            "2020-04-26",
            "2020-05-02",
            "2020-05-03"
           ],
           "y": {
            "bdata": "Fhcr",
            "dtype": "i1"
           }
          },
          {
           "line": {
            "width": 2
           },
           "marker": {
            "size": 6
           },
           "mode": "lines+markers",
           "name": "user_18",
           "type": "scatter",
           "x": [
            "2020-04-26",
            "2020-05-03",
            "2020-05-11"
           ],
           "y": {
            "bdata": "BAUS",
            "dtype": "i1"
           }
          },
          {
           "line": {
            "width": 2
           },
           "marker": {
            "size": 6
           },
           "mode": "lines+markers",
           "name": "user_27",
           "type": "scatter",
           "x": [
            "2020-04-26",
            "2020-05-03"
           ],
           "y": {
            "bdata": "Ehs=",
            "dtype": "i1"
           }
          },
          {
           "line": {
            "width": 2
           },
           "marker": {
            "size": 6
           },
           "mode": "lines+markers",
           "name": "user_11",
           "type": "scatter",
           "x": [
            "2020-05-03"
           ],
           "y": {
            "bdata": "CA==",
            "dtype": "i1"
           }
          },
          {
           "line": {
            "width": 2
           },
           "marker": {
            "size": 6
           },
           "mode": "lines+markers",
           "name": "user_7",
           "type": "scatter",
           "x": [],
           "y": []
          },
          {
           "line": {
            "width": 2
           },
           "marker": {
            "size": 6
           },
           "mode": "lines+markers",
           "name": "user_23",
           "type": "scatter",
           "x": [],
           "y": []
          }
         ],
         "name": "2020-05-12"
        },
        {
         "data": [
          {
           "line": {
            "width": 2
           },
           "marker": {
            "size": 6
           },
           "mode": "lines+markers",
           "name": "user_4",
           "type": "scatter",
           "x": [
            "2020-04-17",
            "2020-04-19",
            "2020-04-23",
            "2020-04-24",
            "2020-04-26",
            "2020-04-29",
            "2020-05-03",
            "2020-05-04",
            "2020-05-05",
            "2020-05-07",
            "2020-05-08",
            "2020-05-10",
            "2020-05-11",
            "2020-05-12",
            "2020-05-13"
           ],
           "y": {
            "bdata": "FwAfADEAPwBBAEoAYAB6AIQAqADAAMIAygAWAS4B",
            "dtype": "i2"
           }
          },
          {
           "line": {
            "width": 2
           },
           "marker": {
            "size": 6
           },
           "mode": "lines+markers",
           "name": "user_12",
           "type": "scatter",
           "x": [
            "2020-04-18",
            "2020-04-26",
            "2020-04-27",
            "2020-05-03"
           ],
           "y": {
            "bdata": "BxIUVQ==",
            "dtype": "i1"
           }
          },
          {
           "line": {
            "width": 2
           },
           "marker": {
            "size": 6
           },
           "mode": "lines+markers",
           "name": "user_14",
           "type": "scatter",
           "x": [
            "2020-04-18",
            "2020-04-19",
            "2020-04-26",
            "2020-04-30",
            "2020-05-02",
            "2020-05-03",
            "2020-05-04",
            "2020-05-05",
            "2020-05-09",
            "2020-05-10",
            "2020-05-11",
            "2020-05-12"
           ],
           "y": {
            "bdata": "KgAwADIAMwA2ADoAPAA9AF8AbQCdAPMA",
            "dtype": "i2"
           }
          },
          {
           "line": {
            "width": 2
           },
           "marker": {
            "size": 6
           },
           "mode": "lines+markers",
           "name": "user_17",
           "type": "scatter",
           "x": [
            "2020-04-18",
            "2020-04-23",
            "2020-04-25",
            "2020-05-02",
            "2020-05-04",
            "2020-05-11",
            "2020-05-12",
            "2020-05-13"
           ],
           "y": {
            "bdata": "AQQTIykrLzA=",
            "dtype": "i1"
           }
          },
          {
           "line": {
            "width": 2
           },
           "marker": {
            "size": 6
           },
           "mode": "lines+markers",
           "name": "user_2",
           "type": "scatter",
           "x": [
            "2020-04-18",
            "2020-04-19",
            "2020-05-02",
            "2020-05-03",
            "2020-05-05",
            "2020-05-06",
            "2020-05-10",
            "2020-05-11",
            "2020-05-12",
            "2020-05-13"
           ],
           "y": {
            "bdata": "EAASACEAJACVAJcAnwC3AL8A3QA=",
            "dtype": "i2"
           }
          },
          {
           "line": {
            "width": 2
           },
           "marker": {
            "size": 6
           },
           "mode": "lines+markers",
           "name": "user_30",
           "type": "scatter",
           "x": [
            "2020-04-18",
            "2020-04-22",
            "2020-04-23",
            "2020-05-01",
            "2020-05-02",
            "2020-05-03",
            "2020-05-04",
            "2020-05-07",
            "2020-05-10"
           ],
           "y": {
            "bdata": "AgMFCBwlJzVB",
            "dtype": "i1"
           }
          },
          {
           "line": {
            "width": 2
           },
           "marker": {
            "size": 6
           },
           "mode": "lines+markers",
           "name": "user_8",
           "type": "scatter",
           "x": [
            "2020-04-18",
            "2020-04-19",
            "2020-04-25",
            "2020-04-26",
            "2020-05-02",
            "2020-05-03",
            "2020-05-10"
           ],
           "y": {
            "bdata": "AQ4QFj1ARA==",
            "dtype": "i1"
           }
          },
          {
           "line": {
            "width": 2
           },
           "marker": {
            "size": 6
           },
           "mode": "lines+markers",
           "name": "user_29",
           "type": "scatter",
           "x": [
            "2020-04-19",
            "2020-04-26",
            "2020-04-30",
            "2020-05-01",
            "2020-05-02",
            "2020-05-10",
            "2020-05-11",
            "2020-05-12",
            "2020-05-13"
           ],
           "y": {
            "bdata": "BA4lJigqM01t",
            "dtype": "i1"
           }
          },
          {
           "line": {
            "width": 2
           },
           "marker": {
            "size": 6
           },
           "mode": "lines+markers",
           "name": "user_0",
           "type": "scatter",
           "x": [
            "2020-04-20"
           ],
           "y": {
            "bdata": "Aw==",
            "dtype": "i1"
           }
          },
          {
           "line": {
            "width": 2
           },
           "marker": {
            "size": 6
           },
           "mode": "lines+markers",
           "name": "user_16",
           "type": "scatter",
           "x": [
            "2020-04-20",
            "2020-04-26",
            "2020-05-12"
           ],
           "y": {
            "bdata": "ChQZ",
            "dtype": "i1"
           }
          },
          {
           "line": {
            "width": 2
           },
           "marker": {
            "size": 6
           },
           "mode": "lines+markers",
           "name": "user_19",
           "type": "scatter",
           "x": [
            "2020-04-20",
            "2020-04-21",
            "2020-04-23",
            "2020-04-24",
            "2020-04-25",
            "2020-04-26",
            "2020-05-02",
            "2020-05-03"
           ],
           "y": {
            "bdata": "Bw8bHS1ZXmU=",
            "dtype": "i1"
           }
          },
          {
           "line": {
            "width": 2
           },
           "marker": {
            "size": 6
           },
           "mode": "lines+markers",
           "name": "user_22",
           "type": "scatter",
           "x": [
            "2020-04-20",
            "2020-04-28",
            "2020-05-03"
           ],
           "y": {
            "bdata": "AgME",
            "dtype": "i1"
           }
          },
          {
           "line": {
            "width": 2
           },
           "marker": {
            "size": 6
           },
           "mode": "lines+markers",
           "name": "user_25",
           "type": "scatter",
           "x": [
            "2020-04-20",
            "2020-04-21",
            "2020-04-25",
            "2020-04-26",
            "2020-04-27",
            "2020-05-01",
            "2020-05-03",
            "2020-05-08",
            "2020-05-09",
            "2020-05-10",
            "2020-05-11",
            "2020-05-12",
            "2020-05-13"
           ],
           "y": {
            "bdata": "AwAFABsAPgBAAEEARABNAHkAfwCHALEAtwA=",
            "dtype": "i2"
           }
          },
          {
           "line": {
            "width": 2
           },
           "marker": {
            "size": 6
           },
           "mode": "lines+markers",
           "name": "user_21",
           "type": "scatter",
           "x": [
            "2020-04-21",
            "2020-04-22",
            "2020-04-26",
            "2020-05-02",
            "2020-05-03",
            "2020-05-10"
           ],
           "y": {
            "bdata": "DyQsP0FO",
            "dtype": "i1"
           }
          },
          {
           "line": {
            "width": 2
           },
           "marker": {
            "size": 6
           },
           "mode": "lines+markers",
           "name": "user_10",
           "type": "scatter",
           "x": [
            "2020-04-22",
            "2020-04-25",
            "2020-04-30",
            "2020-05-01",
            "2020-05-10",
            "2020-05-12",
            "2020-05-13"
           ],
           "y": {
            "bdata": "AgYICQsYNA==",
            "dtype": "i1"
           }
          },
          {
           "line": {
            "width": 2
           },
           "marker": {
            "size": 6
           },
           "mode": "lines+markers",
           "name": "user_24",
           "type": "scatter",
           "x": [
            "2020-04-22",
            "2020-04-23",
            "2020-04-25",
            "2020-05-02",
            "2020-05-03",
            "2020-05-05",
            "2020-05-13"
           ],
           "y": {
            "bdata": "AQUGFhclNg==",
            "dtype": "i1"
           }
          },
          {
           "line": {
            "width": 2
           },
           "marker": {
            "size": 6
           },
           "mode": "lines+markers",
           "name": "user_28",
           "type": "scatter",
           "x": [
            "2020-04-22",
            "2020-04-25",
            "2020-04-26",
            "2020-04-28",
            "2020-05-01",
            "2020-05-03",
            "2020-05-10",
            "2020-05-12",
            "2020-05-13"
           ],
           "y": {
            "bdata": "Aw8oLDEzNThc",
            "dtype": "i1"
           }
          },
          {
           "line": {
            "width": 2
           },
           "marker": {
            "size": 6
           },
           "mode": "lines+markers",
           "name": "user_3",
           "type": "scatter",
           "x": [
            "2020-04-23",
            "2020-04-26",
            "2020-05-01",
            "2020-05-02",
            "2020-05-03",
            "2020-05-07",
            "2020-05-08",
            "2020-05-09",
            "2020-05-10",
            "2020-05-11",
            "2020-05-12"
           ],
           "y": {
            "bdata": "AgQJCgsMQkRIdno=",
            "dtype": "i1"
           }
          },
          {
           "line": {
            "width": 2
           },
           "marker": {
            "size": 6
           },
           "mode": "lines+markers",
           "name": "user_31",
           "type": "scatter",
           "x": [
            "2020-04-23",
            "2020-05-01",
            "2020-05-02",
            "2020-05-03",
            "2020-05-04",
            "2020-05-07",
            "2020-05-09",
            "2020-05-11"
           ],
           "y": {
            "bdata": "AgAlAHkAfwCAAIEAhwCLAA==",
            "dtype": "i2"
           }
          },
          {
           "line": {
            "width": 2
           },
           "marker": {
            "size": 6
           },
           "mode": "lines+markers",
           "name": "user_13",
           "type": "scatter",
           "x": [
            "2020-04-25",
            "2020-04-26",
            "2020-05-02",
            "2020-05-11",
            "2020-05-12"
           ],
           "y": {
            "bdata": "CyIzNm4=",
            "dtype": "i1"
           }
          },
          {
           "line": {
            "width": 2
           },
           "marker": {
            "size": 6
           },
           "mode": "lines+markers",
           "name": "user_15",
           "type": "scatter",
           "x": [
            "2020-04-25",
            "2020-04-26",
            "2020-05-02",
            "2020-05-03",
            "2020-05-10"
           ],
           "y": {
            "bdata": "Ag0PFhg=",
            "dtype": "i1"
           }
          },
          {
           "line": {
            "width": 2
           },
           "marker": {
            "size": 6
           },
           "mode": "lines+markers",
           "name": "user_20",
           "type": "scatter",
           "x": [
            "2020-04-25",
            "2020-04-26",
            "2020-04-27",
            "2020-04-29",
            "2020-04-30",
            "2020-05-01",
            "2020-05-03",
            "2020-05-10",
            "2020-05-11"
           ],
           "y": {
            "bdata": "AxYYICoxNzpP",
            "dtype": "i1"
           }
          },
          {
           "line": {
            "width": 2
           },
           "marker": {
            "size": 6
           },
           "mode": "lines+markers",
           "name": "user_26",
           "type": "scatter",
           "x": [
            "2020-04-25",
            "2020-04-30",
            "2020-05-01",
            "2020-05-02",
            "2020-05-05",
            "2020-05-10",
            "2020-05-13"
           ],
           "y": {
            "bdata": "DwAgACIAIwAkAGkAiwA=",
            "dtype": "i2"
           }
          },
          {
           "line": {
            "width": 2
           },
           "marker": {
            "size": 6
           },
           "mode": "lines+markers",
           "name": "user_6",
           "type": "scatter",
           "x": [
            "2020-04-25",
            "2020-04-26",
            "2020-05-02",
            "2020-05-13"
           ],
           "y": {
            "bdata": "AQoLDA==",
            "dtype": "i1"
           }
          },
          {
           "line": {
            "width": 2
           },
           "marker": {
            "size": 6
           },
           "mode": "lines+markers",
           "name": "user_1",
           "type": "scatter",
           "x": [
            "2020-04-26",
            "2020-05-02",
            "2020-05-03"
           ],
           "y": {
            "bdata": "Fhcr",
            "dtype": "i1"
           }
          },
          {
           "line": {
            "width": 2
           },
           "marker": {
            "size": 6
           },
           "mode": "lines+markers",
           "name": "user_18",
           "type": "scatter",
           "x": [
            "2020-04-26",
            "2020-05-03",
            "2020-05-11",
            "2020-05-13"
           ],
           "y": {
            "bdata": "BAUSFA==",
            "dtype": "i1"
           }
          },
          {
           "line": {
            "width": 2
           },
           "marker": {
            "size": 6
           },
           "mode": "lines+markers",
           "name": "user_27",
           "type": "scatter",
           "x": [
            "2020-04-26",
            "2020-05-03"
           ],
           "y": {
            "bdata": "Ehs=",
            "dtype": "i1"
           }
          },
          {
           "line": {
            "width": 2
           },
           "marker": {
            "size": 6
           },
           "mode": "lines+markers",
           "name": "user_11",
           "type": "scatter",
           "x": [
            "2020-05-03"
           ],
           "y": {
            "bdata": "CA==",
            "dtype": "i1"
           }
          },
          {
           "line": {
            "width": 2
           },
           "marker": {
            "size": 6
           },
           "mode": "lines+markers",
           "name": "user_7",
           "type": "scatter",
           "x": [],
           "y": []
          },
          {
           "line": {
            "width": 2
           },
           "marker": {
            "size": 6
           },
           "mode": "lines+markers",
           "name": "user_23",
           "type": "scatter",
           "x": [],
           "y": []
          }
         ],
         "name": "2020-05-13"
        },
        {
         "data": [
          {
           "line": {
            "width": 2
           },
           "marker": {
            "size": 6
           },
           "mode": "lines+markers",
           "name": "user_4",
           "type": "scatter",
           "x": [
            "2020-04-17",
            "2020-04-19",
            "2020-04-23",
            "2020-04-24",
            "2020-04-26",
            "2020-04-29",
            "2020-05-03",
            "2020-05-04",
            "2020-05-05",
            "2020-05-07",
            "2020-05-08",
            "2020-05-10",
            "2020-05-11",
            "2020-05-12",
            "2020-05-13",
            "2020-05-14"
           ],
           "y": {
            "bdata": "FwAfADEAPwBBAEoAYAB6AIQAqADAAMIAygAWAS4BZAE=",
            "dtype": "i2"
           }
          },
          {
           "line": {
            "width": 2
           },
           "marker": {
            "size": 6
           },
           "mode": "lines+markers",
           "name": "user_12",
           "type": "scatter",
           "x": [
            "2020-04-18",
            "2020-04-26",
            "2020-04-27",
            "2020-05-03",
            "2020-05-14"
           ],
           "y": {
            "bdata": "BxIUVVw=",
            "dtype": "i1"
           }
          },
          {
           "line": {
            "width": 2
           },
           "marker": {
            "size": 6
           },
           "mode": "lines+markers",
           "name": "user_14",
           "type": "scatter",
           "x": [
            "2020-04-18",
            "2020-04-19",
            "2020-04-26",
            "2020-04-30",
            "2020-05-02",
            "2020-05-03",
            "2020-05-04",
            "2020-05-05",
            "2020-05-09",
            "2020-05-10",
            "2020-05-11",
            "2020-05-12",
            "2020-05-14"
           ],
           "y": {
            "bdata": "KgAwADIAMwA2ADoAPAA9AF8AbQCdAPMAAwE=",
            "dtype": "i2"
           }
          },
          {
           "line": {
            "width": 2
           },
           "marker": {
            "size": 6
           },
           "mode": "lines+markers",
           "name": "user_17",
           "type": "scatter",
           "x": [
            "2020-04-18",
            "2020-04-23",
            "2020-04-25",
            "2020-05-02",
            "2020-05-04",
            "2020-05-11",
            "2020-05-12",
            "2020-05-13",
            "2020-05-14"
           ],
           "y": {
            "bdata": "AQQTIykrLzA0",
            "dtype": "i1"
           }
          },
          {
           "line": {
            "width": 2
           },
           "marker": {
            "size": 6
           },
           "mode": "lines+markers",
           "name": "user_2",
           "type": "scatter",
           "x": [
            "2020-04-18",
            "2020-04-19",
            "2020-05-02",
            "2020-05-03",
            "2020-05-05",
            "2020-05-06",
            "2020-05-10",
            "2020-05-11",
            "2020-05-12",
            "2020-05-13",
            "2020-05-14"
           ],
           "y": {
            "bdata": "EAASACEAJACVAJcAnwC3AL8A3QDhAA==",
            "dtype": "i2"
           }
          },
          {
           "line": {
            "width": 2
           },
           "marker": {
            "size": 6
           },
           "mode": "lines+markers",
           "name": "user_30",
           "type": "scatter",
           "x": [
            "2020-04-18",
            "2020-04-22",
            "2020-04-23",
            "2020-05-01",
            "2020-05-02",
            "2020-05-03",
            "2020-05-04",
            "2020-05-07",
            "2020-05-10",
            "2020-05-14"
           ],
           "y": {
            "bdata": "AgMFCBwlJzVBRQ==",
            "dtype": "i1"
           }
          },
          {
           "line": {
            "width": 2
           },
           "marker": {
            "size": 6
           },
           "mode": "lines+markers",
           "name": "user_8",
           "type": "scatter",
           "x": [
            "2020-04-18",
            "2020-04-19",
            "2020-04-25",
            "2020-04-26",
            "2020-05-02",
            "2020-05-03",
            "2020-05-10",
            "2020-05-14"
           ],
           "y": {
            "bdata": "AQ4QFj1ARFM=",
            "dtype": "i1"
           }
          },
          {
           "line": {
            "width": 2
           },
           "marker": {
            "size": 6
           },
           "mode": "lines+markers",
           "name": "user_29",
           "type": "scatter",
           "x": [
            "2020-04-19",
            "2020-04-26",
            "2020-04-30",
            "2020-05-01",
            "2020-05-02",
            "2020-05-10",
            "2020-05-11",
            "2020-05-12",
            "2020-05-13",
            "2020-05-14"
           ],
           "y": {
            "bdata": "BA4lJigqM01tbw==",
            "dtype": "i1"
           }
          },
          {
           "line": {
            "width": 2
           },
           "marker": {
            "size": 6
           },
           "mode": "lines+markers",
           "name": "user_0",
           "type": "scatter",
           "x": [
            "2020-04-20"
           ],
           "y": {
            "bdata": "Aw==",
            "dtype": "i1"
           }
          },
          {
           "line": {
            "width": 2
           },
           "marker": {
            "size": 6
           },
           "mode": "lines+markers",
           "name": "user_16",
           "type": "scatter",
           "x": [
            "2020-04-20",
            "2020-04-26",
            "2020-05-12",
            "2020-05-14"
           ],
           "y": {
            "bdata": "ChQZJw==",
            "dtype": "i1"
           }
          },
          {
           "line": {
            "width": 2
           },
           "marker": {
            "size": 6
           },
           "mode": "lines+markers",
           "name": "user_19",
           "type": "scatter",
           "x": [
            "2020-04-20",
            "2020-04-21",
            "2020-04-23",
            "2020-04-24",
            "2020-04-25",
            "2020-04-26",
            "2020-05-02",
            "2020-05-03",
            "2020-05-14"
           ],
           "y": {
            "bdata": "BwAPABsAHQAtAFkAXgBlAJYA",
            "dtype": "i2"
           }
          },
          {
           "line": {
            "width": 2
           },
           "marker": {
            "size": 6
           },
           "mode": "lines+markers",
           "name": "user_22",
           "type": "scatter",
           "x": [
            "2020-04-20",
            "2020-04-28",
            "2020-05-03",
            "2020-05-14"
           ],
           "y": {
            "bdata": "AgMEBg==",
            "dtype": "i1"
           }
          },
          {
           "line": {
            "width": 2
           },
           "marker": {
            "size": 6
           },
           "mode": "lines+markers",
           "name": "user_25",
           "type": "scatter",
           "x": [
            "2020-04-20",
            "2020-04-21",
            "2020-04-25",
            "2020-04-26",
            "2020-04-27",
            "2020-05-01",
            "2020-05-03",
            "2020-05-08",
            "2020-05-09",
            "2020-05-10",
            "2020-05-11",
            "2020-05-12",
            "2020-05-13",
            "2020-05-14"
           ],
           "y": {
            "bdata": "AwAFABsAPgBAAEEARABNAHkAfwCHALEAtwDfAA==",
            "dtype": "i2"
           }
          },
          {
           "line": {
            "width": 2
           },
           "marker": {
            "size": 6
           },
           "mode": "lines+markers",
           "name": "user_21",
           "type": "scatter",
           "x": [
            "2020-04-21",
            "2020-04-22",
            "2020-04-26",
            "2020-05-02",
            "2020-05-03",
            "2020-05-10",
            "2020-05-14"
           ],
           "y": {
            "bdata": "DyQsP0FOUg==",
            "dtype": "i1"
           }
          },
          {
           "line": {
            "width": 2
           },
           "marker": {
            "size": 6
           },
           "mode": "lines+markers",
           "name": "user_10",
           "type": "scatter",
           "x": [
            "2020-04-22",
            "2020-04-25",
            "2020-04-30",
            "2020-05-01",
            "2020-05-10",
            "2020-05-12",
            "2020-05-13",
            "2020-05-14"
           ],
           "y": {
            "bdata": "AgYICQsYNH8=",
            "dtype": "i1"
           }
          },
          {
           "line": {
            "width": 2
           },
           "marker": {
            "size": 6
           },
           "mode": "lines+markers",
           "name": "user_24",
           "type": "scatter",
           "x": [
            "2020-04-22",
            "2020-04-23",
            "2020-04-25",
            "2020-05-02",
            "2020-05-03",
            "2020-05-05",
            "2020-05-13",
            "2020-05-14"
           ],
           "y": {
            "bdata": "AQUGFhclNmg=",
            "dtype": "i1"
           }
          },
          {
           "line": {
            "width": 2
           },
           "marker": {
            "size": 6
           },
           "mode": "lines+markers",
           "name": "user_28",
           "type": "scatter",
           "x": [
            "2020-04-22",
            "2020-04-25",
            "2020-04-26",
            "2020-04-28",
            "2020-05-01",
            "2020-05-03",
            "2020-05-10",
            "2020-05-12",
            "2020-05-13",
            "2020-05-14"
           ],
           "y": {
            "bdata": "Aw8oLDEzNThcaA==",
            "dtype": "i1"
           }
          },
          {
           "line": {
            "width": 2
           },
           "marker": {
            "size": 6
           },
           "mode": "lines+markers",
           "name": "user_3",
           "type": "scatter",
           "x": [
            "2020-04-23",
            "2020-04-26",
            "2020-05-01",
            "2020-05-02",
            "2020-05-03",
            "2020-05-07",
            "2020-05-08",
            "2020-05-09",
            "2020-05-10",
            "2020-05-11",
            "2020-05-12",
            "2020-05-14"
           ],
           "y": {
            "bdata": "AgQJCgsMQkRIdnp+",
            "dtype": "i1"
           }
          },
          {
           "line": {
            "width": 2
           },
           "marker": {
            "size": 6
           },
           "mode": "lines+markers",
           "name": "user_31",
           "type": "scatter",
           "x": [
            "2020-04-23",
            "2020-05-01",
            "2020-05-02",
            "2020-05-03",
            "2020-05-04",
            "2020-05-07",
            "2020-05-09",
            "2020-05-11",
            "2020-05-14"
           ],
           "y": {
            "bdata": "AgAlAHkAfwCAAIEAhwCLAI8A",
            "dtype": "i2"
           }
          },
          {
           "line": {
            "width": 2
           },
           "marker": {
            "size": 6
           },
           "mode": "lines+markers",
           "name": "user_13",
           "type": "scatter",
           "x": [
            "2020-04-25",
            "2020-04-26",
            "2020-05-02",
            "2020-05-11",
            "2020-05-12",
            "2020-05-14"
           ],
           "y": {
            "bdata": "CyIzNm5y",
            "dtype": "i1"
           }
          },
          {
           "line": {
            "width": 2
           },
           "marker": {
            "size": 6
           },
           "mode": "lines+markers",
           "name": "user_15",
           "type": "scatter",
           "x": [
            "2020-04-25",
            "2020-04-26",
            "2020-05-02",
            "2020-05-03",
            "2020-05-10",
            "2020-05-14"
           ],
           "y": {
            "bdata": "Ag0PFhgd",
            "dtype": "i1"
           }
          },
          {
           "line": {
            "width": 2
           },
           "marker": {
            "size": 6
           },
           "mode": "lines+markers",
           "name": "user_20",
           "type": "scatter",
           "x": [
            "2020-04-25",
            "2020-04-26",
            "2020-04-27",
            "2020-04-29",
            "2020-04-30",
            "2020-05-01",
            "2020-05-03",
            "2020-05-10",
            "2020-05-11",
            "2020-05-14"
           ],
           "y": {
            "bdata": "AwAWABgAIAAqADEANwA6AE8ApQA=",
            "dtype": "i2"
           }
          },
          {
           "line": {
            "width": 2
           },
           "marker": {
            "size": 6
           },
           "mode": "lines+markers",
           "name": "user_26",
           "type": "scatter",
           "x": [
            "2020-04-25",
            "2020-04-30",
            "2020-05-01",
            "2020-05-02",
            "2020-05-05",
            "2020-05-10",
            "2020-05-13",
            "2020-05-14"
           ],
           "y": {
            "bdata": "DwAgACIAIwAkAGkAiwCtAA==",
            "dtype": "i2"
           }
          },
          {
           "line": {
            "width": 2
           },
           "marker": {
            "size": 6
           },
           "mode": "lines+markers",
           "name": "user_6",
           "type": "scatter",
           "x": [
            "2020-04-25",
            "2020-04-26",
            "2020-05-02",
            "2020-05-13",
            "2020-05-14"
           ],
           "y": {
            "bdata": "AQoLDA4=",
            "dtype": "i1"
           }
          },
          {
           "line": {
            "width": 2
           },
           "marker": {
            "size": 6
           },
           "mode": "lines+markers",
           "name": "user_1",
           "type": "scatter",
           "x": [
            "2020-04-26",
            "2020-05-02",
            "2020-05-03",
            "2020-05-14"
           ],
           "y": {
            "bdata": "FhcrQg==",
            "dtype": "i1"
           }
          },
          {
           "line": {
            "width": 2
           },
           "marker": {
            "size": 6
           },
           "mode": "lines+markers",
           "name": "user_18",
           "type": "scatter",
           "x": [
            "2020-04-26",
            "2020-05-03",
            "2020-05-11",
            "2020-05-13",
            "2020-05-14"
           ],
           "y": {
            "bdata": "BAUSFEI=",
            "dtype": "i1"
           }
          },
          {
           "line": {
            "width": 2
           },
           "marker": {
            "size": 6
           },
           "mode": "lines+markers",
           "name": "user_27",
           "type": "scatter",
           "x": [
            "2020-04-26",
            "2020-05-03",
            "2020-05-14"
           ],
           "y": {
            "bdata": "Ehsq",
            "dtype": "i1"
           }
          },
          {
           "line": {
            "width": 2
           },
           "marker": {
            "size": 6
           },
           "mode": "lines+markers",
           "name": "user_11",
           "type": "scatter",
           "x": [
            "2020-05-03"
           ],
           "y": {
            "bdata": "CA==",
            "dtype": "i1"
           }
          },
          {
           "line": {
            "width": 2
           },
           "marker": {
            "size": 6
           },
           "mode": "lines+markers",
           "name": "user_7",
           "type": "scatter",
           "x": [],
           "y": []
          },
          {
           "line": {
            "width": 2
           },
           "marker": {
            "size": 6
           },
           "mode": "lines+markers",
           "name": "user_23",
           "type": "scatter",
           "x": [],
           "y": []
          }
         ],
         "name": "2020-05-14"
        },
        {
         "data": [
          {
           "line": {
            "width": 2
           },
           "marker": {
            "size": 6
           },
           "mode": "lines+markers",
           "name": "user_4",
           "type": "scatter",
           "x": [
            "2020-04-17",
            "2020-04-19",
            "2020-04-23",
            "2020-04-24",
            "2020-04-26",
            "2020-04-29",
            "2020-05-03",
            "2020-05-04",
            "2020-05-05",
            "2020-05-07",
            "2020-05-08",
            "2020-05-10",
            "2020-05-11",
            "2020-05-12",
            "2020-05-13",
            "2020-05-14"
           ],
           "y": {
            "bdata": "FwAfADEAPwBBAEoAYAB6AIQAqADAAMIAygAWAS4BZAE=",
            "dtype": "i2"
           }
          },
          {
           "line": {
            "width": 2
           },
           "marker": {
            "size": 6
           },
           "mode": "lines+markers",
           "name": "user_12",
           "type": "scatter",
           "x": [
            "2020-04-18",
            "2020-04-26",
            "2020-04-27",
            "2020-05-03",
            "2020-05-14"
           ],
           "y": {
            "bdata": "BxIUVVw=",
            "dtype": "i1"
           }
          },
          {
           "line": {
            "width": 2
           },
           "marker": {
            "size": 6
           },
           "mode": "lines+markers",
           "name": "user_14",
           "type": "scatter",
           "x": [
            "2020-04-18",
            "2020-04-19",
            "2020-04-26",
            "2020-04-30",
            "2020-05-02",
            "2020-05-03",
            "2020-05-04",
            "2020-05-05",
            "2020-05-09",
            "2020-05-10",
            "2020-05-11",
            "2020-05-12",
            "2020-05-14"
           ],
           "y": {
            "bdata": "KgAwADIAMwA2ADoAPAA9AF8AbQCdAPMAAwE=",
            "dtype": "i2"
           }
          },
          {
           "line": {
            "width": 2
           },
           "marker": {
            "size": 6
           },
           "mode": "lines+markers",
           "name": "user_17",
           "type": "scatter",
           "x": [
            "2020-04-18",
            "2020-04-23",
            "2020-04-25",
            "2020-05-02",
            "2020-05-04",
            "2020-05-11",
            "2020-05-12",
            "2020-05-13",
            "2020-05-14"
           ],
           "y": {
            "bdata": "AQQTIykrLzA0",
            "dtype": "i1"
           }
          },
          {
           "line": {
            "width": 2
           },
           "marker": {
            "size": 6
           },
           "mode": "lines+markers",
           "name": "user_2",
           "type": "scatter",
           "x": [
            "2020-04-18",
            "2020-04-19",
            "2020-05-02",
            "2020-05-03",
            "2020-05-05",
            "2020-05-06",
            "2020-05-10",
            "2020-05-11",
            "2020-05-12",
            "2020-05-13",
            "2020-05-14"
           ],
           "y": {
            "bdata": "EAASACEAJACVAJcAnwC3AL8A3QDhAA==",
            "dtype": "i2"
           }
          },
          {
           "line": {
            "width": 2
           },
           "marker": {
            "size": 6
           },
           "mode": "lines+markers",
           "name": "user_30",
           "type": "scatter",
           "x": [
            "2020-04-18",
            "2020-04-22",
            "2020-04-23",
            "2020-05-01",
            "2020-05-02",
            "2020-05-03",
            "2020-05-04",
            "2020-05-07",
            "2020-05-10",
            "2020-05-14"
           ],
           "y": {
            "bdata": "AgMFCBwlJzVBRQ==",
            "dtype": "i1"
           }
          },
          {
           "line": {
            "width": 2
           },
           "marker": {
            "size": 6
           },
           "mode": "lines+markers",
           "name": "user_8",
           "type": "scatter",
           "x": [
            "2020-04-18",
            "2020-04-19",
            "2020-04-25",
            "2020-04-26",
            "2020-05-02",
            "2020-05-03",
            "2020-05-10",
            "2020-05-14"
           ],
           "y": {
            "bdata": "AQ4QFj1ARFM=",
            "dtype": "i1"
           }
          },
          {
           "line": {
            "width": 2
           },
           "marker": {
            "size": 6
           },
           "mode": "lines+markers",
           "name": "user_29",
           "type": "scatter",
           "x": [
            "2020-04-19",
            "2020-04-26",
            "2020-04-30",
            "2020-05-01",
            "2020-05-02",
            "2020-05-10",
            "2020-05-11",
            "2020-05-12",
            "2020-05-13",
            "2020-05-14"
           ],
           "y": {
            "bdata": "BA4lJigqM01tbw==",
            "dtype": "i1"
           }
          },
          {
           "line": {
            "width": 2
           },
           "marker": {
            "size": 6
           },
           "mode": "lines+markers",
           "name": "user_0",
           "type": "scatter",
           "x": [
            "2020-04-20"
           ],
           "y": {
            "bdata": "Aw==",
            "dtype": "i1"
           }
          },
          {
           "line": {
            "width": 2
           },
           "marker": {
            "size": 6
           },
           "mode": "lines+markers",
           "name": "user_16",
           "type": "scatter",
           "x": [
            "2020-04-20",
            "2020-04-26",
            "2020-05-12",
            "2020-05-14"
           ],
           "y": {
            "bdata": "ChQZJw==",
            "dtype": "i1"
           }
          },
          {
           "line": {
            "width": 2
           },
           "marker": {
            "size": 6
           },
           "mode": "lines+markers",
           "name": "user_19",
           "type": "scatter",
           "x": [
            "2020-04-20",
            "2020-04-21",
            "2020-04-23",
            "2020-04-24",
            "2020-04-25",
            "2020-04-26",
            "2020-05-02",
            "2020-05-03",
            "2020-05-14",
            "2020-05-15"
           ],
           "y": {
            "bdata": "BwAPABsAHQAtAFkAXgBlAJYAngA=",
            "dtype": "i2"
           }
          },
          {
           "line": {
            "width": 2
           },
           "marker": {
            "size": 6
           },
           "mode": "lines+markers",
           "name": "user_22",
           "type": "scatter",
           "x": [
            "2020-04-20",
            "2020-04-28",
            "2020-05-03",
            "2020-05-14"
           ],
           "y": {
            "bdata": "AgMEBg==",
            "dtype": "i1"
           }
          },
          {
           "line": {
            "width": 2
           },
           "marker": {
            "size": 6
           },
           "mode": "lines+markers",
           "name": "user_25",
           "type": "scatter",
           "x": [
            "2020-04-20",
            "2020-04-21",
            "2020-04-25",
            "2020-04-26",
            "2020-04-27",
            "2020-05-01",
            "2020-05-03",
            "2020-05-08",
            "2020-05-09",
            "2020-05-10",
            "2020-05-11",
            "2020-05-12",
            "2020-05-13",
            "2020-05-14"
           ],
           "y": {
            "bdata": "AwAFABsAPgBAAEEARABNAHkAfwCHALEAtwDfAA==",
            "dtype": "i2"
           }
          },
          {
           "line": {
            "width": 2
           },
           "marker": {
            "size": 6
           },
           "mode": "lines+markers",
           "name": "user_21",
           "type": "scatter",
           "x": [
            "2020-04-21",
            "2020-04-22",
            "2020-04-26",
            "2020-05-02",
            "2020-05-03",
            "2020-05-10",
            "2020-05-14"
           ],
           "y": {
            "bdata": "DyQsP0FOUg==",
            "dtype": "i1"
           }
          },
          {
           "line": {
            "width": 2
           },
           "marker": {
            "size": 6
           },
           "mode": "lines+markers",
           "name": "user_10",
           "type": "scatter",
           "x": [
            "2020-04-22",
            "2020-04-25",
            "2020-04-30",
            "2020-05-01",
            "2020-05-10",
            "2020-05-12",
            "2020-05-13",
            "2020-05-14"
           ],
           "y": {
            "bdata": "AgYICQsYNH8=",
            "dtype": "i1"
           }
          },
          {
           "line": {
            "width": 2
           },
           "marker": {
            "size": 6
           },
           "mode": "lines+markers",
           "name": "user_24",
           "type": "scatter",
           "x": [
            "2020-04-22",
            "2020-04-23",
            "2020-04-25",
            "2020-05-02",
            "2020-05-03",
            "2020-05-05",
            "2020-05-13",
            "2020-05-14"
           ],
           "y": {
            "bdata": "AQUGFhclNmg=",
            "dtype": "i1"
           }
          },
          {
           "line": {
            "width": 2
           },
           "marker": {
            "size": 6
           },
           "mode": "lines+markers",
           "name": "user_28",
           "type": "scatter",
           "x": [
            "2020-04-22",
            "2020-04-25",
            "2020-04-26",
            "2020-04-28",
            "2020-05-01",
            "2020-05-03",
            "2020-05-10",
            "2020-05-12",
            "2020-05-13",
            "2020-05-14",
            "2020-05-15"
           ],
           "y": {
            "bdata": "Aw8oLDEzNThcaGo=",
            "dtype": "i1"
           }
          },
          {
           "line": {
            "width": 2
           },
           "marker": {
            "size": 6
           },
           "mode": "lines+markers",
           "name": "user_3",
           "type": "scatter",
           "x": [
            "2020-04-23",
            "2020-04-26",
            "2020-05-01",
            "2020-05-02",
            "2020-05-03",
            "2020-05-07",
            "2020-05-08",
            "2020-05-09",
            "2020-05-10",
            "2020-05-11",
            "2020-05-12",
            "2020-05-14"
           ],
           "y": {
            "bdata": "AgQJCgsMQkRIdnp+",
            "dtype": "i1"
           }
          },
          {
           "line": {
            "width": 2
           },
           "marker": {
            "size": 6
           },
           "mode": "lines+markers",
           "name": "user_31",
           "type": "scatter",
           "x": [
            "2020-04-23",
            "2020-05-01",
            "2020-05-02",
            "2020-05-03",
            "2020-05-04",
            "2020-05-07",
            "2020-05-09",
            "2020-05-11",
            "2020-05-14"
           ],
           "y": {
            "bdata": "AgAlAHkAfwCAAIEAhwCLAI8A",
            "dtype": "i2"
           }
          },
          {
           "line": {
            "width": 2
           },
           "marker": {
            "size": 6
           },
           "mode": "lines+markers",
           "name": "user_13",
           "type": "scatter",
           "x": [
            "2020-04-25",
            "2020-04-26",
            "2020-05-02",
            "2020-05-11",
            "2020-05-12",
            "2020-05-14"
           ],
           "y": {
            "bdata": "CyIzNm5y",
            "dtype": "i1"
           }
          },
          {
           "line": {
            "width": 2
           },
           "marker": {
            "size": 6
           },
           "mode": "lines+markers",
           "name": "user_15",
           "type": "scatter",
           "x": [
            "2020-04-25",
            "2020-04-26",
            "2020-05-02",
            "2020-05-03",
            "2020-05-10",
            "2020-05-14"
           ],
           "y": {
            "bdata": "Ag0PFhgd",
            "dtype": "i1"
           }
          },
          {
           "line": {
            "width": 2
           },
           "marker": {
            "size": 6
           },
           "mode": "lines+markers",
           "name": "user_20",
           "type": "scatter",
           "x": [
            "2020-04-25",
            "2020-04-26",
            "2020-04-27",
            "2020-04-29",
            "2020-04-30",
            "2020-05-01",
            "2020-05-03",
            "2020-05-10",
            "2020-05-11",
            "2020-05-14"
           ],
           "y": {
            "bdata": "AwAWABgAIAAqADEANwA6AE8ApQA=",
            "dtype": "i2"
           }
          },
          {
           "line": {
            "width": 2
           },
           "marker": {
            "size": 6
           },
           "mode": "lines+markers",
           "name": "user_26",
           "type": "scatter",
           "x": [
            "2020-04-25",
            "2020-04-30",
            "2020-05-01",
            "2020-05-02",
            "2020-05-05",
            "2020-05-10",
            "2020-05-13",
            "2020-05-14"
           ],
           "y": {
            "bdata": "DwAgACIAIwAkAGkAiwCtAA==",
            "dtype": "i2"
           }
          },
          {
           "line": {
            "width": 2
           },
           "marker": {
            "size": 6
           },
           "mode": "lines+markers",
           "name": "user_6",
           "type": "scatter",
           "x": [
            "2020-04-25",
            "2020-04-26",
            "2020-05-02",
            "2020-05-13",
            "2020-05-14"
           ],
           "y": {
            "bdata": "AQoLDA4=",
            "dtype": "i1"
           }
          },
          {
           "line": {
            "width": 2
           },
           "marker": {
            "size": 6
           },
           "mode": "lines+markers",
           "name": "user_1",
           "type": "scatter",
           "x": [
            "2020-04-26",
            "2020-05-02",
            "2020-05-03",
            "2020-05-14"
           ],
           "y": {
            "bdata": "FhcrQg==",
            "dtype": "i1"
           }
          },
          {
           "line": {
            "width": 2
           },
           "marker": {
            "size": 6
           },
           "mode": "lines+markers",
           "name": "user_18",
           "type": "scatter",
           "x": [
            "2020-04-26",
            "2020-05-03",
            "2020-05-11",
            "2020-05-13",
            "2020-05-14"
           ],
           "y": {
            "bdata": "BAUSFEI=",
            "dtype": "i1"
           }
          },
          {
           "line": {
            "width": 2
           },
           "marker": {
            "size": 6
           },
           "mode": "lines+markers",
           "name": "user_27",
           "type": "scatter",
           "x": [
            "2020-04-26",
            "2020-05-03",
            "2020-05-14"
           ],
           "y": {
            "bdata": "Ehsq",
            "dtype": "i1"
           }
          },
          {
           "line": {
            "width": 2
           },
           "marker": {
            "size": 6
           },
           "mode": "lines+markers",
           "name": "user_11",
           "type": "scatter",
           "x": [
            "2020-05-03"
           ],
           "y": {
            "bdata": "CA==",
            "dtype": "i1"
           }
          },
          {
           "line": {
            "width": 2
           },
           "marker": {
            "size": 6
           },
           "mode": "lines+markers",
           "name": "user_7",
           "type": "scatter",
           "x": [],
           "y": []
          },
          {
           "line": {
            "width": 2
           },
           "marker": {
            "size": 6
           },
           "mode": "lines+markers",
           "name": "user_23",
           "type": "scatter",
           "x": [],
           "y": []
          }
         ],
         "name": "2020-05-15"
        },
        {
         "data": [
          {
           "line": {
            "width": 2
           },
           "marker": {
            "size": 6
           },
           "mode": "lines+markers",
           "name": "user_4",
           "type": "scatter",
           "x": [
            "2020-04-17",
            "2020-04-19",
            "2020-04-23",
            "2020-04-24",
            "2020-04-26",
            "2020-04-29",
            "2020-05-03",
            "2020-05-04",
            "2020-05-05",
            "2020-05-07",
            "2020-05-08",
            "2020-05-10",
            "2020-05-11",
            "2020-05-12",
            "2020-05-13",
            "2020-05-14"
           ],
           "y": {
            "bdata": "FwAfADEAPwBBAEoAYAB6AIQAqADAAMIAygAWAS4BZAE=",
            "dtype": "i2"
           }
          },
          {
           "line": {
            "width": 2
           },
           "marker": {
            "size": 6
           },
           "mode": "lines+markers",
           "name": "user_12",
           "type": "scatter",
           "x": [
            "2020-04-18",
            "2020-04-26",
            "2020-04-27",
            "2020-05-03",
            "2020-05-14"
           ],
           "y": {
            "bdata": "BxIUVVw=",
            "dtype": "i1"
           }
          },
          {
           "line": {
            "width": 2
           },
           "marker": {
            "size": 6
           },
           "mode": "lines+markers",
           "name": "user_14",
           "type": "scatter",
           "x": [
            "2020-04-18",
            "2020-04-19",
            "2020-04-26",
            "2020-04-30",
            "2020-05-02",
            "2020-05-03",
            "2020-05-04",
            "2020-05-05",
            "2020-05-09",
            "2020-05-10",
            "2020-05-11",
            "2020-05-12",
            "2020-05-14"
           ],
           "y": {
            "bdata": "KgAwADIAMwA2ADoAPAA9AF8AbQCdAPMAAwE=",
            "dtype": "i2"
           }
          },
          {
           "line": {
            "width": 2
           },
           "marker": {
            "size": 6
           },
           "mode": "lines+markers",
           "name": "user_17",
           "type": "scatter",
           "x": [
            "2020-04-18",
            "2020-04-23",
            "2020-04-25",
            "2020-05-02",
            "2020-05-04",
            "2020-05-11",
            "2020-05-12",
            "2020-05-13",
            "2020-05-14"
           ],
           "y": {
            "bdata": "AQQTIykrLzA0",
            "dtype": "i1"
           }
          },
          {
           "line": {
            "width": 2
           },
           "marker": {
            "size": 6
           },
           "mode": "lines+markers",
           "name": "user_2",
           "type": "scatter",
           "x": [
            "2020-04-18",
            "2020-04-19",
            "2020-05-02",
            "2020-05-03",
            "2020-05-05",
            "2020-05-06",
            "2020-05-10",
            "2020-05-11",
            "2020-05-12",
            "2020-05-13",
            "2020-05-14"
           ],
           "y": {
            "bdata": "EAASACEAJACVAJcAnwC3AL8A3QDhAA==",
            "dtype": "i2"
           }
          },
          {
           "line": {
            "width": 2
           },
           "marker": {
            "size": 6
           },
           "mode": "lines+markers",
           "name": "user_30",
           "type": "scatter",
           "x": [
            "2020-04-18",
            "2020-04-22",
            "2020-04-23",
            "2020-05-01",
            "2020-05-02",
            "2020-05-03",
            "2020-05-04",
            "2020-05-07",
            "2020-05-10",
            "2020-05-14"
           ],
           "y": {
            "bdata": "AgMFCBwlJzVBRQ==",
            "dtype": "i1"
           }
          },
          {
           "line": {
            "width": 2
           },
           "marker": {
            "size": 6
           },
           "mode": "lines+markers",
           "name": "user_8",
           "type": "scatter",
           "x": [
            "2020-04-18",
            "2020-04-19",
            "2020-04-25",
            "2020-04-26",
            "2020-05-02",
            "2020-05-03",
            "2020-05-10",
            "2020-05-14",
            "2020-05-16"
           ],
           "y": {
            "bdata": "AQ4QFj1ARFNX",
            "dtype": "i1"
           }
          },
          {
           "line": {
            "width": 2
           },
           "marker": {
            "size": 6
           },
           "mode": "lines+markers",
           "name": "user_29",
           "type": "scatter",
           "x": [
            "2020-04-19",
            "2020-04-26",
            "2020-04-30",
            "2020-05-01",
            "2020-05-02",
            "2020-05-10",
            "2020-05-11",
            "2020-05-12",
            "2020-05-13",
            "2020-05-14"
           ],
           "y": {
            "bdata": "BA4lJigqM01tbw==",
            "dtype": "i1"
           }
          },
          {
           "line": {
            "width": 2
           },
           "marker": {
            "size": 6
           },
           "mode": "lines+markers",
           "name": "user_0",
           "type": "scatter",
           "x": [
            "2020-04-20"
           ],
           "y": {
            "bdata": "Aw==",
            "dtype": "i1"
           }
          },
          {
           "line": {
            "width": 2
           },
           "marker": {
            "size": 6
           },
           "mode": "lines+markers",
           "name": "user_16",
           "type": "scatter",
           "x": [
            "2020-04-20",
            "2020-04-26",
            "2020-05-12",
            "2020-05-14"
           ],
           "y": {
            "bdata": "ChQZJw==",
            "dtype": "i1"
           }
          },
          {
           "line": {
            "width": 2
           },
           "marker": {
            "size": 6
           },
           "mode": "lines+markers",
           "name": "user_19",
           "type": "scatter",
           "x": [
            "2020-04-20",
            "2020-04-21",
            "2020-04-23",
            "2020-04-24",
            "2020-04-25",
            "2020-04-26",
            "2020-05-02",
            "2020-05-03",
            "2020-05-14",
            "2020-05-15"
           ],
           "y": {
            "bdata": "BwAPABsAHQAtAFkAXgBlAJYAngA=",
            "dtype": "i2"
           }
          },
          {
           "line": {
            "width": 2
           },
           "marker": {
            "size": 6
           },
           "mode": "lines+markers",
           "name": "user_22",
           "type": "scatter",
           "x": [
            "2020-04-20",
            "2020-04-28",
            "2020-05-03",
            "2020-05-14"
           ],
           "y": {
            "bdata": "AgMEBg==",
            "dtype": "i1"
           }
          },
          {
           "line": {
            "width": 2
           },
           "marker": {
            "size": 6
           },
           "mode": "lines+markers",
           "name": "user_25",
           "type": "scatter",
           "x": [
            "2020-04-20",
            "2020-04-21",
            "2020-04-25",
            "2020-04-26",
            "2020-04-27",
            "2020-05-01",
            "2020-05-03",
            "2020-05-08",
            "2020-05-09",
            "2020-05-10",
            "2020-05-11",
            "2020-05-12",
            "2020-05-13",
            "2020-05-14"
           ],
           "y": {
            "bdata": "AwAFABsAPgBAAEEARABNAHkAfwCHALEAtwDfAA==",
            "dtype": "i2"
           }
          },
          {
           "line": {
            "width": 2
           },
           "marker": {
            "size": 6
           },
           "mode": "lines+markers",
           "name": "user_21",
           "type": "scatter",
           "x": [
            "2020-04-21",
            "2020-04-22",
            "2020-04-26",
            "2020-05-02",
            "2020-05-03",
            "2020-05-10",
            "2020-05-14"
           ],
           "y": {
            "bdata": "DyQsP0FOUg==",
            "dtype": "i1"
           }
          },
          {
           "line": {
            "width": 2
           },
           "marker": {
            "size": 6
           },
           "mode": "lines+markers",
           "name": "user_10",
           "type": "scatter",
           "x": [
            "2020-04-22",
            "2020-04-25",
            "2020-04-30",
            "2020-05-01",
            "2020-05-10",
            "2020-05-12",
            "2020-05-13",
            "2020-05-14"
           ],
           "y": {
            "bdata": "AgYICQsYNH8=",
            "dtype": "i1"
           }
          },
          {
           "line": {
            "width": 2
           },
           "marker": {
            "size": 6
           },
           "mode": "lines+markers",
           "name": "user_24",
           "type": "scatter",
           "x": [
            "2020-04-22",
            "2020-04-23",
            "2020-04-25",
            "2020-05-02",
            "2020-05-03",
            "2020-05-05",
            "2020-05-13",
            "2020-05-14"
           ],
           "y": {
            "bdata": "AQUGFhclNmg=",
            "dtype": "i1"
           }
          },
          {
           "line": {
            "width": 2
           },
           "marker": {
            "size": 6
           },
           "mode": "lines+markers",
           "name": "user_28",
           "type": "scatter",
           "x": [
            "2020-04-22",
            "2020-04-25",
            "2020-04-26",
            "2020-04-28",
            "2020-05-01",
            "2020-05-03",
            "2020-05-10",
            "2020-05-12",
            "2020-05-13",
            "2020-05-14",
            "2020-05-15"
           ],
           "y": {
            "bdata": "Aw8oLDEzNThcaGo=",
            "dtype": "i1"
           }
          },
          {
           "line": {
            "width": 2
           },
           "marker": {
            "size": 6
           },
           "mode": "lines+markers",
           "name": "user_3",
           "type": "scatter",
           "x": [
            "2020-04-23",
            "2020-04-26",
            "2020-05-01",
            "2020-05-02",
            "2020-05-03",
            "2020-05-07",
            "2020-05-08",
            "2020-05-09",
            "2020-05-10",
            "2020-05-11",
            "2020-05-12",
            "2020-05-14"
           ],
           "y": {
            "bdata": "AgQJCgsMQkRIdnp+",
            "dtype": "i1"
           }
          },
          {
           "line": {
            "width": 2
           },
           "marker": {
            "size": 6
           },
           "mode": "lines+markers",
           "name": "user_31",
           "type": "scatter",
           "x": [
            "2020-04-23",
            "2020-05-01",
            "2020-05-02",
            "2020-05-03",
            "2020-05-04",
            "2020-05-07",
            "2020-05-09",
            "2020-05-11",
            "2020-05-14"
           ],
           "y": {
            "bdata": "AgAlAHkAfwCAAIEAhwCLAI8A",
            "dtype": "i2"
           }
          },
          {
           "line": {
            "width": 2
           },
           "marker": {
            "size": 6
           },
           "mode": "lines+markers",
           "name": "user_13",
           "type": "scatter",
           "x": [
            "2020-04-25",
            "2020-04-26",
            "2020-05-02",
            "2020-05-11",
            "2020-05-12",
            "2020-05-14"
           ],
           "y": {
            "bdata": "CyIzNm5y",
            "dtype": "i1"
           }
          },
          {
           "line": {
            "width": 2
           },
           "marker": {
            "size": 6
           },
           "mode": "lines+markers",
           "name": "user_15",
           "type": "scatter",
           "x": [
            "2020-04-25",
            "2020-04-26",
            "2020-05-02",
            "2020-05-03",
            "2020-05-10",
            "2020-05-14"
           ],
           "y": {
            "bdata": "Ag0PFhgd",
            "dtype": "i1"
           }
          },
          {
           "line": {
            "width": 2
           },
           "marker": {
            "size": 6
           },
           "mode": "lines+markers",
           "name": "user_20",
           "type": "scatter",
           "x": [
            "2020-04-25",
            "2020-04-26",
            "2020-04-27",
            "2020-04-29",
            "2020-04-30",
            "2020-05-01",
            "2020-05-03",
            "2020-05-10",
            "2020-05-11",
            "2020-05-14"
           ],
           "y": {
            "bdata": "AwAWABgAIAAqADEANwA6AE8ApQA=",
            "dtype": "i2"
           }
          },
          {
           "line": {
            "width": 2
           },
           "marker": {
            "size": 6
           },
           "mode": "lines+markers",
           "name": "user_26",
           "type": "scatter",
           "x": [
            "2020-04-25",
            "2020-04-30",
            "2020-05-01",
            "2020-05-02",
            "2020-05-05",
            "2020-05-10",
            "2020-05-13",
            "2020-05-14"
           ],
           "y": {
            "bdata": "DwAgACIAIwAkAGkAiwCtAA==",
            "dtype": "i2"
           }
          },
          {
           "line": {
            "width": 2
           },
           "marker": {
            "size": 6
           },
           "mode": "lines+markers",
           "name": "user_6",
           "type": "scatter",
           "x": [
            "2020-04-25",
            "2020-04-26",
            "2020-05-02",
            "2020-05-13",
            "2020-05-14"
           ],
           "y": {
            "bdata": "AQoLDA4=",
            "dtype": "i1"
           }
          },
          {
           "line": {
            "width": 2
           },
           "marker": {
            "size": 6
           },
           "mode": "lines+markers",
           "name": "user_1",
           "type": "scatter",
           "x": [
            "2020-04-26",
            "2020-05-02",
            "2020-05-03",
            "2020-05-14"
           ],
           "y": {
            "bdata": "FhcrQg==",
            "dtype": "i1"
           }
          },
          {
           "line": {
            "width": 2
           },
           "marker": {
            "size": 6
           },
           "mode": "lines+markers",
           "name": "user_18",
           "type": "scatter",
           "x": [
            "2020-04-26",
            "2020-05-03",
            "2020-05-11",
            "2020-05-13",
            "2020-05-14"
           ],
           "y": {
            "bdata": "BAUSFEI=",
            "dtype": "i1"
           }
          },
          {
           "line": {
            "width": 2
           },
           "marker": {
            "size": 6
           },
           "mode": "lines+markers",
           "name": "user_27",
           "type": "scatter",
           "x": [
            "2020-04-26",
            "2020-05-03",
            "2020-05-14"
           ],
           "y": {
            "bdata": "Ehsq",
            "dtype": "i1"
           }
          },
          {
           "line": {
            "width": 2
           },
           "marker": {
            "size": 6
           },
           "mode": "lines+markers",
           "name": "user_11",
           "type": "scatter",
           "x": [
            "2020-05-03"
           ],
           "y": {
            "bdata": "CA==",
            "dtype": "i1"
           }
          },
          {
           "line": {
            "width": 2
           },
           "marker": {
            "size": 6
           },
           "mode": "lines+markers",
           "name": "user_7",
           "type": "scatter",
           "x": [],
           "y": []
          },
          {
           "line": {
            "width": 2
           },
           "marker": {
            "size": 6
           },
           "mode": "lines+markers",
           "name": "user_23",
           "type": "scatter",
           "x": [],
           "y": []
          }
         ],
         "name": "2020-05-16"
        },
        {
         "data": [
          {
           "line": {
            "width": 2
           },
           "marker": {
            "size": 6
           },
           "mode": "lines+markers",
           "name": "user_4",
           "type": "scatter",
           "x": [
            "2020-04-17",
            "2020-04-19",
            "2020-04-23",
            "2020-04-24",
            "2020-04-26",
            "2020-04-29",
            "2020-05-03",
            "2020-05-04",
            "2020-05-05",
            "2020-05-07",
            "2020-05-08",
            "2020-05-10",
            "2020-05-11",
            "2020-05-12",
            "2020-05-13",
            "2020-05-14",
            "2020-05-17"
           ],
           "y": {
            "bdata": "FwAfADEAPwBBAEoAYAB6AIQAqADAAMIAygAWAS4BZAFvAQ==",
            "dtype": "i2"
           }
          },
          {
           "line": {
            "width": 2
           },
           "marker": {
            "size": 6
           },
           "mode": "lines+markers",
           "name": "user_12",
           "type": "scatter",
           "x": [
            "2020-04-18",
            "2020-04-26",
            "2020-04-27",
            "2020-05-03",
            "2020-05-14"
           ],
           "y": {
            "bdata": "BxIUVVw=",
            "dtype": "i1"
           }
          },
          {
           "line": {
            "width": 2
           },
           "marker": {
            "size": 6
           },
           "mode": "lines+markers",
           "name": "user_14",
           "type": "scatter",
           "x": [
            "2020-04-18",
            "2020-04-19",
            "2020-04-26",
            "2020-04-30",
            "2020-05-02",
            "2020-05-03",
            "2020-05-04",
            "2020-05-05",
            "2020-05-09",
            "2020-05-10",
            "2020-05-11",
            "2020-05-12",
            "2020-05-14"
           ],
           "y": {
            "bdata": "KgAwADIAMwA2ADoAPAA9AF8AbQCdAPMAAwE=",
            "dtype": "i2"
           }
          },
          {
           "line": {
            "width": 2
           },
           "marker": {
            "size": 6
           },
           "mode": "lines+markers",
           "name": "user_17",
           "type": "scatter",
           "x": [
            "2020-04-18",
            "2020-04-23",
            "2020-04-25",
            "2020-05-02",
            "2020-05-04",
            "2020-05-11",
            "2020-05-12",
            "2020-05-13",
            "2020-05-14"
           ],
           "y": {
            "bdata": "AQQTIykrLzA0",
            "dtype": "i1"
           }
          },
          {
           "line": {
            "width": 2
           },
           "marker": {
            "size": 6
           },
           "mode": "lines+markers",
           "name": "user_2",
           "type": "scatter",
           "x": [
            "2020-04-18",
            "2020-04-19",
            "2020-05-02",
            "2020-05-03",
            "2020-05-05",
            "2020-05-06",
            "2020-05-10",
            "2020-05-11",
            "2020-05-12",
            "2020-05-13",
            "2020-05-14"
           ],
           "y": {
            "bdata": "EAASACEAJACVAJcAnwC3AL8A3QDhAA==",
            "dtype": "i2"
           }
          },
          {
           "line": {
            "width": 2
           },
           "marker": {
            "size": 6
           },
           "mode": "lines+markers",
           "name": "user_30",
           "type": "scatter",
           "x": [
            "2020-04-18",
            "2020-04-22",
            "2020-04-23",
            "2020-05-01",
            "2020-05-02",
            "2020-05-03",
            "2020-05-04",
            "2020-05-07",
            "2020-05-10",
            "2020-05-14"
           ],
           "y": {
            "bdata": "AgMFCBwlJzVBRQ==",
            "dtype": "i1"
           }
          },
          {
           "line": {
            "width": 2
           },
           "marker": {
            "size": 6
           },
           "mode": "lines+markers",
           "name": "user_8",
           "type": "scatter",
           "x": [
            "2020-04-18",
            "2020-04-19",
            "2020-04-25",
            "2020-04-26",
            "2020-05-02",
            "2020-05-03",
            "2020-05-10",
            "2020-05-14",
            "2020-05-16"
           ],
           "y": {
            "bdata": "AQ4QFj1ARFNX",
            "dtype": "i1"
           }
          },
          {
           "line": {
            "width": 2
           },
           "marker": {
            "size": 6
           },
           "mode": "lines+markers",
           "name": "user_29",
           "type": "scatter",
           "x": [
            "2020-04-19",
            "2020-04-26",
            "2020-04-30",
            "2020-05-01",
            "2020-05-02",
            "2020-05-10",
            "2020-05-11",
            "2020-05-12",
            "2020-05-13",
            "2020-05-14",
            "2020-05-17"
           ],
           "y": {
            "bdata": "BA4lJigqM01tb3k=",
            "dtype": "i1"
           }
          },
          {
           "line": {
            "width": 2
           },
           "marker": {
            "size": 6
           },
           "mode": "lines+markers",
           "name": "user_0",
           "type": "scatter",
           "x": [
            "2020-04-20"
           ],
           "y": {
            "bdata": "Aw==",
            "dtype": "i1"
           }
          },
          {
           "line": {
            "width": 2
           },
           "marker": {
            "size": 6
           },
           "mode": "lines+markers",
           "name": "user_16",
           "type": "scatter",
           "x": [
            "2020-04-20",
            "2020-04-26",
            "2020-05-12",
            "2020-05-14",
            "2020-05-17"
           ],
           "y": {
            "bdata": "ChQZJzw=",
            "dtype": "i1"
           }
          },
          {
           "line": {
            "width": 2
           },
           "marker": {
            "size": 6
           },
           "mode": "lines+markers",
           "name": "user_19",
           "type": "scatter",
           "x": [
            "2020-04-20",
            "2020-04-21",
            "2020-04-23",
            "2020-04-24",
            "2020-04-25",
            "2020-04-26",
            "2020-05-02",
            "2020-05-03",
            "2020-05-14",
            "2020-05-15"
           ],
           "y": {
            "bdata": "BwAPABsAHQAtAFkAXgBlAJYAngA=",
            "dtype": "i2"
           }
          },
          {
           "line": {
            "width": 2
           },
           "marker": {
            "size": 6
           },
           "mode": "lines+markers",
           "name": "user_22",
           "type": "scatter",
           "x": [
            "2020-04-20",
            "2020-04-28",
            "2020-05-03",
            "2020-05-14"
           ],
           "y": {
            "bdata": "AgMEBg==",
            "dtype": "i1"
           }
          },
          {
           "line": {
            "width": 2
           },
           "marker": {
            "size": 6
           },
           "mode": "lines+markers",
           "name": "user_25",
           "type": "scatter",
           "x": [
            "2020-04-20",
            "2020-04-21",
            "2020-04-25",
            "2020-04-26",
            "2020-04-27",
            "2020-05-01",
            "2020-05-03",
            "2020-05-08",
            "2020-05-09",
            "2020-05-10",
            "2020-05-11",
            "2020-05-12",
            "2020-05-13",
            "2020-05-14"
           ],
           "y": {
            "bdata": "AwAFABsAPgBAAEEARABNAHkAfwCHALEAtwDfAA==",
            "dtype": "i2"
           }
          },
          {
           "line": {
            "width": 2
           },
           "marker": {
            "size": 6
           },
           "mode": "lines+markers",
           "name": "user_21",
           "type": "scatter",
           "x": [
            "2020-04-21",
            "2020-04-22",
            "2020-04-26",
            "2020-05-02",
            "2020-05-03",
            "2020-05-10",
            "2020-05-14"
           ],
           "y": {
            "bdata": "DyQsP0FOUg==",
            "dtype": "i1"
           }
          },
          {
           "line": {
            "width": 2
           },
           "marker": {
            "size": 6
           },
           "mode": "lines+markers",
           "name": "user_10",
           "type": "scatter",
           "x": [
            "2020-04-22",
            "2020-04-25",
            "2020-04-30",
            "2020-05-01",
            "2020-05-10",
            "2020-05-12",
            "2020-05-13",
            "2020-05-14"
           ],
           "y": {
            "bdata": "AgYICQsYNH8=",
            "dtype": "i1"
           }
          },
          {
           "line": {
            "width": 2
           },
           "marker": {
            "size": 6
           },
           "mode": "lines+markers",
           "name": "user_24",
           "type": "scatter",
           "x": [
            "2020-04-22",
            "2020-04-23",
            "2020-04-25",
            "2020-05-02",
            "2020-05-03",
            "2020-05-05",
            "2020-05-13",
            "2020-05-14"
           ],
           "y": {
            "bdata": "AQUGFhclNmg=",
            "dtype": "i1"
           }
          },
          {
           "line": {
            "width": 2
           },
           "marker": {
            "size": 6
           },
           "mode": "lines+markers",
           "name": "user_28",
           "type": "scatter",
           "x": [
            "2020-04-22",
            "2020-04-25",
            "2020-04-26",
            "2020-04-28",
            "2020-05-01",
            "2020-05-03",
            "2020-05-10",
            "2020-05-12",
            "2020-05-13",
            "2020-05-14",
            "2020-05-15",
            "2020-05-17"
           ],
           "y": {
            "bdata": "Aw8oLDEzNThcaGpt",
            "dtype": "i1"
           }
          },
          {
           "line": {
            "width": 2
           },
           "marker": {
            "size": 6
           },
           "mode": "lines+markers",
           "name": "user_3",
           "type": "scatter",
           "x": [
            "2020-04-23",
            "2020-04-26",
            "2020-05-01",
            "2020-05-02",
            "2020-05-03",
            "2020-05-07",
            "2020-05-08",
            "2020-05-09",
            "2020-05-10",
            "2020-05-11",
            "2020-05-12",
            "2020-05-14",
            "2020-05-17"
           ],
           "y": {
            "bdata": "AgQJCgsMQkRIdnp+fw==",
            "dtype": "i1"
           }
          },
          {
           "line": {
            "width": 2
           },
           "marker": {
            "size": 6
           },
           "mode": "lines+markers",
           "name": "user_31",
           "type": "scatter",
           "x": [
            "2020-04-23",
            "2020-05-01",
            "2020-05-02",
            "2020-05-03",
            "2020-05-04",
            "2020-05-07",
            "2020-05-09",
            "2020-05-11",
            "2020-05-14",
            "2020-05-17"
           ],
           "y": {
            "bdata": "AgAlAHkAfwCAAIEAhwCLAI8AkAA=",
            "dtype": "i2"
           }
          },
          {
           "line": {
            "width": 2
           },
           "marker": {
            "size": 6
           },
           "mode": "lines+markers",
           "name": "user_13",
           "type": "scatter",
           "x": [
            "2020-04-25",
            "2020-04-26",
            "2020-05-02",
            "2020-05-11",
            "2020-05-12",
            "2020-05-14"
           ],
           "y": {
            "bdata": "CyIzNm5y",
            "dtype": "i1"
           }
          },
          {
           "line": {
            "width": 2
           },
           "marker": {
            "size": 6
           },
           "mode": "lines+markers",
           "name": "user_15",
           "type": "scatter",
           "x": [
            "2020-04-25",
            "2020-04-26",
            "2020-05-02",
            "2020-05-03",
            "2020-05-10",
            "2020-05-14"
           ],
           "y": {
            "bdata": "Ag0PFhgd",
            "dtype": "i1"
           }
          },
          {
           "line": {
            "width": 2
           },
           "marker": {
            "size": 6
           },
           "mode": "lines+markers",
           "name": "user_20",
           "type": "scatter",
           "x": [
            "2020-04-25",
            "2020-04-26",
            "2020-04-27",
            "2020-04-29",
            "2020-04-30",
            "2020-05-01",
            "2020-05-03",
            "2020-05-10",
            "2020-05-11",
            "2020-05-14"
           ],
           "y": {
            "bdata": "AwAWABgAIAAqADEANwA6AE8ApQA=",
            "dtype": "i2"
           }
          },
          {
           "line": {
            "width": 2
           },
           "marker": {
            "size": 6
           },
           "mode": "lines+markers",
           "name": "user_26",
           "type": "scatter",
           "x": [
            "2020-04-25",
            "2020-04-30",
            "2020-05-01",
            "2020-05-02",
            "2020-05-05",
            "2020-05-10",
            "2020-05-13",
            "2020-05-14"
           ],
           "y": {
            "bdata": "DwAgACIAIwAkAGkAiwCtAA==",
            "dtype": "i2"
           }
          },
          {
           "line": {
            "width": 2
           },
           "marker": {
            "size": 6
           },
           "mode": "lines+markers",
           "name": "user_6",
           "type": "scatter",
           "x": [
            "2020-04-25",
            "2020-04-26",
            "2020-05-02",
            "2020-05-13",
            "2020-05-14"
           ],
           "y": {
            "bdata": "AQoLDA4=",
            "dtype": "i1"
           }
          },
          {
           "line": {
            "width": 2
           },
           "marker": {
            "size": 6
           },
           "mode": "lines+markers",
           "name": "user_1",
           "type": "scatter",
           "x": [
            "2020-04-26",
            "2020-05-02",
            "2020-05-03",
            "2020-05-14",
            "2020-05-17"
           ],
           "y": {
            "bdata": "FhcrQkM=",
            "dtype": "i1"
           }
          },
          {
           "line": {
            "width": 2
           },
           "marker": {
            "size": 6
           },
           "mode": "lines+markers",
           "name": "user_18",
           "type": "scatter",
           "x": [
            "2020-04-26",
            "2020-05-03",
            "2020-05-11",
            "2020-05-13",
            "2020-05-14"
           ],
           "y": {
            "bdata": "BAUSFEI=",
            "dtype": "i1"
           }
          },
          {
           "line": {
            "width": 2
           },
           "marker": {
            "size": 6
           },
           "mode": "lines+markers",
           "name": "user_27",
           "type": "scatter",
           "x": [
            "2020-04-26",
            "2020-05-03",
            "2020-05-14"
           ],
           "y": {
            "bdata": "Ehsq",
            "dtype": "i1"
           }
          },
          {
           "line": {
            "width": 2
           },
           "marker": {
            "size": 6
           },
           "mode": "lines+markers",
           "name": "user_11",
           "type": "scatter",
           "x": [
            "2020-05-03"
           ],
           "y": {
            "bdata": "CA==",
            "dtype": "i1"
           }
          },
          {
           "line": {
            "width": 2
           },
           "marker": {
            "size": 6
           },
           "mode": "lines+markers",
           "name": "user_7",
           "type": "scatter",
           "x": [],
           "y": []
          },
          {
           "line": {
            "width": 2
           },
           "marker": {
            "size": 6
           },
           "mode": "lines+markers",
           "name": "user_23",
           "type": "scatter",
           "x": [],
           "y": []
          }
         ],
         "name": "2020-05-17"
        },
        {
         "data": [
          {
           "line": {
            "width": 2
           },
           "marker": {
            "size": 6
           },
           "mode": "lines+markers",
           "name": "user_4",
           "type": "scatter",
           "x": [
            "2020-04-17",
            "2020-04-19",
            "2020-04-23",
            "2020-04-24",
            "2020-04-26",
            "2020-04-29",
            "2020-05-03",
            "2020-05-04",
            "2020-05-05",
            "2020-05-07",
            "2020-05-08",
            "2020-05-10",
            "2020-05-11",
            "2020-05-12",
            "2020-05-13",
            "2020-05-14",
            "2020-05-17",
            "2020-05-18"
           ],
           "y": {
            "bdata": "FwAfADEAPwBBAEoAYAB6AIQAqADAAMIAygAWAS4BZAFvAXAB",
            "dtype": "i2"
           }
          },
          {
           "line": {
            "width": 2
           },
           "marker": {
            "size": 6
           },
           "mode": "lines+markers",
           "name": "user_12",
           "type": "scatter",
           "x": [
            "2020-04-18",
            "2020-04-26",
            "2020-04-27",
            "2020-05-03",
            "2020-05-14"
           ],
           "y": {
            "bdata": "BxIUVVw=",
            "dtype": "i1"
           }
          },
          {
           "line": {
            "width": 2
           },
           "marker": {
            "size": 6
           },
           "mode": "lines+markers",
           "name": "user_14",
           "type": "scatter",
           "x": [
            "2020-04-18",
            "2020-04-19",
            "2020-04-26",
            "2020-04-30",
            "2020-05-02",
            "2020-05-03",
            "2020-05-04",
            "2020-05-05",
            "2020-05-09",
            "2020-05-10",
            "2020-05-11",
            "2020-05-12",
            "2020-05-14"
           ],
           "y": {
            "bdata": "KgAwADIAMwA2ADoAPAA9AF8AbQCdAPMAAwE=",
            "dtype": "i2"
           }
          },
          {
           "line": {
            "width": 2
           },
           "marker": {
            "size": 6
           },
           "mode": "lines+markers",
           "name": "user_17",
           "type": "scatter",
           "x": [
            "2020-04-18",
            "2020-04-23",
            "2020-04-25",
            "2020-05-02",
            "2020-05-04",
            "2020-05-11",
            "2020-05-12",
            "2020-05-13",
            "2020-05-14"
           ],
           "y": {
            "bdata": "AQQTIykrLzA0",
            "dtype": "i1"
           }
          },
          {
           "line": {
            "width": 2
           },
           "marker": {
            "size": 6
           },
           "mode": "lines+markers",
           "name": "user_2",
           "type": "scatter",
           "x": [
            "2020-04-18",
            "2020-04-19",
            "2020-05-02",
            "2020-05-03",
            "2020-05-05",
            "2020-05-06",
            "2020-05-10",
            "2020-05-11",
            "2020-05-12",
            "2020-05-13",
            "2020-05-14"
           ],
           "y": {
            "bdata": "EAASACEAJACVAJcAnwC3AL8A3QDhAA==",
            "dtype": "i2"
           }
          },
          {
           "line": {
            "width": 2
           },
           "marker": {
            "size": 6
           },
           "mode": "lines+markers",
           "name": "user_30",
           "type": "scatter",
           "x": [
            "2020-04-18",
            "2020-04-22",
            "2020-04-23",
            "2020-05-01",
            "2020-05-02",
            "2020-05-03",
            "2020-05-04",
            "2020-05-07",
            "2020-05-10",
            "2020-05-14"
           ],
           "y": {
            "bdata": "AgMFCBwlJzVBRQ==",
            "dtype": "i1"
           }
          },
          {
           "line": {
            "width": 2
           },
           "marker": {
            "size": 6
           },
           "mode": "lines+markers",
           "name": "user_8",
           "type": "scatter",
           "x": [
            "2020-04-18",
            "2020-04-19",
            "2020-04-25",
            "2020-04-26",
            "2020-05-02",
            "2020-05-03",
            "2020-05-10",
            "2020-05-14",
            "2020-05-16"
           ],
           "y": {
            "bdata": "AQ4QFj1ARFNX",
            "dtype": "i1"
           }
          },
          {
           "line": {
            "width": 2
           },
           "marker": {
            "size": 6
           },
           "mode": "lines+markers",
           "name": "user_29",
           "type": "scatter",
           "x": [
            "2020-04-19",
            "2020-04-26",
            "2020-04-30",
            "2020-05-01",
            "2020-05-02",
            "2020-05-10",
            "2020-05-11",
            "2020-05-12",
            "2020-05-13",
            "2020-05-14",
            "2020-05-17"
           ],
           "y": {
            "bdata": "BA4lJigqM01tb3k=",
            "dtype": "i1"
           }
          },
          {
           "line": {
            "width": 2
           },
           "marker": {
            "size": 6
           },
           "mode": "lines+markers",
           "name": "user_0",
           "type": "scatter",
           "x": [
            "2020-04-20"
           ],
           "y": {
            "bdata": "Aw==",
            "dtype": "i1"
           }
          },
          {
           "line": {
            "width": 2
           },
           "marker": {
            "size": 6
           },
           "mode": "lines+markers",
           "name": "user_16",
           "type": "scatter",
           "x": [
            "2020-04-20",
            "2020-04-26",
            "2020-05-12",
            "2020-05-14",
            "2020-05-17"
           ],
           "y": {
            "bdata": "ChQZJzw=",
            "dtype": "i1"
           }
          },
          {
           "line": {
            "width": 2
           },
           "marker": {
            "size": 6
           },
           "mode": "lines+markers",
           "name": "user_19",
           "type": "scatter",
           "x": [
            "2020-04-20",
            "2020-04-21",
            "2020-04-23",
            "2020-04-24",
            "2020-04-25",
            "2020-04-26",
            "2020-05-02",
            "2020-05-03",
            "2020-05-14",
            "2020-05-15"
           ],
           "y": {
            "bdata": "BwAPABsAHQAtAFkAXgBlAJYAngA=",
            "dtype": "i2"
           }
          },
          {
           "line": {
            "width": 2
           },
           "marker": {
            "size": 6
           },
           "mode": "lines+markers",
           "name": "user_22",
           "type": "scatter",
           "x": [
            "2020-04-20",
            "2020-04-28",
            "2020-05-03",
            "2020-05-14"
           ],
           "y": {
            "bdata": "AgMEBg==",
            "dtype": "i1"
           }
          },
          {
           "line": {
            "width": 2
           },
           "marker": {
            "size": 6
           },
           "mode": "lines+markers",
           "name": "user_25",
           "type": "scatter",
           "x": [
            "2020-04-20",
            "2020-04-21",
            "2020-04-25",
            "2020-04-26",
            "2020-04-27",
            "2020-05-01",
            "2020-05-03",
            "2020-05-08",
            "2020-05-09",
            "2020-05-10",
            "2020-05-11",
            "2020-05-12",
            "2020-05-13",
            "2020-05-14",
            "2020-05-18"
           ],
           "y": {
            "bdata": "AwAFABsAPgBAAEEARABNAHkAfwCHALEAtwDfAOAA",
            "dtype": "i2"
           }
          },
          {
           "line": {
            "width": 2
           },
           "marker": {
            "size": 6
           },
           "mode": "lines+markers",
           "name": "user_21",
           "type": "scatter",
           "x": [
            "2020-04-21",
            "2020-04-22",
            "2020-04-26",
            "2020-05-02",
            "2020-05-03",
            "2020-05-10",
            "2020-05-14"
           ],
           "y": {
            "bdata": "DyQsP0FOUg==",
            "dtype": "i1"
           }
          },
          {
           "line": {
            "width": 2
           },
           "marker": {
            "size": 6
           },
           "mode": "lines+markers",
           "name": "user_10",
           "type": "scatter",
           "x": [
            "2020-04-22",
            "2020-04-25",
            "2020-04-30",
            "2020-05-01",
            "2020-05-10",
            "2020-05-12",
            "2020-05-13",
            "2020-05-14"
           ],
           "y": {
            "bdata": "AgYICQsYNH8=",
            "dtype": "i1"
           }
          },
          {
           "line": {
            "width": 2
           },
           "marker": {
            "size": 6
           },
           "mode": "lines+markers",
           "name": "user_24",
           "type": "scatter",
           "x": [
            "2020-04-22",
            "2020-04-23",
            "2020-04-25",
            "2020-05-02",
            "2020-05-03",
            "2020-05-05",
            "2020-05-13",
            "2020-05-14"
           ],
           "y": {
            "bdata": "AQUGFhclNmg=",
            "dtype": "i1"
           }
          },
          {
           "line": {
            "width": 2
           },
           "marker": {
            "size": 6
           },
           "mode": "lines+markers",
           "name": "user_28",
           "type": "scatter",
           "x": [
            "2020-04-22",
            "2020-04-25",
            "2020-04-26",
            "2020-04-28",
            "2020-05-01",
            "2020-05-03",
            "2020-05-10",
            "2020-05-12",
            "2020-05-13",
            "2020-05-14",
            "2020-05-15",
            "2020-05-17"
           ],
           "y": {
            "bdata": "Aw8oLDEzNThcaGpt",
            "dtype": "i1"
           }
          },
          {
           "line": {
            "width": 2
           },
           "marker": {
            "size": 6
           },
           "mode": "lines+markers",
           "name": "user_3",
           "type": "scatter",
           "x": [
            "2020-04-23",
            "2020-04-26",
            "2020-05-01",
            "2020-05-02",
            "2020-05-03",
            "2020-05-07",
            "2020-05-08",
            "2020-05-09",
            "2020-05-10",
            "2020-05-11",
            "2020-05-12",
            "2020-05-14",
            "2020-05-17"
           ],
           "y": {
            "bdata": "AgQJCgsMQkRIdnp+fw==",
            "dtype": "i1"
           }
          },
          {
           "line": {
            "width": 2
           },
           "marker": {
            "size": 6
           },
           "mode": "lines+markers",
           "name": "user_31",
           "type": "scatter",
           "x": [
            "2020-04-23",
            "2020-05-01",
            "2020-05-02",
            "2020-05-03",
            "2020-05-04",
            "2020-05-07",
            "2020-05-09",
            "2020-05-11",
            "2020-05-14",
            "2020-05-17"
           ],
           "y": {
            "bdata": "AgAlAHkAfwCAAIEAhwCLAI8AkAA=",
            "dtype": "i2"
           }
          },
          {
           "line": {
            "width": 2
           },
           "marker": {
            "size": 6
           },
           "mode": "lines+markers",
           "name": "user_13",
           "type": "scatter",
           "x": [
            "2020-04-25",
            "2020-04-26",
            "2020-05-02",
            "2020-05-11",
            "2020-05-12",
            "2020-05-14"
           ],
           "y": {
            "bdata": "CyIzNm5y",
            "dtype": "i1"
           }
          },
          {
           "line": {
            "width": 2
           },
           "marker": {
            "size": 6
           },
           "mode": "lines+markers",
           "name": "user_15",
           "type": "scatter",
           "x": [
            "2020-04-25",
            "2020-04-26",
            "2020-05-02",
            "2020-05-03",
            "2020-05-10",
            "2020-05-14"
           ],
           "y": {
            "bdata": "Ag0PFhgd",
            "dtype": "i1"
           }
          },
          {
           "line": {
            "width": 2
           },
           "marker": {
            "size": 6
           },
           "mode": "lines+markers",
           "name": "user_20",
           "type": "scatter",
           "x": [
            "2020-04-25",
            "2020-04-26",
            "2020-04-27",
            "2020-04-29",
            "2020-04-30",
            "2020-05-01",
            "2020-05-03",
            "2020-05-10",
            "2020-05-11",
            "2020-05-14"
           ],
           "y": {
            "bdata": "AwAWABgAIAAqADEANwA6AE8ApQA=",
            "dtype": "i2"
           }
          },
          {
           "line": {
            "width": 2
           },
           "marker": {
            "size": 6
           },
           "mode": "lines+markers",
           "name": "user_26",
           "type": "scatter",
           "x": [
            "2020-04-25",
            "2020-04-30",
            "2020-05-01",
            "2020-05-02",
            "2020-05-05",
            "2020-05-10",
            "2020-05-13",
            "2020-05-14"
           ],
           "y": {
            "bdata": "DwAgACIAIwAkAGkAiwCtAA==",
            "dtype": "i2"
           }
          },
          {
           "line": {
            "width": 2
           },
           "marker": {
            "size": 6
           },
           "mode": "lines+markers",
           "name": "user_6",
           "type": "scatter",
           "x": [
            "2020-04-25",
            "2020-04-26",
            "2020-05-02",
            "2020-05-13",
            "2020-05-14",
            "2020-05-18"
           ],
           "y": {
            "bdata": "AQoLDA4P",
            "dtype": "i1"
           }
          },
          {
           "line": {
            "width": 2
           },
           "marker": {
            "size": 6
           },
           "mode": "lines+markers",
           "name": "user_1",
           "type": "scatter",
           "x": [
            "2020-04-26",
            "2020-05-02",
            "2020-05-03",
            "2020-05-14",
            "2020-05-17"
           ],
           "y": {
            "bdata": "FhcrQkM=",
            "dtype": "i1"
           }
          },
          {
           "line": {
            "width": 2
           },
           "marker": {
            "size": 6
           },
           "mode": "lines+markers",
           "name": "user_18",
           "type": "scatter",
           "x": [
            "2020-04-26",
            "2020-05-03",
            "2020-05-11",
            "2020-05-13",
            "2020-05-14"
           ],
           "y": {
            "bdata": "BAUSFEI=",
            "dtype": "i1"
           }
          },
          {
           "line": {
            "width": 2
           },
           "marker": {
            "size": 6
           },
           "mode": "lines+markers",
           "name": "user_27",
           "type": "scatter",
           "x": [
            "2020-04-26",
            "2020-05-03",
            "2020-05-14"
           ],
           "y": {
            "bdata": "Ehsq",
            "dtype": "i1"
           }
          },
          {
           "line": {
            "width": 2
           },
           "marker": {
            "size": 6
           },
           "mode": "lines+markers",
           "name": "user_11",
           "type": "scatter",
           "x": [
            "2020-05-03"
           ],
           "y": {
            "bdata": "CA==",
            "dtype": "i1"
           }
          },
          {
           "line": {
            "width": 2
           },
           "marker": {
            "size": 6
           },
           "mode": "lines+markers",
           "name": "user_7",
           "type": "scatter",
           "x": [],
           "y": []
          },
          {
           "line": {
            "width": 2
           },
           "marker": {
            "size": 6
           },
           "mode": "lines+markers",
           "name": "user_23",
           "type": "scatter",
           "x": [],
           "y": []
          }
         ],
         "name": "2020-05-18"
        },
        {
         "data": [
          {
           "line": {
            "width": 2
           },
           "marker": {
            "size": 6
           },
           "mode": "lines+markers",
           "name": "user_4",
           "type": "scatter",
           "x": [
            "2020-04-17",
            "2020-04-19",
            "2020-04-23",
            "2020-04-24",
            "2020-04-26",
            "2020-04-29",
            "2020-05-03",
            "2020-05-04",
            "2020-05-05",
            "2020-05-07",
            "2020-05-08",
            "2020-05-10",
            "2020-05-11",
            "2020-05-12",
            "2020-05-13",
            "2020-05-14",
            "2020-05-17",
            "2020-05-18"
           ],
           "y": {
            "bdata": "FwAfADEAPwBBAEoAYAB6AIQAqADAAMIAygAWAS4BZAFvAXAB",
            "dtype": "i2"
           }
          },
          {
           "line": {
            "width": 2
           },
           "marker": {
            "size": 6
           },
           "mode": "lines+markers",
           "name": "user_12",
           "type": "scatter",
           "x": [
            "2020-04-18",
            "2020-04-26",
            "2020-04-27",
            "2020-05-03",
            "2020-05-14",
            "2020-05-19"
           ],
           "y": {
            "bdata": "BxIUVVxd",
            "dtype": "i1"
           }
          },
          {
           "line": {
            "width": 2
           },
           "marker": {
            "size": 6
           },
           "mode": "lines+markers",
           "name": "user_14",
           "type": "scatter",
           "x": [
            "2020-04-18",
            "2020-04-19",
            "2020-04-26",
            "2020-04-30",
            "2020-05-02",
            "2020-05-03",
            "2020-05-04",
            "2020-05-05",
            "2020-05-09",
            "2020-05-10",
            "2020-05-11",
            "2020-05-12",
            "2020-05-14"
           ],
           "y": {
            "bdata": "KgAwADIAMwA2ADoAPAA9AF8AbQCdAPMAAwE=",
            "dtype": "i2"
           }
          },
          {
           "line": {
            "width": 2
           },
           "marker": {
            "size": 6
           },
           "mode": "lines+markers",
           "name": "user_17",
           "type": "scatter",
           "x": [
            "2020-04-18",
            "2020-04-23",
            "2020-04-25",
            "2020-05-02",
            "2020-05-04",
            "2020-05-11",
            "2020-05-12",
            "2020-05-13",
            "2020-05-14"
           ],
           "y": {
            "bdata": "AQQTIykrLzA0",
            "dtype": "i1"
           }
          },
          {
           "line": {
            "width": 2
           },
           "marker": {
            "size": 6
           },
           "mode": "lines+markers",
           "name": "user_2",
           "type": "scatter",
           "x": [
            "2020-04-18",
            "2020-04-19",
            "2020-05-02",
            "2020-05-03",
            "2020-05-05",
            "2020-05-06",
            "2020-05-10",
            "2020-05-11",
            "2020-05-12",
            "2020-05-13",
            "2020-05-14",
            "2020-05-19"
           ],
           "y": {
            "bdata": "EAASACEAJACVAJcAnwC3AL8A3QDhAOsA",
            "dtype": "i2"
           }
          },
          {
           "line": {
            "width": 2
           },
           "marker": {
            "size": 6
           },
           "mode": "lines+markers",
           "name": "user_30",
           "type": "scatter",
           "x": [
            "2020-04-18",
            "2020-04-22",
            "2020-04-23",
            "2020-05-01",
            "2020-05-02",
            "2020-05-03",
            "2020-05-04",
            "2020-05-07",
            "2020-05-10",
            "2020-05-14",
            "2020-05-19"
           ],
           "y": {
            "bdata": "AgMFCBwlJzVBRUg=",
            "dtype": "i1"
           }
          },
          {
           "line": {
            "width": 2
           },
           "marker": {
            "size": 6
           },
           "mode": "lines+markers",
           "name": "user_8",
           "type": "scatter",
           "x": [
            "2020-04-18",
            "2020-04-19",
            "2020-04-25",
            "2020-04-26",
            "2020-05-02",
            "2020-05-03",
            "2020-05-10",
            "2020-05-14",
            "2020-05-16"
           ],
           "y": {
            "bdata": "AQ4QFj1ARFNX",
            "dtype": "i1"
           }
          },
          {
           "line": {
            "width": 2
           },
           "marker": {
            "size": 6
           },
           "mode": "lines+markers",
           "name": "user_29",
           "type": "scatter",
           "x": [
            "2020-04-19",
            "2020-04-26",
            "2020-04-30",
            "2020-05-01",
            "2020-05-02",
            "2020-05-10",
            "2020-05-11",
            "2020-05-12",
            "2020-05-13",
            "2020-05-14",
            "2020-05-17"
           ],
           "y": {
            "bdata": "BA4lJigqM01tb3k=",
            "dtype": "i1"
           }
          },
          {
           "line": {
            "width": 2
           },
           "marker": {
            "size": 6
           },
           "mode": "lines+markers",
           "name": "user_0",
           "type": "scatter",
           "x": [
            "2020-04-20"
           ],
           "y": {
            "bdata": "Aw==",
            "dtype": "i1"
           }
          },
          {
           "line": {
            "width": 2
           },
           "marker": {
            "size": 6
           },
           "mode": "lines+markers",
           "name": "user_16",
           "type": "scatter",
           "x": [
            "2020-04-20",
            "2020-04-26",
            "2020-05-12",
            "2020-05-14",
            "2020-05-17"
           ],
           "y": {
            "bdata": "ChQZJzw=",
            "dtype": "i1"
           }
          },
          {
           "line": {
            "width": 2
           },
           "marker": {
            "size": 6
           },
           "mode": "lines+markers",
           "name": "user_19",
           "type": "scatter",
           "x": [
            "2020-04-20",
            "2020-04-21",
            "2020-04-23",
            "2020-04-24",
            "2020-04-25",
            "2020-04-26",
            "2020-05-02",
            "2020-05-03",
            "2020-05-14",
            "2020-05-15",
            "2020-05-19"
           ],
           "y": {
            "bdata": "BwAPABsAHQAtAFkAXgBlAJYAngCfAA==",
            "dtype": "i2"
           }
          },
          {
           "line": {
            "width": 2
           },
           "marker": {
            "size": 6
           },
           "mode": "lines+markers",
           "name": "user_22",
           "type": "scatter",
           "x": [
            "2020-04-20",
            "2020-04-28",
            "2020-05-03",
            "2020-05-14",
            "2020-05-19"
           ],
           "y": {
            "bdata": "AgMEBgg=",
            "dtype": "i1"
           }
          },
          {
           "line": {
            "width": 2
           },
           "marker": {
            "size": 6
           },
           "mode": "lines+markers",
           "name": "user_25",
           "type": "scatter",
           "x": [
            "2020-04-20",
            "2020-04-21",
            "2020-04-25",
            "2020-04-26",
            "2020-04-27",
            "2020-05-01",
            "2020-05-03",
            "2020-05-08",
            "2020-05-09",
            "2020-05-10",
            "2020-05-11",
            "2020-05-12",
            "2020-05-13",
            "2020-05-14",
            "2020-05-18"
           ],
           "y": {
            "bdata": "AwAFABsAPgBAAEEARABNAHkAfwCHALEAtwDfAOAA",
            "dtype": "i2"
           }
          },
          {
           "line": {
            "width": 2
           },
           "marker": {
            "size": 6
           },
           "mode": "lines+markers",
           "name": "user_21",
           "type": "scatter",
           "x": [
            "2020-04-21",
            "2020-04-22",
            "2020-04-26",
            "2020-05-02",
            "2020-05-03",
            "2020-05-10",
            "2020-05-14",
            "2020-05-19"
           ],
           "y": {
            "bdata": "DyQsP0FOUlM=",
            "dtype": "i1"
           }
          },
          {
           "line": {
            "width": 2
           },
           "marker": {
            "size": 6
           },
           "mode": "lines+markers",
           "name": "user_10",
           "type": "scatter",
           "x": [
            "2020-04-22",
            "2020-04-25",
            "2020-04-30",
            "2020-05-01",
            "2020-05-10",
            "2020-05-12",
            "2020-05-13",
            "2020-05-14",
            "2020-05-19"
           ],
           "y": {
            "bdata": "AgAGAAgACQALABgANAB/AIIA",
            "dtype": "i2"
           }
          },
          {
           "line": {
            "width": 2
           },
           "marker": {
            "size": 6
           },
           "mode": "lines+markers",
           "name": "user_24",
           "type": "scatter",
           "x": [
            "2020-04-22",
            "2020-04-23",
            "2020-04-25",
            "2020-05-02",
            "2020-05-03",
            "2020-05-05",
            "2020-05-13",
            "2020-05-14"
           ],
           "y": {
            "bdata": "AQUGFhclNmg=",
            "dtype": "i1"
           }
          },
          {
           "line": {
            "width": 2
           },
           "marker": {
            "size": 6
           },
           "mode": "lines+markers",
           "name": "user_28",
           "type": "scatter",
           "x": [
            "2020-04-22",
            "2020-04-25",
            "2020-04-26",
            "2020-04-28",
            "2020-05-01",
            "2020-05-03",
            "2020-05-10",
            "2020-05-12",
            "2020-05-13",
            "2020-05-14",
            "2020-05-15",
            "2020-05-17"
           ],
           "y": {
            "bdata": "Aw8oLDEzNThcaGpt",
            "dtype": "i1"
           }
          },
          {
           "line": {
            "width": 2
           },
           "marker": {
            "size": 6
           },
           "mode": "lines+markers",
           "name": "user_3",
           "type": "scatter",
           "x": [
            "2020-04-23",
            "2020-04-26",
            "2020-05-01",
            "2020-05-02",
            "2020-05-03",
            "2020-05-07",
            "2020-05-08",
            "2020-05-09",
            "2020-05-10",
            "2020-05-11",
            "2020-05-12",
            "2020-05-14",
            "2020-05-17",
            "2020-05-19"
           ],
           "y": {
            "bdata": "AgAEAAkACgALAAwAQgBEAEgAdgB6AH4AfwCGAA==",
            "dtype": "i2"
           }
          },
          {
           "line": {
            "width": 2
           },
           "marker": {
            "size": 6
           },
           "mode": "lines+markers",
           "name": "user_31",
           "type": "scatter",
           "x": [
            "2020-04-23",
            "2020-05-01",
            "2020-05-02",
            "2020-05-03",
            "2020-05-04",
            "2020-05-07",
            "2020-05-09",
            "2020-05-11",
            "2020-05-14",
            "2020-05-17"
           ],
           "y": {
            "bdata": "AgAlAHkAfwCAAIEAhwCLAI8AkAA=",
            "dtype": "i2"
           }
          },
          {
           "line": {
            "width": 2
           },
           "marker": {
            "size": 6
           },
           "mode": "lines+markers",
           "name": "user_13",
           "type": "scatter",
           "x": [
            "2020-04-25",
            "2020-04-26",
            "2020-05-02",
            "2020-05-11",
            "2020-05-12",
            "2020-05-14",
            "2020-05-19"
           ],
           "y": {
            "bdata": "CyIzNm5ycw==",
            "dtype": "i1"
           }
          },
          {
           "line": {
            "width": 2
           },
           "marker": {
            "size": 6
           },
           "mode": "lines+markers",
           "name": "user_15",
           "type": "scatter",
           "x": [
            "2020-04-25",
            "2020-04-26",
            "2020-05-02",
            "2020-05-03",
            "2020-05-10",
            "2020-05-14"
           ],
           "y": {
            "bdata": "Ag0PFhgd",
            "dtype": "i1"
           }
          },
          {
           "line": {
            "width": 2
           },
           "marker": {
            "size": 6
           },
           "mode": "lines+markers",
           "name": "user_20",
           "type": "scatter",
           "x": [
            "2020-04-25",
            "2020-04-26",
            "2020-04-27",
            "2020-04-29",
            "2020-04-30",
            "2020-05-01",
            "2020-05-03",
            "2020-05-10",
            "2020-05-11",
            "2020-05-14"
           ],
           "y": {
            "bdata": "AwAWABgAIAAqADEANwA6AE8ApQA=",
            "dtype": "i2"
           }
          },
          {
           "line": {
            "width": 2
           },
           "marker": {
            "size": 6
           },
           "mode": "lines+markers",
           "name": "user_26",
           "type": "scatter",
           "x": [
            "2020-04-25",
            "2020-04-30",
            "2020-05-01",
            "2020-05-02",
            "2020-05-05",
            "2020-05-10",
            "2020-05-13",
            "2020-05-14"
           ],
           "y": {
            "bdata": "DwAgACIAIwAkAGkAiwCtAA==",
            "dtype": "i2"
           }
          },
          {
           "line": {
            "width": 2
           },
           "marker": {
            "size": 6
           },
           "mode": "lines+markers",
           "name": "user_6",
           "type": "scatter",
           "x": [
            "2020-04-25",
            "2020-04-26",
            "2020-05-02",
            "2020-05-13",
            "2020-05-14",
            "2020-05-18"
           ],
           "y": {
            "bdata": "AQoLDA4P",
            "dtype": "i1"
           }
          },
          {
           "line": {
            "width": 2
           },
           "marker": {
            "size": 6
           },
           "mode": "lines+markers",
           "name": "user_1",
           "type": "scatter",
           "x": [
            "2020-04-26",
            "2020-05-02",
            "2020-05-03",
            "2020-05-14",
            "2020-05-17"
           ],
           "y": {
            "bdata": "FhcrQkM=",
            "dtype": "i1"
           }
          },
          {
           "line": {
            "width": 2
           },
           "marker": {
            "size": 6
           },
           "mode": "lines+markers",
           "name": "user_18",
           "type": "scatter",
           "x": [
            "2020-04-26",
            "2020-05-03",
            "2020-05-11",
            "2020-05-13",
            "2020-05-14"
           ],
           "y": {
            "bdata": "BAUSFEI=",
            "dtype": "i1"
           }
          },
          {
           "line": {
            "width": 2
           },
           "marker": {
            "size": 6
           },
           "mode": "lines+markers",
           "name": "user_27",
           "type": "scatter",
           "x": [
            "2020-04-26",
            "2020-05-03",
            "2020-05-14"
           ],
           "y": {
            "bdata": "Ehsq",
            "dtype": "i1"
           }
          },
          {
           "line": {
            "width": 2
           },
           "marker": {
            "size": 6
           },
           "mode": "lines+markers",
           "name": "user_11",
           "type": "scatter",
           "x": [
            "2020-05-03"
           ],
           "y": {
            "bdata": "CA==",
            "dtype": "i1"
           }
          },
          {
           "line": {
            "width": 2
           },
           "marker": {
            "size": 6
           },
           "mode": "lines+markers",
           "name": "user_7",
           "type": "scatter",
           "x": [
            "2020-05-19"
           ],
           "y": {
            "bdata": "BQ==",
            "dtype": "i1"
           }
          },
          {
           "line": {
            "width": 2
           },
           "marker": {
            "size": 6
           },
           "mode": "lines+markers",
           "name": "user_23",
           "type": "scatter",
           "x": [],
           "y": []
          }
         ],
         "name": "2020-05-19"
        },
        {
         "data": [
          {
           "line": {
            "width": 2
           },
           "marker": {
            "size": 6
           },
           "mode": "lines+markers",
           "name": "user_4",
           "type": "scatter",
           "x": [
            "2020-04-17",
            "2020-04-19",
            "2020-04-23",
            "2020-04-24",
            "2020-04-26",
            "2020-04-29",
            "2020-05-03",
            "2020-05-04",
            "2020-05-05",
            "2020-05-07",
            "2020-05-08",
            "2020-05-10",
            "2020-05-11",
            "2020-05-12",
            "2020-05-13",
            "2020-05-14",
            "2020-05-17",
            "2020-05-18"
           ],
           "y": {
            "bdata": "FwAfADEAPwBBAEoAYAB6AIQAqADAAMIAygAWAS4BZAFvAXAB",
            "dtype": "i2"
           }
          },
          {
           "line": {
            "width": 2
           },
           "marker": {
            "size": 6
           },
           "mode": "lines+markers",
           "name": "user_12",
           "type": "scatter",
           "x": [
            "2020-04-18",
            "2020-04-26",
            "2020-04-27",
            "2020-05-03",
            "2020-05-14",
            "2020-05-19"
           ],
           "y": {
            "bdata": "BxIUVVxd",
            "dtype": "i1"
           }
          },
          {
           "line": {
            "width": 2
           },
           "marker": {
            "size": 6
           },
           "mode": "lines+markers",
           "name": "user_14",
           "type": "scatter",
           "x": [
            "2020-04-18",
            "2020-04-19",
            "2020-04-26",
            "2020-04-30",
            "2020-05-02",
            "2020-05-03",
            "2020-05-04",
            "2020-05-05",
            "2020-05-09",
            "2020-05-10",
            "2020-05-11",
            "2020-05-12",
            "2020-05-14"
           ],
           "y": {
            "bdata": "KgAwADIAMwA2ADoAPAA9AF8AbQCdAPMAAwE=",
            "dtype": "i2"
           }
          },
          {
           "line": {
            "width": 2
           },
           "marker": {
            "size": 6
           },
           "mode": "lines+markers",
           "name": "user_17",
           "type": "scatter",
           "x": [
            "2020-04-18",
            "2020-04-23",
            "2020-04-25",
            "2020-05-02",
            "2020-05-04",
            "2020-05-11",
            "2020-05-12",
            "2020-05-13",
            "2020-05-14"
           ],
           "y": {
            "bdata": "AQQTIykrLzA0",
            "dtype": "i1"
           }
          },
          {
           "line": {
            "width": 2
           },
           "marker": {
            "size": 6
           },
           "mode": "lines+markers",
           "name": "user_2",
           "type": "scatter",
           "x": [
            "2020-04-18",
            "2020-04-19",
            "2020-05-02",
            "2020-05-03",
            "2020-05-05",
            "2020-05-06",
            "2020-05-10",
            "2020-05-11",
            "2020-05-12",
            "2020-05-13",
            "2020-05-14",
            "2020-05-19"
           ],
           "y": {
            "bdata": "EAASACEAJACVAJcAnwC3AL8A3QDhAOsA",
            "dtype": "i2"
           }
          },
          {
           "line": {
            "width": 2
           },
           "marker": {
            "size": 6
           },
           "mode": "lines+markers",
           "name": "user_30",
           "type": "scatter",
           "x": [
            "2020-04-18",
            "2020-04-22",
            "2020-04-23",
            "2020-05-01",
            "2020-05-02",
            "2020-05-03",
            "2020-05-04",
            "2020-05-07",
            "2020-05-10",
            "2020-05-14",
            "2020-05-19"
           ],
           "y": {
            "bdata": "AgMFCBwlJzVBRUg=",
            "dtype": "i1"
           }
          },
          {
           "line": {
            "width": 2
           },
           "marker": {
            "size": 6
           },
           "mode": "lines+markers",
           "name": "user_8",
           "type": "scatter",
           "x": [
            "2020-04-18",
            "2020-04-19",
            "2020-04-25",
            "2020-04-26",
            "2020-05-02",
            "2020-05-03",
            "2020-05-10",
            "2020-05-14",
            "2020-05-16"
           ],
           "y": {
            "bdata": "AQ4QFj1ARFNX",
            "dtype": "i1"
           }
          },
          {
           "line": {
            "width": 2
           },
           "marker": {
            "size": 6
           },
           "mode": "lines+markers",
           "name": "user_29",
           "type": "scatter",
           "x": [
            "2020-04-19",
            "2020-04-26",
            "2020-04-30",
            "2020-05-01",
            "2020-05-02",
            "2020-05-10",
            "2020-05-11",
            "2020-05-12",
            "2020-05-13",
            "2020-05-14",
            "2020-05-17"
           ],
           "y": {
            "bdata": "BA4lJigqM01tb3k=",
            "dtype": "i1"
           }
          },
          {
           "line": {
            "width": 2
           },
           "marker": {
            "size": 6
           },
           "mode": "lines+markers",
           "name": "user_0",
           "type": "scatter",
           "x": [
            "2020-04-20"
           ],
           "y": {
            "bdata": "Aw==",
            "dtype": "i1"
           }
          },
          {
           "line": {
            "width": 2
           },
           "marker": {
            "size": 6
           },
           "mode": "lines+markers",
           "name": "user_16",
           "type": "scatter",
           "x": [
            "2020-04-20",
            "2020-04-26",
            "2020-05-12",
            "2020-05-14",
            "2020-05-17"
           ],
           "y": {
            "bdata": "ChQZJzw=",
            "dtype": "i1"
           }
          },
          {
           "line": {
            "width": 2
           },
           "marker": {
            "size": 6
           },
           "mode": "lines+markers",
           "name": "user_19",
           "type": "scatter",
           "x": [
            "2020-04-20",
            "2020-04-21",
            "2020-04-23",
            "2020-04-24",
            "2020-04-25",
            "2020-04-26",
            "2020-05-02",
            "2020-05-03",
            "2020-05-14",
            "2020-05-15",
            "2020-05-19"
           ],
           "y": {
            "bdata": "BwAPABsAHQAtAFkAXgBlAJYAngCfAA==",
            "dtype": "i2"
           }
          },
          {
           "line": {
            "width": 2
           },
           "marker": {
            "size": 6
           },
           "mode": "lines+markers",
           "name": "user_22",
           "type": "scatter",
           "x": [
            "2020-04-20",
            "2020-04-28",
            "2020-05-03",
            "2020-05-14",
            "2020-05-19"
           ],
           "y": {
            "bdata": "AgMEBgg=",
            "dtype": "i1"
           }
          },
          {
           "line": {
            "width": 2
           },
           "marker": {
            "size": 6
           },
           "mode": "lines+markers",
           "name": "user_25",
           "type": "scatter",
           "x": [
            "2020-04-20",
            "2020-04-21",
            "2020-04-25",
            "2020-04-26",
            "2020-04-27",
            "2020-05-01",
            "2020-05-03",
            "2020-05-08",
            "2020-05-09",
            "2020-05-10",
            "2020-05-11",
            "2020-05-12",
            "2020-05-13",
            "2020-05-14",
            "2020-05-18",
            "2020-05-20"
           ],
           "y": {
            "bdata": "AwAFABsAPgBAAEEARABNAHkAfwCHALEAtwDfAOAA6QA=",
            "dtype": "i2"
           }
          },
          {
           "line": {
            "width": 2
           },
           "marker": {
            "size": 6
           },
           "mode": "lines+markers",
           "name": "user_21",
           "type": "scatter",
           "x": [
            "2020-04-21",
            "2020-04-22",
            "2020-04-26",
            "2020-05-02",
            "2020-05-03",
            "2020-05-10",
            "2020-05-14",
            "2020-05-19"
           ],
           "y": {
            "bdata": "DyQsP0FOUlM=",
            "dtype": "i1"
           }
          },
          {
           "line": {
            "width": 2
           },
           "marker": {
            "size": 6
           },
           "mode": "lines+markers",
           "name": "user_10",
           "type": "scatter",
           "x": [
            "2020-04-22",
            "2020-04-25",
            "2020-04-30",
            "2020-05-01",
            "2020-05-10",
            "2020-05-12",
            "2020-05-13",
            "2020-05-14",
            "2020-05-19",
            "2020-05-20"
           ],
           "y": {
            "bdata": "AgAGAAgACQALABgANAB/AIIAiQA=",
            "dtype": "i2"
           }
          },
          {
           "line": {
            "width": 2
           },
           "marker": {
            "size": 6
           },
           "mode": "lines+markers",
           "name": "user_24",
           "type": "scatter",
           "x": [
            "2020-04-22",
            "2020-04-23",
            "2020-04-25",
            "2020-05-02",
            "2020-05-03",
            "2020-05-05",
            "2020-05-13",
            "2020-05-14"
           ],
           "y": {
            "bdata": "AQUGFhclNmg=",
            "dtype": "i1"
           }
          },
          {
           "line": {
            "width": 2
           },
           "marker": {
            "size": 6
           },
           "mode": "lines+markers",
           "name": "user_28",
           "type": "scatter",
           "x": [
            "2020-04-22",
            "2020-04-25",
            "2020-04-26",
            "2020-04-28",
            "2020-05-01",
            "2020-05-03",
            "2020-05-10",
            "2020-05-12",
            "2020-05-13",
            "2020-05-14",
            "2020-05-15",
            "2020-05-17",
            "2020-05-20"
           ],
           "y": {
            "bdata": "Aw8oLDEzNThcaGptcg==",
            "dtype": "i1"
           }
          },
          {
           "line": {
            "width": 2
           },
           "marker": {
            "size": 6
           },
           "mode": "lines+markers",
           "name": "user_3",
           "type": "scatter",
           "x": [
            "2020-04-23",
            "2020-04-26",
            "2020-05-01",
            "2020-05-02",
            "2020-05-03",
            "2020-05-07",
            "2020-05-08",
            "2020-05-09",
            "2020-05-10",
            "2020-05-11",
            "2020-05-12",
            "2020-05-14",
            "2020-05-17",
            "2020-05-19"
           ],
           "y": {
            "bdata": "AgAEAAkACgALAAwAQgBEAEgAdgB6AH4AfwCGAA==",
            "dtype": "i2"
           }
          },
          {
           "line": {
            "width": 2
           },
           "marker": {
            "size": 6
           },
           "mode": "lines+markers",
           "name": "user_31",
           "type": "scatter",
           "x": [
            "2020-04-23",
            "2020-05-01",
            "2020-05-02",
            "2020-05-03",
            "2020-05-04",
            "2020-05-07",
            "2020-05-09",
            "2020-05-11",
            "2020-05-14",
            "2020-05-17"
           ],
           "y": {
            "bdata": "AgAlAHkAfwCAAIEAhwCLAI8AkAA=",
            "dtype": "i2"
           }
          },
          {
           "line": {
            "width": 2
           },
           "marker": {
            "size": 6
           },
           "mode": "lines+markers",
           "name": "user_13",
           "type": "scatter",
           "x": [
            "2020-04-25",
            "2020-04-26",
            "2020-05-02",
            "2020-05-11",
            "2020-05-12",
            "2020-05-14",
            "2020-05-19"
           ],
           "y": {
            "bdata": "CyIzNm5ycw==",
            "dtype": "i1"
           }
          },
          {
           "line": {
            "width": 2
           },
           "marker": {
            "size": 6
           },
           "mode": "lines+markers",
           "name": "user_15",
           "type": "scatter",
           "x": [
            "2020-04-25",
            "2020-04-26",
            "2020-05-02",
            "2020-05-03",
            "2020-05-10",
            "2020-05-14"
           ],
           "y": {
            "bdata": "Ag0PFhgd",
            "dtype": "i1"
           }
          },
          {
           "line": {
            "width": 2
           },
           "marker": {
            "size": 6
           },
           "mode": "lines+markers",
           "name": "user_20",
           "type": "scatter",
           "x": [
            "2020-04-25",
            "2020-04-26",
            "2020-04-27",
            "2020-04-29",
            "2020-04-30",
            "2020-05-01",
            "2020-05-03",
            "2020-05-10",
            "2020-05-11",
            "2020-05-14"
           ],
           "y": {
            "bdata": "AwAWABgAIAAqADEANwA6AE8ApQA=",
            "dtype": "i2"
           }
          },
          {
           "line": {
            "width": 2
           },
           "marker": {
            "size": 6
           },
           "mode": "lines+markers",
           "name": "user_26",
           "type": "scatter",
           "x": [
            "2020-04-25",
            "2020-04-30",
            "2020-05-01",
            "2020-05-02",
            "2020-05-05",
            "2020-05-10",
            "2020-05-13",
            "2020-05-14"
           ],
           "y": {
            "bdata": "DwAgACIAIwAkAGkAiwCtAA==",
            "dtype": "i2"
           }
          },
          {
           "line": {
            "width": 2
           },
           "marker": {
            "size": 6
           },
           "mode": "lines+markers",
           "name": "user_6",
           "type": "scatter",
           "x": [
            "2020-04-25",
            "2020-04-26",
            "2020-05-02",
            "2020-05-13",
            "2020-05-14",
            "2020-05-18",
            "2020-05-20"
           ],
           "y": {
            "bdata": "AQoLDA4PEg==",
            "dtype": "i1"
           }
          },
          {
           "line": {
            "width": 2
           },
           "marker": {
            "size": 6
           },
           "mode": "lines+markers",
           "name": "user_1",
           "type": "scatter",
           "x": [
            "2020-04-26",
            "2020-05-02",
            "2020-05-03",
            "2020-05-14",
            "2020-05-17",
            "2020-05-20"
           ],
           "y": {
            "bdata": "FhcrQkNE",
            "dtype": "i1"
           }
          },
          {
           "line": {
            "width": 2
           },
           "marker": {
            "size": 6
           },
           "mode": "lines+markers",
           "name": "user_18",
           "type": "scatter",
           "x": [
            "2020-04-26",
            "2020-05-03",
            "2020-05-11",
            "2020-05-13",
            "2020-05-14"
           ],
           "y": {
            "bdata": "BAUSFEI=",
            "dtype": "i1"
           }
          },
          {
           "line": {
            "width": 2
           },
           "marker": {
            "size": 6
           },
           "mode": "lines+markers",
           "name": "user_27",
           "type": "scatter",
           "x": [
            "2020-04-26",
            "2020-05-03",
            "2020-05-14"
           ],
           "y": {
            "bdata": "Ehsq",
            "dtype": "i1"
           }
          },
          {
           "line": {
            "width": 2
           },
           "marker": {
            "size": 6
           },
           "mode": "lines+markers",
           "name": "user_11",
           "type": "scatter",
           "x": [
            "2020-05-03"
           ],
           "y": {
            "bdata": "CA==",
            "dtype": "i1"
           }
          },
          {
           "line": {
            "width": 2
           },
           "marker": {
            "size": 6
           },
           "mode": "lines+markers",
           "name": "user_7",
           "type": "scatter",
           "x": [
            "2020-05-19",
            "2020-05-20"
           ],
           "y": {
            "bdata": "BQg=",
            "dtype": "i1"
           }
          },
          {
           "line": {
            "width": 2
           },
           "marker": {
            "size": 6
           },
           "mode": "lines+markers",
           "name": "user_23",
           "type": "scatter",
           "x": [],
           "y": []
          }
         ],
         "name": "2020-05-20"
        },
        {
         "data": [
          {
           "line": {
            "width": 2
           },
           "marker": {
            "size": 6
           },
           "mode": "lines+markers",
           "name": "user_4",
           "type": "scatter",
           "x": [
            "2020-04-17",
            "2020-04-19",
            "2020-04-23",
            "2020-04-24",
            "2020-04-26",
            "2020-04-29",
            "2020-05-03",
            "2020-05-04",
            "2020-05-05",
            "2020-05-07",
            "2020-05-08",
            "2020-05-10",
            "2020-05-11",
            "2020-05-12",
            "2020-05-13",
            "2020-05-14",
            "2020-05-17",
            "2020-05-18"
           ],
           "y": {
            "bdata": "FwAfADEAPwBBAEoAYAB6AIQAqADAAMIAygAWAS4BZAFvAXAB",
            "dtype": "i2"
           }
          },
          {
           "line": {
            "width": 2
           },
           "marker": {
            "size": 6
           },
           "mode": "lines+markers",
           "name": "user_12",
           "type": "scatter",
           "x": [
            "2020-04-18",
            "2020-04-26",
            "2020-04-27",
            "2020-05-03",
            "2020-05-14",
            "2020-05-19"
           ],
           "y": {
            "bdata": "BxIUVVxd",
            "dtype": "i1"
           }
          },
          {
           "line": {
            "width": 2
           },
           "marker": {
            "size": 6
           },
           "mode": "lines+markers",
           "name": "user_14",
           "type": "scatter",
           "x": [
            "2020-04-18",
            "2020-04-19",
            "2020-04-26",
            "2020-04-30",
            "2020-05-02",
            "2020-05-03",
            "2020-05-04",
            "2020-05-05",
            "2020-05-09",
            "2020-05-10",
            "2020-05-11",
            "2020-05-12",
            "2020-05-14"
           ],
           "y": {
            "bdata": "KgAwADIAMwA2ADoAPAA9AF8AbQCdAPMAAwE=",
            "dtype": "i2"
           }
          },
          {
           "line": {
            "width": 2
           },
           "marker": {
            "size": 6
           },
           "mode": "lines+markers",
           "name": "user_17",
           "type": "scatter",
           "x": [
            "2020-04-18",
            "2020-04-23",
            "2020-04-25",
            "2020-05-02",
            "2020-05-04",
            "2020-05-11",
            "2020-05-12",
            "2020-05-13",
            "2020-05-14",
            "2020-05-21"
           ],
           "y": {
            "bdata": "AQQTIykrLzA0Pg==",
            "dtype": "i1"
           }
          },
          {
           "line": {
            "width": 2
           },
           "marker": {
            "size": 6
           },
           "mode": "lines+markers",
           "name": "user_2",
           "type": "scatter",
           "x": [
            "2020-04-18",
            "2020-04-19",
            "2020-05-02",
            "2020-05-03",
            "2020-05-05",
            "2020-05-06",
            "2020-05-10",
            "2020-05-11",
            "2020-05-12",
            "2020-05-13",
            "2020-05-14",
            "2020-05-19"
           ],
           "y": {
            "bdata": "EAASACEAJACVAJcAnwC3AL8A3QDhAOsA",
            "dtype": "i2"
           }
          },
          {
           "line": {
            "width": 2
           },
           "marker": {
            "size": 6
           },
           "mode": "lines+markers",
           "name": "user_30",
           "type": "scatter",
           "x": [
            "2020-04-18",
            "2020-04-22",
            "2020-04-23",
            "2020-05-01",
            "2020-05-02",
            "2020-05-03",
            "2020-05-04",
            "2020-05-07",
            "2020-05-10",
            "2020-05-14",
            "2020-05-19"
           ],
           "y": {
            "bdata": "AgMFCBwlJzVBRUg=",
            "dtype": "i1"
           }
          },
          {
           "line": {
            "width": 2
           },
           "marker": {
            "size": 6
           },
           "mode": "lines+markers",
           "name": "user_8",
           "type": "scatter",
           "x": [
            "2020-04-18",
            "2020-04-19",
            "2020-04-25",
            "2020-04-26",
            "2020-05-02",
            "2020-05-03",
            "2020-05-10",
            "2020-05-14",
            "2020-05-16"
           ],
           "y": {
            "bdata": "AQ4QFj1ARFNX",
            "dtype": "i1"
           }
          },
          {
           "line": {
            "width": 2
           },
           "marker": {
            "size": 6
           },
           "mode": "lines+markers",
           "name": "user_29",
           "type": "scatter",
           "x": [
            "2020-04-19",
            "2020-04-26",
            "2020-04-30",
            "2020-05-01",
            "2020-05-02",
            "2020-05-10",
            "2020-05-11",
            "2020-05-12",
            "2020-05-13",
            "2020-05-14",
            "2020-05-17"
           ],
           "y": {
            "bdata": "BA4lJigqM01tb3k=",
            "dtype": "i1"
           }
          },
          {
           "line": {
            "width": 2
           },
           "marker": {
            "size": 6
           },
           "mode": "lines+markers",
           "name": "user_0",
           "type": "scatter",
           "x": [
            "2020-04-20"
           ],
           "y": {
            "bdata": "Aw==",
            "dtype": "i1"
           }
          },
          {
           "line": {
            "width": 2
           },
           "marker": {
            "size": 6
           },
           "mode": "lines+markers",
           "name": "user_16",
           "type": "scatter",
           "x": [
            "2020-04-20",
            "2020-04-26",
            "2020-05-12",
            "2020-05-14",
            "2020-05-17"
           ],
           "y": {
            "bdata": "ChQZJzw=",
            "dtype": "i1"
           }
          },
          {
           "line": {
            "width": 2
           },
           "marker": {
            "size": 6
           },
           "mode": "lines+markers",
           "name": "user_19",
           "type": "scatter",
           "x": [
            "2020-04-20",
            "2020-04-21",
            "2020-04-23",
            "2020-04-24",
            "2020-04-25",
            "2020-04-26",
            "2020-05-02",
            "2020-05-03",
            "2020-05-14",
            "2020-05-15",
            "2020-05-19",
            "2020-05-21"
           ],
           "y": {
            "bdata": "BwAPABsAHQAtAFkAXgBlAJYAngCfALAA",
            "dtype": "i2"
           }
          },
          {
           "line": {
            "width": 2
           },
           "marker": {
            "size": 6
           },
           "mode": "lines+markers",
           "name": "user_22",
           "type": "scatter",
           "x": [
            "2020-04-20",
            "2020-04-28",
            "2020-05-03",
            "2020-05-14",
            "2020-05-19"
           ],
           "y": {
            "bdata": "AgMEBgg=",
            "dtype": "i1"
           }
          },
          {
           "line": {
            "width": 2
           },
           "marker": {
            "size": 6
           },
           "mode": "lines+markers",
           "name": "user_25",
           "type": "scatter",
           "x": [
            "2020-04-20",
            "2020-04-21",
            "2020-04-25",
            "2020-04-26",
            "2020-04-27",
            "2020-05-01",
            "2020-05-03",
            "2020-05-08",
            "2020-05-09",
            "2020-05-10",
            "2020-05-11",
            "2020-05-12",
            "2020-05-13",
            "2020-05-14",
            "2020-05-18",
            "2020-05-20"
           ],
           "y": {
            "bdata": "AwAFABsAPgBAAEEARABNAHkAfwCHALEAtwDfAOAA6QA=",
            "dtype": "i2"
           }
          },
          {
           "line": {
            "width": 2
           },
           "marker": {
            "size": 6
           },
           "mode": "lines+markers",
           "name": "user_21",
           "type": "scatter",
           "x": [
            "2020-04-21",
            "2020-04-22",
            "2020-04-26",
            "2020-05-02",
            "2020-05-03",
            "2020-05-10",
            "2020-05-14",
            "2020-05-19"
           ],
           "y": {
            "bdata": "DyQsP0FOUlM=",
            "dtype": "i1"
           }
          },
          {
           "line": {
            "width": 2
           },
           "marker": {
            "size": 6
           },
           "mode": "lines+markers",
           "name": "user_10",
           "type": "scatter",
           "x": [
            "2020-04-22",
            "2020-04-25",
            "2020-04-30",
            "2020-05-01",
            "2020-05-10",
            "2020-05-12",
            "2020-05-13",
            "2020-05-14",
            "2020-05-19",
            "2020-05-20"
           ],
           "y": {
            "bdata": "AgAGAAgACQALABgANAB/AIIAiQA=",
            "dtype": "i2"
           }
          },
          {
           "line": {
            "width": 2
           },
           "marker": {
            "size": 6
           },
           "mode": "lines+markers",
           "name": "user_24",
           "type": "scatter",
           "x": [
            "2020-04-22",
            "2020-04-23",
            "2020-04-25",
            "2020-05-02",
            "2020-05-03",
            "2020-05-05",
            "2020-05-13",
            "2020-05-14"
           ],
           "y": {
            "bdata": "AQUGFhclNmg=",
            "dtype": "i1"
           }
          },
          {
           "line": {
            "width": 2
           },
           "marker": {
            "size": 6
           },
           "mode": "lines+markers",
           "name": "user_28",
           "type": "scatter",
           "x": [
            "2020-04-22",
            "2020-04-25",
            "2020-04-26",
            "2020-04-28",
            "2020-05-01",
            "2020-05-03",
            "2020-05-10",
            "2020-05-12",
            "2020-05-13",
            "2020-05-14",
            "2020-05-15",
            "2020-05-17",
            "2020-05-20"
           ],
           "y": {
            "bdata": "Aw8oLDEzNThcaGptcg==",
            "dtype": "i1"
           }
          },
          {
           "line": {
            "width": 2
           },
           "marker": {
            "size": 6
           },
           "mode": "lines+markers",
           "name": "user_3",
           "type": "scatter",
           "x": [
            "2020-04-23",
            "2020-04-26",
            "2020-05-01",
            "2020-05-02",
            "2020-05-03",
            "2020-05-07",
            "2020-05-08",
            "2020-05-09",
            "2020-05-10",
            "2020-05-11",
            "2020-05-12",
            "2020-05-14",
            "2020-05-17",
            "2020-05-19"
           ],
           "y": {
            "bdata": "AgAEAAkACgALAAwAQgBEAEgAdgB6AH4AfwCGAA==",
            "dtype": "i2"
           }
          },
          {
           "line": {
            "width": 2
           },
           "marker": {
            "size": 6
           },
           "mode": "lines+markers",
           "name": "user_31",
           "type": "scatter",
           "x": [
            "2020-04-23",
            "2020-05-01",
            "2020-05-02",
            "2020-05-03",
            "2020-05-04",
            "2020-05-07",
            "2020-05-09",
            "2020-05-11",
            "2020-05-14",
            "2020-05-17"
           ],
           "y": {
            "bdata": "AgAlAHkAfwCAAIEAhwCLAI8AkAA=",
            "dtype": "i2"
           }
          },
          {
           "line": {
            "width": 2
           },
           "marker": {
            "size": 6
           },
           "mode": "lines+markers",
           "name": "user_13",
           "type": "scatter",
           "x": [
            "2020-04-25",
            "2020-04-26",
            "2020-05-02",
            "2020-05-11",
            "2020-05-12",
            "2020-05-14",
            "2020-05-19"
           ],
           "y": {
            "bdata": "CyIzNm5ycw==",
            "dtype": "i1"
           }
          },
          {
           "line": {
            "width": 2
           },
           "marker": {
            "size": 6
           },
           "mode": "lines+markers",
           "name": "user_15",
           "type": "scatter",
           "x": [
            "2020-04-25",
            "2020-04-26",
            "2020-05-02",
            "2020-05-03",
            "2020-05-10",
            "2020-05-14"
           ],
           "y": {
            "bdata": "Ag0PFhgd",
            "dtype": "i1"
           }
          },
          {
           "line": {
            "width": 2
           },
           "marker": {
            "size": 6
           },
           "mode": "lines+markers",
           "name": "user_20",
           "type": "scatter",
           "x": [
            "2020-04-25",
            "2020-04-26",
            "2020-04-27",
            "2020-04-29",
            "2020-04-30",
            "2020-05-01",
            "2020-05-03",
            "2020-05-10",
            "2020-05-11",
            "2020-05-14"
           ],
           "y": {
            "bdata": "AwAWABgAIAAqADEANwA6AE8ApQA=",
            "dtype": "i2"
           }
          },
          {
           "line": {
            "width": 2
           },
           "marker": {
            "size": 6
           },
           "mode": "lines+markers",
           "name": "user_26",
           "type": "scatter",
           "x": [
            "2020-04-25",
            "2020-04-30",
            "2020-05-01",
            "2020-05-02",
            "2020-05-05",
            "2020-05-10",
            "2020-05-13",
            "2020-05-14"
           ],
           "y": {
            "bdata": "DwAgACIAIwAkAGkAiwCtAA==",
            "dtype": "i2"
           }
          },
          {
           "line": {
            "width": 2
           },
           "marker": {
            "size": 6
           },
           "mode": "lines+markers",
           "name": "user_6",
           "type": "scatter",
           "x": [
            "2020-04-25",
            "2020-04-26",
            "2020-05-02",
            "2020-05-13",
            "2020-05-14",
            "2020-05-18",
            "2020-05-20"
           ],
           "y": {
            "bdata": "AQoLDA4PEg==",
            "dtype": "i1"
           }
          },
          {
           "line": {
            "width": 2
           },
           "marker": {
            "size": 6
           },
           "mode": "lines+markers",
           "name": "user_1",
           "type": "scatter",
           "x": [
            "2020-04-26",
            "2020-05-02",
            "2020-05-03",
            "2020-05-14",
            "2020-05-17",
            "2020-05-20",
            "2020-05-21"
           ],
           "y": {
            "bdata": "FhcrQkNEVA==",
            "dtype": "i1"
           }
          },
          {
           "line": {
            "width": 2
           },
           "marker": {
            "size": 6
           },
           "mode": "lines+markers",
           "name": "user_18",
           "type": "scatter",
           "x": [
            "2020-04-26",
            "2020-05-03",
            "2020-05-11",
            "2020-05-13",
            "2020-05-14"
           ],
           "y": {
            "bdata": "BAUSFEI=",
            "dtype": "i1"
           }
          },
          {
           "line": {
            "width": 2
           },
           "marker": {
            "size": 6
           },
           "mode": "lines+markers",
           "name": "user_27",
           "type": "scatter",
           "x": [
            "2020-04-26",
            "2020-05-03",
            "2020-05-14"
           ],
           "y": {
            "bdata": "Ehsq",
            "dtype": "i1"
           }
          },
          {
           "line": {
            "width": 2
           },
           "marker": {
            "size": 6
           },
           "mode": "lines+markers",
           "name": "user_11",
           "type": "scatter",
           "x": [
            "2020-05-03"
           ],
           "y": {
            "bdata": "CA==",
            "dtype": "i1"
           }
          },
          {
           "line": {
            "width": 2
           },
           "marker": {
            "size": 6
           },
           "mode": "lines+markers",
           "name": "user_7",
           "type": "scatter",
           "x": [
            "2020-05-19",
            "2020-05-20"
           ],
           "y": {
            "bdata": "BQg=",
            "dtype": "i1"
           }
          },
          {
           "line": {
            "width": 2
           },
           "marker": {
            "size": 6
           },
           "mode": "lines+markers",
           "name": "user_23",
           "type": "scatter",
           "x": [
            "2020-05-21"
           ],
           "y": {
            "bdata": "Bg==",
            "dtype": "i1"
           }
          }
         ],
         "name": "2020-05-21"
        }
       ],
       "layout": {
        "paper_bgcolor": "#2E2E2E",
        "template": {
         "data": {
          "bar": [
           {
            "error_x": {
             "color": "#f2f5fa"
            },
            "error_y": {
             "color": "#f2f5fa"
            },
            "marker": {
             "line": {
              "color": "rgb(17,17,17)",
              "width": 0.5
             },
             "pattern": {
              "fillmode": "overlay",
              "size": 10,
              "solidity": 0.2
             }
            },
            "type": "bar"
           }
          ],
          "barpolar": [
           {
            "marker": {
             "line": {
              "color": "rgb(17,17,17)",
              "width": 0.5
             },
             "pattern": {
              "fillmode": "overlay",
              "size": 10,
              "solidity": 0.2
             }
            },
            "type": "barpolar"
           }
          ],
          "carpet": [
           {
            "aaxis": {
             "endlinecolor": "#A2B1C6",
             "gridcolor": "#506784",
             "linecolor": "#506784",
             "minorgridcolor": "#506784",
             "startlinecolor": "#A2B1C6"
            },
            "baxis": {
             "endlinecolor": "#A2B1C6",
             "gridcolor": "#506784",
             "linecolor": "#506784",
             "minorgridcolor": "#506784",
             "startlinecolor": "#A2B1C6"
            },
            "type": "carpet"
           }
          ],
          "choropleth": [
           {
            "colorbar": {
             "outlinewidth": 0,
             "ticks": ""
            },
            "type": "choropleth"
           }
          ],
          "contour": [
           {
            "colorbar": {
             "outlinewidth": 0,
             "ticks": ""
            },
            "colorscale": [
             [
              0,
              "#0d0887"
             ],
             [
              0.1111111111111111,
              "#46039f"
             ],
             [
              0.2222222222222222,
              "#7201a8"
             ],
             [
              0.3333333333333333,
              "#9c179e"
             ],
             [
              0.4444444444444444,
              "#bd3786"
             ],
             [
              0.5555555555555556,
              "#d8576b"
             ],
             [
              0.6666666666666666,
              "#ed7953"
             ],
             [
              0.7777777777777778,
              "#fb9f3a"
             ],
             [
              0.8888888888888888,
              "#fdca26"
             ],
             [
              1,
              "#f0f921"
             ]
            ],
            "type": "contour"
           }
          ],
          "contourcarpet": [
           {
            "colorbar": {
             "outlinewidth": 0,
             "ticks": ""
            },
            "type": "contourcarpet"
           }
          ],
          "heatmap": [
           {
            "colorbar": {
             "outlinewidth": 0,
             "ticks": ""
            },
            "colorscale": [
             [
              0,
              "#0d0887"
             ],
             [
              0.1111111111111111,
              "#46039f"
             ],
             [
              0.2222222222222222,
              "#7201a8"
             ],
             [
              0.3333333333333333,
              "#9c179e"
             ],
             [
              0.4444444444444444,
              "#bd3786"
             ],
             [
              0.5555555555555556,
              "#d8576b"
             ],
             [
              0.6666666666666666,
              "#ed7953"
             ],
             [
              0.7777777777777778,
              "#fb9f3a"
             ],
             [
              0.8888888888888888,
              "#fdca26"
             ],
             [
              1,
              "#f0f921"
             ]
            ],
            "type": "heatmap"
           }
          ],
          "histogram": [
           {
            "marker": {
             "pattern": {
              "fillmode": "overlay",
              "size": 10,
              "solidity": 0.2
             }
            },
            "type": "histogram"
           }
          ],
          "histogram2d": [
           {
            "colorbar": {
             "outlinewidth": 0,
             "ticks": ""
            },
            "colorscale": [
             [
              0,
              "#0d0887"
             ],
             [
              0.1111111111111111,
              "#46039f"
             ],
             [
              0.2222222222222222,
              "#7201a8"
             ],
             [
              0.3333333333333333,
              "#9c179e"
             ],
             [
              0.4444444444444444,
              "#bd3786"
             ],
             [
              0.5555555555555556,
              "#d8576b"
             ],
             [
              0.6666666666666666,
              "#ed7953"
             ],
             [
              0.7777777777777778,
              "#fb9f3a"
             ],
             [
              0.8888888888888888,
              "#fdca26"
             ],
             [
              1,
              "#f0f921"
             ]
            ],
            "type": "histogram2d"
           }
          ],
          "histogram2dcontour": [
           {
            "colorbar": {
             "outlinewidth": 0,
             "ticks": ""
            },
            "colorscale": [
             [
              0,
              "#0d0887"
             ],
             [
              0.1111111111111111,
              "#46039f"
             ],
             [
              0.2222222222222222,
              "#7201a8"
             ],
             [
              0.3333333333333333,
              "#9c179e"
             ],
             [
              0.4444444444444444,
              "#bd3786"
             ],
             [
              0.5555555555555556,
              "#d8576b"
             ],
             [
              0.6666666666666666,
              "#ed7953"
             ],
             [
              0.7777777777777778,
              "#fb9f3a"
             ],
             [
              0.8888888888888888,
              "#fdca26"
             ],
             [
              1,
              "#f0f921"
             ]
            ],
            "type": "histogram2dcontour"
           }
          ],
          "mesh3d": [
           {
            "colorbar": {
             "outlinewidth": 0,
             "ticks": ""
            },
            "type": "mesh3d"
           }
          ],
          "parcoords": [
           {
            "line": {
             "colorbar": {
              "outlinewidth": 0,
              "ticks": ""
             }
            },
            "type": "parcoords"
           }
          ],
          "pie": [
           {
            "automargin": true,
            "type": "pie"
           }
          ],
          "scatter": [
           {
            "marker": {
             "line": {
              "color": "#283442"
             }
            },
            "type": "scatter"
           }
          ],
          "scatter3d": [
           {
            "line": {
             "colorbar": {
              "outlinewidth": 0,
              "ticks": ""
             }
            },
            "marker": {
             "colorbar": {
              "outlinewidth": 0,
              "ticks": ""
             }
            },
            "type": "scatter3d"
           }
          ],
          "scattercarpet": [
           {
            "marker": {
             "colorbar": {
              "outlinewidth": 0,
              "ticks": ""
             }
            },
            "type": "scattercarpet"
           }
          ],
          "scattergeo": [
           {
            "marker": {
             "colorbar": {
              "outlinewidth": 0,
              "ticks": ""
             }
            },
            "type": "scattergeo"
           }
          ],
          "scattergl": [
           {
            "marker": {
             "line": {
              "color": "#283442"
             }
            },
            "type": "scattergl"
           }
          ],
          "scattermap": [
           {
            "marker": {
             "colorbar": {
              "outlinewidth": 0,
              "ticks": ""
             }
            },
            "type": "scattermap"
           }
          ],
          "scattermapbox": [
           {
            "marker": {
             "colorbar": {
              "outlinewidth": 0,
              "ticks": ""
             }
            },
            "type": "scattermapbox"
           }
          ],
          "scatterpolar": [
           {
            "marker": {
             "colorbar": {
              "outlinewidth": 0,
              "ticks": ""
             }
            },
            "type": "scatterpolar"
           }
          ],
          "scatterpolargl": [
           {
            "marker": {
             "colorbar": {
              "outlinewidth": 0,
              "ticks": ""
             }
            },
            "type": "scatterpolargl"
           }
          ],
          "scatterternary": [
           {
            "marker": {
             "colorbar": {
              "outlinewidth": 0,
              "ticks": ""
             }
            },
            "type": "scatterternary"
           }
          ],
          "surface": [
           {
            "colorbar": {
             "outlinewidth": 0,
             "ticks": ""
            },
            "colorscale": [
             [
              0,
              "#0d0887"
             ],
             [
              0.1111111111111111,
              "#46039f"
             ],
             [
              0.2222222222222222,
              "#7201a8"
             ],
             [
              0.3333333333333333,
              "#9c179e"
             ],
             [
              0.4444444444444444,
              "#bd3786"
             ],
             [
              0.5555555555555556,
              "#d8576b"
             ],
             [
              0.6666666666666666,
              "#ed7953"
             ],
             [
              0.7777777777777778,
              "#fb9f3a"
             ],
             [
              0.8888888888888888,
              "#fdca26"
             ],
             [
              1,
              "#f0f921"
             ]
            ],
            "type": "surface"
           }
          ],
          "table": [
           {
            "cells": {
             "fill": {
              "color": "#506784"
             },
             "line": {
              "color": "rgb(17,17,17)"
             }
            },
            "header": {
             "fill": {
              "color": "#2a3f5f"
             },
             "line": {
              "color": "rgb(17,17,17)"
             }
            },
            "type": "table"
           }
          ]
         },
         "layout": {
          "annotationdefaults": {
           "arrowcolor": "#f2f5fa",
           "arrowhead": 0,
           "arrowwidth": 1
          },
          "autotypenumbers": "strict",
          "coloraxis": {
           "colorbar": {
            "outlinewidth": 0,
            "ticks": ""
           }
          },
          "colorscale": {
           "diverging": [
            [
             0,
             "#8e0152"
            ],
            [
             0.1,
             "#c51b7d"
            ],
            [
             0.2,
             "#de77ae"
            ],
            [
             0.3,
             "#f1b6da"
            ],
            [
             0.4,
             "#fde0ef"
            ],
            [
             0.5,
             "#f7f7f7"
            ],
            [
             0.6,
             "#e6f5d0"
            ],
            [
             0.7,
             "#b8e186"
            ],
            [
             0.8,
             "#7fbc41"
            ],
            [
             0.9,
             "#4d9221"
            ],
            [
             1,
             "#276419"
            ]
           ],
           "sequential": [
            [
             0,
             "#0d0887"
            ],
            [
             0.1111111111111111,
             "#46039f"
            ],
            [
             0.2222222222222222,
             "#7201a8"
            ],
            [
             0.3333333333333333,
             "#9c179e"
            ],
            [
             0.4444444444444444,
             "#bd3786"
            ],
            [
             0.5555555555555556,
             "#d8576b"
            ],
            [
             0.6666666666666666,
             "#ed7953"
            ],
            [
             0.7777777777777778,
             "#fb9f3a"
            ],
            [
             0.8888888888888888,
             "#fdca26"
            ],
            [
             1,
             "#f0f921"
            ]
           ],
           "sequentialminus": [
            [
             0,
             "#0d0887"
            ],
            [
             0.1111111111111111,
             "#46039f"
            ],
            [
             0.2222222222222222,
             "#7201a8"
            ],
            [
             0.3333333333333333,
             "#9c179e"
            ],
            [
             0.4444444444444444,
             "#bd3786"
            ],
            [
             0.5555555555555556,
             "#d8576b"
            ],
            [
             0.6666666666666666,
             "#ed7953"
            ],
            [
             0.7777777777777778,
             "#fb9f3a"
            ],
            [
             0.8888888888888888,
             "#fdca26"
            ],
            [
             1,
             "#f0f921"
            ]
           ]
          },
          "colorway": [
           "#636efa",
           "#EF553B",
           "#00cc96",
           "#ab63fa",
           "#FFA15A",
           "#19d3f3",
           "#FF6692",
           "#B6E880",
           "#FF97FF",
           "#FECB52"
          ],
          "font": {
           "color": "#f2f5fa"
          },
          "geo": {
           "bgcolor": "rgb(17,17,17)",
           "lakecolor": "rgb(17,17,17)",
           "landcolor": "rgb(17,17,17)",
           "showlakes": true,
           "showland": true,
           "subunitcolor": "#506784"
          },
          "hoverlabel": {
           "align": "left"
          },
          "hovermode": "closest",
          "mapbox": {
           "style": "dark"
          },
          "paper_bgcolor": "rgb(17,17,17)",
          "plot_bgcolor": "rgb(17,17,17)",
          "polar": {
           "angularaxis": {
            "gridcolor": "#506784",
            "linecolor": "#506784",
            "ticks": ""
           },
           "bgcolor": "rgb(17,17,17)",
           "radialaxis": {
            "gridcolor": "#506784",
            "linecolor": "#506784",
            "ticks": ""
           }
          },
          "scene": {
           "xaxis": {
            "backgroundcolor": "rgb(17,17,17)",
            "gridcolor": "#506784",
            "gridwidth": 2,
            "linecolor": "#506784",
            "showbackground": true,
            "ticks": "",
            "zerolinecolor": "#C8D4E3"
           },
           "yaxis": {
            "backgroundcolor": "rgb(17,17,17)",
            "gridcolor": "#506784",
            "gridwidth": 2,
            "linecolor": "#506784",
            "showbackground": true,
            "ticks": "",
            "zerolinecolor": "#C8D4E3"
           },
           "zaxis": {
            "backgroundcolor": "rgb(17,17,17)",
            "gridcolor": "#506784",
            "gridwidth": 2,
            "linecolor": "#506784",
            "showbackground": true,
            "ticks": "",
            "zerolinecolor": "#C8D4E3"
           }
          },
          "shapedefaults": {
           "line": {
            "color": "#f2f5fa"
           }
          },
          "sliderdefaults": {
           "bgcolor": "#C8D4E3",
           "bordercolor": "rgb(17,17,17)",
           "borderwidth": 1,
           "tickwidth": 0
          },
          "ternary": {
           "aaxis": {
            "gridcolor": "#506784",
            "linecolor": "#506784",
            "ticks": ""
           },
           "baxis": {
            "gridcolor": "#506784",
            "linecolor": "#506784",
            "ticks": ""
           },
           "bgcolor": "rgb(17,17,17)",
           "caxis": {
            "gridcolor": "#506784",
            "linecolor": "#506784",
            "ticks": ""
           }
          },
          "title": {
           "x": 0.05
          },
          "updatemenudefaults": {
           "bgcolor": "#506784",
           "borderwidth": 0
          },
          "xaxis": {
           "automargin": true,
           "gridcolor": "#283442",
           "linecolor": "#506784",
           "ticks": "",
           "title": {
            "standoff": 15
           },
           "zerolinecolor": "#283442",
           "zerolinewidth": 2
          },
          "yaxis": {
           "automargin": true,
           "gridcolor": "#283442",
           "linecolor": "#506784",
           "ticks": "",
           "title": {
            "standoff": 15
           },
           "zerolinecolor": "#283442",
           "zerolinewidth": 2
          }
         }
        },
        "title": {
         "text": "Динамика коммитов по пользователям"
        },
        "updatemenus": [
         {
          "buttons": [
           {
            "args": [
             null,
             {
              "frame": {
               "duration": 500,
               "redraw": true
              },
              "fromcurrent": true
             }
            ],
            "label": "Play",
            "method": "animate"
           },
           {
            "args": [
             [
              null
             ],
             {
              "frame": {
               "duration": 0,
               "redraw": false
              },
              "mode": "immediate",
              "transition": {
               "duration": 0
              }
             }
            ],
            "label": "Pause",
            "method": "animate"
           }
          ],
          "direction": "left",
          "pad": {
           "r": 10,
           "t": 87
          },
          "showactive": false,
          "type": "buttons",
          "x": 0.1,
          "xanchor": "right",
          "y": 0,
          "yanchor": "top"
         }
        ],
        "xaxis": {
         "title": {
          "text": "Дата"
         }
        },
        "yaxis": {
         "title": {
          "text": "Кумулятивные коммиты"
         }
        }
       }
      }
     },
     "metadata": {},
     "output_type": "display_data"
    }
   ],
   "source": [
    "unique_dates = sorted(df_grouped[\"date\"].unique())\n",
    "\n",
    "fig = go.Figure()\n",
    "\n",
    "users = df_grouped[\"uid\"].unique()\n",
    "for user in users:\n",
    "    user_data = df_grouped[df_grouped[\"uid\"] == user]\n",
    "    fig.add_trace(go.Scatter(x=user_data[\"date\"], y=user_data[\"cumulative_commits\"],\n",
    "                             mode='lines', name=user,\n",
    "                             line=dict(width=2)))\n",
    "\n",
    "frames = []\n",
    "for date in unique_dates:\n",
    "    frame_data = []\n",
    "    for user in users:\n",
    "        user_data = df_grouped[(df_grouped[\"uid\"] == user) & (df_grouped[\"date\"] <= date)]\n",
    "        frame_data.append(go.Scatter(x=user_data[\"date\"], y=user_data[\"cumulative_commits\"],\n",
    "                                     mode='lines+markers', name=user,\n",
    "                                     line=dict(width=2), marker=dict(size=6)))\n",
    "    frames.append(go.Frame(data=frame_data, name=str(date)))\n",
    "\n",
    "fig.frames = frames\n",
    "\n",
    "fig.update_layout(\n",
    "    updatemenus=[{\n",
    "        \"buttons\": [\n",
    "            {\"args\": [None, {\"frame\": {\"duration\": 500, \"redraw\": True}, \"fromcurrent\": True}],\n",
    "             \"label\": \"Play\", \"method\": \"animate\"},\n",
    "            {\"args\": [[None], {\"frame\": {\"duration\": 0, \"redraw\": False}, \"mode\": \"immediate\", \"transition\": {\"duration\": 0}}],\n",
    "             \"label\": \"Pause\", \"method\": \"animate\"}\n",
    "        ],\n",
    "        \"direction\": \"left\", \"pad\": {\"r\": 10, \"t\": 87},\n",
    "        \"showactive\": False,\n",
    "        \"type\": \"buttons\",\n",
    "        \"x\": 0.1,\n",
    "        \"xanchor\": \"right\",\n",
    "        \"y\": 0,\n",
    "        \"yanchor\": \"top\"\n",
    "    }]\n",
    ")\n",
    "\n",
    "fig.update_layout(title=\"Динамика коммитов по пользователям\", xaxis_title=\"Дата\",\n",
    "                  yaxis_title=\"Кумулятивные коммиты\", template=\"plotly_dark\", paper_bgcolor=\"#2E2E2E\")\n",
    "\n",
    "fig.show()\n"
   ]
  }
 ],
 "metadata": {
  "kernelspec": {
   "display_name": "Python 3",
   "language": "python",
   "name": "python3"
  },
  "language_info": {
   "codemirror_mode": {
    "name": "ipython",
    "version": 3
   },
   "file_extension": ".py",
   "mimetype": "text/x-python",
   "name": "python",
   "nbconvert_exporter": "python",
   "pygments_lexer": "ipython3",
   "version": "3.12.4"
  }
 },
 "nbformat": 4,
 "nbformat_minor": 2
}
