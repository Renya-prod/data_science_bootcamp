{
 "cells": [
  {
   "cell_type": "markdown",
   "id": "23a15de1",
   "metadata": {},
   "source": [
    "# Load and Save\n",
    "Этот 🐈 (код) загружает файл журнала, обрабатывает его и сохраняет результат с другим разделителем."
   ]
  },
  {
   "cell_type": "markdown",
   "id": "87803b93",
   "metadata": {},
   "source": [
    "#### 1. Загружаем "
   ]
  },
  {
   "cell_type": "code",
   "execution_count": 6,
   "id": "25579430",
   "metadata": {},
   "outputs": [],
   "source": [
    "\n",
    "import pandas as pd\n",
    "\n",
    "input_file = \"feed-views.log\"\n",
    "output_file = \"feed-views-semicolon.log\"\n",
    "\n",
    "df = pd.read_csv(\n",
    "    input_file,\n",
    "    sep=\"\\t\",\n",
    "    header=None,\n",
    "    names=[\"datetime\", \"user\"],\n",
    "    skiprows=[2, 3],\n",
    "    skipfooter=2,\n",
    "    engine=\"python\"\n",
    ")"
   ]
  },
  {
   "cell_type": "markdown",
   "id": "fff24a41",
   "metadata": {},
   "source": [
    "#### 2. Переименновываем"
   ]
  },
  {
   "cell_type": "code",
   "execution_count": 7,
   "id": "255166cd",
   "metadata": {},
   "outputs": [],
   "source": [
    "df.rename(columns={\"datetime\": \"date_time\"}, inplace=True)"
   ]
  },
  {
   "cell_type": "markdown",
   "id": "09428c9a",
   "metadata": {},
   "source": [
    "#### 3. Устанавливаем индекс"
   ]
  },
  {
   "cell_type": "code",
   "execution_count": 3,
   "id": "16b8f746",
   "metadata": {},
   "outputs": [],
   "source": [
    "df.set_index(\"date_time\", inplace=True)"
   ]
  },
  {
   "cell_type": "markdown",
   "id": "90d950d1",
   "metadata": {},
   "source": [
    "#### 4. Сохраняем в файл .log"
   ]
  },
  {
   "cell_type": "code",
   "execution_count": 5,
   "id": "77cbea97",
   "metadata": {},
   "outputs": [],
   "source": [
    "df.to_csv(output_file, sep=\";\")"
   ]
  },
  {
   "cell_type": "markdown",
   "id": "6c9a08d5",
   "metadata": {},
   "source": [
    "##### Проверим вывод первых"
   ]
  },
  {
   "cell_type": "code",
   "execution_count": 4,
   "id": "fc39bd7a",
   "metadata": {},
   "outputs": [
    {
     "data": {
      "text/html": [
       "<div>\n",
       "<style scoped>\n",
       "    .dataframe tbody tr th:only-of-type {\n",
       "        vertical-align: middle;\n",
       "    }\n",
       "\n",
       "    .dataframe tbody tr th {\n",
       "        vertical-align: top;\n",
       "    }\n",
       "\n",
       "    .dataframe thead th {\n",
       "        text-align: right;\n",
       "    }\n",
       "</style>\n",
       "<table border=\"1\" class=\"dataframe\">\n",
       "  <thead>\n",
       "    <tr style=\"text-align: right;\">\n",
       "      <th></th>\n",
       "      <th>user</th>\n",
       "    </tr>\n",
       "    <tr>\n",
       "      <th>date_time</th>\n",
       "      <th></th>\n",
       "    </tr>\n",
       "  </thead>\n",
       "  <tbody>\n",
       "    <tr>\n",
       "      <th>2020-04-17 12:01:08.463179</th>\n",
       "      <td>artem</td>\n",
       "    </tr>\n",
       "    <tr>\n",
       "      <th>2020-04-17 12:01:23.743946</th>\n",
       "      <td>artem</td>\n",
       "    </tr>\n",
       "    <tr>\n",
       "      <th>2020-04-17 12:35:52.735016</th>\n",
       "      <td>artem</td>\n",
       "    </tr>\n",
       "    <tr>\n",
       "      <th>2020-04-17 12:36:21.401412</th>\n",
       "      <td>oksana</td>\n",
       "    </tr>\n",
       "    <tr>\n",
       "      <th>2020-04-17 12:36:22.023355</th>\n",
       "      <td>oksana</td>\n",
       "    </tr>\n",
       "  </tbody>\n",
       "</table>\n",
       "</div>"
      ],
      "text/plain": [
       "                              user\n",
       "date_time                         \n",
       "2020-04-17 12:01:08.463179   artem\n",
       "2020-04-17 12:01:23.743946   artem\n",
       "2020-04-17 12:35:52.735016   artem\n",
       "2020-04-17 12:36:21.401412  oksana\n",
       "2020-04-17 12:36:22.023355  oksana"
      ]
     },
     "execution_count": 4,
     "metadata": {},
     "output_type": "execute_result"
    }
   ],
   "source": [
    "df.head()"
   ]
  },
  {
   "cell_type": "markdown",
   "id": "32ee9823",
   "metadata": {},
   "source": [
    "##### Проверим вывод последних"
   ]
  },
  {
   "cell_type": "code",
   "execution_count": 7,
   "id": "e9c67364",
   "metadata": {},
   "outputs": [
    {
     "data": {
      "text/html": [
       "<div>\n",
       "<style scoped>\n",
       "    .dataframe tbody tr th:only-of-type {\n",
       "        vertical-align: middle;\n",
       "    }\n",
       "\n",
       "    .dataframe tbody tr th {\n",
       "        vertical-align: top;\n",
       "    }\n",
       "\n",
       "    .dataframe thead th {\n",
       "        text-align: right;\n",
       "    }\n",
       "</style>\n",
       "<table border=\"1\" class=\"dataframe\">\n",
       "  <thead>\n",
       "    <tr style=\"text-align: right;\">\n",
       "      <th></th>\n",
       "      <th>user</th>\n",
       "    </tr>\n",
       "    <tr>\n",
       "      <th>date_time</th>\n",
       "      <th></th>\n",
       "    </tr>\n",
       "  </thead>\n",
       "  <tbody>\n",
       "    <tr>\n",
       "      <th>2020-05-21 16:36:40.915488</th>\n",
       "      <td>ekaterina</td>\n",
       "    </tr>\n",
       "    <tr>\n",
       "      <th>2020-05-21 17:49:36.429237</th>\n",
       "      <td>maxim</td>\n",
       "    </tr>\n",
       "    <tr>\n",
       "      <th>2020-05-21 18:45:20.441142</th>\n",
       "      <td>valentina</td>\n",
       "    </tr>\n",
       "    <tr>\n",
       "      <th>2020-05-21 23:03:06.457819</th>\n",
       "      <td>maxim</td>\n",
       "    </tr>\n",
       "    <tr>\n",
       "      <th>2020-05-21 23:23:49.995349</th>\n",
       "      <td>pavel</td>\n",
       "    </tr>\n",
       "  </tbody>\n",
       "</table>\n",
       "</div>"
      ],
      "text/plain": [
       "                                 user\n",
       "date_time                            \n",
       "2020-05-21 16:36:40.915488  ekaterina\n",
       "2020-05-21 17:49:36.429237      maxim\n",
       "2020-05-21 18:45:20.441142  valentina\n",
       "2020-05-21 23:03:06.457819      maxim\n",
       "2020-05-21 23:23:49.995349      pavel"
      ]
     },
     "execution_count": 7,
     "metadata": {},
     "output_type": "execute_result"
    }
   ],
   "source": [
    "df.tail()"
   ]
  }
 ],
 "metadata": {
  "kernelspec": {
   "display_name": "Python 3",
   "language": "python",
   "name": "python3"
  },
  "language_info": {
   "codemirror_mode": {
    "name": "ipython",
    "version": 3
   },
   "file_extension": ".py",
   "mimetype": "text/x-python",
   "name": "python",
   "nbconvert_exporter": "python",
   "pygments_lexer": "ipython3",
   "version": "3.12.4"
  }
 },
 "nbformat": 4,
 "nbformat_minor": 5
}
