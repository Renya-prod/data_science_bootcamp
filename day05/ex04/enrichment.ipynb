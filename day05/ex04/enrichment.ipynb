{
 "cells": [
  {
   "cell_type": "markdown",
   "metadata": {},
   "source": [
    "## 👨‍🔬 Enrichment and transformations"
   ]
  },
  {
   "cell_type": "markdown",
   "metadata": {},
   "source": [
    "#### 1. Загрузка данных о штрафах"
   ]
  },
  {
   "cell_type": "code",
   "execution_count": 102,
   "metadata": {},
   "outputs": [
    {
     "data": {
      "text/html": [
       "<div>\n",
       "<style scoped>\n",
       "    .dataframe tbody tr th:only-of-type {\n",
       "        vertical-align: middle;\n",
       "    }\n",
       "\n",
       "    .dataframe tbody tr th {\n",
       "        vertical-align: top;\n",
       "    }\n",
       "\n",
       "    .dataframe thead th {\n",
       "        text-align: right;\n",
       "    }\n",
       "</style>\n",
       "<table border=\"1\" class=\"dataframe\">\n",
       "  <thead>\n",
       "    <tr style=\"text-align: right;\">\n",
       "      <th></th>\n",
       "      <th>Refund</th>\n",
       "      <th>Fines</th>\n",
       "      <th>Make</th>\n",
       "      <th>Model</th>\n",
       "    </tr>\n",
       "    <tr>\n",
       "      <th>CarNumber</th>\n",
       "      <th></th>\n",
       "      <th></th>\n",
       "      <th></th>\n",
       "      <th></th>\n",
       "    </tr>\n",
       "  </thead>\n",
       "  <tbody>\n",
       "    <tr>\n",
       "      <th>E432XX77RUS</th>\n",
       "      <td>1</td>\n",
       "      <td>6500.0</td>\n",
       "      <td>Toyota</td>\n",
       "      <td>Camry</td>\n",
       "    </tr>\n",
       "    <tr>\n",
       "      <th>7184TT36RUS</th>\n",
       "      <td>1</td>\n",
       "      <td>2100.0</td>\n",
       "      <td>Ford</td>\n",
       "      <td>Focus</td>\n",
       "    </tr>\n",
       "    <tr>\n",
       "      <th>X582HE161RUS</th>\n",
       "      <td>2</td>\n",
       "      <td>2000.0</td>\n",
       "      <td>Ford</td>\n",
       "      <td>Focus</td>\n",
       "    </tr>\n",
       "    <tr>\n",
       "      <th>X4128H125RUS</th>\n",
       "      <td>1</td>\n",
       "      <td>7458.5</td>\n",
       "      <td>Ford</td>\n",
       "      <td>Focus</td>\n",
       "    </tr>\n",
       "    <tr>\n",
       "      <th>H234YH197RUS</th>\n",
       "      <td>2</td>\n",
       "      <td>6000.0</td>\n",
       "      <td>Ford</td>\n",
       "      <td>Focus</td>\n",
       "    </tr>\n",
       "  </tbody>\n",
       "</table>\n",
       "</div>"
      ],
      "text/plain": [
       "              Refund  Fines    Make  Model\n",
       "CarNumber                                 \n",
       "E432XX77RUS        1 6500.0  Toyota  Camry\n",
       "7184TT36RUS        1 2100.0    Ford  Focus\n",
       "X582HE161RUS       2 2000.0    Ford  Focus\n",
       "X4128H125RUS       1 7458.5    Ford  Focus\n",
       "H234YH197RUS       2 6000.0    Ford  Focus"
      ]
     },
     "execution_count": 102,
     "metadata": {},
     "output_type": "execute_result"
    }
   ],
   "source": [
    "import pandas as pd\n",
    "import numpy as np\n",
    "import requests\n",
    "\n",
    "df_fines = pd.read_json(\"../ex02/auto.json\")\n",
    "df_fines.set_index(\"CarNumber\", inplace=True)\n",
    "df_fines.head()"
   ]
  },
  {
   "cell_type": "markdown",
   "metadata": {},
   "source": [
    "#### 2. Настройка отображения чисел"
   ]
  },
  {
   "cell_type": "code",
   "execution_count": 103,
   "metadata": {},
   "outputs": [
    {
     "data": {
      "text/html": [
       "<div>\n",
       "<style scoped>\n",
       "    .dataframe tbody tr th:only-of-type {\n",
       "        vertical-align: middle;\n",
       "    }\n",
       "\n",
       "    .dataframe tbody tr th {\n",
       "        vertical-align: top;\n",
       "    }\n",
       "\n",
       "    .dataframe thead th {\n",
       "        text-align: right;\n",
       "    }\n",
       "</style>\n",
       "<table border=\"1\" class=\"dataframe\">\n",
       "  <thead>\n",
       "    <tr style=\"text-align: right;\">\n",
       "      <th></th>\n",
       "      <th>Refund</th>\n",
       "      <th>Fines</th>\n",
       "      <th>Make</th>\n",
       "      <th>Model</th>\n",
       "    </tr>\n",
       "    <tr>\n",
       "      <th>CarNumber</th>\n",
       "      <th></th>\n",
       "      <th></th>\n",
       "      <th></th>\n",
       "      <th></th>\n",
       "    </tr>\n",
       "  </thead>\n",
       "  <tbody>\n",
       "    <tr>\n",
       "      <th>E432XX77RUS</th>\n",
       "      <td>1</td>\n",
       "      <td>6500.0</td>\n",
       "      <td>Toyota</td>\n",
       "      <td>Camry</td>\n",
       "    </tr>\n",
       "    <tr>\n",
       "      <th>7184TT36RUS</th>\n",
       "      <td>1</td>\n",
       "      <td>2100.0</td>\n",
       "      <td>Ford</td>\n",
       "      <td>Focus</td>\n",
       "    </tr>\n",
       "    <tr>\n",
       "      <th>X582HE161RUS</th>\n",
       "      <td>2</td>\n",
       "      <td>2000.0</td>\n",
       "      <td>Ford</td>\n",
       "      <td>Focus</td>\n",
       "    </tr>\n",
       "    <tr>\n",
       "      <th>X4128H125RUS</th>\n",
       "      <td>1</td>\n",
       "      <td>7458.5</td>\n",
       "      <td>Ford</td>\n",
       "      <td>Focus</td>\n",
       "    </tr>\n",
       "    <tr>\n",
       "      <th>H234YH197RUS</th>\n",
       "      <td>2</td>\n",
       "      <td>6000.0</td>\n",
       "      <td>Ford</td>\n",
       "      <td>Focus</td>\n",
       "    </tr>\n",
       "  </tbody>\n",
       "</table>\n",
       "</div>"
      ],
      "text/plain": [
       "              Refund  Fines    Make  Model\n",
       "CarNumber                                 \n",
       "E432XX77RUS        1 6500.0  Toyota  Camry\n",
       "7184TT36RUS        1 2100.0    Ford  Focus\n",
       "X582HE161RUS       2 2000.0    Ford  Focus\n",
       "X4128H125RUS       1 7458.5    Ford  Focus\n",
       "H234YH197RUS       2 6000.0    Ford  Focus"
      ]
     },
     "execution_count": 103,
     "metadata": {},
     "output_type": "execute_result"
    }
   ],
   "source": [
    "pd.options.display.float_format = '{:.1f}'.format\n",
    "df_fines.head()\n"
   ]
  },
  {
   "cell_type": "markdown",
   "metadata": {},
   "source": [
    "#### 3. Создание выборки из 200 новых записей и Добавление случайных годов"
   ]
  },
  {
   "cell_type": "code",
   "execution_count": 104,
   "metadata": {},
   "outputs": [],
   "source": [
    "np.random.seed(21)\n",
    "\n",
    "df_fines[\"Year\"] = np.random.randint(1980, 2020, df_fines.shape[0])\n",
    "\n",
    "df_sample = df_fines.sample(n=200, replace=True, random_state=21)\n",
    "\n",
    "df_concat_rows = pd.concat([df_fines, df_sample])"
   ]
  },
  {
   "cell_type": "markdown",
   "metadata": {},
   "source": [
    "#### 5. Загрузка списка фамилий"
   ]
  },
  {
   "cell_type": "code",
   "execution_count": 105,
   "metadata": {},
   "outputs": [
    {
     "data": {
      "text/html": [
       "<div>\n",
       "<style scoped>\n",
       "    .dataframe tbody tr th:only-of-type {\n",
       "        vertical-align: middle;\n",
       "    }\n",
       "\n",
       "    .dataframe tbody tr th {\n",
       "        vertical-align: top;\n",
       "    }\n",
       "\n",
       "    .dataframe thead th {\n",
       "        text-align: right;\n",
       "    }\n",
       "</style>\n",
       "<table border=\"1\" class=\"dataframe\">\n",
       "  <thead>\n",
       "    <tr style=\"text-align: right;\">\n",
       "      <th></th>\n",
       "      <th>Surname</th>\n",
       "    </tr>\n",
       "  </thead>\n",
       "  <tbody>\n",
       "    <tr>\n",
       "      <th>0</th>\n",
       "      <td>ADAMS</td>\n",
       "    </tr>\n",
       "    <tr>\n",
       "      <th>1</th>\n",
       "      <td>ALLEN</td>\n",
       "    </tr>\n",
       "    <tr>\n",
       "      <th>2</th>\n",
       "      <td>ALVAREZ</td>\n",
       "    </tr>\n",
       "    <tr>\n",
       "      <th>3</th>\n",
       "      <td>ANDERSON</td>\n",
       "    </tr>\n",
       "    <tr>\n",
       "      <th>4</th>\n",
       "      <td>BAILEY</td>\n",
       "    </tr>\n",
       "  </tbody>\n",
       "</table>\n",
       "</div>"
      ],
      "text/plain": [
       "0   Surname\n",
       "0     ADAMS\n",
       "1     ALLEN\n",
       "2   ALVAREZ\n",
       "3  ANDERSON\n",
       "4    BAILEY"
      ]
     },
     "execution_count": 105,
     "metadata": {},
     "output_type": "execute_result"
    }
   ],
   "source": [
    "file_path = \"../../datasets/surname.json\"\n",
    "\n",
    "df_surnames = pd.read_json(file_path)\n",
    "\n",
    "df_surnames.columns = df_surnames.iloc[0]\n",
    "df_surnames = df_surnames[1:].reset_index(drop=True)\n",
    "\n",
    "df_surnames = df_surnames[[\"NAME\"]]\n",
    "df_surnames.rename(columns={\"NAME\": \"Surname\"}, inplace=True)\n",
    "\n",
    "df_surnames.head()"
   ]
  },
  {
   "cell_type": "markdown",
   "metadata": {},
   "source": [
    "#### 6. Создание базы владельцев машин"
   ]
  },
  {
   "cell_type": "code",
   "execution_count": 106,
   "metadata": {},
   "outputs": [
    {
     "data": {
      "text/html": [
       "<div>\n",
       "<style scoped>\n",
       "    .dataframe tbody tr th:only-of-type {\n",
       "        vertical-align: middle;\n",
       "    }\n",
       "\n",
       "    .dataframe tbody tr th {\n",
       "        vertical-align: top;\n",
       "    }\n",
       "\n",
       "    .dataframe thead th {\n",
       "        text-align: right;\n",
       "    }\n",
       "</style>\n",
       "<table border=\"1\" class=\"dataframe\">\n",
       "  <thead>\n",
       "    <tr style=\"text-align: right;\">\n",
       "      <th></th>\n",
       "      <th>CarNumber</th>\n",
       "      <th>SURNAME</th>\n",
       "    </tr>\n",
       "  </thead>\n",
       "  <tbody>\n",
       "    <tr>\n",
       "      <th>0</th>\n",
       "      <td>E432XX77RUS</td>\n",
       "      <td>RICHARDSON</td>\n",
       "    </tr>\n",
       "    <tr>\n",
       "      <th>1</th>\n",
       "      <td>7184TT36RUS</td>\n",
       "      <td>ROSS</td>\n",
       "    </tr>\n",
       "    <tr>\n",
       "      <th>2</th>\n",
       "      <td>X582HE161RUS</td>\n",
       "      <td>MORGAN</td>\n",
       "    </tr>\n",
       "    <tr>\n",
       "      <th>3</th>\n",
       "      <td>X4128H125RUS</td>\n",
       "      <td>BAILEY</td>\n",
       "    </tr>\n",
       "    <tr>\n",
       "      <th>4</th>\n",
       "      <td>H234YH197RUS</td>\n",
       "      <td>LOPEZ</td>\n",
       "    </tr>\n",
       "  </tbody>\n",
       "</table>\n",
       "</div>"
      ],
      "text/plain": [
       "      CarNumber     SURNAME\n",
       "0   E432XX77RUS  RICHARDSON\n",
       "1   7184TT36RUS        ROSS\n",
       "2  X582HE161RUS      MORGAN\n",
       "3  X4128H125RUS      BAILEY\n",
       "4  H234YH197RUS       LOPEZ"
      ]
     },
     "execution_count": 106,
     "metadata": {},
     "output_type": "execute_result"
    }
   ],
   "source": [
    "unique_cars = df_concat_rows.index.nunique()\n",
    "top_surnames = df_surnames[\"Surname\"].sample(n=unique_cars, replace=True, random_state=21).values\n",
    "df_owners = pd.DataFrame({\"CarNumber\": df_concat_rows.index.unique(), \"SURNAME\": top_surnames})\n",
    "\n",
    "df_owners.head()"
   ]
  },
  {
   "cell_type": "markdown",
   "metadata": {},
   "source": [
    "#### 7. Добавление новых и удаление старых записей"
   ]
  },
  {
   "cell_type": "code",
   "execution_count": 107,
   "metadata": {},
   "outputs": [
    {
     "data": {
      "text/html": [
       "<div>\n",
       "<style scoped>\n",
       "    .dataframe tbody tr th:only-of-type {\n",
       "        vertical-align: middle;\n",
       "    }\n",
       "\n",
       "    .dataframe tbody tr th {\n",
       "        vertical-align: top;\n",
       "    }\n",
       "\n",
       "    .dataframe thead th {\n",
       "        text-align: right;\n",
       "    }\n",
       "</style>\n",
       "<table border=\"1\" class=\"dataframe\">\n",
       "  <thead>\n",
       "    <tr style=\"text-align: right;\">\n",
       "      <th></th>\n",
       "      <th>Refund</th>\n",
       "      <th>Fines</th>\n",
       "      <th>Make</th>\n",
       "      <th>Model</th>\n",
       "      <th>Year</th>\n",
       "    </tr>\n",
       "    <tr>\n",
       "      <th>CarNumber</th>\n",
       "      <th></th>\n",
       "      <th></th>\n",
       "      <th></th>\n",
       "      <th></th>\n",
       "      <th></th>\n",
       "    </tr>\n",
       "  </thead>\n",
       "  <tbody>\n",
       "    <tr>\n",
       "      <th>E432XX77RUS</th>\n",
       "      <td>1</td>\n",
       "      <td>6500.0</td>\n",
       "      <td>Toyota</td>\n",
       "      <td>Camry</td>\n",
       "      <td>1989</td>\n",
       "    </tr>\n",
       "    <tr>\n",
       "      <th>7184TT36RUS</th>\n",
       "      <td>1</td>\n",
       "      <td>2100.0</td>\n",
       "      <td>Ford</td>\n",
       "      <td>Focus</td>\n",
       "      <td>1995</td>\n",
       "    </tr>\n",
       "    <tr>\n",
       "      <th>X582HE161RUS</th>\n",
       "      <td>2</td>\n",
       "      <td>2000.0</td>\n",
       "      <td>Ford</td>\n",
       "      <td>Focus</td>\n",
       "      <td>1984</td>\n",
       "    </tr>\n",
       "    <tr>\n",
       "      <th>X4128H125RUS</th>\n",
       "      <td>1</td>\n",
       "      <td>7458.5</td>\n",
       "      <td>Ford</td>\n",
       "      <td>Focus</td>\n",
       "      <td>2015</td>\n",
       "    </tr>\n",
       "    <tr>\n",
       "      <th>H234YH197RUS</th>\n",
       "      <td>2</td>\n",
       "      <td>6000.0</td>\n",
       "      <td>Ford</td>\n",
       "      <td>Focus</td>\n",
       "      <td>2014</td>\n",
       "    </tr>\n",
       "  </tbody>\n",
       "</table>\n",
       "</div>"
      ],
      "text/plain": [
       "              Refund  Fines    Make  Model  Year\n",
       "CarNumber                                       \n",
       "E432XX77RUS        1 6500.0  Toyota  Camry  1989\n",
       "7184TT36RUS        1 2100.0    Ford  Focus  1995\n",
       "X582HE161RUS       2 2000.0    Ford  Focus  1984\n",
       "X4128H125RUS       1 7458.5    Ford  Focus  2015\n",
       "H234YH197RUS       2 6000.0    Ford  Focus  2014"
      ]
     },
     "execution_count": 107,
     "metadata": {},
     "output_type": "execute_result"
    }
   ],
   "source": [
    "new_fines = pd.DataFrame({\n",
    "    \"CarNumber\": [\"A111AA777RUS\", \"B222BB199RUS\", \"C333CC77RUS\", \"D444DD97RUS\", \"E555EE99RUS\"],\n",
    "    \"Refund\": [1, 2, 1, 2, 1],\n",
    "    \"Fines\": [5000, 3000, 7000, 2000, 1000],\n",
    "    \"Make\": [\"Tesla\", \"BMW\", \"Audi\", \"Mercedes\", \"Lexus\"],\n",
    "    \"Model\": [\"Model S\", \"X5\", \"A6\", \"E-Class\", \"RX\"],\n",
    "    \"Year\": np.random.randint(1980, 2020, 5)\n",
    "}).set_index(\"CarNumber\")\n",
    "\n",
    "df_fines = pd.concat([df_fines, new_fines])\n",
    "df_fines.head()\n"
   ]
  },
  {
   "cell_type": "code",
   "execution_count": 108,
   "metadata": {},
   "outputs": [
    {
     "data": {
      "text/html": [
       "<div>\n",
       "<style scoped>\n",
       "    .dataframe tbody tr th:only-of-type {\n",
       "        vertical-align: middle;\n",
       "    }\n",
       "\n",
       "    .dataframe tbody tr th {\n",
       "        vertical-align: top;\n",
       "    }\n",
       "\n",
       "    .dataframe thead th {\n",
       "        text-align: right;\n",
       "    }\n",
       "</style>\n",
       "<table border=\"1\" class=\"dataframe\">\n",
       "  <thead>\n",
       "    <tr style=\"text-align: right;\">\n",
       "      <th></th>\n",
       "      <th>CarNumber</th>\n",
       "      <th>SURNAME</th>\n",
       "    </tr>\n",
       "  </thead>\n",
       "  <tbody>\n",
       "    <tr>\n",
       "      <th>0</th>\n",
       "      <td>E432XX77RUS</td>\n",
       "      <td>RICHARDSON</td>\n",
       "    </tr>\n",
       "    <tr>\n",
       "      <th>1</th>\n",
       "      <td>7184TT36RUS</td>\n",
       "      <td>ROSS</td>\n",
       "    </tr>\n",
       "    <tr>\n",
       "      <th>2</th>\n",
       "      <td>X582HE161RUS</td>\n",
       "      <td>MORGAN</td>\n",
       "    </tr>\n",
       "    <tr>\n",
       "      <th>3</th>\n",
       "      <td>X4128H125RUS</td>\n",
       "      <td>BAILEY</td>\n",
       "    </tr>\n",
       "    <tr>\n",
       "      <th>4</th>\n",
       "      <td>H234YH197RUS</td>\n",
       "      <td>LOPEZ</td>\n",
       "    </tr>\n",
       "  </tbody>\n",
       "</table>\n",
       "</div>"
      ],
      "text/plain": [
       "      CarNumber     SURNAME\n",
       "0   E432XX77RUS  RICHARDSON\n",
       "1   7184TT36RUS        ROSS\n",
       "2  X582HE161RUS      MORGAN\n",
       "3  X4128H125RUS      BAILEY\n",
       "4  H234YH197RUS       LOPEZ"
      ]
     },
     "execution_count": 108,
     "metadata": {},
     "output_type": "execute_result"
    }
   ],
   "source": [
    "df_owners = df_owners.iloc[:-5]\n",
    "new_owners = pd.DataFrame({\n",
    "    \"CarNumber\": [\"X999XX197RUS\", \"Y888YY77RUS\", \"Z777ZZ99RUS\"],\n",
    "    \"SURNAME\": [\"SMITH\", \"JOHNSON\", \"BROWN\"]\n",
    "})\n",
    "df_owners = pd.concat([df_owners, new_owners])\n",
    "df_owners.head()"
   ]
  },
  {
   "cell_type": "markdown",
   "metadata": {},
   "source": [
    "#### 8. Объединяем данные:"
   ]
  },
  {
   "cell_type": "markdown",
   "metadata": {},
   "source": [
    "1. Только номера, которые есть в обоих датасетах"
   ]
  },
  {
   "cell_type": "code",
   "execution_count": 109,
   "metadata": {},
   "outputs": [
    {
     "name": "stdout",
     "output_type": "stream",
     "text": [
      "      CarNumber  Refund  Fines    Make  Model  Year     SURNAME\n",
      "0   E432XX77RUS       1 6500.0  Toyota  Camry  1989  RICHARDSON\n",
      "1   7184TT36RUS       1 2100.0    Ford  Focus  1995        ROSS\n",
      "2  X582HE161RUS       2 2000.0    Ford  Focus  1984      MORGAN\n",
      "3  X4128H125RUS       1 7458.5    Ford  Focus  2015      BAILEY\n",
      "4  H234YH197RUS       2 6000.0    Ford  Focus  2014       LOPEZ\n"
     ]
    }
   ],
   "source": [
    "df_inner = df_fines.merge(df_owners, on=\"CarNumber\", how=\"inner\")\n",
    "print(df_inner.head())"
   ]
  },
  {
   "cell_type": "markdown",
   "metadata": {},
   "source": [
    "2. Все номера из обоих датасетов"
   ]
  },
  {
   "cell_type": "code",
   "execution_count": 110,
   "metadata": {},
   "outputs": [
    {
     "name": "stdout",
     "output_type": "stream",
     "text": [
      "      CarNumber  Refund  Fines  Make  Model   Year SURNAME\n",
      "0  704687163RUS     2.0 1400.0  Ford  Focus 2003.0    ROSS\n",
      "1  704787163RUS     2.0 2800.0  Ford  Focus 1996.0   MOORE\n",
      "2  704987163RUS     2.0 7458.5  Ford  Focus 2019.0    RUIZ\n",
      "3  705287163RUS     2.0 2000.0  Ford  Focus 2015.0  BROOKS\n",
      "4  705387163RUS     2.0  700.0  Ford  Focus 1987.0   YOUNG\n"
     ]
    }
   ],
   "source": [
    "df_outer = df_fines.merge(df_owners, on=\"CarNumber\", how=\"outer\")\n",
    "print(df_outer.head())"
   ]
  },
  {
   "cell_type": "markdown",
   "metadata": {},
   "source": [
    "3. Только номера из штрафов"
   ]
  },
  {
   "cell_type": "code",
   "execution_count": 111,
   "metadata": {},
   "outputs": [
    {
     "name": "stdout",
     "output_type": "stream",
     "text": [
      "      CarNumber  Refund  Fines    Make  Model  Year     SURNAME\n",
      "0   E432XX77RUS       1 6500.0  Toyota  Camry  1989  RICHARDSON\n",
      "1   7184TT36RUS       1 2100.0    Ford  Focus  1995        ROSS\n",
      "2  X582HE161RUS       2 2000.0    Ford  Focus  1984      MORGAN\n",
      "3  X4128H125RUS       1 7458.5    Ford  Focus  2015      BAILEY\n",
      "4  H234YH197RUS       2 6000.0    Ford  Focus  2014       LOPEZ\n"
     ]
    }
   ],
   "source": [
    "df_left = df_fines.merge(df_owners, on=\"CarNumber\", how=\"left\")\n",
    "print(df_left.head())"
   ]
  },
  {
   "cell_type": "markdown",
   "metadata": {},
   "source": [
    "4. Только номера из владельцев"
   ]
  },
  {
   "cell_type": "code",
   "execution_count": 112,
   "metadata": {},
   "outputs": [
    {
     "name": "stdout",
     "output_type": "stream",
     "text": [
      "      CarNumber  Refund   Fines    Make  Model   Year     SURNAME\n",
      "0   E432XX77RUS     1.0  6500.0  Toyota  Camry 1989.0  RICHARDSON\n",
      "1   E432XX77RUS     2.0 13000.0  Toyota  Camry 1983.0  RICHARDSON\n",
      "2   7184TT36RUS     1.0  2100.0    Ford  Focus 1995.0        ROSS\n",
      "3  X582HE161RUS     2.0  2000.0    Ford  Focus 1984.0      MORGAN\n",
      "4  X4128H125RUS     1.0  7458.5    Ford  Focus 2015.0      BAILEY\n"
     ]
    }
   ],
   "source": [
    "df_right = df_fines.merge(df_owners, on=\"CarNumber\", how=\"right\")\n",
    "print(df_right.head())"
   ]
  },
  {
   "cell_type": "markdown",
   "metadata": {},
   "source": [
    "#### 9. Создаём сводную таблицу и сохраняем результат"
   ]
  },
  {
   "cell_type": "code",
   "execution_count": 113,
   "metadata": {},
   "outputs": [
    {
     "data": {
      "text/html": [
       "<div>\n",
       "<style scoped>\n",
       "    .dataframe tbody tr th:only-of-type {\n",
       "        vertical-align: middle;\n",
       "    }\n",
       "\n",
       "    .dataframe tbody tr th {\n",
       "        vertical-align: top;\n",
       "    }\n",
       "\n",
       "    .dataframe thead th {\n",
       "        text-align: right;\n",
       "    }\n",
       "</style>\n",
       "<table border=\"1\" class=\"dataframe\">\n",
       "  <thead>\n",
       "    <tr style=\"text-align: right;\">\n",
       "      <th></th>\n",
       "      <th>Year</th>\n",
       "      <th>1980</th>\n",
       "      <th>1981</th>\n",
       "      <th>1982</th>\n",
       "      <th>1983</th>\n",
       "      <th>1984</th>\n",
       "      <th>1985</th>\n",
       "      <th>1986</th>\n",
       "      <th>1987</th>\n",
       "      <th>1988</th>\n",
       "      <th>1989</th>\n",
       "      <th>...</th>\n",
       "      <th>2010</th>\n",
       "      <th>2011</th>\n",
       "      <th>2012</th>\n",
       "      <th>2013</th>\n",
       "      <th>2014</th>\n",
       "      <th>2015</th>\n",
       "      <th>2016</th>\n",
       "      <th>2017</th>\n",
       "      <th>2018</th>\n",
       "      <th>2019</th>\n",
       "    </tr>\n",
       "    <tr>\n",
       "      <th>Make</th>\n",
       "      <th>Model</th>\n",
       "      <th></th>\n",
       "      <th></th>\n",
       "      <th></th>\n",
       "      <th></th>\n",
       "      <th></th>\n",
       "      <th></th>\n",
       "      <th></th>\n",
       "      <th></th>\n",
       "      <th></th>\n",
       "      <th></th>\n",
       "      <th></th>\n",
       "      <th></th>\n",
       "      <th></th>\n",
       "      <th></th>\n",
       "      <th></th>\n",
       "      <th></th>\n",
       "      <th></th>\n",
       "      <th></th>\n",
       "      <th></th>\n",
       "      <th></th>\n",
       "      <th></th>\n",
       "    </tr>\n",
       "  </thead>\n",
       "  <tbody>\n",
       "    <tr>\n",
       "      <th>Audi</th>\n",
       "      <th>A6</th>\n",
       "      <td>NaN</td>\n",
       "      <td>NaN</td>\n",
       "      <td>NaN</td>\n",
       "      <td>NaN</td>\n",
       "      <td>NaN</td>\n",
       "      <td>NaN</td>\n",
       "      <td>NaN</td>\n",
       "      <td>NaN</td>\n",
       "      <td>7000.0</td>\n",
       "      <td>NaN</td>\n",
       "      <td>...</td>\n",
       "      <td>NaN</td>\n",
       "      <td>NaN</td>\n",
       "      <td>NaN</td>\n",
       "      <td>NaN</td>\n",
       "      <td>NaN</td>\n",
       "      <td>NaN</td>\n",
       "      <td>NaN</td>\n",
       "      <td>NaN</td>\n",
       "      <td>NaN</td>\n",
       "      <td>NaN</td>\n",
       "    </tr>\n",
       "    <tr>\n",
       "      <th>BMW</th>\n",
       "      <th>X5</th>\n",
       "      <td>NaN</td>\n",
       "      <td>NaN</td>\n",
       "      <td>NaN</td>\n",
       "      <td>NaN</td>\n",
       "      <td>NaN</td>\n",
       "      <td>NaN</td>\n",
       "      <td>NaN</td>\n",
       "      <td>3000.0</td>\n",
       "      <td>NaN</td>\n",
       "      <td>NaN</td>\n",
       "      <td>...</td>\n",
       "      <td>NaN</td>\n",
       "      <td>NaN</td>\n",
       "      <td>NaN</td>\n",
       "      <td>NaN</td>\n",
       "      <td>NaN</td>\n",
       "      <td>NaN</td>\n",
       "      <td>NaN</td>\n",
       "      <td>NaN</td>\n",
       "      <td>NaN</td>\n",
       "      <td>NaN</td>\n",
       "    </tr>\n",
       "    <tr>\n",
       "      <th rowspan=\"2\" valign=\"top\">Ford</th>\n",
       "      <th>Focus</th>\n",
       "      <td>34400.0</td>\n",
       "      <td>73700.0</td>\n",
       "      <td>57058.5</td>\n",
       "      <td>43058.5</td>\n",
       "      <td>44258.5</td>\n",
       "      <td>72258.5</td>\n",
       "      <td>117758.5</td>\n",
       "      <td>113500.0</td>\n",
       "      <td>142300.0</td>\n",
       "      <td>108658.5</td>\n",
       "      <td>...</td>\n",
       "      <td>65100.0</td>\n",
       "      <td>85800.0</td>\n",
       "      <td>182800.0</td>\n",
       "      <td>260117.1</td>\n",
       "      <td>61917.1</td>\n",
       "      <td>68917.1</td>\n",
       "      <td>66000.0</td>\n",
       "      <td>99858.5</td>\n",
       "      <td>53100.0</td>\n",
       "      <td>47917.1</td>\n",
       "    </tr>\n",
       "    <tr>\n",
       "      <th>Mondeo</th>\n",
       "      <td>NaN</td>\n",
       "      <td>NaN</td>\n",
       "      <td>NaN</td>\n",
       "      <td>NaN</td>\n",
       "      <td>NaN</td>\n",
       "      <td>NaN</td>\n",
       "      <td>NaN</td>\n",
       "      <td>8600.0</td>\n",
       "      <td>NaN</td>\n",
       "      <td>NaN</td>\n",
       "      <td>...</td>\n",
       "      <td>NaN</td>\n",
       "      <td>NaN</td>\n",
       "      <td>NaN</td>\n",
       "      <td>NaN</td>\n",
       "      <td>NaN</td>\n",
       "      <td>1100.0</td>\n",
       "      <td>NaN</td>\n",
       "      <td>NaN</td>\n",
       "      <td>NaN</td>\n",
       "      <td>34400.0</td>\n",
       "    </tr>\n",
       "    <tr>\n",
       "      <th>Lexus</th>\n",
       "      <th>RX</th>\n",
       "      <td>NaN</td>\n",
       "      <td>NaN</td>\n",
       "      <td>NaN</td>\n",
       "      <td>NaN</td>\n",
       "      <td>NaN</td>\n",
       "      <td>NaN</td>\n",
       "      <td>NaN</td>\n",
       "      <td>NaN</td>\n",
       "      <td>NaN</td>\n",
       "      <td>NaN</td>\n",
       "      <td>...</td>\n",
       "      <td>NaN</td>\n",
       "      <td>NaN</td>\n",
       "      <td>NaN</td>\n",
       "      <td>NaN</td>\n",
       "      <td>NaN</td>\n",
       "      <td>NaN</td>\n",
       "      <td>NaN</td>\n",
       "      <td>NaN</td>\n",
       "      <td>NaN</td>\n",
       "      <td>NaN</td>\n",
       "    </tr>\n",
       "  </tbody>\n",
       "</table>\n",
       "<p>5 rows × 40 columns</p>\n",
       "</div>"
      ],
      "text/plain": [
       "Year            1980    1981    1982    1983    1984    1985     1986  \\\n",
       "Make  Model                                                             \n",
       "Audi  A6         NaN     NaN     NaN     NaN     NaN     NaN      NaN   \n",
       "BMW   X5         NaN     NaN     NaN     NaN     NaN     NaN      NaN   \n",
       "Ford  Focus  34400.0 73700.0 57058.5 43058.5 44258.5 72258.5 117758.5   \n",
       "      Mondeo     NaN     NaN     NaN     NaN     NaN     NaN      NaN   \n",
       "Lexus RX         NaN     NaN     NaN     NaN     NaN     NaN      NaN   \n",
       "\n",
       "Year             1987     1988     1989  ...    2010    2011     2012  \\\n",
       "Make  Model                              ...                            \n",
       "Audi  A6          NaN   7000.0      NaN  ...     NaN     NaN      NaN   \n",
       "BMW   X5       3000.0      NaN      NaN  ...     NaN     NaN      NaN   \n",
       "Ford  Focus  113500.0 142300.0 108658.5  ... 65100.0 85800.0 182800.0   \n",
       "      Mondeo   8600.0      NaN      NaN  ...     NaN     NaN      NaN   \n",
       "Lexus RX          NaN      NaN      NaN  ...     NaN     NaN      NaN   \n",
       "\n",
       "Year             2013    2014    2015    2016    2017    2018    2019  \n",
       "Make  Model                                                            \n",
       "Audi  A6          NaN     NaN     NaN     NaN     NaN     NaN     NaN  \n",
       "BMW   X5          NaN     NaN     NaN     NaN     NaN     NaN     NaN  \n",
       "Ford  Focus  260117.1 61917.1 68917.1 66000.0 99858.5 53100.0 47917.1  \n",
       "      Mondeo      NaN     NaN  1100.0     NaN     NaN     NaN 34400.0  \n",
       "Lexus RX          NaN     NaN     NaN     NaN     NaN     NaN     NaN  \n",
       "\n",
       "[5 rows x 40 columns]"
      ]
     },
     "execution_count": 113,
     "metadata": {},
     "output_type": "execute_result"
    }
   ],
   "source": [
    "df_pivot = df_fines.pivot_table(values=\"Fines\", index=[\"Make\", \"Model\"], columns=\"Year\", aggfunc=\"sum\")\n",
    "df_pivot.columns = df_pivot.columns.astype(int)\n",
    "df_pivot.head()"
   ]
  },
  {
   "cell_type": "code",
   "execution_count": 114,
   "metadata": {},
   "outputs": [],
   "source": [
    "df_pivot.to_csv(\"pivot_table.csv\")\n",
    "df_fines.to_csv(\"fines.csv\", index=False)\n",
    "df_owners.to_csv(\"owners.csv\", index=False)"
   ]
  }
 ],
 "metadata": {
  "kernelspec": {
   "display_name": "Python 3",
   "language": "python",
   "name": "python3"
  },
  "language_info": {
   "codemirror_mode": {
    "name": "ipython",
    "version": 3
   },
   "file_extension": ".py",
   "mimetype": "text/x-python",
   "name": "python",
   "nbconvert_exporter": "python",
   "pygments_lexer": "ipython3",
   "version": "3.12.4"
  }
 },
 "nbformat": 4,
 "nbformat_minor": 2
}
