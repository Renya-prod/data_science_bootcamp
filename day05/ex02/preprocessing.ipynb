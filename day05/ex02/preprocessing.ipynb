{
 "cells": [
  {
   "cell_type": "markdown",
   "metadata": {},
   "source": [
    "# Preprocessing with Pandas\n",
    "\n",
    "В этом ноутбуке мы загружаем данные, очищаем их от дубликатов, заполняем пропущенные значения и разбираем информацию о марке и модели автомобиля."
   ]
  },
  {
   "cell_type": "markdown",
   "metadata": {},
   "source": [
    "### 1. 📝 Загружаем данные и устанавливаем индекс ID\n"
   ]
  },
  {
   "cell_type": "code",
   "execution_count": 1,
   "metadata": {},
   "outputs": [
    {
     "data": {
      "text/html": [
       "<div>\n",
       "<style scoped>\n",
       "    .dataframe tbody tr th:only-of-type {\n",
       "        vertical-align: middle;\n",
       "    }\n",
       "\n",
       "    .dataframe tbody tr th {\n",
       "        vertical-align: top;\n",
       "    }\n",
       "\n",
       "    .dataframe thead th {\n",
       "        text-align: right;\n",
       "    }\n",
       "</style>\n",
       "<table border=\"1\" class=\"dataframe\">\n",
       "  <thead>\n",
       "    <tr style=\"text-align: right;\">\n",
       "      <th></th>\n",
       "      <th>CarNumber</th>\n",
       "      <th>Make_n_model</th>\n",
       "      <th>Refund</th>\n",
       "      <th>Fines</th>\n",
       "      <th>History</th>\n",
       "    </tr>\n",
       "    <tr>\n",
       "      <th>ID</th>\n",
       "      <th></th>\n",
       "      <th></th>\n",
       "      <th></th>\n",
       "      <th></th>\n",
       "      <th></th>\n",
       "    </tr>\n",
       "  </thead>\n",
       "  <tbody>\n",
       "    <tr>\n",
       "      <th>0</th>\n",
       "      <td>Y163O8161RUS</td>\n",
       "      <td>Ford Focus</td>\n",
       "      <td>2.0</td>\n",
       "      <td>3200.0</td>\n",
       "      <td>NaN</td>\n",
       "    </tr>\n",
       "    <tr>\n",
       "      <th>1</th>\n",
       "      <td>E432XX77RUS</td>\n",
       "      <td>Toyota Camry</td>\n",
       "      <td>1.0</td>\n",
       "      <td>6500.0</td>\n",
       "      <td>NaN</td>\n",
       "    </tr>\n",
       "    <tr>\n",
       "      <th>2</th>\n",
       "      <td>7184TT36RUS</td>\n",
       "      <td>Ford Focus</td>\n",
       "      <td>1.0</td>\n",
       "      <td>2100.0</td>\n",
       "      <td>NaN</td>\n",
       "    </tr>\n",
       "    <tr>\n",
       "      <th>3</th>\n",
       "      <td>X582HE161RUS</td>\n",
       "      <td>Ford Focus</td>\n",
       "      <td>2.0</td>\n",
       "      <td>2000.0</td>\n",
       "      <td>NaN</td>\n",
       "    </tr>\n",
       "    <tr>\n",
       "      <th>4</th>\n",
       "      <td>E34877152RUS</td>\n",
       "      <td>Ford Focus</td>\n",
       "      <td>2.0</td>\n",
       "      <td>6100.0</td>\n",
       "      <td>NaN</td>\n",
       "    </tr>\n",
       "  </tbody>\n",
       "</table>\n",
       "</div>"
      ],
      "text/plain": [
       "       CarNumber  Make_n_model  Refund   Fines  History\n",
       "ID                                                     \n",
       "0   Y163O8161RUS    Ford Focus     2.0  3200.0      NaN\n",
       "1    E432XX77RUS  Toyota Camry     1.0  6500.0      NaN\n",
       "2    7184TT36RUS    Ford Focus     1.0  2100.0      NaN\n",
       "3   X582HE161RUS    Ford Focus     2.0  2000.0      NaN\n",
       "4   E34877152RUS    Ford Focus     2.0  6100.0      NaN"
      ]
     },
     "execution_count": 1,
     "metadata": {},
     "output_type": "execute_result"
    }
   ],
   "source": [
    "import pandas as pd\n",
    "\n",
    "df = pd.read_csv(\"auto.csv\")\n",
    "df.set_index(\"ID\", inplace=True)\n",
    "df.head()"
   ]
  },
  {
   "cell_type": "markdown",
   "metadata": {},
   "source": [
    "### 2. Подсчёт количества записей в DataFrame"
   ]
  },
  {
   "cell_type": "code",
   "execution_count": 2,
   "metadata": {},
   "outputs": [
    {
     "data": {
      "text/plain": [
       "CarNumber       931\n",
       "Make_n_model    931\n",
       "Refund          914\n",
       "Fines           869\n",
       "History          82\n",
       "dtype: int64"
      ]
     },
     "execution_count": 2,
     "metadata": {},
     "output_type": "execute_result"
    }
   ],
   "source": [
    "num_records_before = df.count()\n",
    "num_records_before"
   ]
  },
  {
   "cell_type": "markdown",
   "metadata": {},
   "source": [
    "### 3. Удаление дубликатов"
   ]
  },
  {
   "cell_type": "code",
   "execution_count": 4,
   "metadata": {},
   "outputs": [
    {
     "data": {
      "text/plain": [
       "CarNumber       682\n",
       "Make_n_model    682\n",
       "Refund          665\n",
       "Fines           639\n",
       "History          63\n",
       "dtype: int64"
      ]
     },
     "execution_count": 4,
     "metadata": {},
     "output_type": "execute_result"
    }
   ],
   "source": [
    "df = df.drop_duplicates(subset=[\"CarNumber\", \"Make_n_model\", \"Refund\"], keep=\"last\")\n",
    "num_records_after = df.count()\n",
    "num_records_after"
   ]
  },
  {
   "cell_type": "markdown",
   "metadata": {},
   "source": [
    "### 4. Работа с пропущенными значениями"
   ]
  },
  {
   "cell_type": "markdown",
   "metadata": {},
   "source": [
    "#### 1️⃣ Подсчёт пропущенных значений в каждой колонке"
   ]
  },
  {
   "cell_type": "code",
   "execution_count": 5,
   "metadata": {},
   "outputs": [
    {
     "data": {
      "text/plain": [
       "CarNumber         0\n",
       "Make_n_model      0\n",
       "Refund           17\n",
       "Fines            43\n",
       "History         619\n",
       "dtype: int64"
      ]
     },
     "execution_count": 5,
     "metadata": {},
     "output_type": "execute_result"
    }
   ],
   "source": [
    "missing_values_before = df.isna().sum()\n",
    "missing_values_before"
   ]
  },
  {
   "cell_type": "markdown",
   "metadata": {},
   "source": [
    "#### 2️⃣ Удаление колонок с более чем 500 пропущенными значениями"
   ]
  },
  {
   "cell_type": "code",
   "execution_count": 6,
   "metadata": {},
   "outputs": [
    {
     "data": {
      "text/plain": [
       "CarNumber        0\n",
       "Make_n_model     0\n",
       "Refund          17\n",
       "Fines           43\n",
       "dtype: int64"
      ]
     },
     "execution_count": 6,
     "metadata": {},
     "output_type": "execute_result"
    }
   ],
   "source": [
    "df = df.dropna(thresh=len(df) - 500, axis=1)\n",
    "\n",
    "missing_values_after_dropping = df.isna().sum()\n",
    "missing_values_after_dropping"
   ]
  },
  {
   "cell_type": "markdown",
   "metadata": {},
   "source": [
    "#### 3️⃣ Заполнение пропущенных значений в колонке Refund значением из предыдущей строки"
   ]
  },
  {
   "cell_type": "code",
   "execution_count": 10,
   "metadata": {},
   "outputs": [
    {
     "data": {
      "text/plain": [
       "CarNumber        0\n",
       "Make_n_model     0\n",
       "Refund           0\n",
       "Fines           43\n",
       "dtype: int64"
      ]
     },
     "execution_count": 10,
     "metadata": {},
     "output_type": "execute_result"
    }
   ],
   "source": [
    "df[\"Refund\"] = df[\"Refund\"].ffill()\n",
    "\n",
    "missing_values_after_refund = df.isna().sum()\n",
    "missing_values_after_refund"
   ]
  },
  {
   "cell_type": "markdown",
   "metadata": {},
   "source": [
    "#### 4️⃣ Заполнение пропущенных значений в колонке Fines средним значением"
   ]
  },
  {
   "cell_type": "code",
   "execution_count": 11,
   "metadata": {},
   "outputs": [
    {
     "data": {
      "text/plain": [
       "CarNumber       0\n",
       "Make_n_model    0\n",
       "Refund          0\n",
       "Fines           0\n",
       "dtype: int64"
      ]
     },
     "execution_count": 11,
     "metadata": {},
     "output_type": "execute_result"
    }
   ],
   "source": [
    "df[\"Fines\"] = df[\"Fines\"].fillna(df[\"Fines\"].mean())\n",
    "\n",
    "missing_values_after_fines = df.isna().sum()\n",
    "missing_values_after_fines"
   ]
  },
  {
   "cell_type": "markdown",
   "metadata": {},
   "source": [
    "### 5. Разделение колонки Make_n_model на Make и Model"
   ]
  },
  {
   "cell_type": "code",
   "execution_count": 12,
   "metadata": {},
   "outputs": [
    {
     "data": {
      "text/html": [
       "<div>\n",
       "<style scoped>\n",
       "    .dataframe tbody tr th:only-of-type {\n",
       "        vertical-align: middle;\n",
       "    }\n",
       "\n",
       "    .dataframe tbody tr th {\n",
       "        vertical-align: top;\n",
       "    }\n",
       "\n",
       "    .dataframe thead th {\n",
       "        text-align: right;\n",
       "    }\n",
       "</style>\n",
       "<table border=\"1\" class=\"dataframe\">\n",
       "  <thead>\n",
       "    <tr style=\"text-align: right;\">\n",
       "      <th></th>\n",
       "      <th>CarNumber</th>\n",
       "      <th>Refund</th>\n",
       "      <th>Fines</th>\n",
       "      <th>Make</th>\n",
       "      <th>Model</th>\n",
       "    </tr>\n",
       "    <tr>\n",
       "      <th>ID</th>\n",
       "      <th></th>\n",
       "      <th></th>\n",
       "      <th></th>\n",
       "      <th></th>\n",
       "      <th></th>\n",
       "    </tr>\n",
       "  </thead>\n",
       "  <tbody>\n",
       "    <tr>\n",
       "      <th>1</th>\n",
       "      <td>E432XX77RUS</td>\n",
       "      <td>1.0</td>\n",
       "      <td>6500.000000</td>\n",
       "      <td>Toyota</td>\n",
       "      <td>Camry</td>\n",
       "    </tr>\n",
       "    <tr>\n",
       "      <th>2</th>\n",
       "      <td>7184TT36RUS</td>\n",
       "      <td>1.0</td>\n",
       "      <td>2100.000000</td>\n",
       "      <td>Ford</td>\n",
       "      <td>Focus</td>\n",
       "    </tr>\n",
       "    <tr>\n",
       "      <th>3</th>\n",
       "      <td>X582HE161RUS</td>\n",
       "      <td>2.0</td>\n",
       "      <td>2000.000000</td>\n",
       "      <td>Ford</td>\n",
       "      <td>Focus</td>\n",
       "    </tr>\n",
       "    <tr>\n",
       "      <th>7</th>\n",
       "      <td>X4128H125RUS</td>\n",
       "      <td>1.0</td>\n",
       "      <td>7458.528951</td>\n",
       "      <td>Ford</td>\n",
       "      <td>Focus</td>\n",
       "    </tr>\n",
       "    <tr>\n",
       "      <th>10</th>\n",
       "      <td>H234YH197RUS</td>\n",
       "      <td>2.0</td>\n",
       "      <td>6000.000000</td>\n",
       "      <td>Ford</td>\n",
       "      <td>Focus</td>\n",
       "    </tr>\n",
       "  </tbody>\n",
       "</table>\n",
       "</div>"
      ],
      "text/plain": [
       "       CarNumber  Refund        Fines    Make  Model\n",
       "ID                                                  \n",
       "1    E432XX77RUS     1.0  6500.000000  Toyota  Camry\n",
       "2    7184TT36RUS     1.0  2100.000000    Ford  Focus\n",
       "3   X582HE161RUS     2.0  2000.000000    Ford  Focus\n",
       "7   X4128H125RUS     1.0  7458.528951    Ford  Focus\n",
       "10  H234YH197RUS     2.0  6000.000000    Ford  Focus"
      ]
     },
     "execution_count": 12,
     "metadata": {},
     "output_type": "execute_result"
    }
   ],
   "source": [
    "df[[\"Make\", \"Model\"]] = df[\"Make_n_model\"].apply(lambda x: pd.Series(str(x).split(\" \", 1)))\n",
    "\n",
    "df.drop(columns=[\"Make_n_model\"], inplace=True)\n",
    "\n",
    "df.head()"
   ]
  },
  {
   "cell_type": "markdown",
   "metadata": {},
   "source": [
    "### 6. Сохранение в JSON-файл"
   ]
  },
  {
   "cell_type": "code",
   "execution_count": 13,
   "metadata": {},
   "outputs": [
    {
     "data": {
      "text/html": [
       "<div>\n",
       "<style scoped>\n",
       "    .dataframe tbody tr th:only-of-type {\n",
       "        vertical-align: middle;\n",
       "    }\n",
       "\n",
       "    .dataframe tbody tr th {\n",
       "        vertical-align: top;\n",
       "    }\n",
       "\n",
       "    .dataframe thead th {\n",
       "        text-align: right;\n",
       "    }\n",
       "</style>\n",
       "<table border=\"1\" class=\"dataframe\">\n",
       "  <thead>\n",
       "    <tr style=\"text-align: right;\">\n",
       "      <th></th>\n",
       "      <th>CarNumber</th>\n",
       "      <th>Refund</th>\n",
       "      <th>Fines</th>\n",
       "      <th>Make</th>\n",
       "      <th>Model</th>\n",
       "    </tr>\n",
       "    <tr>\n",
       "      <th>ID</th>\n",
       "      <th></th>\n",
       "      <th></th>\n",
       "      <th></th>\n",
       "      <th></th>\n",
       "      <th></th>\n",
       "    </tr>\n",
       "  </thead>\n",
       "  <tbody>\n",
       "    <tr>\n",
       "      <th>1</th>\n",
       "      <td>E432XX77RUS</td>\n",
       "      <td>1.0</td>\n",
       "      <td>6500.000000</td>\n",
       "      <td>Toyota</td>\n",
       "      <td>Camry</td>\n",
       "    </tr>\n",
       "    <tr>\n",
       "      <th>2</th>\n",
       "      <td>7184TT36RUS</td>\n",
       "      <td>1.0</td>\n",
       "      <td>2100.000000</td>\n",
       "      <td>Ford</td>\n",
       "      <td>Focus</td>\n",
       "    </tr>\n",
       "    <tr>\n",
       "      <th>3</th>\n",
       "      <td>X582HE161RUS</td>\n",
       "      <td>2.0</td>\n",
       "      <td>2000.000000</td>\n",
       "      <td>Ford</td>\n",
       "      <td>Focus</td>\n",
       "    </tr>\n",
       "    <tr>\n",
       "      <th>7</th>\n",
       "      <td>X4128H125RUS</td>\n",
       "      <td>1.0</td>\n",
       "      <td>7458.528951</td>\n",
       "      <td>Ford</td>\n",
       "      <td>Focus</td>\n",
       "    </tr>\n",
       "    <tr>\n",
       "      <th>10</th>\n",
       "      <td>H234YH197RUS</td>\n",
       "      <td>2.0</td>\n",
       "      <td>6000.000000</td>\n",
       "      <td>Ford</td>\n",
       "      <td>Focus</td>\n",
       "    </tr>\n",
       "  </tbody>\n",
       "</table>\n",
       "</div>"
      ],
      "text/plain": [
       "       CarNumber  Refund        Fines    Make  Model\n",
       "ID                                                  \n",
       "1    E432XX77RUS     1.0  6500.000000  Toyota  Camry\n",
       "2    7184TT36RUS     1.0  2100.000000    Ford  Focus\n",
       "3   X582HE161RUS     2.0  2000.000000    Ford  Focus\n",
       "7   X4128H125RUS     1.0  7458.528951    Ford  Focus\n",
       "10  H234YH197RUS     2.0  6000.000000    Ford  Focus"
      ]
     },
     "execution_count": 13,
     "metadata": {},
     "output_type": "execute_result"
    }
   ],
   "source": [
    "df.to_json(\"auto.json\", orient=\"records\", indent=4)\n",
    "\n",
    "df.head()"
   ]
  }
 ],
 "metadata": {
  "kernelspec": {
   "display_name": "Python 3",
   "language": "python",
   "name": "python3"
  },
  "language_info": {
   "codemirror_mode": {
    "name": "ipython",
    "version": 3
   },
   "file_extension": ".py",
   "mimetype": "text/x-python",
   "name": "python",
   "nbconvert_exporter": "python",
   "pygments_lexer": "ipython3",
   "version": "3.12.4"
  }
 },
 "nbformat": 4,
 "nbformat_minor": 2
}
